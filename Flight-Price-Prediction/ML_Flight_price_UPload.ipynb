{
 "cells": [
  {
   "cell_type": "markdown",
   "source": "",
   "metadata": {
    "cell_id": "efae691cf0ce4d69813bc7cce72a1d3e",
    "tags": [],
    "deepnote_cell_type": "markdown",
    "deepnote_cell_height": 46
   }
  },
  {
   "cell_type": "markdown",
   "source": "#### importing all the necessary libraries !",
   "metadata": {
    "cell_id": "00001-7cf89068-ad4b-4866-87d0-e1657d1df516",
    "deepnote_cell_type": "markdown",
    "deepnote_cell_height": 54
   }
  },
  {
   "cell_type": "code",
   "metadata": {
    "cell_id": "00002-afb5ac22-92ff-4c87-a34e-84778cb6d5d7",
    "deepnote_to_be_reexecuted": false,
    "source_hash": "24b26b86",
    "execution_start": 1660916800097,
    "execution_millis": 3345,
    "deepnote_cell_type": "code",
    "deepnote_cell_height": 130
   },
   "source": "import pandas as pd\nimport numpy as np\nimport matplotlib.pyplot as plt\nimport seaborn as sns",
   "execution_count": 1,
   "outputs": []
  },
  {
   "cell_type": "code",
   "metadata": {
    "cell_id": "00003-baeef7d7-e320-4be4-b594-b9e4b4449c66",
    "deepnote_to_be_reexecuted": false,
    "source_hash": "406f2ec",
    "execution_start": 1660916803442,
    "execution_millis": 92,
    "deepnote_cell_type": "code",
    "deepnote_cell_height": 76
   },
   "source": "train_data=pd.read_csv(\"/work/Data_Train.csv\")",
   "execution_count": 2,
   "outputs": []
  },
  {
   "cell_type": "code",
   "metadata": {
    "cell_id": "00005-da18f558-29f5-4544-aa21-c11e40994efb",
    "deepnote_to_be_reexecuted": false,
    "source_hash": "c28badf4",
    "execution_start": 1660916803538,
    "execution_millis": 12,
    "deepnote_cell_type": "code",
    "deepnote_cell_height": 76
   },
   "source": "### why there is a need to append 'r' (raw_string?",
   "execution_count": 3,
   "outputs": []
  },
  {
   "cell_type": "code",
   "metadata": {
    "cell_id": "00006-e48c1676-1bde-4302-ba3b-087acb3366c1",
    "deepnote_to_be_reexecuted": false,
    "source_hash": "9e2db933",
    "execution_start": 1660916803595,
    "execution_millis": 24972293,
    "deepnote_cell_type": "code",
    "deepnote_cell_height": 148
   },
   "source": "print('Hello\\tPython')\n\n### Now, here 'Hello\\tPython' is a normal string literal, the sequences “\\t” will be treated as escape characters.",
   "execution_count": 4,
   "outputs": [
    {
     "name": "stdout",
     "text": "Hello\tPython\n",
     "output_type": "stream"
    }
   ]
  },
  {
   "cell_type": "code",
   "metadata": {
    "cell_id": "00009-089ea952-00ba-4bbf-8d44-a05eeaefa91b",
    "deepnote_to_be_reexecuted": false,
    "source_hash": "9456a8b0",
    "execution_start": 1660916803616,
    "execution_millis": 54,
    "deepnote_cell_type": "code",
    "deepnote_cell_height": 447
   },
   "source": "train_data.info()",
   "execution_count": 5,
   "outputs": [
    {
     "name": "stdout",
     "text": "<class 'pandas.core.frame.DataFrame'>\nRangeIndex: 10683 entries, 0 to 10682\nData columns (total 11 columns):\n #   Column           Non-Null Count  Dtype \n---  ------           --------------  ----- \n 0   Airline          10683 non-null  object\n 1   Date_of_Journey  10683 non-null  object\n 2   Source           10683 non-null  object\n 3   Destination      10683 non-null  object\n 4   Route            10682 non-null  object\n 5   Dep_Time         10683 non-null  object\n 6   Arrival_Time     10683 non-null  object\n 7   Duration         10683 non-null  object\n 8   Total_Stops      10682 non-null  object\n 9   Additional_Info  10683 non-null  object\n 10  Price            10683 non-null  int64 \ndtypes: int64(1), object(10)\nmemory usage: 918.2+ KB\n",
     "output_type": "stream"
    }
   ]
  },
  {
   "cell_type": "code",
   "metadata": {
    "cell_id": "00012-f38fe7c8-6864-4eba-a518-027b71ddf7f4",
    "deepnote_to_be_reexecuted": false,
    "source_hash": "6c487323",
    "execution_start": 1660916803667,
    "execution_millis": 3,
    "deepnote_cell_type": "code",
    "deepnote_cell_height": 413.375,
    "deepnote_output_heights": [
     231.390625
    ]
   },
   "source": "train_data.isnull().sum()\n\n## train_data.isnull().sum(axis=0)\n## by-default axis is 0 , ie it computes total missing values column-wise !\n\n## train_data.isnull().sum(axis=1) -->> if axis=1 , ie it computes total missing values row-wise !",
   "execution_count": 6,
   "outputs": [
    {
     "output_type": "execute_result",
     "execution_count": 6,
     "data": {
      "text/plain": "Airline            0\nDate_of_Journey    0\nSource             0\nDestination        0\nRoute              1\nDep_Time           0\nArrival_Time       0\nDuration           0\nTotal_Stops        1\nAdditional_Info    0\nPrice              0\ndtype: int64"
     },
     "metadata": {}
    }
   ]
  },
  {
   "cell_type": "code",
   "metadata": {
    "cell_id": "00013-b47c8a43-1138-4c89-b903-e9233b30d119",
    "deepnote_to_be_reexecuted": false,
    "source_hash": "3596f773",
    "execution_start": 1660916803667,
    "execution_millis": 41,
    "deepnote_cell_type": "code",
    "deepnote_cell_height": 112.1875,
    "deepnote_output_heights": [
     20.1875
    ]
   },
   "source": "train_data.shape",
   "execution_count": 7,
   "outputs": [
    {
     "output_type": "execute_result",
     "execution_count": 7,
     "data": {
      "text/plain": "(10683, 11)"
     },
     "metadata": {}
    }
   ]
  },
  {
   "cell_type": "code",
   "metadata": {
    "cell_id": "00014-0e8d506d-c348-4fbe-ba4e-00e89794c22b",
    "deepnote_to_be_reexecuted": false,
    "source_hash": "d7dd22c6",
    "execution_start": 1660916803708,
    "execution_millis": 102,
    "deepnote_cell_type": "code",
    "deepnote_cell_height": 260.796875
   },
   "source": "### getting all the rows where we have missing value\ntrain_data[train_data['Total_Stops'].isnull()]",
   "execution_count": 8,
   "outputs": [
    {
     "output_type": "execute_result",
     "execution_count": 8,
     "data": {
      "application/vnd.deepnote.dataframe.v3+json": {
       "column_count": 11,
       "row_count": 1,
       "columns": [
        {
         "name": "Airline",
         "dtype": "object",
         "stats": {
          "unique_count": 1,
          "nan_count": 0,
          "categories": [
           {
            "name": "Air India",
            "count": 1
           }
          ]
         }
        },
        {
         "name": "Date_of_Journey",
         "dtype": "object",
         "stats": {
          "unique_count": 1,
          "nan_count": 0,
          "categories": [
           {
            "name": "6/05/2019",
            "count": 1
           }
          ]
         }
        },
        {
         "name": "Source",
         "dtype": "object",
         "stats": {
          "unique_count": 1,
          "nan_count": 0,
          "categories": [
           {
            "name": "Delhi",
            "count": 1
           }
          ]
         }
        },
        {
         "name": "Destination",
         "dtype": "object",
         "stats": {
          "unique_count": 1,
          "nan_count": 0,
          "categories": [
           {
            "name": "Cochin",
            "count": 1
           }
          ]
         }
        },
        {
         "name": "Route",
         "dtype": "object",
         "stats": {
          "unique_count": 0,
          "nan_count": 1,
          "categories": [
           {
            "name": "Missing",
            "count": 1
           }
          ]
         }
        },
        {
         "name": "Dep_Time",
         "dtype": "object",
         "stats": {
          "unique_count": 1,
          "nan_count": 0,
          "categories": [
           {
            "name": "09:45",
            "count": 1
           }
          ]
         }
        },
        {
         "name": "Arrival_Time",
         "dtype": "object",
         "stats": {
          "unique_count": 1,
          "nan_count": 0,
          "categories": [
           {
            "name": "09:25 07 May",
            "count": 1
           }
          ]
         }
        },
        {
         "name": "Duration",
         "dtype": "object",
         "stats": {
          "unique_count": 1,
          "nan_count": 0,
          "categories": [
           {
            "name": "23h 40m",
            "count": 1
           }
          ]
         }
        },
        {
         "name": "Total_Stops",
         "dtype": "object",
         "stats": {
          "unique_count": 0,
          "nan_count": 1,
          "categories": [
           {
            "name": "Missing",
            "count": 1
           }
          ]
         }
        },
        {
         "name": "Additional_Info",
         "dtype": "object",
         "stats": {
          "unique_count": 1,
          "nan_count": 0,
          "categories": [
           {
            "name": "No info",
            "count": 1
           }
          ]
         }
        },
        {
         "name": "Price",
         "dtype": "int64",
         "stats": {
          "unique_count": 1,
          "nan_count": 0,
          "min": "7480",
          "max": "7480",
          "histogram": [
           {
            "bin_start": 7479.5,
            "bin_end": 7479.6,
            "count": 0
           },
           {
            "bin_start": 7479.6,
            "bin_end": 7479.7,
            "count": 0
           },
           {
            "bin_start": 7479.7,
            "bin_end": 7479.8,
            "count": 0
           },
           {
            "bin_start": 7479.8,
            "bin_end": 7479.9,
            "count": 0
           },
           {
            "bin_start": 7479.9,
            "bin_end": 7480,
            "count": 0
           },
           {
            "bin_start": 7480,
            "bin_end": 7480.1,
            "count": 1
           },
           {
            "bin_start": 7480.1,
            "bin_end": 7480.2,
            "count": 0
           },
           {
            "bin_start": 7480.2,
            "bin_end": 7480.3,
            "count": 0
           },
           {
            "bin_start": 7480.3,
            "bin_end": 7480.4,
            "count": 0
           },
           {
            "bin_start": 7480.4,
            "bin_end": 7480.5,
            "count": 0
           }
          ]
         }
        },
        {
         "name": "_deepnote_index_column",
         "dtype": "int64"
        }
       ],
       "rows": [
        {
         "Airline": "Air India",
         "Date_of_Journey": "6/05/2019",
         "Source": "Delhi",
         "Destination": "Cochin",
         "Route": "nan",
         "Dep_Time": "09:45",
         "Arrival_Time": "09:25 07 May",
         "Duration": "23h 40m",
         "Total_Stops": "nan",
         "Additional_Info": "No info",
         "Price": 7480,
         "_deepnote_index_column": 9039
        }
       ]
      },
      "text/plain": "        Airline Date_of_Journey Source Destination Route Dep_Time  \\\n9039  Air India       6/05/2019  Delhi      Cochin   NaN    09:45   \n\n      Arrival_Time Duration Total_Stops Additional_Info  Price  \n9039  09:25 07 May  23h 40m         NaN         No info   7480  ",
      "text/html": "<div>\n<style scoped>\n    .dataframe tbody tr th:only-of-type {\n        vertical-align: middle;\n    }\n\n    .dataframe tbody tr th {\n        vertical-align: top;\n    }\n\n    .dataframe thead th {\n        text-align: right;\n    }\n</style>\n<table border=\"1\" class=\"dataframe\">\n  <thead>\n    <tr style=\"text-align: right;\">\n      <th></th>\n      <th>Airline</th>\n      <th>Date_of_Journey</th>\n      <th>Source</th>\n      <th>Destination</th>\n      <th>Route</th>\n      <th>Dep_Time</th>\n      <th>Arrival_Time</th>\n      <th>Duration</th>\n      <th>Total_Stops</th>\n      <th>Additional_Info</th>\n      <th>Price</th>\n    </tr>\n  </thead>\n  <tbody>\n    <tr>\n      <th>9039</th>\n      <td>Air India</td>\n      <td>6/05/2019</td>\n      <td>Delhi</td>\n      <td>Cochin</td>\n      <td>NaN</td>\n      <td>09:45</td>\n      <td>09:25 07 May</td>\n      <td>23h 40m</td>\n      <td>NaN</td>\n      <td>No info</td>\n      <td>7480</td>\n    </tr>\n  </tbody>\n</table>\n</div>"
     },
     "metadata": {}
    }
   ]
  },
  {
   "cell_type": "code",
   "metadata": {
    "cell_id": "00015-2ccd6747-a011-4623-bed8-2d315a30e303",
    "deepnote_to_be_reexecuted": false,
    "source_hash": "b623e53d",
    "execution_start": 1660916803815,
    "execution_millis": 4,
    "deepnote_cell_type": "code",
    "deepnote_cell_height": 76
   },
   "source": "",
   "execution_count": 8,
   "outputs": []
  },
  {
   "cell_type": "markdown",
   "source": "#### as we have 1 missing value , I can directly drop these",
   "metadata": {
    "cell_id": "00016-78cab081-a6f3-4c5b-8e06-745c2f6decaf",
    "deepnote_cell_type": "markdown",
    "deepnote_cell_height": 54
   }
  },
  {
   "cell_type": "code",
   "metadata": {
    "cell_id": "00017-6d94b13f-6c12-42f5-aad1-a1b34340e4a0",
    "deepnote_to_be_reexecuted": false,
    "source_hash": "5bdc41e6",
    "execution_start": 1660916803830,
    "execution_millis": 32,
    "deepnote_cell_type": "code",
    "deepnote_cell_height": 76
   },
   "source": "train_data.dropna(inplace=True)",
   "execution_count": 9,
   "outputs": []
  },
  {
   "cell_type": "code",
   "metadata": {
    "cell_id": "00018-3f24b2b1-f018-4764-9ad1-512d64af326b",
    "deepnote_to_be_reexecuted": false,
    "source_hash": "342b5389",
    "execution_start": 1660916803897,
    "execution_millis": 9,
    "deepnote_cell_type": "code",
    "deepnote_cell_height": 323.375,
    "deepnote_output_heights": [
     231.390625
    ]
   },
   "source": "train_data.isnull().sum()",
   "execution_count": 10,
   "outputs": [
    {
     "output_type": "execute_result",
     "execution_count": 10,
     "data": {
      "text/plain": "Airline            0\nDate_of_Journey    0\nSource             0\nDestination        0\nRoute              0\nDep_Time           0\nArrival_Time       0\nDuration           0\nTotal_Stops        0\nAdditional_Info    0\nPrice              0\ndtype: int64"
     },
     "metadata": {}
    }
   ]
  },
  {
   "cell_type": "code",
   "metadata": {
    "cell_id": "00019-49ff1bd6-8407-4cc8-b328-efc363c9079c",
    "deepnote_to_be_reexecuted": false,
    "source_hash": "b623e53d",
    "execution_start": 1660916803962,
    "execution_millis": 0,
    "deepnote_cell_type": "code",
    "deepnote_cell_height": 76
   },
   "source": "",
   "execution_count": 10,
   "outputs": []
  },
  {
   "cell_type": "code",
   "metadata": {
    "cell_id": "00020-c2fdce1e-d90a-4cd3-96f6-746dedc103b1",
    "deepnote_to_be_reexecuted": false,
    "source_hash": "b623e53d",
    "execution_start": 1660916803963,
    "execution_millis": 0,
    "deepnote_cell_type": "code",
    "deepnote_cell_height": 76
   },
   "source": "",
   "execution_count": 10,
   "outputs": []
  },
  {
   "cell_type": "markdown",
   "source": "## Pre-process & Perform Featurization of \"Date_of_Journey\"\n    ie pre-process it & extract day,month,year from \"Date_of_Journey\" feature..",
   "metadata": {
    "cell_id": "00021-464de8d1-fcc2-44ef-888a-59845b6a5b8c",
    "deepnote_cell_type": "markdown",
    "deepnote_cell_height": 126.796875
   }
  },
  {
   "cell_type": "code",
   "metadata": {
    "cell_id": "00022-4105f5e3-9214-45d3-894c-2f96aa9f788c",
    "deepnote_to_be_reexecuted": false,
    "source_hash": "1c49f3aa",
    "execution_start": 1660916803963,
    "execution_millis": 0,
    "deepnote_cell_type": "code",
    "deepnote_cell_height": 76
   },
   "source": "data=train_data.copy()",
   "execution_count": 11,
   "outputs": []
  },
  {
   "cell_type": "code",
   "metadata": {
    "cell_id": "00023-81d17936-7d65-40f2-8a27-709b6f367cc1",
    "deepnote_to_be_reexecuted": false,
    "source_hash": "f7a45459",
    "execution_start": 1660916804020,
    "execution_millis": 48,
    "deepnote_cell_type": "code",
    "deepnote_cell_height": 283.796875
   },
   "source": "data.head(2)",
   "execution_count": 12,
   "outputs": [
    {
     "output_type": "execute_result",
     "execution_count": 12,
     "data": {
      "application/vnd.deepnote.dataframe.v3+json": {
       "column_count": 11,
       "row_count": 2,
       "columns": [
        {
         "name": "Airline",
         "dtype": "object",
         "stats": {
          "unique_count": 2,
          "nan_count": 0,
          "categories": [
           {
            "name": "IndiGo",
            "count": 1
           },
           {
            "name": "Air India",
            "count": 1
           }
          ]
         }
        },
        {
         "name": "Date_of_Journey",
         "dtype": "object",
         "stats": {
          "unique_count": 2,
          "nan_count": 0,
          "categories": [
           {
            "name": "24/03/2019",
            "count": 1
           },
           {
            "name": "1/05/2019",
            "count": 1
           }
          ]
         }
        },
        {
         "name": "Source",
         "dtype": "object",
         "stats": {
          "unique_count": 2,
          "nan_count": 0,
          "categories": [
           {
            "name": "Banglore",
            "count": 1
           },
           {
            "name": "Kolkata",
            "count": 1
           }
          ]
         }
        },
        {
         "name": "Destination",
         "dtype": "object",
         "stats": {
          "unique_count": 2,
          "nan_count": 0,
          "categories": [
           {
            "name": "New Delhi",
            "count": 1
           },
           {
            "name": "Banglore",
            "count": 1
           }
          ]
         }
        },
        {
         "name": "Route",
         "dtype": "object",
         "stats": {
          "unique_count": 2,
          "nan_count": 0,
          "categories": [
           {
            "name": "BLR ? DEL",
            "count": 1
           },
           {
            "name": "CCU ? IXR ? BBI ? BLR",
            "count": 1
           }
          ]
         }
        },
        {
         "name": "Dep_Time",
         "dtype": "object",
         "stats": {
          "unique_count": 2,
          "nan_count": 0,
          "categories": [
           {
            "name": "22:20",
            "count": 1
           },
           {
            "name": "05:50",
            "count": 1
           }
          ]
         }
        },
        {
         "name": "Arrival_Time",
         "dtype": "object",
         "stats": {
          "unique_count": 2,
          "nan_count": 0,
          "categories": [
           {
            "name": "01:10 22 Mar",
            "count": 1
           },
           {
            "name": "13:15",
            "count": 1
           }
          ]
         }
        },
        {
         "name": "Duration",
         "dtype": "object",
         "stats": {
          "unique_count": 2,
          "nan_count": 0,
          "categories": [
           {
            "name": "2h 50m",
            "count": 1
           },
           {
            "name": "7h 25m",
            "count": 1
           }
          ]
         }
        },
        {
         "name": "Total_Stops",
         "dtype": "object",
         "stats": {
          "unique_count": 2,
          "nan_count": 0,
          "categories": [
           {
            "name": "non-stop",
            "count": 1
           },
           {
            "name": "2 stops",
            "count": 1
           }
          ]
         }
        },
        {
         "name": "Additional_Info",
         "dtype": "object",
         "stats": {
          "unique_count": 1,
          "nan_count": 0,
          "categories": [
           {
            "name": "No info",
            "count": 2
           }
          ]
         }
        },
        {
         "name": "Price",
         "dtype": "int64",
         "stats": {
          "unique_count": 2,
          "nan_count": 0,
          "min": "3897",
          "max": "7662",
          "histogram": [
           {
            "bin_start": 3897,
            "bin_end": 4273.5,
            "count": 1
           },
           {
            "bin_start": 4273.5,
            "bin_end": 4650,
            "count": 0
           },
           {
            "bin_start": 4650,
            "bin_end": 5026.5,
            "count": 0
           },
           {
            "bin_start": 5026.5,
            "bin_end": 5403,
            "count": 0
           },
           {
            "bin_start": 5403,
            "bin_end": 5779.5,
            "count": 0
           },
           {
            "bin_start": 5779.5,
            "bin_end": 6156,
            "count": 0
           },
           {
            "bin_start": 6156,
            "bin_end": 6532.5,
            "count": 0
           },
           {
            "bin_start": 6532.5,
            "bin_end": 6909,
            "count": 0
           },
           {
            "bin_start": 6909,
            "bin_end": 7285.5,
            "count": 0
           },
           {
            "bin_start": 7285.5,
            "bin_end": 7662,
            "count": 1
           }
          ]
         }
        },
        {
         "name": "_deepnote_index_column",
         "dtype": "int64"
        }
       ],
       "rows": [
        {
         "Airline": "IndiGo",
         "Date_of_Journey": "24/03/2019",
         "Source": "Banglore",
         "Destination": "New Delhi",
         "Route": "BLR ? DEL",
         "Dep_Time": "22:20",
         "Arrival_Time": "01:10 22 Mar",
         "Duration": "2h 50m",
         "Total_Stops": "non-stop",
         "Additional_Info": "No info",
         "Price": 3897,
         "_deepnote_index_column": 0
        },
        {
         "Airline": "Air India",
         "Date_of_Journey": "1/05/2019",
         "Source": "Kolkata",
         "Destination": "Banglore",
         "Route": "CCU ? IXR ? BBI ? BLR",
         "Dep_Time": "05:50",
         "Arrival_Time": "13:15",
         "Duration": "7h 25m",
         "Total_Stops": "2 stops",
         "Additional_Info": "No info",
         "Price": 7662,
         "_deepnote_index_column": 1
        }
       ]
      },
      "text/plain": "     Airline Date_of_Journey    Source Destination                  Route  \\\n0     IndiGo      24/03/2019  Banglore   New Delhi              BLR ? DEL   \n1  Air India       1/05/2019   Kolkata    Banglore  CCU ? IXR ? BBI ? BLR   \n\n  Dep_Time  Arrival_Time Duration Total_Stops Additional_Info  Price  \n0    22:20  01:10 22 Mar   2h 50m    non-stop         No info   3897  \n1    05:50         13:15   7h 25m     2 stops         No info   7662  ",
      "text/html": "<div>\n<style scoped>\n    .dataframe tbody tr th:only-of-type {\n        vertical-align: middle;\n    }\n\n    .dataframe tbody tr th {\n        vertical-align: top;\n    }\n\n    .dataframe thead th {\n        text-align: right;\n    }\n</style>\n<table border=\"1\" class=\"dataframe\">\n  <thead>\n    <tr style=\"text-align: right;\">\n      <th></th>\n      <th>Airline</th>\n      <th>Date_of_Journey</th>\n      <th>Source</th>\n      <th>Destination</th>\n      <th>Route</th>\n      <th>Dep_Time</th>\n      <th>Arrival_Time</th>\n      <th>Duration</th>\n      <th>Total_Stops</th>\n      <th>Additional_Info</th>\n      <th>Price</th>\n    </tr>\n  </thead>\n  <tbody>\n    <tr>\n      <th>0</th>\n      <td>IndiGo</td>\n      <td>24/03/2019</td>\n      <td>Banglore</td>\n      <td>New Delhi</td>\n      <td>BLR ? DEL</td>\n      <td>22:20</td>\n      <td>01:10 22 Mar</td>\n      <td>2h 50m</td>\n      <td>non-stop</td>\n      <td>No info</td>\n      <td>3897</td>\n    </tr>\n    <tr>\n      <th>1</th>\n      <td>Air India</td>\n      <td>1/05/2019</td>\n      <td>Kolkata</td>\n      <td>Banglore</td>\n      <td>CCU ? IXR ? BBI ? BLR</td>\n      <td>05:50</td>\n      <td>13:15</td>\n      <td>7h 25m</td>\n      <td>2 stops</td>\n      <td>No info</td>\n      <td>7662</td>\n    </tr>\n  </tbody>\n</table>\n</div>"
     },
     "metadata": {}
    }
   ]
  },
  {
   "cell_type": "code",
   "metadata": {
    "cell_id": "00024-913da838-e775-4033-8aec-1cf3811f7d55",
    "deepnote_to_be_reexecuted": false,
    "source_hash": "ae3db336",
    "execution_start": 1660916804054,
    "execution_millis": 19,
    "deepnote_cell_type": "code",
    "deepnote_cell_height": 323.375,
    "deepnote_output_heights": [
     231.390625
    ]
   },
   "source": "data.dtypes",
   "execution_count": 13,
   "outputs": [
    {
     "output_type": "execute_result",
     "execution_count": 13,
     "data": {
      "text/plain": "Airline            object\nDate_of_Journey    object\nSource             object\nDestination        object\nRoute              object\nDep_Time           object\nArrival_Time       object\nDuration           object\nTotal_Stops        object\nAdditional_Info    object\nPrice               int64\ndtype: object"
     },
     "metadata": {}
    }
   ]
  },
  {
   "cell_type": "markdown",
   "source": "we can see that Date_of_Journey is a object data type,\nTherefore, we have to convert this datatype into timestamp bcz our \nmodel will not be able to understand these string values,it just understand Time-stamp..\n\nFor this we require pandas to_datetime to convert object data type to datetime dtype.",
   "metadata": {
    "cell_id": "b608f5e38b9a43f18af875f2f6ed74a6",
    "tags": [],
    "deepnote_cell_type": "markdown",
    "deepnote_cell_height": 133.59375
   }
  },
  {
   "cell_type": "code",
   "metadata": {
    "cell_id": "00027-db1f486c-4e65-4068-a5f5-809ebda29be0",
    "deepnote_to_be_reexecuted": false,
    "source_hash": "9754f07b",
    "execution_start": 1660916804071,
    "execution_millis": 6,
    "deepnote_cell_type": "code",
    "deepnote_cell_height": 94
   },
   "source": "def change_into_datetime(col):\n    data[col]=pd.to_datetime(data[col])",
   "execution_count": 14,
   "outputs": []
  },
  {
   "cell_type": "code",
   "metadata": {
    "cell_id": "00028-a81ecb26-0257-43e4-8069-6940b5c86c80",
    "deepnote_to_be_reexecuted": false,
    "source_hash": "c8a8c27a",
    "execution_start": 1660916804078,
    "execution_millis": 8,
    "deepnote_cell_type": "code",
    "deepnote_cell_height": 169.78125,
    "deepnote_output_heights": [
     77.796875
    ]
   },
   "source": "data.columns",
   "execution_count": 15,
   "outputs": [
    {
     "output_type": "execute_result",
     "execution_count": 15,
     "data": {
      "text/plain": "Index(['Airline', 'Date_of_Journey', 'Source', 'Destination', 'Route',\n       'Dep_Time', 'Arrival_Time', 'Duration', 'Total_Stops',\n       'Additional_Info', 'Price'],\n      dtype='object')"
     },
     "metadata": {}
    }
   ]
  },
  {
   "cell_type": "code",
   "metadata": {
    "cell_id": "00029-2ca02402-1830-4c9e-af27-180379501c13",
    "deepnote_to_be_reexecuted": false,
    "source_hash": "c5c300e",
    "execution_start": 1660916804102,
    "execution_millis": 229,
    "deepnote_cell_type": "code",
    "deepnote_cell_height": 94
   },
   "source": "for feature in ['Date_of_Journey','Dep_Time', 'Arrival_Time']:\n    change_into_datetime(feature)",
   "execution_count": 16,
   "outputs": []
  },
  {
   "cell_type": "code",
   "metadata": {
    "cell_id": "00030-695999bb-7807-48a1-88ae-1e33f3ac3b17",
    "deepnote_to_be_reexecuted": false,
    "source_hash": "ae3db336",
    "execution_start": 1660916804331,
    "execution_millis": 688,
    "deepnote_cell_type": "code",
    "deepnote_cell_height": 323.375,
    "deepnote_output_heights": [
     231.390625
    ]
   },
   "source": "data.dtypes",
   "execution_count": 17,
   "outputs": [
    {
     "output_type": "execute_result",
     "execution_count": 17,
     "data": {
      "text/plain": "Airline                    object\nDate_of_Journey    datetime64[ns]\nSource                     object\nDestination                object\nRoute                      object\nDep_Time           datetime64[ns]\nArrival_Time       datetime64[ns]\nDuration                   object\nTotal_Stops                object\nAdditional_Info            object\nPrice                       int64\ndtype: object"
     },
     "metadata": {}
    }
   ]
  },
  {
   "cell_type": "code",
   "metadata": {
    "cell_id": "00031-c4ebadf9-b337-4c6d-aed8-8b32aeda1894",
    "deepnote_to_be_reexecuted": false,
    "source_hash": "697f11f0",
    "execution_start": 1660916804332,
    "execution_millis": 687,
    "deepnote_cell_type": "code",
    "deepnote_cell_height": 112.1875,
    "deepnote_output_heights": [
     20.1875
    ]
   },
   "source": "data['Date_of_Journey'].min()",
   "execution_count": 18,
   "outputs": [
    {
     "output_type": "execute_result",
     "execution_count": 18,
     "data": {
      "text/plain": "Timestamp('2019-01-03 00:00:00')"
     },
     "metadata": {}
    }
   ]
  },
  {
   "cell_type": "code",
   "metadata": {
    "cell_id": "00032-b2283889-633e-4189-9371-f196bf711204",
    "deepnote_to_be_reexecuted": false,
    "source_hash": "87a934a8",
    "execution_start": 1660916804333,
    "execution_millis": 0,
    "deepnote_cell_type": "code",
    "deepnote_cell_height": 112.1875,
    "deepnote_output_heights": [
     20.1875
    ]
   },
   "source": "data['Date_of_Journey'].max()",
   "execution_count": 19,
   "outputs": [
    {
     "output_type": "execute_result",
     "execution_count": 19,
     "data": {
      "text/plain": "Timestamp('2019-12-06 00:00:00')"
     },
     "metadata": {}
    }
   ]
  },
  {
   "cell_type": "code",
   "metadata": {
    "cell_id": "00033-787d3f13-7ce3-4407-9028-14ea0aa7f3ad",
    "deepnote_to_be_reexecuted": false,
    "source_hash": "1d1165b1",
    "execution_start": 1660916804340,
    "execution_millis": 683,
    "deepnote_cell_type": "code",
    "deepnote_cell_height": 99
   },
   "source": "### it means our data belongs to 2019 year only, hence extracting year feature & consider this as a input to my machine learning model makes no sense !\n### but if we have more than 1 year  , then of-course it may impact !",
   "execution_count": 20,
   "outputs": []
  },
  {
   "cell_type": "code",
   "metadata": {
    "cell_id": "00035-632cf824-a50b-486d-b469-020b7bcd3231",
    "deepnote_to_be_reexecuted": false,
    "source_hash": "b623e53d",
    "execution_start": 1660916804349,
    "execution_millis": 10,
    "deepnote_cell_type": "code",
    "deepnote_cell_height": 76
   },
   "source": "",
   "execution_count": 20,
   "outputs": []
  },
  {
   "cell_type": "markdown",
   "source": "## lets do Feature Engineering of \"Date_of_Journey\" & fetch day,month,year !",
   "metadata": {
    "cell_id": "00036-3a5f17b1-9de9-4211-8edc-0014eb513cc1",
    "deepnote_cell_type": "markdown",
    "deepnote_cell_height": 110
   }
  },
  {
   "cell_type": "code",
   "metadata": {
    "cell_id": "00037-49ae6626-43e6-49cd-8310-46bbfa04b18c",
    "deepnote_to_be_reexecuted": false,
    "source_hash": "84e24617",
    "execution_start": 1660916804360,
    "execution_millis": 49,
    "deepnote_cell_type": "code",
    "deepnote_cell_height": 76
   },
   "source": "data['journey_day']=data['Date_of_Journey'].dt.day",
   "execution_count": 21,
   "outputs": []
  },
  {
   "cell_type": "code",
   "metadata": {
    "cell_id": "00038-95c7a41f-4b3c-4da6-9617-fb6623b7a2e5",
    "deepnote_to_be_reexecuted": false,
    "source_hash": "edac7c1b",
    "execution_start": 1660916804413,
    "execution_millis": 5,
    "deepnote_cell_type": "code",
    "deepnote_cell_height": 76
   },
   "source": "data['journey_month']=data['Date_of_Journey'].dt.month",
   "execution_count": 22,
   "outputs": []
  },
  {
   "cell_type": "code",
   "metadata": {
    "cell_id": "00039-54e928a1-ef73-4df4-b5ad-3edd3c17dce3",
    "deepnote_to_be_reexecuted": false,
    "source_hash": "5385b5d9",
    "execution_start": 1660916804441,
    "execution_millis": 34,
    "deepnote_cell_type": "code",
    "deepnote_cell_height": 76
   },
   "source": "data['journey_year']=data['Date_of_Journey'].dt.year",
   "execution_count": 23,
   "outputs": []
  },
  {
   "cell_type": "code",
   "metadata": {
    "cell_id": "00040-46629e88-0a02-4752-9958-7aaf84167491",
    "deepnote_to_be_reexecuted": false,
    "source_hash": "f7a45459",
    "execution_start": 1660916804477,
    "execution_millis": 597,
    "deepnote_cell_type": "code",
    "deepnote_cell_height": 283.796875
   },
   "source": "data.head(2)",
   "execution_count": 24,
   "outputs": [
    {
     "output_type": "execute_result",
     "execution_count": 24,
     "data": {
      "application/vnd.deepnote.dataframe.v3+json": {
       "column_count": 14,
       "row_count": 2,
       "columns": [
        {
         "name": "Airline",
         "dtype": "object",
         "stats": {
          "unique_count": 2,
          "nan_count": 0,
          "categories": [
           {
            "name": "IndiGo",
            "count": 1
           },
           {
            "name": "Air India",
            "count": 1
           }
          ]
         }
        },
        {
         "name": "Date_of_Journey",
         "dtype": "datetime64[ns]",
         "stats": {
          "unique_count": 2,
          "nan_count": 0,
          "min": "2019-01-05 00:00:00",
          "max": "2019-03-24 00:00:00",
          "histogram": [
           {
            "bin_start": 1546646400000000000,
            "bin_end": 1547320320000000000,
            "count": 1
           },
           {
            "bin_start": 1547320320000000000,
            "bin_end": 1547994240000000000,
            "count": 0
           },
           {
            "bin_start": 1547994240000000000,
            "bin_end": 1548668160000000000,
            "count": 0
           },
           {
            "bin_start": 1548668160000000000,
            "bin_end": 1549342080000000000,
            "count": 0
           },
           {
            "bin_start": 1549342080000000000,
            "bin_end": 1550016000000000000,
            "count": 0
           },
           {
            "bin_start": 1550016000000000000,
            "bin_end": 1550689920000000000,
            "count": 0
           },
           {
            "bin_start": 1550689920000000000,
            "bin_end": 1551363840000000000,
            "count": 0
           },
           {
            "bin_start": 1551363840000000000,
            "bin_end": 1552037760000000000,
            "count": 0
           },
           {
            "bin_start": 1552037760000000000,
            "bin_end": 1552711680000000000,
            "count": 0
           },
           {
            "bin_start": 1552711680000000000,
            "bin_end": 1553385600000000000,
            "count": 1
           }
          ]
         }
        },
        {
         "name": "Source",
         "dtype": "object",
         "stats": {
          "unique_count": 2,
          "nan_count": 0,
          "categories": [
           {
            "name": "Banglore",
            "count": 1
           },
           {
            "name": "Kolkata",
            "count": 1
           }
          ]
         }
        },
        {
         "name": "Destination",
         "dtype": "object",
         "stats": {
          "unique_count": 2,
          "nan_count": 0,
          "categories": [
           {
            "name": "New Delhi",
            "count": 1
           },
           {
            "name": "Banglore",
            "count": 1
           }
          ]
         }
        },
        {
         "name": "Route",
         "dtype": "object",
         "stats": {
          "unique_count": 2,
          "nan_count": 0,
          "categories": [
           {
            "name": "BLR ? DEL",
            "count": 1
           },
           {
            "name": "CCU ? IXR ? BBI ? BLR",
            "count": 1
           }
          ]
         }
        },
        {
         "name": "Dep_Time",
         "dtype": "datetime64[ns]",
         "stats": {
          "unique_count": 2,
          "nan_count": 0,
          "min": "2022-08-19 05:50:00",
          "max": "2022-08-19 22:20:00",
          "histogram": [
           {
            "bin_start": 1660888200000000000,
            "bin_end": 1660894140000000000,
            "count": 1
           },
           {
            "bin_start": 1660894140000000000,
            "bin_end": 1660900080000000000,
            "count": 0
           },
           {
            "bin_start": 1660900080000000000,
            "bin_end": 1660906020000000000,
            "count": 0
           },
           {
            "bin_start": 1660906020000000000,
            "bin_end": 1660911960000000000,
            "count": 0
           },
           {
            "bin_start": 1660911960000000000,
            "bin_end": 1660917900000000000,
            "count": 0
           },
           {
            "bin_start": 1660917900000000000,
            "bin_end": 1660923840000000000,
            "count": 0
           },
           {
            "bin_start": 1660923840000000000,
            "bin_end": 1660929780000000000,
            "count": 0
           },
           {
            "bin_start": 1660929780000000000,
            "bin_end": 1660935720000000000,
            "count": 0
           },
           {
            "bin_start": 1660935720000000000,
            "bin_end": 1660941660000000000,
            "count": 0
           },
           {
            "bin_start": 1660941660000000000,
            "bin_end": 1660947600000000000,
            "count": 1
           }
          ]
         }
        },
        {
         "name": "Arrival_Time",
         "dtype": "datetime64[ns]",
         "stats": {
          "unique_count": 2,
          "nan_count": 0,
          "min": "2022-03-22 01:10:00",
          "max": "2022-08-19 13:15:00",
          "histogram": [
           {
            "bin_start": 1647911400000000000,
            "bin_end": 1649211750000000000,
            "count": 1
           },
           {
            "bin_start": 1649211750000000000,
            "bin_end": 1650512100000000000,
            "count": 0
           },
           {
            "bin_start": 1650512100000000000,
            "bin_end": 1651812450000000000,
            "count": 0
           },
           {
            "bin_start": 1651812450000000000,
            "bin_end": 1653112800000000000,
            "count": 0
           },
           {
            "bin_start": 1653112800000000000,
            "bin_end": 1654413150000000000,
            "count": 0
           },
           {
            "bin_start": 1654413150000000000,
            "bin_end": 1655713500000000000,
            "count": 0
           },
           {
            "bin_start": 1655713500000000000,
            "bin_end": 1657013850000000000,
            "count": 0
           },
           {
            "bin_start": 1657013850000000000,
            "bin_end": 1658314200000000000,
            "count": 0
           },
           {
            "bin_start": 1658314200000000000,
            "bin_end": 1659614550000000000,
            "count": 0
           },
           {
            "bin_start": 1659614550000000000,
            "bin_end": 1660914900000000000,
            "count": 1
           }
          ]
         }
        },
        {
         "name": "Duration",
         "dtype": "object",
         "stats": {
          "unique_count": 2,
          "nan_count": 0,
          "categories": [
           {
            "name": "2h 50m",
            "count": 1
           },
           {
            "name": "7h 25m",
            "count": 1
           }
          ]
         }
        },
        {
         "name": "Total_Stops",
         "dtype": "object",
         "stats": {
          "unique_count": 2,
          "nan_count": 0,
          "categories": [
           {
            "name": "non-stop",
            "count": 1
           },
           {
            "name": "2 stops",
            "count": 1
           }
          ]
         }
        },
        {
         "name": "Additional_Info",
         "dtype": "object",
         "stats": {
          "unique_count": 1,
          "nan_count": 0,
          "categories": [
           {
            "name": "No info",
            "count": 2
           }
          ]
         }
        },
        {
         "name": "Price",
         "dtype": "int64",
         "stats": {
          "unique_count": 2,
          "nan_count": 0,
          "min": "3897",
          "max": "7662",
          "histogram": [
           {
            "bin_start": 3897,
            "bin_end": 4273.5,
            "count": 1
           },
           {
            "bin_start": 4273.5,
            "bin_end": 4650,
            "count": 0
           },
           {
            "bin_start": 4650,
            "bin_end": 5026.5,
            "count": 0
           },
           {
            "bin_start": 5026.5,
            "bin_end": 5403,
            "count": 0
           },
           {
            "bin_start": 5403,
            "bin_end": 5779.5,
            "count": 0
           },
           {
            "bin_start": 5779.5,
            "bin_end": 6156,
            "count": 0
           },
           {
            "bin_start": 6156,
            "bin_end": 6532.5,
            "count": 0
           },
           {
            "bin_start": 6532.5,
            "bin_end": 6909,
            "count": 0
           },
           {
            "bin_start": 6909,
            "bin_end": 7285.5,
            "count": 0
           },
           {
            "bin_start": 7285.5,
            "bin_end": 7662,
            "count": 1
           }
          ]
         }
        },
        {
         "name": "journey_day",
         "dtype": "int64",
         "stats": {
          "unique_count": 2,
          "nan_count": 0,
          "min": "5",
          "max": "24",
          "histogram": [
           {
            "bin_start": 5,
            "bin_end": 6.9,
            "count": 1
           },
           {
            "bin_start": 6.9,
            "bin_end": 8.8,
            "count": 0
           },
           {
            "bin_start": 8.8,
            "bin_end": 10.7,
            "count": 0
           },
           {
            "bin_start": 10.7,
            "bin_end": 12.6,
            "count": 0
           },
           {
            "bin_start": 12.6,
            "bin_end": 14.5,
            "count": 0
           },
           {
            "bin_start": 14.5,
            "bin_end": 16.4,
            "count": 0
           },
           {
            "bin_start": 16.4,
            "bin_end": 18.299999999999997,
            "count": 0
           },
           {
            "bin_start": 18.299999999999997,
            "bin_end": 20.2,
            "count": 0
           },
           {
            "bin_start": 20.2,
            "bin_end": 22.099999999999998,
            "count": 0
           },
           {
            "bin_start": 22.099999999999998,
            "bin_end": 24,
            "count": 1
           }
          ]
         }
        },
        {
         "name": "journey_month",
         "dtype": "int64",
         "stats": {
          "unique_count": 2,
          "nan_count": 0,
          "min": "1",
          "max": "3",
          "histogram": [
           {
            "bin_start": 1,
            "bin_end": 1.2,
            "count": 1
           },
           {
            "bin_start": 1.2,
            "bin_end": 1.4,
            "count": 0
           },
           {
            "bin_start": 1.4,
            "bin_end": 1.6,
            "count": 0
           },
           {
            "bin_start": 1.6,
            "bin_end": 1.8,
            "count": 0
           },
           {
            "bin_start": 1.8,
            "bin_end": 2,
            "count": 0
           },
           {
            "bin_start": 2,
            "bin_end": 2.2,
            "count": 0
           },
           {
            "bin_start": 2.2,
            "bin_end": 2.4000000000000004,
            "count": 0
           },
           {
            "bin_start": 2.4000000000000004,
            "bin_end": 2.6,
            "count": 0
           },
           {
            "bin_start": 2.6,
            "bin_end": 2.8,
            "count": 0
           },
           {
            "bin_start": 2.8,
            "bin_end": 3,
            "count": 1
           }
          ]
         }
        },
        {
         "name": "journey_year",
         "dtype": "int64",
         "stats": {
          "unique_count": 1,
          "nan_count": 0,
          "min": "2019",
          "max": "2019",
          "histogram": [
           {
            "bin_start": 2018.5,
            "bin_end": 2018.6,
            "count": 0
           },
           {
            "bin_start": 2018.6,
            "bin_end": 2018.7,
            "count": 0
           },
           {
            "bin_start": 2018.7,
            "bin_end": 2018.8,
            "count": 0
           },
           {
            "bin_start": 2018.8,
            "bin_end": 2018.9,
            "count": 0
           },
           {
            "bin_start": 2018.9,
            "bin_end": 2019,
            "count": 0
           },
           {
            "bin_start": 2019,
            "bin_end": 2019.1,
            "count": 2
           },
           {
            "bin_start": 2019.1,
            "bin_end": 2019.2,
            "count": 0
           },
           {
            "bin_start": 2019.2,
            "bin_end": 2019.3,
            "count": 0
           },
           {
            "bin_start": 2019.3,
            "bin_end": 2019.4,
            "count": 0
           },
           {
            "bin_start": 2019.4,
            "bin_end": 2019.5,
            "count": 0
           }
          ]
         }
        },
        {
         "name": "_deepnote_index_column",
         "dtype": "int64"
        }
       ],
       "rows": [
        {
         "Airline": "IndiGo",
         "Date_of_Journey": "2019-03-24T00:00:00Z",
         "Source": "Banglore",
         "Destination": "New Delhi",
         "Route": "BLR ? DEL",
         "Dep_Time": "2022-08-19T22:20:00Z",
         "Arrival_Time": "2022-03-22T01:10:00Z",
         "Duration": "2h 50m",
         "Total_Stops": "non-stop",
         "Additional_Info": "No info",
         "Price": 3897,
         "journey_day": 24,
         "journey_month": 3,
         "journey_year": 2019,
         "_deepnote_index_column": 0
        },
        {
         "Airline": "Air India",
         "Date_of_Journey": "2019-01-05T00:00:00Z",
         "Source": "Kolkata",
         "Destination": "Banglore",
         "Route": "CCU ? IXR ? BBI ? BLR",
         "Dep_Time": "2022-08-19T05:50:00Z",
         "Arrival_Time": "2022-08-19T13:15:00Z",
         "Duration": "7h 25m",
         "Total_Stops": "2 stops",
         "Additional_Info": "No info",
         "Price": 7662,
         "journey_day": 5,
         "journey_month": 1,
         "journey_year": 2019,
         "_deepnote_index_column": 1
        }
       ]
      },
      "text/plain": "     Airline Date_of_Journey    Source Destination                  Route  \\\n0     IndiGo      2019-03-24  Banglore   New Delhi              BLR ? DEL   \n1  Air India      2019-01-05   Kolkata    Banglore  CCU ? IXR ? BBI ? BLR   \n\n             Dep_Time        Arrival_Time Duration Total_Stops  \\\n0 2022-08-19 22:20:00 2022-03-22 01:10:00   2h 50m    non-stop   \n1 2022-08-19 05:50:00 2022-08-19 13:15:00   7h 25m     2 stops   \n\n  Additional_Info  Price  journey_day  journey_month  journey_year  \n0         No info   3897           24              3          2019  \n1         No info   7662            5              1          2019  ",
      "text/html": "<div>\n<style scoped>\n    .dataframe tbody tr th:only-of-type {\n        vertical-align: middle;\n    }\n\n    .dataframe tbody tr th {\n        vertical-align: top;\n    }\n\n    .dataframe thead th {\n        text-align: right;\n    }\n</style>\n<table border=\"1\" class=\"dataframe\">\n  <thead>\n    <tr style=\"text-align: right;\">\n      <th></th>\n      <th>Airline</th>\n      <th>Date_of_Journey</th>\n      <th>Source</th>\n      <th>Destination</th>\n      <th>Route</th>\n      <th>Dep_Time</th>\n      <th>Arrival_Time</th>\n      <th>Duration</th>\n      <th>Total_Stops</th>\n      <th>Additional_Info</th>\n      <th>Price</th>\n      <th>journey_day</th>\n      <th>journey_month</th>\n      <th>journey_year</th>\n    </tr>\n  </thead>\n  <tbody>\n    <tr>\n      <th>0</th>\n      <td>IndiGo</td>\n      <td>2019-03-24</td>\n      <td>Banglore</td>\n      <td>New Delhi</td>\n      <td>BLR ? DEL</td>\n      <td>2022-08-19 22:20:00</td>\n      <td>2022-03-22 01:10:00</td>\n      <td>2h 50m</td>\n      <td>non-stop</td>\n      <td>No info</td>\n      <td>3897</td>\n      <td>24</td>\n      <td>3</td>\n      <td>2019</td>\n    </tr>\n    <tr>\n      <th>1</th>\n      <td>Air India</td>\n      <td>2019-01-05</td>\n      <td>Kolkata</td>\n      <td>Banglore</td>\n      <td>CCU ? IXR ? BBI ? BLR</td>\n      <td>2022-08-19 05:50:00</td>\n      <td>2022-08-19 13:15:00</td>\n      <td>7h 25m</td>\n      <td>2 stops</td>\n      <td>No info</td>\n      <td>7662</td>\n      <td>5</td>\n      <td>1</td>\n      <td>2019</td>\n    </tr>\n  </tbody>\n</table>\n</div>"
     },
     "metadata": {}
    }
   ]
  },
  {
   "cell_type": "code",
   "metadata": {
    "cell_id": "00041-6fdf85bb-3e1f-4a56-85d9-76f6814d3796",
    "deepnote_to_be_reexecuted": false,
    "source_hash": "dd90fae8",
    "execution_start": 1660916804565,
    "execution_millis": 5,
    "deepnote_cell_type": "code",
    "deepnote_cell_height": 76
   },
   "source": "data.drop('Date_of_Journey',axis=1,inplace=True)",
   "execution_count": 25,
   "outputs": []
  },
  {
   "cell_type": "code",
   "metadata": {
    "cell_id": "00042-0d79fe08-9078-46ec-a24d-32c7bf6c8e0e",
    "deepnote_to_be_reexecuted": false,
    "source_hash": "f7a45459",
    "execution_start": 1660916804587,
    "execution_millis": 490,
    "deepnote_cell_type": "code",
    "deepnote_cell_height": 283.796875
   },
   "source": "data.head(2)",
   "execution_count": 26,
   "outputs": [
    {
     "output_type": "execute_result",
     "execution_count": 26,
     "data": {
      "application/vnd.deepnote.dataframe.v3+json": {
       "column_count": 13,
       "row_count": 2,
       "columns": [
        {
         "name": "Airline",
         "dtype": "object",
         "stats": {
          "unique_count": 2,
          "nan_count": 0,
          "categories": [
           {
            "name": "IndiGo",
            "count": 1
           },
           {
            "name": "Air India",
            "count": 1
           }
          ]
         }
        },
        {
         "name": "Source",
         "dtype": "object",
         "stats": {
          "unique_count": 2,
          "nan_count": 0,
          "categories": [
           {
            "name": "Banglore",
            "count": 1
           },
           {
            "name": "Kolkata",
            "count": 1
           }
          ]
         }
        },
        {
         "name": "Destination",
         "dtype": "object",
         "stats": {
          "unique_count": 2,
          "nan_count": 0,
          "categories": [
           {
            "name": "New Delhi",
            "count": 1
           },
           {
            "name": "Banglore",
            "count": 1
           }
          ]
         }
        },
        {
         "name": "Route",
         "dtype": "object",
         "stats": {
          "unique_count": 2,
          "nan_count": 0,
          "categories": [
           {
            "name": "BLR ? DEL",
            "count": 1
           },
           {
            "name": "CCU ? IXR ? BBI ? BLR",
            "count": 1
           }
          ]
         }
        },
        {
         "name": "Dep_Time",
         "dtype": "datetime64[ns]",
         "stats": {
          "unique_count": 2,
          "nan_count": 0,
          "min": "2022-08-19 05:50:00",
          "max": "2022-08-19 22:20:00",
          "histogram": [
           {
            "bin_start": 1660888200000000000,
            "bin_end": 1660894140000000000,
            "count": 1
           },
           {
            "bin_start": 1660894140000000000,
            "bin_end": 1660900080000000000,
            "count": 0
           },
           {
            "bin_start": 1660900080000000000,
            "bin_end": 1660906020000000000,
            "count": 0
           },
           {
            "bin_start": 1660906020000000000,
            "bin_end": 1660911960000000000,
            "count": 0
           },
           {
            "bin_start": 1660911960000000000,
            "bin_end": 1660917900000000000,
            "count": 0
           },
           {
            "bin_start": 1660917900000000000,
            "bin_end": 1660923840000000000,
            "count": 0
           },
           {
            "bin_start": 1660923840000000000,
            "bin_end": 1660929780000000000,
            "count": 0
           },
           {
            "bin_start": 1660929780000000000,
            "bin_end": 1660935720000000000,
            "count": 0
           },
           {
            "bin_start": 1660935720000000000,
            "bin_end": 1660941660000000000,
            "count": 0
           },
           {
            "bin_start": 1660941660000000000,
            "bin_end": 1660947600000000000,
            "count": 1
           }
          ]
         }
        },
        {
         "name": "Arrival_Time",
         "dtype": "datetime64[ns]",
         "stats": {
          "unique_count": 2,
          "nan_count": 0,
          "min": "2022-03-22 01:10:00",
          "max": "2022-08-19 13:15:00",
          "histogram": [
           {
            "bin_start": 1647911400000000000,
            "bin_end": 1649211750000000000,
            "count": 1
           },
           {
            "bin_start": 1649211750000000000,
            "bin_end": 1650512100000000000,
            "count": 0
           },
           {
            "bin_start": 1650512100000000000,
            "bin_end": 1651812450000000000,
            "count": 0
           },
           {
            "bin_start": 1651812450000000000,
            "bin_end": 1653112800000000000,
            "count": 0
           },
           {
            "bin_start": 1653112800000000000,
            "bin_end": 1654413150000000000,
            "count": 0
           },
           {
            "bin_start": 1654413150000000000,
            "bin_end": 1655713500000000000,
            "count": 0
           },
           {
            "bin_start": 1655713500000000000,
            "bin_end": 1657013850000000000,
            "count": 0
           },
           {
            "bin_start": 1657013850000000000,
            "bin_end": 1658314200000000000,
            "count": 0
           },
           {
            "bin_start": 1658314200000000000,
            "bin_end": 1659614550000000000,
            "count": 0
           },
           {
            "bin_start": 1659614550000000000,
            "bin_end": 1660914900000000000,
            "count": 1
           }
          ]
         }
        },
        {
         "name": "Duration",
         "dtype": "object",
         "stats": {
          "unique_count": 2,
          "nan_count": 0,
          "categories": [
           {
            "name": "2h 50m",
            "count": 1
           },
           {
            "name": "7h 25m",
            "count": 1
           }
          ]
         }
        },
        {
         "name": "Total_Stops",
         "dtype": "object",
         "stats": {
          "unique_count": 2,
          "nan_count": 0,
          "categories": [
           {
            "name": "non-stop",
            "count": 1
           },
           {
            "name": "2 stops",
            "count": 1
           }
          ]
         }
        },
        {
         "name": "Additional_Info",
         "dtype": "object",
         "stats": {
          "unique_count": 1,
          "nan_count": 0,
          "categories": [
           {
            "name": "No info",
            "count": 2
           }
          ]
         }
        },
        {
         "name": "Price",
         "dtype": "int64",
         "stats": {
          "unique_count": 2,
          "nan_count": 0,
          "min": "3897",
          "max": "7662",
          "histogram": [
           {
            "bin_start": 3897,
            "bin_end": 4273.5,
            "count": 1
           },
           {
            "bin_start": 4273.5,
            "bin_end": 4650,
            "count": 0
           },
           {
            "bin_start": 4650,
            "bin_end": 5026.5,
            "count": 0
           },
           {
            "bin_start": 5026.5,
            "bin_end": 5403,
            "count": 0
           },
           {
            "bin_start": 5403,
            "bin_end": 5779.5,
            "count": 0
           },
           {
            "bin_start": 5779.5,
            "bin_end": 6156,
            "count": 0
           },
           {
            "bin_start": 6156,
            "bin_end": 6532.5,
            "count": 0
           },
           {
            "bin_start": 6532.5,
            "bin_end": 6909,
            "count": 0
           },
           {
            "bin_start": 6909,
            "bin_end": 7285.5,
            "count": 0
           },
           {
            "bin_start": 7285.5,
            "bin_end": 7662,
            "count": 1
           }
          ]
         }
        },
        {
         "name": "journey_day",
         "dtype": "int64",
         "stats": {
          "unique_count": 2,
          "nan_count": 0,
          "min": "5",
          "max": "24",
          "histogram": [
           {
            "bin_start": 5,
            "bin_end": 6.9,
            "count": 1
           },
           {
            "bin_start": 6.9,
            "bin_end": 8.8,
            "count": 0
           },
           {
            "bin_start": 8.8,
            "bin_end": 10.7,
            "count": 0
           },
           {
            "bin_start": 10.7,
            "bin_end": 12.6,
            "count": 0
           },
           {
            "bin_start": 12.6,
            "bin_end": 14.5,
            "count": 0
           },
           {
            "bin_start": 14.5,
            "bin_end": 16.4,
            "count": 0
           },
           {
            "bin_start": 16.4,
            "bin_end": 18.299999999999997,
            "count": 0
           },
           {
            "bin_start": 18.299999999999997,
            "bin_end": 20.2,
            "count": 0
           },
           {
            "bin_start": 20.2,
            "bin_end": 22.099999999999998,
            "count": 0
           },
           {
            "bin_start": 22.099999999999998,
            "bin_end": 24,
            "count": 1
           }
          ]
         }
        },
        {
         "name": "journey_month",
         "dtype": "int64",
         "stats": {
          "unique_count": 2,
          "nan_count": 0,
          "min": "1",
          "max": "3",
          "histogram": [
           {
            "bin_start": 1,
            "bin_end": 1.2,
            "count": 1
           },
           {
            "bin_start": 1.2,
            "bin_end": 1.4,
            "count": 0
           },
           {
            "bin_start": 1.4,
            "bin_end": 1.6,
            "count": 0
           },
           {
            "bin_start": 1.6,
            "bin_end": 1.8,
            "count": 0
           },
           {
            "bin_start": 1.8,
            "bin_end": 2,
            "count": 0
           },
           {
            "bin_start": 2,
            "bin_end": 2.2,
            "count": 0
           },
           {
            "bin_start": 2.2,
            "bin_end": 2.4000000000000004,
            "count": 0
           },
           {
            "bin_start": 2.4000000000000004,
            "bin_end": 2.6,
            "count": 0
           },
           {
            "bin_start": 2.6,
            "bin_end": 2.8,
            "count": 0
           },
           {
            "bin_start": 2.8,
            "bin_end": 3,
            "count": 1
           }
          ]
         }
        },
        {
         "name": "journey_year",
         "dtype": "int64",
         "stats": {
          "unique_count": 1,
          "nan_count": 0,
          "min": "2019",
          "max": "2019",
          "histogram": [
           {
            "bin_start": 2018.5,
            "bin_end": 2018.6,
            "count": 0
           },
           {
            "bin_start": 2018.6,
            "bin_end": 2018.7,
            "count": 0
           },
           {
            "bin_start": 2018.7,
            "bin_end": 2018.8,
            "count": 0
           },
           {
            "bin_start": 2018.8,
            "bin_end": 2018.9,
            "count": 0
           },
           {
            "bin_start": 2018.9,
            "bin_end": 2019,
            "count": 0
           },
           {
            "bin_start": 2019,
            "bin_end": 2019.1,
            "count": 2
           },
           {
            "bin_start": 2019.1,
            "bin_end": 2019.2,
            "count": 0
           },
           {
            "bin_start": 2019.2,
            "bin_end": 2019.3,
            "count": 0
           },
           {
            "bin_start": 2019.3,
            "bin_end": 2019.4,
            "count": 0
           },
           {
            "bin_start": 2019.4,
            "bin_end": 2019.5,
            "count": 0
           }
          ]
         }
        },
        {
         "name": "_deepnote_index_column",
         "dtype": "int64"
        }
       ],
       "rows": [
        {
         "Airline": "IndiGo",
         "Source": "Banglore",
         "Destination": "New Delhi",
         "Route": "BLR ? DEL",
         "Dep_Time": "2022-08-19T22:20:00Z",
         "Arrival_Time": "2022-03-22T01:10:00Z",
         "Duration": "2h 50m",
         "Total_Stops": "non-stop",
         "Additional_Info": "No info",
         "Price": 3897,
         "journey_day": 24,
         "journey_month": 3,
         "journey_year": 2019,
         "_deepnote_index_column": 0
        },
        {
         "Airline": "Air India",
         "Source": "Kolkata",
         "Destination": "Banglore",
         "Route": "CCU ? IXR ? BBI ? BLR",
         "Dep_Time": "2022-08-19T05:50:00Z",
         "Arrival_Time": "2022-08-19T13:15:00Z",
         "Duration": "7h 25m",
         "Total_Stops": "2 stops",
         "Additional_Info": "No info",
         "Price": 7662,
         "journey_day": 5,
         "journey_month": 1,
         "journey_year": 2019,
         "_deepnote_index_column": 1
        }
       ]
      },
      "text/plain": "     Airline    Source Destination                  Route            Dep_Time  \\\n0     IndiGo  Banglore   New Delhi              BLR ? DEL 2022-08-19 22:20:00   \n1  Air India   Kolkata    Banglore  CCU ? IXR ? BBI ? BLR 2022-08-19 05:50:00   \n\n         Arrival_Time Duration Total_Stops Additional_Info  Price  \\\n0 2022-03-22 01:10:00   2h 50m    non-stop         No info   3897   \n1 2022-08-19 13:15:00   7h 25m     2 stops         No info   7662   \n\n   journey_day  journey_month  journey_year  \n0           24              3          2019  \n1            5              1          2019  ",
      "text/html": "<div>\n<style scoped>\n    .dataframe tbody tr th:only-of-type {\n        vertical-align: middle;\n    }\n\n    .dataframe tbody tr th {\n        vertical-align: top;\n    }\n\n    .dataframe thead th {\n        text-align: right;\n    }\n</style>\n<table border=\"1\" class=\"dataframe\">\n  <thead>\n    <tr style=\"text-align: right;\">\n      <th></th>\n      <th>Airline</th>\n      <th>Source</th>\n      <th>Destination</th>\n      <th>Route</th>\n      <th>Dep_Time</th>\n      <th>Arrival_Time</th>\n      <th>Duration</th>\n      <th>Total_Stops</th>\n      <th>Additional_Info</th>\n      <th>Price</th>\n      <th>journey_day</th>\n      <th>journey_month</th>\n      <th>journey_year</th>\n    </tr>\n  </thead>\n  <tbody>\n    <tr>\n      <th>0</th>\n      <td>IndiGo</td>\n      <td>Banglore</td>\n      <td>New Delhi</td>\n      <td>BLR ? DEL</td>\n      <td>2022-08-19 22:20:00</td>\n      <td>2022-03-22 01:10:00</td>\n      <td>2h 50m</td>\n      <td>non-stop</td>\n      <td>No info</td>\n      <td>3897</td>\n      <td>24</td>\n      <td>3</td>\n      <td>2019</td>\n    </tr>\n    <tr>\n      <th>1</th>\n      <td>Air India</td>\n      <td>Kolkata</td>\n      <td>Banglore</td>\n      <td>CCU ? IXR ? BBI ? BLR</td>\n      <td>2022-08-19 05:50:00</td>\n      <td>2022-08-19 13:15:00</td>\n      <td>7h 25m</td>\n      <td>2 stops</td>\n      <td>No info</td>\n      <td>7662</td>\n      <td>5</td>\n      <td>1</td>\n      <td>2019</td>\n    </tr>\n  </tbody>\n</table>\n</div>"
     },
     "metadata": {}
    }
   ]
  },
  {
   "cell_type": "markdown",
   "source": "## Lets try to clean Dep_Time & Arrival_Time & featurize it..¶",
   "metadata": {
    "cell_id": "00049-a2f6627f-4b52-4520-a5c7-0e0066dc41ef",
    "deepnote_cell_type": "markdown",
    "deepnote_cell_height": 70
   }
  },
  {
   "cell_type": "code",
   "metadata": {
    "cell_id": "00050-87e7fd2f-1fd2-4500-af9d-9f828222b210",
    "deepnote_to_be_reexecuted": false,
    "source_hash": "44922325",
    "execution_start": 1660916804685,
    "execution_millis": 0,
    "deepnote_cell_type": "code",
    "deepnote_cell_height": 148
   },
   "source": "def extract_hour_min(df,col):\n    df[col+'_hour']=df[col].dt.hour\n    df[col+'_minute']=df[col].dt.minute\n    df.drop(col,axis=1,inplace=True)\n    return df.head(2)",
   "execution_count": 27,
   "outputs": []
  },
  {
   "cell_type": "code",
   "metadata": {
    "cell_id": "00051-160861f3-a40e-4e97-899d-288ea1c46bde",
    "deepnote_to_be_reexecuted": false,
    "source_hash": "88def9b2",
    "execution_start": 1660916804686,
    "execution_millis": 392,
    "deepnote_cell_type": "code",
    "deepnote_cell_height": 319.796875
   },
   "source": "# Departure time is when a plane leaves the gate\n\nextract_hour_min(data,'Dep_Time')",
   "execution_count": 28,
   "outputs": [
    {
     "output_type": "execute_result",
     "execution_count": 28,
     "data": {
      "application/vnd.deepnote.dataframe.v3+json": {
       "column_count": 14,
       "row_count": 2,
       "columns": [
        {
         "name": "Airline",
         "dtype": "object",
         "stats": {
          "unique_count": 2,
          "nan_count": 0,
          "categories": [
           {
            "name": "IndiGo",
            "count": 1
           },
           {
            "name": "Air India",
            "count": 1
           }
          ]
         }
        },
        {
         "name": "Source",
         "dtype": "object",
         "stats": {
          "unique_count": 2,
          "nan_count": 0,
          "categories": [
           {
            "name": "Banglore",
            "count": 1
           },
           {
            "name": "Kolkata",
            "count": 1
           }
          ]
         }
        },
        {
         "name": "Destination",
         "dtype": "object",
         "stats": {
          "unique_count": 2,
          "nan_count": 0,
          "categories": [
           {
            "name": "New Delhi",
            "count": 1
           },
           {
            "name": "Banglore",
            "count": 1
           }
          ]
         }
        },
        {
         "name": "Route",
         "dtype": "object",
         "stats": {
          "unique_count": 2,
          "nan_count": 0,
          "categories": [
           {
            "name": "BLR ? DEL",
            "count": 1
           },
           {
            "name": "CCU ? IXR ? BBI ? BLR",
            "count": 1
           }
          ]
         }
        },
        {
         "name": "Arrival_Time",
         "dtype": "datetime64[ns]",
         "stats": {
          "unique_count": 2,
          "nan_count": 0,
          "min": "2022-03-22 01:10:00",
          "max": "2022-08-19 13:15:00",
          "histogram": [
           {
            "bin_start": 1647911400000000000,
            "bin_end": 1649211750000000000,
            "count": 1
           },
           {
            "bin_start": 1649211750000000000,
            "bin_end": 1650512100000000000,
            "count": 0
           },
           {
            "bin_start": 1650512100000000000,
            "bin_end": 1651812450000000000,
            "count": 0
           },
           {
            "bin_start": 1651812450000000000,
            "bin_end": 1653112800000000000,
            "count": 0
           },
           {
            "bin_start": 1653112800000000000,
            "bin_end": 1654413150000000000,
            "count": 0
           },
           {
            "bin_start": 1654413150000000000,
            "bin_end": 1655713500000000000,
            "count": 0
           },
           {
            "bin_start": 1655713500000000000,
            "bin_end": 1657013850000000000,
            "count": 0
           },
           {
            "bin_start": 1657013850000000000,
            "bin_end": 1658314200000000000,
            "count": 0
           },
           {
            "bin_start": 1658314200000000000,
            "bin_end": 1659614550000000000,
            "count": 0
           },
           {
            "bin_start": 1659614550000000000,
            "bin_end": 1660914900000000000,
            "count": 1
           }
          ]
         }
        },
        {
         "name": "Duration",
         "dtype": "object",
         "stats": {
          "unique_count": 2,
          "nan_count": 0,
          "categories": [
           {
            "name": "2h 50m",
            "count": 1
           },
           {
            "name": "7h 25m",
            "count": 1
           }
          ]
         }
        },
        {
         "name": "Total_Stops",
         "dtype": "object",
         "stats": {
          "unique_count": 2,
          "nan_count": 0,
          "categories": [
           {
            "name": "non-stop",
            "count": 1
           },
           {
            "name": "2 stops",
            "count": 1
           }
          ]
         }
        },
        {
         "name": "Additional_Info",
         "dtype": "object",
         "stats": {
          "unique_count": 1,
          "nan_count": 0,
          "categories": [
           {
            "name": "No info",
            "count": 2
           }
          ]
         }
        },
        {
         "name": "Price",
         "dtype": "int64",
         "stats": {
          "unique_count": 2,
          "nan_count": 0,
          "min": "3897",
          "max": "7662",
          "histogram": [
           {
            "bin_start": 3897,
            "bin_end": 4273.5,
            "count": 1
           },
           {
            "bin_start": 4273.5,
            "bin_end": 4650,
            "count": 0
           },
           {
            "bin_start": 4650,
            "bin_end": 5026.5,
            "count": 0
           },
           {
            "bin_start": 5026.5,
            "bin_end": 5403,
            "count": 0
           },
           {
            "bin_start": 5403,
            "bin_end": 5779.5,
            "count": 0
           },
           {
            "bin_start": 5779.5,
            "bin_end": 6156,
            "count": 0
           },
           {
            "bin_start": 6156,
            "bin_end": 6532.5,
            "count": 0
           },
           {
            "bin_start": 6532.5,
            "bin_end": 6909,
            "count": 0
           },
           {
            "bin_start": 6909,
            "bin_end": 7285.5,
            "count": 0
           },
           {
            "bin_start": 7285.5,
            "bin_end": 7662,
            "count": 1
           }
          ]
         }
        },
        {
         "name": "journey_day",
         "dtype": "int64",
         "stats": {
          "unique_count": 2,
          "nan_count": 0,
          "min": "5",
          "max": "24",
          "histogram": [
           {
            "bin_start": 5,
            "bin_end": 6.9,
            "count": 1
           },
           {
            "bin_start": 6.9,
            "bin_end": 8.8,
            "count": 0
           },
           {
            "bin_start": 8.8,
            "bin_end": 10.7,
            "count": 0
           },
           {
            "bin_start": 10.7,
            "bin_end": 12.6,
            "count": 0
           },
           {
            "bin_start": 12.6,
            "bin_end": 14.5,
            "count": 0
           },
           {
            "bin_start": 14.5,
            "bin_end": 16.4,
            "count": 0
           },
           {
            "bin_start": 16.4,
            "bin_end": 18.299999999999997,
            "count": 0
           },
           {
            "bin_start": 18.299999999999997,
            "bin_end": 20.2,
            "count": 0
           },
           {
            "bin_start": 20.2,
            "bin_end": 22.099999999999998,
            "count": 0
           },
           {
            "bin_start": 22.099999999999998,
            "bin_end": 24,
            "count": 1
           }
          ]
         }
        },
        {
         "name": "journey_month",
         "dtype": "int64",
         "stats": {
          "unique_count": 2,
          "nan_count": 0,
          "min": "1",
          "max": "3",
          "histogram": [
           {
            "bin_start": 1,
            "bin_end": 1.2,
            "count": 1
           },
           {
            "bin_start": 1.2,
            "bin_end": 1.4,
            "count": 0
           },
           {
            "bin_start": 1.4,
            "bin_end": 1.6,
            "count": 0
           },
           {
            "bin_start": 1.6,
            "bin_end": 1.8,
            "count": 0
           },
           {
            "bin_start": 1.8,
            "bin_end": 2,
            "count": 0
           },
           {
            "bin_start": 2,
            "bin_end": 2.2,
            "count": 0
           },
           {
            "bin_start": 2.2,
            "bin_end": 2.4000000000000004,
            "count": 0
           },
           {
            "bin_start": 2.4000000000000004,
            "bin_end": 2.6,
            "count": 0
           },
           {
            "bin_start": 2.6,
            "bin_end": 2.8,
            "count": 0
           },
           {
            "bin_start": 2.8,
            "bin_end": 3,
            "count": 1
           }
          ]
         }
        },
        {
         "name": "journey_year",
         "dtype": "int64",
         "stats": {
          "unique_count": 1,
          "nan_count": 0,
          "min": "2019",
          "max": "2019",
          "histogram": [
           {
            "bin_start": 2018.5,
            "bin_end": 2018.6,
            "count": 0
           },
           {
            "bin_start": 2018.6,
            "bin_end": 2018.7,
            "count": 0
           },
           {
            "bin_start": 2018.7,
            "bin_end": 2018.8,
            "count": 0
           },
           {
            "bin_start": 2018.8,
            "bin_end": 2018.9,
            "count": 0
           },
           {
            "bin_start": 2018.9,
            "bin_end": 2019,
            "count": 0
           },
           {
            "bin_start": 2019,
            "bin_end": 2019.1,
            "count": 2
           },
           {
            "bin_start": 2019.1,
            "bin_end": 2019.2,
            "count": 0
           },
           {
            "bin_start": 2019.2,
            "bin_end": 2019.3,
            "count": 0
           },
           {
            "bin_start": 2019.3,
            "bin_end": 2019.4,
            "count": 0
           },
           {
            "bin_start": 2019.4,
            "bin_end": 2019.5,
            "count": 0
           }
          ]
         }
        },
        {
         "name": "Dep_Time_hour",
         "dtype": "int64",
         "stats": {
          "unique_count": 2,
          "nan_count": 0,
          "min": "5",
          "max": "22",
          "histogram": [
           {
            "bin_start": 5,
            "bin_end": 6.7,
            "count": 1
           },
           {
            "bin_start": 6.7,
            "bin_end": 8.4,
            "count": 0
           },
           {
            "bin_start": 8.4,
            "bin_end": 10.1,
            "count": 0
           },
           {
            "bin_start": 10.1,
            "bin_end": 11.8,
            "count": 0
           },
           {
            "bin_start": 11.8,
            "bin_end": 13.5,
            "count": 0
           },
           {
            "bin_start": 13.5,
            "bin_end": 15.2,
            "count": 0
           },
           {
            "bin_start": 15.2,
            "bin_end": 16.9,
            "count": 0
           },
           {
            "bin_start": 16.9,
            "bin_end": 18.6,
            "count": 0
           },
           {
            "bin_start": 18.6,
            "bin_end": 20.299999999999997,
            "count": 0
           },
           {
            "bin_start": 20.299999999999997,
            "bin_end": 22,
            "count": 1
           }
          ]
         }
        },
        {
         "name": "Dep_Time_minute",
         "dtype": "int64",
         "stats": {
          "unique_count": 2,
          "nan_count": 0,
          "min": "20",
          "max": "50",
          "histogram": [
           {
            "bin_start": 20,
            "bin_end": 23,
            "count": 1
           },
           {
            "bin_start": 23,
            "bin_end": 26,
            "count": 0
           },
           {
            "bin_start": 26,
            "bin_end": 29,
            "count": 0
           },
           {
            "bin_start": 29,
            "bin_end": 32,
            "count": 0
           },
           {
            "bin_start": 32,
            "bin_end": 35,
            "count": 0
           },
           {
            "bin_start": 35,
            "bin_end": 38,
            "count": 0
           },
           {
            "bin_start": 38,
            "bin_end": 41,
            "count": 0
           },
           {
            "bin_start": 41,
            "bin_end": 44,
            "count": 0
           },
           {
            "bin_start": 44,
            "bin_end": 47,
            "count": 0
           },
           {
            "bin_start": 47,
            "bin_end": 50,
            "count": 1
           }
          ]
         }
        },
        {
         "name": "_deepnote_index_column",
         "dtype": "int64"
        }
       ],
       "rows": [
        {
         "Airline": "IndiGo",
         "Source": "Banglore",
         "Destination": "New Delhi",
         "Route": "BLR ? DEL",
         "Arrival_Time": "2022-03-22T01:10:00Z",
         "Duration": "2h 50m",
         "Total_Stops": "non-stop",
         "Additional_Info": "No info",
         "Price": 3897,
         "journey_day": 24,
         "journey_month": 3,
         "journey_year": 2019,
         "Dep_Time_hour": 22,
         "Dep_Time_minute": 20,
         "_deepnote_index_column": 0
        },
        {
         "Airline": "Air India",
         "Source": "Kolkata",
         "Destination": "Banglore",
         "Route": "CCU ? IXR ? BBI ? BLR",
         "Arrival_Time": "2022-08-19T13:15:00Z",
         "Duration": "7h 25m",
         "Total_Stops": "2 stops",
         "Additional_Info": "No info",
         "Price": 7662,
         "journey_day": 5,
         "journey_month": 1,
         "journey_year": 2019,
         "Dep_Time_hour": 5,
         "Dep_Time_minute": 50,
         "_deepnote_index_column": 1
        }
       ]
      },
      "text/plain": "     Airline    Source Destination                  Route        Arrival_Time  \\\n0     IndiGo  Banglore   New Delhi              BLR ? DEL 2022-03-22 01:10:00   \n1  Air India   Kolkata    Banglore  CCU ? IXR ? BBI ? BLR 2022-08-19 13:15:00   \n\n  Duration Total_Stops Additional_Info  Price  journey_day  journey_month  \\\n0   2h 50m    non-stop         No info   3897           24              3   \n1   7h 25m     2 stops         No info   7662            5              1   \n\n   journey_year  Dep_Time_hour  Dep_Time_minute  \n0          2019             22               20  \n1          2019              5               50  ",
      "text/html": "<div>\n<style scoped>\n    .dataframe tbody tr th:only-of-type {\n        vertical-align: middle;\n    }\n\n    .dataframe tbody tr th {\n        vertical-align: top;\n    }\n\n    .dataframe thead th {\n        text-align: right;\n    }\n</style>\n<table border=\"1\" class=\"dataframe\">\n  <thead>\n    <tr style=\"text-align: right;\">\n      <th></th>\n      <th>Airline</th>\n      <th>Source</th>\n      <th>Destination</th>\n      <th>Route</th>\n      <th>Arrival_Time</th>\n      <th>Duration</th>\n      <th>Total_Stops</th>\n      <th>Additional_Info</th>\n      <th>Price</th>\n      <th>journey_day</th>\n      <th>journey_month</th>\n      <th>journey_year</th>\n      <th>Dep_Time_hour</th>\n      <th>Dep_Time_minute</th>\n    </tr>\n  </thead>\n  <tbody>\n    <tr>\n      <th>0</th>\n      <td>IndiGo</td>\n      <td>Banglore</td>\n      <td>New Delhi</td>\n      <td>BLR ? DEL</td>\n      <td>2022-03-22 01:10:00</td>\n      <td>2h 50m</td>\n      <td>non-stop</td>\n      <td>No info</td>\n      <td>3897</td>\n      <td>24</td>\n      <td>3</td>\n      <td>2019</td>\n      <td>22</td>\n      <td>20</td>\n    </tr>\n    <tr>\n      <th>1</th>\n      <td>Air India</td>\n      <td>Kolkata</td>\n      <td>Banglore</td>\n      <td>CCU ? IXR ? BBI ? BLR</td>\n      <td>2022-08-19 13:15:00</td>\n      <td>7h 25m</td>\n      <td>2 stops</td>\n      <td>No info</td>\n      <td>7662</td>\n      <td>5</td>\n      <td>1</td>\n      <td>2019</td>\n      <td>5</td>\n      <td>50</td>\n    </tr>\n  </tbody>\n</table>\n</div>"
     },
     "metadata": {}
    }
   ]
  },
  {
   "cell_type": "markdown",
   "source": "**lets Featurize 'Arrival_Time'**",
   "metadata": {
    "cell_id": "8a296c0bcd6a4d77b16f58da3c0a3165",
    "tags": [],
    "deepnote_cell_type": "markdown",
    "deepnote_cell_height": 52.390625
   }
  },
  {
   "cell_type": "code",
   "metadata": {
    "cell_id": "00054-4736c78a-7726-4fb9-94ea-71ce275b4419",
    "deepnote_to_be_reexecuted": false,
    "source_hash": "f3e90c43",
    "execution_start": 1660916804708,
    "execution_millis": 371,
    "deepnote_cell_type": "code",
    "deepnote_cell_height": 283.796875
   },
   "source": "extract_hour_min(data,'Arrival_Time')",
   "execution_count": 29,
   "outputs": [
    {
     "output_type": "execute_result",
     "execution_count": 29,
     "data": {
      "application/vnd.deepnote.dataframe.v3+json": {
       "column_count": 15,
       "row_count": 2,
       "columns": [
        {
         "name": "Airline",
         "dtype": "object",
         "stats": {
          "unique_count": 2,
          "nan_count": 0,
          "categories": [
           {
            "name": "IndiGo",
            "count": 1
           },
           {
            "name": "Air India",
            "count": 1
           }
          ]
         }
        },
        {
         "name": "Source",
         "dtype": "object",
         "stats": {
          "unique_count": 2,
          "nan_count": 0,
          "categories": [
           {
            "name": "Banglore",
            "count": 1
           },
           {
            "name": "Kolkata",
            "count": 1
           }
          ]
         }
        },
        {
         "name": "Destination",
         "dtype": "object",
         "stats": {
          "unique_count": 2,
          "nan_count": 0,
          "categories": [
           {
            "name": "New Delhi",
            "count": 1
           },
           {
            "name": "Banglore",
            "count": 1
           }
          ]
         }
        },
        {
         "name": "Route",
         "dtype": "object",
         "stats": {
          "unique_count": 2,
          "nan_count": 0,
          "categories": [
           {
            "name": "BLR ? DEL",
            "count": 1
           },
           {
            "name": "CCU ? IXR ? BBI ? BLR",
            "count": 1
           }
          ]
         }
        },
        {
         "name": "Duration",
         "dtype": "object",
         "stats": {
          "unique_count": 2,
          "nan_count": 0,
          "categories": [
           {
            "name": "2h 50m",
            "count": 1
           },
           {
            "name": "7h 25m",
            "count": 1
           }
          ]
         }
        },
        {
         "name": "Total_Stops",
         "dtype": "object",
         "stats": {
          "unique_count": 2,
          "nan_count": 0,
          "categories": [
           {
            "name": "non-stop",
            "count": 1
           },
           {
            "name": "2 stops",
            "count": 1
           }
          ]
         }
        },
        {
         "name": "Additional_Info",
         "dtype": "object",
         "stats": {
          "unique_count": 1,
          "nan_count": 0,
          "categories": [
           {
            "name": "No info",
            "count": 2
           }
          ]
         }
        },
        {
         "name": "Price",
         "dtype": "int64",
         "stats": {
          "unique_count": 2,
          "nan_count": 0,
          "min": "3897",
          "max": "7662",
          "histogram": [
           {
            "bin_start": 3897,
            "bin_end": 4273.5,
            "count": 1
           },
           {
            "bin_start": 4273.5,
            "bin_end": 4650,
            "count": 0
           },
           {
            "bin_start": 4650,
            "bin_end": 5026.5,
            "count": 0
           },
           {
            "bin_start": 5026.5,
            "bin_end": 5403,
            "count": 0
           },
           {
            "bin_start": 5403,
            "bin_end": 5779.5,
            "count": 0
           },
           {
            "bin_start": 5779.5,
            "bin_end": 6156,
            "count": 0
           },
           {
            "bin_start": 6156,
            "bin_end": 6532.5,
            "count": 0
           },
           {
            "bin_start": 6532.5,
            "bin_end": 6909,
            "count": 0
           },
           {
            "bin_start": 6909,
            "bin_end": 7285.5,
            "count": 0
           },
           {
            "bin_start": 7285.5,
            "bin_end": 7662,
            "count": 1
           }
          ]
         }
        },
        {
         "name": "journey_day",
         "dtype": "int64",
         "stats": {
          "unique_count": 2,
          "nan_count": 0,
          "min": "5",
          "max": "24",
          "histogram": [
           {
            "bin_start": 5,
            "bin_end": 6.9,
            "count": 1
           },
           {
            "bin_start": 6.9,
            "bin_end": 8.8,
            "count": 0
           },
           {
            "bin_start": 8.8,
            "bin_end": 10.7,
            "count": 0
           },
           {
            "bin_start": 10.7,
            "bin_end": 12.6,
            "count": 0
           },
           {
            "bin_start": 12.6,
            "bin_end": 14.5,
            "count": 0
           },
           {
            "bin_start": 14.5,
            "bin_end": 16.4,
            "count": 0
           },
           {
            "bin_start": 16.4,
            "bin_end": 18.299999999999997,
            "count": 0
           },
           {
            "bin_start": 18.299999999999997,
            "bin_end": 20.2,
            "count": 0
           },
           {
            "bin_start": 20.2,
            "bin_end": 22.099999999999998,
            "count": 0
           },
           {
            "bin_start": 22.099999999999998,
            "bin_end": 24,
            "count": 1
           }
          ]
         }
        },
        {
         "name": "journey_month",
         "dtype": "int64",
         "stats": {
          "unique_count": 2,
          "nan_count": 0,
          "min": "1",
          "max": "3",
          "histogram": [
           {
            "bin_start": 1,
            "bin_end": 1.2,
            "count": 1
           },
           {
            "bin_start": 1.2,
            "bin_end": 1.4,
            "count": 0
           },
           {
            "bin_start": 1.4,
            "bin_end": 1.6,
            "count": 0
           },
           {
            "bin_start": 1.6,
            "bin_end": 1.8,
            "count": 0
           },
           {
            "bin_start": 1.8,
            "bin_end": 2,
            "count": 0
           },
           {
            "bin_start": 2,
            "bin_end": 2.2,
            "count": 0
           },
           {
            "bin_start": 2.2,
            "bin_end": 2.4000000000000004,
            "count": 0
           },
           {
            "bin_start": 2.4000000000000004,
            "bin_end": 2.6,
            "count": 0
           },
           {
            "bin_start": 2.6,
            "bin_end": 2.8,
            "count": 0
           },
           {
            "bin_start": 2.8,
            "bin_end": 3,
            "count": 1
           }
          ]
         }
        },
        {
         "name": "journey_year",
         "dtype": "int64",
         "stats": {
          "unique_count": 1,
          "nan_count": 0,
          "min": "2019",
          "max": "2019",
          "histogram": [
           {
            "bin_start": 2018.5,
            "bin_end": 2018.6,
            "count": 0
           },
           {
            "bin_start": 2018.6,
            "bin_end": 2018.7,
            "count": 0
           },
           {
            "bin_start": 2018.7,
            "bin_end": 2018.8,
            "count": 0
           },
           {
            "bin_start": 2018.8,
            "bin_end": 2018.9,
            "count": 0
           },
           {
            "bin_start": 2018.9,
            "bin_end": 2019,
            "count": 0
           },
           {
            "bin_start": 2019,
            "bin_end": 2019.1,
            "count": 2
           },
           {
            "bin_start": 2019.1,
            "bin_end": 2019.2,
            "count": 0
           },
           {
            "bin_start": 2019.2,
            "bin_end": 2019.3,
            "count": 0
           },
           {
            "bin_start": 2019.3,
            "bin_end": 2019.4,
            "count": 0
           },
           {
            "bin_start": 2019.4,
            "bin_end": 2019.5,
            "count": 0
           }
          ]
         }
        },
        {
         "name": "Dep_Time_hour",
         "dtype": "int64",
         "stats": {
          "unique_count": 2,
          "nan_count": 0,
          "min": "5",
          "max": "22",
          "histogram": [
           {
            "bin_start": 5,
            "bin_end": 6.7,
            "count": 1
           },
           {
            "bin_start": 6.7,
            "bin_end": 8.4,
            "count": 0
           },
           {
            "bin_start": 8.4,
            "bin_end": 10.1,
            "count": 0
           },
           {
            "bin_start": 10.1,
            "bin_end": 11.8,
            "count": 0
           },
           {
            "bin_start": 11.8,
            "bin_end": 13.5,
            "count": 0
           },
           {
            "bin_start": 13.5,
            "bin_end": 15.2,
            "count": 0
           },
           {
            "bin_start": 15.2,
            "bin_end": 16.9,
            "count": 0
           },
           {
            "bin_start": 16.9,
            "bin_end": 18.6,
            "count": 0
           },
           {
            "bin_start": 18.6,
            "bin_end": 20.299999999999997,
            "count": 0
           },
           {
            "bin_start": 20.299999999999997,
            "bin_end": 22,
            "count": 1
           }
          ]
         }
        },
        {
         "name": "Dep_Time_minute",
         "dtype": "int64",
         "stats": {
          "unique_count": 2,
          "nan_count": 0,
          "min": "20",
          "max": "50",
          "histogram": [
           {
            "bin_start": 20,
            "bin_end": 23,
            "count": 1
           },
           {
            "bin_start": 23,
            "bin_end": 26,
            "count": 0
           },
           {
            "bin_start": 26,
            "bin_end": 29,
            "count": 0
           },
           {
            "bin_start": 29,
            "bin_end": 32,
            "count": 0
           },
           {
            "bin_start": 32,
            "bin_end": 35,
            "count": 0
           },
           {
            "bin_start": 35,
            "bin_end": 38,
            "count": 0
           },
           {
            "bin_start": 38,
            "bin_end": 41,
            "count": 0
           },
           {
            "bin_start": 41,
            "bin_end": 44,
            "count": 0
           },
           {
            "bin_start": 44,
            "bin_end": 47,
            "count": 0
           },
           {
            "bin_start": 47,
            "bin_end": 50,
            "count": 1
           }
          ]
         }
        },
        {
         "name": "Arrival_Time_hour",
         "dtype": "int64",
         "stats": {
          "unique_count": 2,
          "nan_count": 0,
          "min": "1",
          "max": "13",
          "histogram": [
           {
            "bin_start": 1,
            "bin_end": 2.2,
            "count": 1
           },
           {
            "bin_start": 2.2,
            "bin_end": 3.4,
            "count": 0
           },
           {
            "bin_start": 3.4,
            "bin_end": 4.6,
            "count": 0
           },
           {
            "bin_start": 4.6,
            "bin_end": 5.8,
            "count": 0
           },
           {
            "bin_start": 5.8,
            "bin_end": 7,
            "count": 0
           },
           {
            "bin_start": 7,
            "bin_end": 8.2,
            "count": 0
           },
           {
            "bin_start": 8.2,
            "bin_end": 9.4,
            "count": 0
           },
           {
            "bin_start": 9.4,
            "bin_end": 10.6,
            "count": 0
           },
           {
            "bin_start": 10.6,
            "bin_end": 11.799999999999999,
            "count": 0
           },
           {
            "bin_start": 11.799999999999999,
            "bin_end": 13,
            "count": 1
           }
          ]
         }
        },
        {
         "name": "Arrival_Time_minute",
         "dtype": "int64",
         "stats": {
          "unique_count": 2,
          "nan_count": 0,
          "min": "10",
          "max": "15",
          "histogram": [
           {
            "bin_start": 10,
            "bin_end": 10.5,
            "count": 1
           },
           {
            "bin_start": 10.5,
            "bin_end": 11,
            "count": 0
           },
           {
            "bin_start": 11,
            "bin_end": 11.5,
            "count": 0
           },
           {
            "bin_start": 11.5,
            "bin_end": 12,
            "count": 0
           },
           {
            "bin_start": 12,
            "bin_end": 12.5,
            "count": 0
           },
           {
            "bin_start": 12.5,
            "bin_end": 13,
            "count": 0
           },
           {
            "bin_start": 13,
            "bin_end": 13.5,
            "count": 0
           },
           {
            "bin_start": 13.5,
            "bin_end": 14,
            "count": 0
           },
           {
            "bin_start": 14,
            "bin_end": 14.5,
            "count": 0
           },
           {
            "bin_start": 14.5,
            "bin_end": 15,
            "count": 1
           }
          ]
         }
        },
        {
         "name": "_deepnote_index_column",
         "dtype": "int64"
        }
       ],
       "rows": [
        {
         "Airline": "IndiGo",
         "Source": "Banglore",
         "Destination": "New Delhi",
         "Route": "BLR ? DEL",
         "Duration": "2h 50m",
         "Total_Stops": "non-stop",
         "Additional_Info": "No info",
         "Price": 3897,
         "journey_day": 24,
         "journey_month": 3,
         "journey_year": 2019,
         "Dep_Time_hour": 22,
         "Dep_Time_minute": 20,
         "Arrival_Time_hour": 1,
         "Arrival_Time_minute": 10,
         "_deepnote_index_column": 0
        },
        {
         "Airline": "Air India",
         "Source": "Kolkata",
         "Destination": "Banglore",
         "Route": "CCU ? IXR ? BBI ? BLR",
         "Duration": "7h 25m",
         "Total_Stops": "2 stops",
         "Additional_Info": "No info",
         "Price": 7662,
         "journey_day": 5,
         "journey_month": 1,
         "journey_year": 2019,
         "Dep_Time_hour": 5,
         "Dep_Time_minute": 50,
         "Arrival_Time_hour": 13,
         "Arrival_Time_minute": 15,
         "_deepnote_index_column": 1
        }
       ]
      },
      "text/plain": "     Airline    Source Destination                  Route Duration  \\\n0     IndiGo  Banglore   New Delhi              BLR ? DEL   2h 50m   \n1  Air India   Kolkata    Banglore  CCU ? IXR ? BBI ? BLR   7h 25m   \n\n  Total_Stops Additional_Info  Price  journey_day  journey_month  \\\n0    non-stop         No info   3897           24              3   \n1     2 stops         No info   7662            5              1   \n\n   journey_year  Dep_Time_hour  Dep_Time_minute  Arrival_Time_hour  \\\n0          2019             22               20                  1   \n1          2019              5               50                 13   \n\n   Arrival_Time_minute  \n0                   10  \n1                   15  ",
      "text/html": "<div>\n<style scoped>\n    .dataframe tbody tr th:only-of-type {\n        vertical-align: middle;\n    }\n\n    .dataframe tbody tr th {\n        vertical-align: top;\n    }\n\n    .dataframe thead th {\n        text-align: right;\n    }\n</style>\n<table border=\"1\" class=\"dataframe\">\n  <thead>\n    <tr style=\"text-align: right;\">\n      <th></th>\n      <th>Airline</th>\n      <th>Source</th>\n      <th>Destination</th>\n      <th>Route</th>\n      <th>Duration</th>\n      <th>Total_Stops</th>\n      <th>Additional_Info</th>\n      <th>Price</th>\n      <th>journey_day</th>\n      <th>journey_month</th>\n      <th>journey_year</th>\n      <th>Dep_Time_hour</th>\n      <th>Dep_Time_minute</th>\n      <th>Arrival_Time_hour</th>\n      <th>Arrival_Time_minute</th>\n    </tr>\n  </thead>\n  <tbody>\n    <tr>\n      <th>0</th>\n      <td>IndiGo</td>\n      <td>Banglore</td>\n      <td>New Delhi</td>\n      <td>BLR ? DEL</td>\n      <td>2h 50m</td>\n      <td>non-stop</td>\n      <td>No info</td>\n      <td>3897</td>\n      <td>24</td>\n      <td>3</td>\n      <td>2019</td>\n      <td>22</td>\n      <td>20</td>\n      <td>1</td>\n      <td>10</td>\n    </tr>\n    <tr>\n      <th>1</th>\n      <td>Air India</td>\n      <td>Kolkata</td>\n      <td>Banglore</td>\n      <td>CCU ? IXR ? BBI ? BLR</td>\n      <td>7h 25m</td>\n      <td>2 stops</td>\n      <td>No info</td>\n      <td>7662</td>\n      <td>5</td>\n      <td>1</td>\n      <td>2019</td>\n      <td>5</td>\n      <td>50</td>\n      <td>13</td>\n      <td>15</td>\n    </tr>\n  </tbody>\n</table>\n</div>"
     },
     "metadata": {}
    }
   ]
  },
  {
   "cell_type": "code",
   "metadata": {
    "cell_id": "00059-3e9a3a57-0057-42b1-bc73-cbd72320e67e",
    "deepnote_to_be_reexecuted": false,
    "source_hash": "b623e53d",
    "execution_start": 1660916804773,
    "execution_millis": 3,
    "deepnote_cell_type": "code",
    "deepnote_cell_height": 76
   },
   "source": "",
   "execution_count": 29,
   "outputs": []
  },
  {
   "cell_type": "markdown",
   "source": "## lets analyse when will most of the flights will take-off",
   "metadata": {
    "cell_id": "00060-2cc578e2-fe58-4dd6-b6f2-6ef4eee9347d",
    "deepnote_cell_type": "markdown",
    "deepnote_cell_height": 70
   }
  },
  {
   "cell_type": "code",
   "metadata": {
    "cell_id": "00061-b87987bc-003a-48e9-87f3-48470dbffde7",
    "deepnote_to_be_reexecuted": false,
    "source_hash": "90a561f3",
    "execution_start": 1660916804797,
    "execution_millis": 20,
    "deepnote_cell_type": "code",
    "deepnote_cell_height": 472
   },
   "source": "### Converting the flight Dep_Time into proper time i.e. mid_night, morning, afternoon and evening.\n\ndef flight_dep_time(x):\n    '''\n    This function takes the flight Departure time \n    and convert into appropriate format.\n    '''\n    if ( x> 4) and (x<=8 ):\n        return 'Early mrng'\n    \n    elif ( x>8 ) and (x<=12 ):\n        return 'Morning'\n    \n    elif ( x>12 ) and (x<=16 ):\n        return 'Noon'\n    \n    elif ( x>16 ) and (x<=20 ):\n        return 'Evening'\n    \n    elif ( x>20 ) and (x<=24 ):\n        return 'Night'\n    else:\n        return 'Late night'",
   "execution_count": 30,
   "outputs": []
  },
  {
   "cell_type": "code",
   "metadata": {
    "cell_id": "00062-7e16fae6-52b1-4810-9b97-268bdd5ea74c",
    "deepnote_to_be_reexecuted": false,
    "source_hash": "ac75de8e",
    "execution_start": 1660916804818,
    "execution_millis": 452,
    "deepnote_cell_type": "code",
    "deepnote_cell_height": 439.1875,
    "deepnote_output_heights": [
     20.1875,
     296
    ]
   },
   "source": "data['Dep_Time_hour'].apply(flight_dep_time).value_counts().plot(kind='bar')",
   "execution_count": 31,
   "outputs": [
    {
     "output_type": "execute_result",
     "execution_count": 31,
     "data": {
      "text/plain": "<AxesSubplot:>"
     },
     "metadata": {}
    },
    {
     "data": {
      "text/plain": "<Figure size 432x288 with 1 Axes>",
      "image/png": "[encoded data removed]"
     },
     "metadata": {
      "needs_background": "light",
      "image/png": {
       "width": 381,
       "height": 295
      }
     },
     "output_type": "display_data"
    }
   ]
  },
  {
   "cell_type": "code",
   "metadata": {
    "cell_id": "00064-9cc9ddf9-2279-4126-8681-d468abb43e38",
    "deepnote_to_be_reexecuted": false,
    "source_hash": "b623e53d",
    "execution_start": 1660916805274,
    "execution_millis": 8,
    "deepnote_cell_type": "code",
    "deepnote_cell_height": 76
   },
   "source": "",
   "execution_count": 31,
   "outputs": []
  },
  {
   "cell_type": "code",
   "metadata": {
    "cell_id": "00065-6a935d27-1253-40ca-a847-fd04c7e40606",
    "deepnote_to_be_reexecuted": false,
    "source_hash": "b623e53d",
    "execution_start": 1660916805287,
    "execution_millis": 9,
    "deepnote_cell_type": "code",
    "deepnote_cell_height": 76
   },
   "source": "",
   "execution_count": 31,
   "outputs": []
  },
  {
   "cell_type": "markdown",
   "source": "## lets use Cufflinks & plotly to make your visuals more interactive !",
   "metadata": {
    "cell_id": "00066-b6e5fa50-9c20-4bf7-8ff7-2b7769230646",
    "deepnote_cell_type": "markdown",
    "deepnote_cell_height": 110
   }
  },
  {
   "cell_type": "code",
   "metadata": {
    "cell_id": "00067-e560d978-01d8-4451-9f3c-240c318a71f2",
    "deepnote_to_be_reexecuted": false,
    "source_hash": "ee576f8d",
    "execution_start": 1660916805319,
    "execution_millis": 11558,
    "deepnote_cell_type": "code",
    "deepnote_cell_height": 714
   },
   "source": " !pip install plotly\n !pip install cufflinks",
   "execution_count": 32,
   "outputs": [
    {
     "name": "stdout",
     "text": "Requirement already satisfied: plotly in /shared-libs/python3.9/py/lib/python3.9/site-packages (5.9.0)\nRequirement already satisfied: tenacity>=6.2.0 in /shared-libs/python3.9/py/lib/python3.9/site-packages (from plotly) (8.0.1)\n\u001b[33mWARNING: You are using pip version 22.0.4; however, version 22.2.2 is available.\nYou should consider upgrading via the '/root/venv/bin/python -m pip install --upgrade pip' command.\u001b[0m\u001b[33m\n\u001b[0mCollecting cufflinks\n  Downloading cufflinks-0.17.3.tar.gz (81 kB)\n\u001b[2K     \u001b[90m━━━━━━━━━━━━━━━━━━━━━━━━━━━━━━━━━━━━━━━━\u001b[0m \u001b[32m81.7/81.7 KB\u001b[0m \u001b[31m17.2 MB/s\u001b[0m eta \u001b[36m0:00:00\u001b[0m\n\u001b[?25h  Preparing metadata (setup.py) ... \u001b[?25ldone\n\u001b[?25hRequirement already satisfied: numpy>=1.9.2 in /shared-libs/python3.9/py/lib/python3.9/site-packages (from cufflinks) (1.23.1)\nRequirement already satisfied: pandas>=0.19.2 in /shared-libs/python3.9/py/lib/python3.9/site-packages (from cufflinks) (1.2.5)\nRequirement already satisfied: plotly>=4.1.1 in /shared-libs/python3.9/py/lib/python3.9/site-packages (from cufflinks) (5.9.0)\nRequirement already satisfied: six>=1.9.0 in /shared-libs/python3.9/py-core/lib/python3.9/site-packages (from cufflinks) (1.16.0)\nCollecting colorlover>=0.2.1\n  Downloading colorlover-0.3.0-py3-none-any.whl (8.9 kB)\nRequirement already satisfied: setuptools>=34.4.1 in /root/venv/lib/python3.9/site-packages (from cufflinks) (58.1.0)\nRequirement already satisfied: ipython>=5.3.0 in /shared-libs/python3.9/py-core/lib/python3.9/site-packages (from cufflinks) (8.4.0)\nCollecting ipywidgets>=7.0.0\n  Downloading ipywidgets-8.0.1-py3-none-any.whl (133 kB)\n\u001b[2K     \u001b[90m━━━━━━━━━━━━━━━━━━━━━━━━━━━━━━━━━━━━━━\u001b[0m \u001b[32m133.7/133.7 KB\u001b[0m \u001b[31m27.4 MB/s\u001b[0m eta \u001b[36m0:00:00\u001b[0m\n\u001b[?25hRequirement already satisfied: jedi>=0.16 in /shared-libs/python3.9/py-core/lib/python3.9/site-packages (from ipython>=5.3.0->cufflinks) (0.17.2)\nRequirement already satisfied: backcall in /shared-libs/python3.9/py-core/lib/python3.9/site-packages (from ipython>=5.3.0->cufflinks) (0.2.0)\nRequirement already satisfied: prompt-toolkit!=3.0.0,!=3.0.1,<3.1.0,>=2.0.0 in /shared-libs/python3.9/py-core/lib/python3.9/site-packages (from ipython>=5.3.0->cufflinks) (3.0.30)\nRequirement already satisfied: stack-data in /shared-libs/python3.9/py-core/lib/python3.9/site-packages (from ipython>=5.3.0->cufflinks) (0.3.0)\nRequirement already satisfied: decorator in /shared-libs/python3.9/py-core/lib/python3.9/site-packages (from ipython>=5.3.0->cufflinks) (5.1.1)\nRequirement already satisfied: pexpect>4.3 in /shared-libs/python3.9/py-core/lib/python3.9/site-packages (from ipython>=5.3.0->cufflinks) (4.8.0)\nRequirement already satisfied: matplotlib-inline in /shared-libs/python3.9/py-core/lib/python3.9/site-packages (from ipython>=5.3.0->cufflinks) (0.1.3)\nRequirement already satisfied: traitlets>=5 in /shared-libs/python3.9/py-core/lib/python3.9/site-packages (from ipython>=5.3.0->cufflinks) (5.3.0)\nRequirement already satisfied: pygments>=2.4.0 in /shared-libs/python3.9/py-core/lib/python3.9/site-packages (from ipython>=5.3.0->cufflinks) (2.12.0)\nRequirement already satisfied: pickleshare in /shared-libs/python3.9/py-core/lib/python3.9/site-packages (from ipython>=5.3.0->cufflinks) (0.7.5)\nCollecting jupyterlab-widgets~=3.0\n  Downloading jupyterlab_widgets-3.0.1-py3-none-any.whl (384 kB)\n\u001b[2K     \u001b[90m━━━━━━━━━━━━━━━━━━━━━━━━━━━━━━━━━━━━━━\u001b[0m \u001b[32m384.0/384.0 KB\u001b[0m \u001b[31m36.5 MB/s\u001b[0m eta \u001b[36m0:00:00\u001b[0m\n\u001b[?25hRequirement already satisfied: ipykernel>=4.5.1 in /shared-libs/python3.9/py-core/lib/python3.9/site-packages (from ipywidgets>=7.0.0->cufflinks) (6.15.1)\nCollecting widgetsnbextension~=4.0\n  Downloading widgetsnbextension-4.0.1-py3-none-any.whl (2.0 MB)\n\u001b[2K     \u001b[90m━━━━━━━━━━━━━━━━━━━━━━━━━━━━━━━━━━━━━━━━\u001b[0m \u001b[32m2.0/2.0 MB\u001b[0m \u001b[31m92.1 MB/s\u001b[0m eta \u001b[36m0:00:00\u001b[0m\n\u001b[?25hRequirement already satisfied: pytz>=2017.3 in /shared-libs/python3.9/py/lib/python3.9/site-packages (from pandas>=0.19.2->cufflinks) (2022.1)\nRequirement already satisfied: python-dateutil>=2.7.3 in /shared-libs/python3.9/py-core/lib/python3.9/site-packages (from pandas>=0.19.2->cufflinks) (2.8.2)\nRequirement already satisfied: tenacity>=6.2.0 in /shared-libs/python3.9/py/lib/python3.9/site-packages (from plotly>=4.1.1->cufflinks) (8.0.1)\nRequirement already satisfied: debugpy>=1.0 in /shared-libs/python3.9/py-core/lib/python3.9/site-packages (from ipykernel>=4.5.1->ipywidgets>=7.0.0->cufflinks) (1.6.2)\nRequirement already satisfied: nest-asyncio in /shared-libs/python3.9/py-core/lib/python3.9/site-packages (from ipykernel>=4.5.1->ipywidgets>=7.0.0->cufflinks) (1.5.5)\nRequirement already satisfied: psutil in /shared-libs/python3.9/py-core/lib/python3.9/site-packages (from ipykernel>=4.5.1->ipywidgets>=7.0.0->cufflinks) (5.9.1)\nRequirement already satisfied: tornado>=6.1 in /shared-libs/python3.9/py-core/lib/python3.9/site-packages (from ipykernel>=4.5.1->ipywidgets>=7.0.0->cufflinks) (6.2)\nRequirement already satisfied: packaging in /shared-libs/python3.9/py-core/lib/python3.9/site-packages (from ipykernel>=4.5.1->ipywidgets>=7.0.0->cufflinks) (21.3)\nRequirement already satisfied: pyzmq>=17 in /shared-libs/python3.9/py-core/lib/python3.9/site-packages (from ipykernel>=4.5.1->ipywidgets>=7.0.0->cufflinks) (23.2.0)\nRequirement already satisfied: jupyter-client>=6.1.12 in /shared-libs/python3.9/py-core/lib/python3.9/site-packages (from ipykernel>=4.5.1->ipywidgets>=7.0.0->cufflinks) (7.3.4)\nRequirement already satisfied: parso<0.8.0,>=0.7.0 in /shared-libs/python3.9/py-core/lib/python3.9/site-packages (from jedi>=0.16->ipython>=5.3.0->cufflinks) (0.7.1)\nRequirement already satisfied: ptyprocess>=0.5 in /shared-libs/python3.9/py-core/lib/python3.9/site-packages (from pexpect>4.3->ipython>=5.3.0->cufflinks) (0.7.0)\nRequirement already satisfied: wcwidth in /shared-libs/python3.9/py-core/lib/python3.9/site-packages (from prompt-toolkit!=3.0.0,!=3.0.1,<3.1.0,>=2.0.0->ipython>=5.3.0->cufflinks) (0.2.5)\nRequirement already satisfied: pure-eval in /shared-libs/python3.9/py-core/lib/python3.9/site-packages (from stack-data->ipython>=5.3.0->cufflinks) (0.2.2)\nRequirement already satisfied: executing in /shared-libs/python3.9/py-core/lib/python3.9/site-packages (from stack-data->ipython>=5.3.0->cufflinks) (0.9.1)\nRequirement already satisfied: asttokens in /shared-libs/python3.9/py-core/lib/python3.9/site-packages (from stack-data->ipython>=5.3.0->cufflinks) (2.0.5)\nRequirement already satisfied: entrypoints in /shared-libs/python3.9/py-core/lib/python3.9/site-packages (from jupyter-client>=6.1.12->ipykernel>=4.5.1->ipywidgets>=7.0.0->cufflinks) (0.4)\nRequirement already satisfied: jupyter-core>=4.9.2 in /shared-libs/python3.9/py-core/lib/python3.9/site-packages (from jupyter-client>=6.1.12->ipykernel>=4.5.1->ipywidgets>=7.0.0->cufflinks) (4.11.1)\nRequirement already satisfied: pyparsing!=3.0.5,>=2.0.2 in /shared-libs/python3.9/py-core/lib/python3.9/site-packages (from packaging->ipykernel>=4.5.1->ipywidgets>=7.0.0->cufflinks) (3.0.9)\nBuilding wheels for collected packages: cufflinks\n  Building wheel for cufflinks (setup.py) ... \u001b[?25ldone\n\u001b[?25h  Created wheel for cufflinks: filename=cufflinks-0.17.3-py3-none-any.whl size=67918 sha256=892a9c7d0f83698f40e17c6183603d4408934c4cb79ae26f37fd194767e0f5f3\n  Stored in directory: /root/.cache/pip/wheels/29/b4/f8/2fd2206eeeba6ccad8167e4e8894b8c4ec27bf1342037fd136\nSuccessfully built cufflinks\nInstalling collected packages: colorlover, widgetsnbextension, jupyterlab-widgets, ipywidgets, cufflinks\nSuccessfully installed colorlover-0.3.0 cufflinks-0.17.3 ipywidgets-8.0.1 jupyterlab-widgets-3.0.1 widgetsnbextension-4.0.1\n\u001b[33mWARNING: You are using pip version 22.0.4; however, version 22.2.2 is available.\nYou should consider upgrading via the '/root/venv/bin/python -m pip install --upgrade pip' command.\u001b[0m\u001b[33m\n\u001b[0m",
     "output_type": "stream"
    }
   ]
  },
  {
   "cell_type": "code",
   "metadata": {
    "cell_id": "00068-158293c9-b489-4e70-9912-f992531b8f03",
    "deepnote_to_be_reexecuted": false,
    "source_hash": "3f9c82e2",
    "execution_start": 1660916816761,
    "execution_millis": 1060,
    "deepnote_cell_type": "code",
    "deepnote_cell_height": 211
   },
   "source": "## Lets use Plotly interactive plots directly with Pandas dataframes, but First u need below set-up !\n\nimport plotly\nimport cufflinks as cf\nfrom cufflinks.offline import go_offline\nfrom plotly.offline import download_plotlyjs,init_notebook_mode,plot,iplot",
   "execution_count": 33,
   "outputs": []
  },
  {
   "cell_type": "code",
   "metadata": {
    "cell_id": "00069-9e8614b9-d6ef-46d9-a13b-370ef96fe033",
    "deepnote_to_be_reexecuted": false,
    "source_hash": "ee22bf31",
    "execution_start": 1660916817825,
    "execution_millis": 173,
    "deepnote_cell_type": "code",
    "deepnote_cell_height": 93,
    "deepnote_output_heights": [
     1
    ]
   },
   "source": "cf.go_offline()",
   "execution_count": 34,
   "outputs": [
    {
     "data": {
      "text/html": "        <script type=\"text/javascript\">\n        window.PlotlyConfig = {MathJaxConfig: 'local'};\n        if (window.MathJax && window.MathJax.Hub && window.MathJax.Hub.Config) {window.MathJax.Hub.Config({SVG: {font: \"STIX-Web\"}});}\n        if (typeof require !== 'undefined') {\n        require.undef(\"plotly\");\n        requirejs.config({\n            paths: {\n                'plotly': ['https://cdn.plot.ly/plotly-2.12.1.min']\n            }\n        });\n        require(['plotly'], function(Plotly) {\n            window._Plotly = Plotly;\n        });\n        }\n        </script>\n        "
     },
     "metadata": {},
     "output_type": "display_data"
    }
   ]
  },
  {
   "cell_type": "code",
   "metadata": {
    "cell_id": "00070-dbee08cc-ccfc-4251-bfb1-795bdac2e52a",
    "deepnote_to_be_reexecuted": false,
    "source_hash": "147bbf3b",
    "execution_start": 1660916818049,
    "execution_millis": 1708,
    "deepnote_cell_type": "code",
    "deepnote_cell_height": 618,
    "deepnote_output_heights": [
     526
    ]
   },
   "source": "data['Dep_Time_hour'].apply(flight_dep_time).value_counts().iplot(kind='bar')",
   "execution_count": 35,
   "outputs": [
    {
     "data": {
      "application/vnd.plotly.v1+json": {
       "data": [
        {
         "marker": {
          "color": "rgba(255, 153, 51, 0.6)",
          "line": {
           "color": "rgba(255, 153, 51, 1.0)",
           "width": 1
          }
         },
         "name": "Dep_Time_hour",
         "orientation": "v",
         "text": "",
         "x": [
          "Early mrng",
          "Evening",
          "Morning",
          "Noon",
          "Night",
          "Late night"
         ],
         "y": [
          2880,
          2357,
          2209,
          1731,
          1040,
          465
         ],
         "type": "bar"
        }
       ],
       "layout": {
        "legend": {
         "bgcolor": "#F5F6F9",
         "font": {
          "color": "#4D5663"
         }
        },
        "paper_bgcolor": "#F5F6F9",
        "plot_bgcolor": "#F5F6F9",
        "template": {
         "data": {
          "barpolar": [
           {
            "marker": {
             "line": {
              "color": "#E5ECF6",
              "width": 0.5
             },
             "pattern": {
              "fillmode": "overlay",
              "size": 10,
              "solidity": 0.2
             }
            },
            "type": "barpolar"
           }
          ],
          "bar": [
           {
            "error_x": {
             "color": "#2a3f5f"
            },
            "error_y": {
             "color": "#2a3f5f"
            },
            "marker": {
             "line": {
              "color": "#E5ECF6",
              "width": 0.5
             },
             "pattern": {
              "fillmode": "overlay",
              "size": 10,
              "solidity": 0.2
             }
            },
            "type": "bar"
           }
          ],
          "carpet": [
           {
            "aaxis": {
             "endlinecolor": "#2a3f5f",
             "gridcolor": "white",
             "linecolor": "white",
             "minorgridcolor": "white",
             "startlinecolor": "#2a3f5f"
            },
            "baxis": {
             "endlinecolor": "#2a3f5f",
             "gridcolor": "white",
             "linecolor": "white",
             "minorgridcolor": "white",
             "startlinecolor": "#2a3f5f"
            },
            "type": "carpet"
           }
          ],
          "choropleth": [
           {
            "colorbar": {
             "outlinewidth": 0,
             "ticks": ""
            },
            "type": "choropleth"
           }
          ],
          "contourcarpet": [
           {
            "colorbar": {
             "outlinewidth": 0,
             "ticks": ""
            },
            "type": "contourcarpet"
           }
          ],
          "contour": [
           {
            "colorbar": {
             "outlinewidth": 0,
             "ticks": ""
            },
            "colorscale": [
             [
              0,
              "#0d0887"
             ],
             [
              0.1111111111111111,
              "#46039f"
             ],
             [
              0.2222222222222222,
              "#7201a8"
             ],
             [
              0.3333333333333333,
              "#9c179e"
             ],
             [
              0.4444444444444444,
              "#bd3786"
             ],
             [
              0.5555555555555556,
              "#d8576b"
             ],
             [
              0.6666666666666666,
              "#ed7953"
             ],
             [
              0.7777777777777778,
              "#fb9f3a"
             ],
             [
              0.8888888888888888,
              "#fdca26"
             ],
             [
              1,
              "#f0f921"
             ]
            ],
            "type": "contour"
           }
          ],
          "heatmapgl": [
           {
            "colorbar": {
             "outlinewidth": 0,
             "ticks": ""
            },
            "colorscale": [
             [
              0,
              "#0d0887"
             ],
             [
              0.1111111111111111,
              "#46039f"
             ],
             [
              0.2222222222222222,
              "#7201a8"
             ],
             [
              0.3333333333333333,
              "#9c179e"
             ],
             [
              0.4444444444444444,
              "#bd3786"
             ],
             [
              0.5555555555555556,
              "#d8576b"
             ],
             [
              0.6666666666666666,
              "#ed7953"
             ],
             [
              0.7777777777777778,
              "#fb9f3a"
             ],
             [
              0.8888888888888888,
              "#fdca26"
             ],
             [
              1,
              "#f0f921"
             ]
            ],
            "type": "heatmapgl"
           }
          ],
          "heatmap": [
           {
            "colorbar": {
             "outlinewidth": 0,
             "ticks": ""
            },
            "colorscale": [
             [
              0,
              "#0d0887"
             ],
             [
              0.1111111111111111,
              "#46039f"
             ],
             [
              0.2222222222222222,
              "#7201a8"
             ],
             [
              0.3333333333333333,
              "#9c179e"
             ],
             [
              0.4444444444444444,
              "#bd3786"
             ],
             [
              0.5555555555555556,
              "#d8576b"
             ],
             [
              0.6666666666666666,
              "#ed7953"
             ],
             [
              0.7777777777777778,
              "#fb9f3a"
             ],
             [
              0.8888888888888888,
              "#fdca26"
             ],
             [
              1,
              "#f0f921"
             ]
            ],
            "type": "heatmap"
           }
          ],
          "histogram2dcontour": [
           {
            "colorbar": {
             "outlinewidth": 0,
             "ticks": ""
            },
            "colorscale": [
             [
              0,
              "#0d0887"
             ],
             [
              0.1111111111111111,
              "#46039f"
             ],
             [
              0.2222222222222222,
              "#7201a8"
             ],
             [
              0.3333333333333333,
              "#9c179e"
             ],
             [
              0.4444444444444444,
              "#bd3786"
             ],
             [
              0.5555555555555556,
              "#d8576b"
             ],
             [
              0.6666666666666666,
              "#ed7953"
             ],
             [
              0.7777777777777778,
              "#fb9f3a"
             ],
             [
              0.8888888888888888,
              "#fdca26"
             ],
             [
              1,
              "#f0f921"
             ]
            ],
            "type": "histogram2dcontour"
           }
          ],
          "histogram2d": [
           {
            "colorbar": {
             "outlinewidth": 0,
             "ticks": ""
            },
            "colorscale": [
             [
              0,
              "#0d0887"
             ],
             [
              0.1111111111111111,
              "#46039f"
             ],
             [
              0.2222222222222222,
              "#7201a8"
             ],
             [
              0.3333333333333333,
              "#9c179e"
             ],
             [
              0.4444444444444444,
              "#bd3786"
             ],
             [
              0.5555555555555556,
              "#d8576b"
             ],
             [
              0.6666666666666666,
              "#ed7953"
             ],
             [
              0.7777777777777778,
              "#fb9f3a"
             ],
             [
              0.8888888888888888,
              "#fdca26"
             ],
             [
              1,
              "#f0f921"
             ]
            ],
            "type": "histogram2d"
           }
          ],
          "histogram": [
           {
            "marker": {
             "pattern": {
              "fillmode": "overlay",
              "size": 10,
              "solidity": 0.2
             }
            },
            "type": "histogram"
           }
          ],
          "mesh3d": [
           {
            "colorbar": {
             "outlinewidth": 0,
             "ticks": ""
            },
            "type": "mesh3d"
           }
          ],
          "parcoords": [
           {
            "line": {
             "colorbar": {
              "outlinewidth": 0,
              "ticks": ""
             }
            },
            "type": "parcoords"
           }
          ],
          "pie": [
           {
            "automargin": true,
            "type": "pie"
           }
          ],
          "scatter3d": [
           {
            "line": {
             "colorbar": {
              "outlinewidth": 0,
              "ticks": ""
             }
            },
            "marker": {
             "colorbar": {
              "outlinewidth": 0,
              "ticks": ""
             }
            },
            "type": "scatter3d"
           }
          ],
          "scattercarpet": [
           {
            "marker": {
             "colorbar": {
              "outlinewidth": 0,
              "ticks": ""
             }
            },
            "type": "scattercarpet"
           }
          ],
          "scattergeo": [
           {
            "marker": {
             "colorbar": {
              "outlinewidth": 0,
              "ticks": ""
             }
            },
            "type": "scattergeo"
           }
          ],
          "scattergl": [
           {
            "marker": {
             "colorbar": {
              "outlinewidth": 0,
              "ticks": ""
             }
            },
            "type": "scattergl"
           }
          ],
          "scattermapbox": [
           {
            "marker": {
             "colorbar": {
              "outlinewidth": 0,
              "ticks": ""
             }
            },
            "type": "scattermapbox"
           }
          ],
          "scatterpolargl": [
           {
            "marker": {
             "colorbar": {
              "outlinewidth": 0,
              "ticks": ""
             }
            },
            "type": "scatterpolargl"
           }
          ],
          "scatterpolar": [
           {
            "marker": {
             "colorbar": {
              "outlinewidth": 0,
              "ticks": ""
             }
            },
            "type": "scatterpolar"
           }
          ],
          "scatter": [
           {
            "fillpattern": {
             "fillmode": "overlay",
             "size": 10,
             "solidity": 0.2
            },
            "type": "scatter"
           }
          ],
          "scatterternary": [
           {
            "marker": {
             "colorbar": {
              "outlinewidth": 0,
              "ticks": ""
             }
            },
            "type": "scatterternary"
           }
          ],
          "surface": [
           {
            "colorbar": {
             "outlinewidth": 0,
             "ticks": ""
            },
            "colorscale": [
             [
              0,
              "#0d0887"
             ],
             [
              0.1111111111111111,
              "#46039f"
             ],
             [
              0.2222222222222222,
              "#7201a8"
             ],
             [
              0.3333333333333333,
              "#9c179e"
             ],
             [
              0.4444444444444444,
              "#bd3786"
             ],
             [
              0.5555555555555556,
              "#d8576b"
             ],
             [
              0.6666666666666666,
              "#ed7953"
             ],
             [
              0.7777777777777778,
              "#fb9f3a"
             ],
             [
              0.8888888888888888,
              "#fdca26"
             ],
             [
              1,
              "#f0f921"
             ]
            ],
            "type": "surface"
           }
          ],
          "table": [
           {
            "cells": {
             "fill": {
              "color": "#EBF0F8"
             },
             "line": {
              "color": "white"
             }
            },
            "header": {
             "fill": {
              "color": "#C8D4E3"
             },
             "line": {
              "color": "white"
             }
            },
            "type": "table"
           }
          ]
         },
         "layout": {
          "annotationdefaults": {
           "arrowcolor": "#2a3f5f",
           "arrowhead": 0,
           "arrowwidth": 1
          },
          "autotypenumbers": "strict",
          "coloraxis": {
           "colorbar": {
            "outlinewidth": 0,
            "ticks": ""
           }
          },
          "colorscale": {
           "diverging": [
            [
             0,
             "#8e0152"
            ],
            [
             0.1,
             "#c51b7d"
            ],
            [
             0.2,
             "#de77ae"
            ],
            [
             0.3,
             "#f1b6da"
            ],
            [
             0.4,
             "#fde0ef"
            ],
            [
             0.5,
             "#f7f7f7"
            ],
            [
             0.6,
             "#e6f5d0"
            ],
            [
             0.7,
             "#b8e186"
            ],
            [
             0.8,
             "#7fbc41"
            ],
            [
             0.9,
             "#4d9221"
            ],
            [
             1,
             "#276419"
            ]
           ],
           "sequential": [
            [
             0,
             "#0d0887"
            ],
            [
             0.1111111111111111,
             "#46039f"
            ],
            [
             0.2222222222222222,
             "#7201a8"
            ],
            [
             0.3333333333333333,
             "#9c179e"
            ],
            [
             0.4444444444444444,
             "#bd3786"
            ],
            [
             0.5555555555555556,
             "#d8576b"
            ],
            [
             0.6666666666666666,
             "#ed7953"
            ],
            [
             0.7777777777777778,
             "#fb9f3a"
            ],
            [
             0.8888888888888888,
             "#fdca26"
            ],
            [
             1,
             "#f0f921"
            ]
           ],
           "sequentialminus": [
            [
             0,
             "#0d0887"
            ],
            [
             0.1111111111111111,
             "#46039f"
            ],
            [
             0.2222222222222222,
             "#7201a8"
            ],
            [
             0.3333333333333333,
             "#9c179e"
            ],
            [
             0.4444444444444444,
             "#bd3786"
            ],
            [
             0.5555555555555556,
             "#d8576b"
            ],
            [
             0.6666666666666666,
             "#ed7953"
            ],
            [
             0.7777777777777778,
             "#fb9f3a"
            ],
            [
             0.8888888888888888,
             "#fdca26"
            ],
            [
             1,
             "#f0f921"
            ]
           ]
          },
          "colorway": [
           "#636efa",
           "#EF553B",
           "#00cc96",
           "#ab63fa",
           "#FFA15A",
           "#19d3f3",
           "#FF6692",
           "#B6E880",
           "#FF97FF",
           "#FECB52"
          ],
          "font": {
           "color": "#2a3f5f"
          },
          "geo": {
           "bgcolor": "white",
           "lakecolor": "white",
           "landcolor": "#E5ECF6",
           "showlakes": true,
           "showland": true,
           "subunitcolor": "white"
          },
          "hoverlabel": {
           "align": "left"
          },
          "hovermode": "closest",
          "mapbox": {
           "style": "light"
          },
          "paper_bgcolor": "white",
          "plot_bgcolor": "#E5ECF6",
          "polar": {
           "angularaxis": {
            "gridcolor": "white",
            "linecolor": "white",
            "ticks": ""
           },
           "bgcolor": "#E5ECF6",
           "radialaxis": {
            "gridcolor": "white",
            "linecolor": "white",
            "ticks": ""
           }
          },
          "scene": {
           "xaxis": {
            "backgroundcolor": "#E5ECF6",
            "gridcolor": "white",
            "gridwidth": 2,
            "linecolor": "white",
            "showbackground": true,
            "ticks": "",
            "zerolinecolor": "white"
           },
           "yaxis": {
            "backgroundcolor": "#E5ECF6",
            "gridcolor": "white",
            "gridwidth": 2,
            "linecolor": "white",
            "showbackground": true,
            "ticks": "",
            "zerolinecolor": "white"
           },
           "zaxis": {
            "backgroundcolor": "#E5ECF6",
            "gridcolor": "white",
            "gridwidth": 2,
            "linecolor": "white",
            "showbackground": true,
            "ticks": "",
            "zerolinecolor": "white"
           }
          },
          "shapedefaults": {
           "line": {
            "color": "#2a3f5f"
           }
          },
          "ternary": {
           "aaxis": {
            "gridcolor": "white",
            "linecolor": "white",
            "ticks": ""
           },
           "baxis": {
            "gridcolor": "white",
            "linecolor": "white",
            "ticks": ""
           },
           "bgcolor": "#E5ECF6",
           "caxis": {
            "gridcolor": "white",
            "linecolor": "white",
            "ticks": ""
           }
          },
          "title": {
           "x": 0.05
          },
          "xaxis": {
           "automargin": true,
           "gridcolor": "white",
           "linecolor": "white",
           "ticks": "",
           "title": {
            "standoff": 15
           },
           "zerolinecolor": "white",
           "zerolinewidth": 2
          },
          "yaxis": {
           "automargin": true,
           "gridcolor": "white",
           "linecolor": "white",
           "ticks": "",
           "title": {
            "standoff": 15
           },
           "zerolinecolor": "white",
           "zerolinewidth": 2
          }
         }
        },
        "title": {
         "font": {
          "color": "#4D5663"
         }
        },
        "xaxis": {
         "gridcolor": "#E1E5ED",
         "showgrid": true,
         "tickfont": {
          "color": "#4D5663"
         },
         "title": {
          "font": {
           "color": "#4D5663"
          },
          "text": ""
         },
         "zerolinecolor": "#E1E5ED"
        },
        "yaxis": {
         "gridcolor": "#E1E5ED",
         "showgrid": true,
         "tickfont": {
          "color": "#4D5663"
         },
         "title": {
          "font": {
           "color": "#4D5663"
          },
          "text": ""
         },
         "zerolinecolor": "#E1E5ED"
        }
       },
       "config": {
        "showLink": true,
        "linkText": "Export to plot.ly",
        "plotlyServerURL": "https://plot.ly"
       }
      },
      "text/html": "<div>                            <div id=\"b6c89eee-9921-4b93-b59b-14c58c235f4e\" class=\"plotly-graph-div\" style=\"height:525px; width:100%;\"></div>            <script type=\"text/javascript\">                require([\"plotly\"], function(Plotly) {                    window.PLOTLYENV=window.PLOTLYENV || {};\n                    window.PLOTLYENV.BASE_URL='https://plot.ly';                                    if (document.getElementById(\"b6c89eee-9921-4b93-b59b-14c58c235f4e\")) {                    Plotly.newPlot(                        \"b6c89eee-9921-4b93-b59b-14c58c235f4e\",                        [{\"marker\":{\"color\":\"rgba(255, 153, 51, 0.6)\",\"line\":{\"color\":\"rgba(255, 153, 51, 1.0)\",\"width\":1}},\"name\":\"Dep_Time_hour\",\"orientation\":\"v\",\"text\":\"\",\"x\":[\"Early mrng\",\"Evening\",\"Morning\",\"Noon\",\"Night\",\"Late night\"],\"y\":[2880,2357,2209,1731,1040,465],\"type\":\"bar\"}],                        {\"legend\":{\"bgcolor\":\"#F5F6F9\",\"font\":{\"color\":\"#4D5663\"}},\"paper_bgcolor\":\"#F5F6F9\",\"plot_bgcolor\":\"#F5F6F9\",\"template\":{\"data\":{\"barpolar\":[{\"marker\":{\"line\":{\"color\":\"#E5ECF6\",\"width\":0.5},\"pattern\":{\"fillmode\":\"overlay\",\"size\":10,\"solidity\":0.2}},\"type\":\"barpolar\"}],\"bar\":[{\"error_x\":{\"color\":\"#2a3f5f\"},\"error_y\":{\"color\":\"#2a3f5f\"},\"marker\":{\"line\":{\"color\":\"#E5ECF6\",\"width\":0.5},\"pattern\":{\"fillmode\":\"overlay\",\"size\":10,\"solidity\":0.2}},\"type\":\"bar\"}],\"carpet\":[{\"aaxis\":{\"endlinecolor\":\"#2a3f5f\",\"gridcolor\":\"white\",\"linecolor\":\"white\",\"minorgridcolor\":\"white\",\"startlinecolor\":\"#2a3f5f\"},\"baxis\":{\"endlinecolor\":\"#2a3f5f\",\"gridcolor\":\"white\",\"linecolor\":\"white\",\"minorgridcolor\":\"white\",\"startlinecolor\":\"#2a3f5f\"},\"type\":\"carpet\"}],\"choropleth\":[{\"colorbar\":{\"outlinewidth\":0,\"ticks\":\"\"},\"type\":\"choropleth\"}],\"contourcarpet\":[{\"colorbar\":{\"outlinewidth\":0,\"ticks\":\"\"},\"type\":\"contourcarpet\"}],\"contour\":[{\"colorbar\":{\"outlinewidth\":0,\"ticks\":\"\"},\"colorscale\":[[0.0,\"#0d0887\"],[0.1111111111111111,\"#46039f\"],[0.2222222222222222,\"#7201a8\"],[0.3333333333333333,\"#9c179e\"],[0.4444444444444444,\"#bd3786\"],[0.5555555555555556,\"#d8576b\"],[0.6666666666666666,\"#ed7953\"],[0.7777777777777778,\"#fb9f3a\"],[0.8888888888888888,\"#fdca26\"],[1.0,\"#f0f921\"]],\"type\":\"contour\"}],\"heatmapgl\":[{\"colorbar\":{\"outlinewidth\":0,\"ticks\":\"\"},\"colorscale\":[[0.0,\"#0d0887\"],[0.1111111111111111,\"#46039f\"],[0.2222222222222222,\"#7201a8\"],[0.3333333333333333,\"#9c179e\"],[0.4444444444444444,\"#bd3786\"],[0.5555555555555556,\"#d8576b\"],[0.6666666666666666,\"#ed7953\"],[0.7777777777777778,\"#fb9f3a\"],[0.8888888888888888,\"#fdca26\"],[1.0,\"#f0f921\"]],\"type\":\"heatmapgl\"}],\"heatmap\":[{\"colorbar\":{\"outlinewidth\":0,\"ticks\":\"\"},\"colorscale\":[[0.0,\"#0d0887\"],[0.1111111111111111,\"#46039f\"],[0.2222222222222222,\"#7201a8\"],[0.3333333333333333,\"#9c179e\"],[0.4444444444444444,\"#bd3786\"],[0.5555555555555556,\"#d8576b\"],[0.6666666666666666,\"#ed7953\"],[0.7777777777777778,\"#fb9f3a\"],[0.8888888888888888,\"#fdca26\"],[1.0,\"#f0f921\"]],\"type\":\"heatmap\"}],\"histogram2dcontour\":[{\"colorbar\":{\"outlinewidth\":0,\"ticks\":\"\"},\"colorscale\":[[0.0,\"#0d0887\"],[0.1111111111111111,\"#46039f\"],[0.2222222222222222,\"#7201a8\"],[0.3333333333333333,\"#9c179e\"],[0.4444444444444444,\"#bd3786\"],[0.5555555555555556,\"#d8576b\"],[0.6666666666666666,\"#ed7953\"],[0.7777777777777778,\"#fb9f3a\"],[0.8888888888888888,\"#fdca26\"],[1.0,\"#f0f921\"]],\"type\":\"histogram2dcontour\"}],\"histogram2d\":[{\"colorbar\":{\"outlinewidth\":0,\"ticks\":\"\"},\"colorscale\":[[0.0,\"#0d0887\"],[0.1111111111111111,\"#46039f\"],[0.2222222222222222,\"#7201a8\"],[0.3333333333333333,\"#9c179e\"],[0.4444444444444444,\"#bd3786\"],[0.5555555555555556,\"#d8576b\"],[0.6666666666666666,\"#ed7953\"],[0.7777777777777778,\"#fb9f3a\"],[0.8888888888888888,\"#fdca26\"],[1.0,\"#f0f921\"]],\"type\":\"histogram2d\"}],\"histogram\":[{\"marker\":{\"pattern\":{\"fillmode\":\"overlay\",\"size\":10,\"solidity\":0.2}},\"type\":\"histogram\"}],\"mesh3d\":[{\"colorbar\":{\"outlinewidth\":0,\"ticks\":\"\"},\"type\":\"mesh3d\"}],\"parcoords\":[{\"line\":{\"colorbar\":{\"outlinewidth\":0,\"ticks\":\"\"}},\"type\":\"parcoords\"}],\"pie\":[{\"automargin\":true,\"type\":\"pie\"}],\"scatter3d\":[{\"line\":{\"colorbar\":{\"outlinewidth\":0,\"ticks\":\"\"}},\"marker\":{\"colorbar\":{\"outlinewidth\":0,\"ticks\":\"\"}},\"type\":\"scatter3d\"}],\"scattercarpet\":[{\"marker\":{\"colorbar\":{\"outlinewidth\":0,\"ticks\":\"\"}},\"type\":\"scattercarpet\"}],\"scattergeo\":[{\"marker\":{\"colorbar\":{\"outlinewidth\":0,\"ticks\":\"\"}},\"type\":\"scattergeo\"}],\"scattergl\":[{\"marker\":{\"colorbar\":{\"outlinewidth\":0,\"ticks\":\"\"}},\"type\":\"scattergl\"}],\"scattermapbox\":[{\"marker\":{\"colorbar\":{\"outlinewidth\":0,\"ticks\":\"\"}},\"type\":\"scattermapbox\"}],\"scatterpolargl\":[{\"marker\":{\"colorbar\":{\"outlinewidth\":0,\"ticks\":\"\"}},\"type\":\"scatterpolargl\"}],\"scatterpolar\":[{\"marker\":{\"colorbar\":{\"outlinewidth\":0,\"ticks\":\"\"}},\"type\":\"scatterpolar\"}],\"scatter\":[{\"fillpattern\":{\"fillmode\":\"overlay\",\"size\":10,\"solidity\":0.2},\"type\":\"scatter\"}],\"scatterternary\":[{\"marker\":{\"colorbar\":{\"outlinewidth\":0,\"ticks\":\"\"}},\"type\":\"scatterternary\"}],\"surface\":[{\"colorbar\":{\"outlinewidth\":0,\"ticks\":\"\"},\"colorscale\":[[0.0,\"#0d0887\"],[0.1111111111111111,\"#46039f\"],[0.2222222222222222,\"#7201a8\"],[0.3333333333333333,\"#9c179e\"],[0.4444444444444444,\"#bd3786\"],[0.5555555555555556,\"#d8576b\"],[0.6666666666666666,\"#ed7953\"],[0.7777777777777778,\"#fb9f3a\"],[0.8888888888888888,\"#fdca26\"],[1.0,\"#f0f921\"]],\"type\":\"surface\"}],\"table\":[{\"cells\":{\"fill\":{\"color\":\"#EBF0F8\"},\"line\":{\"color\":\"white\"}},\"header\":{\"fill\":{\"color\":\"#C8D4E3\"},\"line\":{\"color\":\"white\"}},\"type\":\"table\"}]},\"layout\":{\"annotationdefaults\":{\"arrowcolor\":\"#2a3f5f\",\"arrowhead\":0,\"arrowwidth\":1},\"autotypenumbers\":\"strict\",\"coloraxis\":{\"colorbar\":{\"outlinewidth\":0,\"ticks\":\"\"}},\"colorscale\":{\"diverging\":[[0,\"#8e0152\"],[0.1,\"#c51b7d\"],[0.2,\"#de77ae\"],[0.3,\"#f1b6da\"],[0.4,\"#fde0ef\"],[0.5,\"#f7f7f7\"],[0.6,\"#e6f5d0\"],[0.7,\"#b8e186\"],[0.8,\"#7fbc41\"],[0.9,\"#4d9221\"],[1,\"#276419\"]],\"sequential\":[[0.0,\"#0d0887\"],[0.1111111111111111,\"#46039f\"],[0.2222222222222222,\"#7201a8\"],[0.3333333333333333,\"#9c179e\"],[0.4444444444444444,\"#bd3786\"],[0.5555555555555556,\"#d8576b\"],[0.6666666666666666,\"#ed7953\"],[0.7777777777777778,\"#fb9f3a\"],[0.8888888888888888,\"#fdca26\"],[1.0,\"#f0f921\"]],\"sequentialminus\":[[0.0,\"#0d0887\"],[0.1111111111111111,\"#46039f\"],[0.2222222222222222,\"#7201a8\"],[0.3333333333333333,\"#9c179e\"],[0.4444444444444444,\"#bd3786\"],[0.5555555555555556,\"#d8576b\"],[0.6666666666666666,\"#ed7953\"],[0.7777777777777778,\"#fb9f3a\"],[0.8888888888888888,\"#fdca26\"],[1.0,\"#f0f921\"]]},\"colorway\":[\"#636efa\",\"#EF553B\",\"#00cc96\",\"#ab63fa\",\"#FFA15A\",\"#19d3f3\",\"#FF6692\",\"#B6E880\",\"#FF97FF\",\"#FECB52\"],\"font\":{\"color\":\"#2a3f5f\"},\"geo\":{\"bgcolor\":\"white\",\"lakecolor\":\"white\",\"landcolor\":\"#E5ECF6\",\"showlakes\":true,\"showland\":true,\"subunitcolor\":\"white\"},\"hoverlabel\":{\"align\":\"left\"},\"hovermode\":\"closest\",\"mapbox\":{\"style\":\"light\"},\"paper_bgcolor\":\"white\",\"plot_bgcolor\":\"#E5ECF6\",\"polar\":{\"angularaxis\":{\"gridcolor\":\"white\",\"linecolor\":\"white\",\"ticks\":\"\"},\"bgcolor\":\"#E5ECF6\",\"radialaxis\":{\"gridcolor\":\"white\",\"linecolor\":\"white\",\"ticks\":\"\"}},\"scene\":{\"xaxis\":{\"backgroundcolor\":\"#E5ECF6\",\"gridcolor\":\"white\",\"gridwidth\":2,\"linecolor\":\"white\",\"showbackground\":true,\"ticks\":\"\",\"zerolinecolor\":\"white\"},\"yaxis\":{\"backgroundcolor\":\"#E5ECF6\",\"gridcolor\":\"white\",\"gridwidth\":2,\"linecolor\":\"white\",\"showbackground\":true,\"ticks\":\"\",\"zerolinecolor\":\"white\"},\"zaxis\":{\"backgroundcolor\":\"#E5ECF6\",\"gridcolor\":\"white\",\"gridwidth\":2,\"linecolor\":\"white\",\"showbackground\":true,\"ticks\":\"\",\"zerolinecolor\":\"white\"}},\"shapedefaults\":{\"line\":{\"color\":\"#2a3f5f\"}},\"ternary\":{\"aaxis\":{\"gridcolor\":\"white\",\"linecolor\":\"white\",\"ticks\":\"\"},\"baxis\":{\"gridcolor\":\"white\",\"linecolor\":\"white\",\"ticks\":\"\"},\"bgcolor\":\"#E5ECF6\",\"caxis\":{\"gridcolor\":\"white\",\"linecolor\":\"white\",\"ticks\":\"\"}},\"title\":{\"x\":0.05},\"xaxis\":{\"automargin\":true,\"gridcolor\":\"white\",\"linecolor\":\"white\",\"ticks\":\"\",\"title\":{\"standoff\":15},\"zerolinecolor\":\"white\",\"zerolinewidth\":2},\"yaxis\":{\"automargin\":true,\"gridcolor\":\"white\",\"linecolor\":\"white\",\"ticks\":\"\",\"title\":{\"standoff\":15},\"zerolinecolor\":\"white\",\"zerolinewidth\":2}}},\"title\":{\"font\":{\"color\":\"#4D5663\"}},\"xaxis\":{\"gridcolor\":\"#E1E5ED\",\"showgrid\":true,\"tickfont\":{\"color\":\"#4D5663\"},\"title\":{\"font\":{\"color\":\"#4D5663\"},\"text\":\"\"},\"zerolinecolor\":\"#E1E5ED\"},\"yaxis\":{\"gridcolor\":\"#E1E5ED\",\"showgrid\":true,\"tickfont\":{\"color\":\"#4D5663\"},\"title\":{\"font\":{\"color\":\"#4D5663\"},\"text\":\"\"},\"zerolinecolor\":\"#E1E5ED\"}},                        {\"showLink\": true, \"linkText\": \"Export to plot.ly\", \"plotlyServerURL\": \"https://plot.ly\", \"responsive\": true}                    ).then(function(){\n                            \nvar gd = document.getElementById('b6c89eee-9921-4b93-b59b-14c58c235f4e');\nvar x = new MutationObserver(function (mutations, observer) {{\n        var display = window.getComputedStyle(gd).display;\n        if (!display || display === 'none') {{\n            console.log([gd, 'removed!']);\n            Plotly.purge(gd);\n            observer.disconnect();\n        }}\n}});\n\n// Listen for the removal of the full notebook cells\nvar notebookContainer = gd.closest('#notebook-container');\nif (notebookContainer) {{\n    x.observe(notebookContainer, {childList: true});\n}}\n\n// Listen for the clearing of the current output cell\nvar outputEl = gd.closest('.output');\nif (outputEl) {{\n    x.observe(outputEl, {childList: true});\n}}\n\n                        })                };                });            </script>        </div>"
     },
     "metadata": {},
     "output_type": "display_data"
    }
   ]
  },
  {
   "cell_type": "code",
   "metadata": {
    "cell_id": "00073-57f45313-abb0-48e8-b91b-91ab2ad8950d",
    "deepnote_to_be_reexecuted": false,
    "source_hash": "4d5f977f",
    "execution_start": 1660916819753,
    "execution_millis": 9,
    "deepnote_cell_type": "code",
    "deepnote_cell_height": 611.796875
   },
   "source": "data.head(10)",
   "execution_count": 36,
   "outputs": [
    {
     "output_type": "execute_result",
     "execution_count": 36,
     "data": {
      "application/vnd.deepnote.dataframe.v3+json": {
       "column_count": 15,
       "row_count": 10,
       "columns": [
        {
         "name": "Airline",
         "dtype": "object",
         "stats": {
          "unique_count": 5,
          "nan_count": 0,
          "categories": [
           {
            "name": "Jet Airways",
            "count": 4
           },
           {
            "name": "IndiGo",
            "count": 3
           },
           {
            "name": "3 others",
            "count": 3
           }
          ]
         }
        },
        {
         "name": "Source",
         "dtype": "object",
         "stats": {
          "unique_count": 3,
          "nan_count": 0,
          "categories": [
           {
            "name": "Banglore",
            "count": 5
           },
           {
            "name": "Kolkata",
            "count": 3
           },
           {
            "name": "Delhi",
            "count": 2
           }
          ]
         }
        },
        {
         "name": "Destination",
         "dtype": "object",
         "stats": {
          "unique_count": 3,
          "nan_count": 0,
          "categories": [
           {
            "name": "New Delhi",
            "count": 5
           },
           {
            "name": "Banglore",
            "count": 3
           },
           {
            "name": "Cochin",
            "count": 2
           }
          ]
         }
        },
        {
         "name": "Route",
         "dtype": "object",
         "stats": {
          "unique_count": 8,
          "nan_count": 0,
          "categories": [
           {
            "name": "BLR ? BOM ? DEL",
            "count": 3
           },
           {
            "name": "BLR ? DEL",
            "count": 1
           },
           {
            "name": "6 others",
            "count": 6
           }
          ]
         }
        },
        {
         "name": "Duration",
         "dtype": "object",
         "stats": {
          "unique_count": 10,
          "nan_count": 0,
          "categories": [
           {
            "name": "2h 50m",
            "count": 1
           },
           {
            "name": "7h 25m",
            "count": 1
           },
           {
            "name": "8 others",
            "count": 8
           }
          ]
         }
        },
        {
         "name": "Total_Stops",
         "dtype": "object",
         "stats": {
          "unique_count": 3,
          "nan_count": 0,
          "categories": [
           {
            "name": "1 stop",
            "count": 6
           },
           {
            "name": "non-stop",
            "count": 2
           },
           {
            "name": "2 stops",
            "count": 2
           }
          ]
         }
        },
        {
         "name": "Additional_Info",
         "dtype": "object",
         "stats": {
          "unique_count": 2,
          "nan_count": 0,
          "categories": [
           {
            "name": "No info",
            "count": 8
           },
           {
            "name": "In-flight meal not included",
            "count": 2
           }
          ]
         }
        },
        {
         "name": "Price",
         "dtype": "int64",
         "stats": {
          "unique_count": 9,
          "nan_count": 0,
          "min": "3873",
          "max": "22270",
          "histogram": [
           {
            "bin_start": 3873,
            "bin_end": 5712.7,
            "count": 2
           },
           {
            "bin_start": 5712.7,
            "bin_end": 7552.4,
            "count": 1
           },
           {
            "bin_start": 7552.4,
            "bin_end": 9392.1,
            "count": 2
           },
           {
            "bin_start": 9392.1,
            "bin_end": 11231.8,
            "count": 2
           },
           {
            "bin_start": 11231.8,
            "bin_end": 13071.5,
            "count": 0
           },
           {
            "bin_start": 13071.5,
            "bin_end": 14911.2,
            "count": 2
           },
           {
            "bin_start": 14911.2,
            "bin_end": 16750.9,
            "count": 0
           },
           {
            "bin_start": 16750.9,
            "bin_end": 18590.6,
            "count": 0
           },
           {
            "bin_start": 18590.6,
            "bin_end": 20430.3,
            "count": 0
           },
           {
            "bin_start": 20430.3,
            "bin_end": 22270,
            "count": 1
           }
          ]
         }
        },
        {
         "name": "journey_day",
         "dtype": "int64",
         "stats": {
          "unique_count": 5,
          "nan_count": 0,
          "min": "3",
          "max": "27",
          "histogram": [
           {
            "bin_start": 3,
            "bin_end": 5.4,
            "count": 6
           },
           {
            "bin_start": 5.4,
            "bin_end": 7.8,
            "count": 1
           },
           {
            "bin_start": 7.8,
            "bin_end": 10.2,
            "count": 0
           },
           {
            "bin_start": 10.2,
            "bin_end": 12.6,
            "count": 0
           },
           {
            "bin_start": 12.6,
            "bin_end": 15,
            "count": 0
           },
           {
            "bin_start": 15,
            "bin_end": 17.4,
            "count": 0
           },
           {
            "bin_start": 17.4,
            "bin_end": 19.8,
            "count": 0
           },
           {
            "bin_start": 19.8,
            "bin_end": 22.2,
            "count": 0
           },
           {
            "bin_start": 22.2,
            "bin_end": 24.599999999999998,
            "count": 2
           },
           {
            "bin_start": 24.599999999999998,
            "bin_end": 27,
            "count": 1
           }
          ]
         }
        },
        {
         "name": "journey_month",
         "dtype": "int64",
         "stats": {
          "unique_count": 6,
          "nan_count": 0,
          "min": "1",
          "max": "12",
          "histogram": [
           {
            "bin_start": 1,
            "bin_end": 2.1,
            "count": 3
           },
           {
            "bin_start": 2.1,
            "bin_end": 3.2,
            "count": 1
           },
           {
            "bin_start": 3.2,
            "bin_end": 4.300000000000001,
            "count": 0
           },
           {
            "bin_start": 4.300000000000001,
            "bin_end": 5.4,
            "count": 1
           },
           {
            "bin_start": 5.4,
            "bin_end": 6.5,
            "count": 1
           },
           {
            "bin_start": 6.5,
            "bin_end": 7.6000000000000005,
            "count": 0
           },
           {
            "bin_start": 7.6000000000000005,
            "bin_end": 8.700000000000001,
            "count": 0
           },
           {
            "bin_start": 8.700000000000001,
            "bin_end": 9.8,
            "count": 1
           },
           {
            "bin_start": 9.8,
            "bin_end": 10.9,
            "count": 0
           },
           {
            "bin_start": 10.9,
            "bin_end": 12,
            "count": 3
           }
          ]
         }
        },
        {
         "name": "journey_year",
         "dtype": "int64",
         "stats": {
          "unique_count": 1,
          "nan_count": 0,
          "min": "2019",
          "max": "2019",
          "histogram": [
           {
            "bin_start": 2018.5,
            "bin_end": 2018.6,
            "count": 0
           },
           {
            "bin_start": 2018.6,
            "bin_end": 2018.7,
            "count": 0
           },
           {
            "bin_start": 2018.7,
            "bin_end": 2018.8,
            "count": 0
           },
           {
            "bin_start": 2018.8,
            "bin_end": 2018.9,
            "count": 0
           },
           {
            "bin_start": 2018.9,
            "bin_end": 2019,
            "count": 0
           },
           {
            "bin_start": 2019,
            "bin_end": 2019.1,
            "count": 10
           },
           {
            "bin_start": 2019.1,
            "bin_end": 2019.2,
            "count": 0
           },
           {
            "bin_start": 2019.2,
            "bin_end": 2019.3,
            "count": 0
           },
           {
            "bin_start": 2019.3,
            "bin_end": 2019.4,
            "count": 0
           },
           {
            "bin_start": 2019.4,
            "bin_end": 2019.5,
            "count": 0
           }
          ]
         }
        },
        {
         "name": "Dep_Time_hour",
         "dtype": "int64",
         "stats": {
          "unique_count": 7,
          "nan_count": 0,
          "min": "5",
          "max": "22",
          "histogram": [
           {
            "bin_start": 5,
            "bin_end": 6.7,
            "count": 1
           },
           {
            "bin_start": 6.7,
            "bin_end": 8.4,
            "count": 2
           },
           {
            "bin_start": 8.4,
            "bin_end": 10.1,
            "count": 2
           },
           {
            "bin_start": 10.1,
            "bin_end": 11.8,
            "count": 1
           },
           {
            "bin_start": 11.8,
            "bin_end": 13.5,
            "count": 0
           },
           {
            "bin_start": 13.5,
            "bin_end": 15.2,
            "count": 0
           },
           {
            "bin_start": 15.2,
            "bin_end": 16.9,
            "count": 1
           },
           {
            "bin_start": 16.9,
            "bin_end": 18.6,
            "count": 2
           },
           {
            "bin_start": 18.6,
            "bin_end": 20.299999999999997,
            "count": 0
           },
           {
            "bin_start": 20.299999999999997,
            "bin_end": 22,
            "count": 1
           }
          ]
         }
        },
        {
         "name": "Dep_Time_minute",
         "dtype": "int64",
         "stats": {
          "unique_count": 6,
          "nan_count": 0,
          "min": "0",
          "max": "55",
          "histogram": [
           {
            "bin_start": 0,
            "bin_end": 5.5,
            "count": 3
           },
           {
            "bin_start": 5.5,
            "bin_end": 11,
            "count": 0
           },
           {
            "bin_start": 11,
            "bin_end": 16.5,
            "count": 0
           },
           {
            "bin_start": 16.5,
            "bin_end": 22,
            "count": 1
           },
           {
            "bin_start": 22,
            "bin_end": 27.5,
            "count": 2
           },
           {
            "bin_start": 27.5,
            "bin_end": 33,
            "count": 0
           },
           {
            "bin_start": 33,
            "bin_end": 38.5,
            "count": 0
           },
           {
            "bin_start": 38.5,
            "bin_end": 44,
            "count": 0
           },
           {
            "bin_start": 44,
            "bin_end": 49.5,
            "count": 0
           },
           {
            "bin_start": 49.5,
            "bin_end": 55,
            "count": 4
           }
          ]
         }
        },
        {
         "name": "Arrival_Time_hour",
         "dtype": "int64",
         "stats": {
          "unique_count": 9,
          "nan_count": 0,
          "min": "1",
          "max": "23",
          "histogram": [
           {
            "bin_start": 1,
            "bin_end": 3.2,
            "count": 1
           },
           {
            "bin_start": 3.2,
            "bin_end": 5.4,
            "count": 2
           },
           {
            "bin_start": 5.4,
            "bin_end": 7.6000000000000005,
            "count": 0
           },
           {
            "bin_start": 7.6000000000000005,
            "bin_end": 9.8,
            "count": 0
           },
           {
            "bin_start": 9.8,
            "bin_end": 12,
            "count": 3
           },
           {
            "bin_start": 12,
            "bin_end": 14.200000000000001,
            "count": 1
           },
           {
            "bin_start": 14.200000000000001,
            "bin_end": 16.400000000000002,
            "count": 0
           },
           {
            "bin_start": 16.400000000000002,
            "bin_end": 18.6,
            "count": 0
           },
           {
            "bin_start": 18.6,
            "bin_end": 20.8,
            "count": 1
           },
           {
            "bin_start": 20.8,
            "bin_end": 23,
            "count": 2
           }
          ]
         }
        },
        {
         "name": "Arrival_Time_minute",
         "dtype": "int64",
         "stats": {
          "unique_count": 6,
          "nan_count": 0,
          "min": "5",
          "max": "35",
          "histogram": [
           {
            "bin_start": 5,
            "bin_end": 8,
            "count": 1
           },
           {
            "bin_start": 8,
            "bin_end": 11,
            "count": 1
           },
           {
            "bin_start": 11,
            "bin_end": 14,
            "count": 0
           },
           {
            "bin_start": 14,
            "bin_end": 17,
            "count": 2
           },
           {
            "bin_start": 17,
            "bin_end": 20,
            "count": 0
           },
           {
            "bin_start": 20,
            "bin_end": 23,
            "count": 0
           },
           {
            "bin_start": 23,
            "bin_end": 26,
            "count": 4
           },
           {
            "bin_start": 26,
            "bin_end": 29,
            "count": 0
           },
           {
            "bin_start": 29,
            "bin_end": 32,
            "count": 1
           },
           {
            "bin_start": 32,
            "bin_end": 35,
            "count": 1
           }
          ]
         }
        },
        {
         "name": "_deepnote_index_column",
         "dtype": "int64"
        }
       ],
       "rows": [
        {
         "Airline": "IndiGo",
         "Source": "Banglore",
         "Destination": "New Delhi",
         "Route": "BLR ? DEL",
         "Duration": "2h 50m",
         "Total_Stops": "non-stop",
         "Additional_Info": "No info",
         "Price": 3897,
         "journey_day": 24,
         "journey_month": 3,
         "journey_year": 2019,
         "Dep_Time_hour": 22,
         "Dep_Time_minute": 20,
         "Arrival_Time_hour": 1,
         "Arrival_Time_minute": 10,
         "_deepnote_index_column": 0
        },
        {
         "Airline": "Air India",
         "Source": "Kolkata",
         "Destination": "Banglore",
         "Route": "CCU ? IXR ? BBI ? BLR",
         "Duration": "7h 25m",
         "Total_Stops": "2 stops",
         "Additional_Info": "No info",
         "Price": 7662,
         "journey_day": 5,
         "journey_month": 1,
         "journey_year": 2019,
         "Dep_Time_hour": 5,
         "Dep_Time_minute": 50,
         "Arrival_Time_hour": 13,
         "Arrival_Time_minute": 15,
         "_deepnote_index_column": 1
        },
        {
         "Airline": "Jet Airways",
         "Source": "Delhi",
         "Destination": "Cochin",
         "Route": "DEL ? LKO ? BOM ? COK",
         "Duration": "19h",
         "Total_Stops": "2 stops",
         "Additional_Info": "No info",
         "Price": 13882,
         "journey_day": 6,
         "journey_month": 9,
         "journey_year": 2019,
         "Dep_Time_hour": 9,
         "Dep_Time_minute": 25,
         "Arrival_Time_hour": 4,
         "Arrival_Time_minute": 25,
         "_deepnote_index_column": 2
        },
        {
         "Airline": "IndiGo",
         "Source": "Kolkata",
         "Destination": "Banglore",
         "Route": "CCU ? NAG ? BLR",
         "Duration": "5h 25m",
         "Total_Stops": "1 stop",
         "Additional_Info": "No info",
         "Price": 6218,
         "journey_day": 5,
         "journey_month": 12,
         "journey_year": 2019,
         "Dep_Time_hour": 18,
         "Dep_Time_minute": 5,
         "Arrival_Time_hour": 23,
         "Arrival_Time_minute": 30,
         "_deepnote_index_column": 3
        },
        {
         "Airline": "IndiGo",
         "Source": "Banglore",
         "Destination": "New Delhi",
         "Route": "BLR ? NAG ? DEL",
         "Duration": "4h 45m",
         "Total_Stops": "1 stop",
         "Additional_Info": "No info",
         "Price": 13302,
         "journey_day": 3,
         "journey_month": 1,
         "journey_year": 2019,
         "Dep_Time_hour": 16,
         "Dep_Time_minute": 50,
         "Arrival_Time_hour": 21,
         "Arrival_Time_minute": 35,
         "_deepnote_index_column": 4
        },
        {
         "Airline": "SpiceJet",
         "Source": "Kolkata",
         "Destination": "Banglore",
         "Route": "CCU ? BLR",
         "Duration": "2h 25m",
         "Total_Stops": "non-stop",
         "Additional_Info": "No info",
         "Price": 3873,
         "journey_day": 24,
         "journey_month": 6,
         "journey_year": 2019,
         "Dep_Time_hour": 9,
         "Dep_Time_minute": 0,
         "Arrival_Time_hour": 11,
         "Arrival_Time_minute": 25,
         "_deepnote_index_column": 5
        },
        {
         "Airline": "Jet Airways",
         "Source": "Banglore",
         "Destination": "New Delhi",
         "Route": "BLR ? BOM ? DEL",
         "Duration": "15h 30m",
         "Total_Stops": "1 stop",
         "Additional_Info": "In-flight meal not included",
         "Price": 11087,
         "journey_day": 3,
         "journey_month": 12,
         "journey_year": 2019,
         "Dep_Time_hour": 18,
         "Dep_Time_minute": 55,
         "Arrival_Time_hour": 10,
         "Arrival_Time_minute": 25,
         "_deepnote_index_column": 6
        },
        {
         "Airline": "Jet Airways",
         "Source": "Banglore",
         "Destination": "New Delhi",
         "Route": "BLR ? BOM ? DEL",
         "Duration": "21h 5m",
         "Total_Stops": "1 stop",
         "Additional_Info": "No info",
         "Price": 22270,
         "journey_day": 3,
         "journey_month": 1,
         "journey_year": 2019,
         "Dep_Time_hour": 8,
         "Dep_Time_minute": 0,
         "Arrival_Time_hour": 5,
         "Arrival_Time_minute": 5,
         "_deepnote_index_column": 7
        },
        {
         "Airline": "Jet Airways",
         "Source": "Banglore",
         "Destination": "New Delhi",
         "Route": "BLR ? BOM ? DEL",
         "Duration": "25h 30m",
         "Total_Stops": "1 stop",
         "Additional_Info": "In-flight meal not included",
         "Price": 11087,
         "journey_day": 3,
         "journey_month": 12,
         "journey_year": 2019,
         "Dep_Time_hour": 8,
         "Dep_Time_minute": 55,
         "Arrival_Time_hour": 10,
         "Arrival_Time_minute": 25,
         "_deepnote_index_column": 8
        },
        {
         "Airline": "Multiple carriers",
         "Source": "Delhi",
         "Destination": "Cochin",
         "Route": "DEL ? BOM ? COK",
         "Duration": "7h 50m",
         "Total_Stops": "1 stop",
         "Additional_Info": "No info",
         "Price": 8625,
         "journey_day": 27,
         "journey_month": 5,
         "journey_year": 2019,
         "Dep_Time_hour": 11,
         "Dep_Time_minute": 25,
         "Arrival_Time_hour": 19,
         "Arrival_Time_minute": 15,
         "_deepnote_index_column": 9
        }
       ]
      },
      "text/plain": "             Airline    Source Destination                  Route Duration  \\\n0             IndiGo  Banglore   New Delhi              BLR ? DEL   2h 50m   \n1          Air India   Kolkata    Banglore  CCU ? IXR ? BBI ? BLR   7h 25m   \n2        Jet Airways     Delhi      Cochin  DEL ? LKO ? BOM ? COK      19h   \n3             IndiGo   Kolkata    Banglore        CCU ? NAG ? BLR   5h 25m   \n4             IndiGo  Banglore   New Delhi        BLR ? NAG ? DEL   4h 45m   \n5           SpiceJet   Kolkata    Banglore              CCU ? BLR   2h 25m   \n6        Jet Airways  Banglore   New Delhi        BLR ? BOM ? DEL  15h 30m   \n7        Jet Airways  Banglore   New Delhi        BLR ? BOM ? DEL   21h 5m   \n8        Jet Airways  Banglore   New Delhi        BLR ? BOM ? DEL  25h 30m   \n9  Multiple carriers     Delhi      Cochin        DEL ? BOM ? COK   7h 50m   \n\n  Total_Stops              Additional_Info  Price  journey_day  journey_month  \\\n0    non-stop                      No info   3897           24              3   \n1     2 stops                      No info   7662            5              1   \n2     2 stops                      No info  13882            6              9   \n3      1 stop                      No info   6218            5             12   \n4      1 stop                      No info  13302            3              1   \n5    non-stop                      No info   3873           24              6   \n6      1 stop  In-flight meal not included  11087            3             12   \n7      1 stop                      No info  22270            3              1   \n8      1 stop  In-flight meal not included  11087            3             12   \n9      1 stop                      No info   8625           27              5   \n\n   journey_year  Dep_Time_hour  Dep_Time_minute  Arrival_Time_hour  \\\n0          2019             22               20                  1   \n1          2019              5               50                 13   \n2          2019              9               25                  4   \n3          2019             18                5                 23   \n4          2019             16               50                 21   \n5          2019              9                0                 11   \n6          2019             18               55                 10   \n7          2019              8                0                  5   \n8          2019              8               55                 10   \n9          2019             11               25                 19   \n\n   Arrival_Time_minute  \n0                   10  \n1                   15  \n2                   25  \n3                   30  \n4                   35  \n5                   25  \n6                   25  \n7                    5  \n8                   25  \n9                   15  ",
      "text/html": "<div>\n<style scoped>\n    .dataframe tbody tr th:only-of-type {\n        vertical-align: middle;\n    }\n\n    .dataframe tbody tr th {\n        vertical-align: top;\n    }\n\n    .dataframe thead th {\n        text-align: right;\n    }\n</style>\n<table border=\"1\" class=\"dataframe\">\n  <thead>\n    <tr style=\"text-align: right;\">\n      <th></th>\n      <th>Airline</th>\n      <th>Source</th>\n      <th>Destination</th>\n      <th>Route</th>\n      <th>Duration</th>\n      <th>Total_Stops</th>\n      <th>Additional_Info</th>\n      <th>Price</th>\n      <th>journey_day</th>\n      <th>journey_month</th>\n      <th>journey_year</th>\n      <th>Dep_Time_hour</th>\n      <th>Dep_Time_minute</th>\n      <th>Arrival_Time_hour</th>\n      <th>Arrival_Time_minute</th>\n    </tr>\n  </thead>\n  <tbody>\n    <tr>\n      <th>0</th>\n      <td>IndiGo</td>\n      <td>Banglore</td>\n      <td>New Delhi</td>\n      <td>BLR ? DEL</td>\n      <td>2h 50m</td>\n      <td>non-stop</td>\n      <td>No info</td>\n      <td>3897</td>\n      <td>24</td>\n      <td>3</td>\n      <td>2019</td>\n      <td>22</td>\n      <td>20</td>\n      <td>1</td>\n      <td>10</td>\n    </tr>\n    <tr>\n      <th>1</th>\n      <td>Air India</td>\n      <td>Kolkata</td>\n      <td>Banglore</td>\n      <td>CCU ? IXR ? BBI ? BLR</td>\n      <td>7h 25m</td>\n      <td>2 stops</td>\n      <td>No info</td>\n      <td>7662</td>\n      <td>5</td>\n      <td>1</td>\n      <td>2019</td>\n      <td>5</td>\n      <td>50</td>\n      <td>13</td>\n      <td>15</td>\n    </tr>\n    <tr>\n      <th>2</th>\n      <td>Jet Airways</td>\n      <td>Delhi</td>\n      <td>Cochin</td>\n      <td>DEL ? LKO ? BOM ? COK</td>\n      <td>19h</td>\n      <td>2 stops</td>\n      <td>No info</td>\n      <td>13882</td>\n      <td>6</td>\n      <td>9</td>\n      <td>2019</td>\n      <td>9</td>\n      <td>25</td>\n      <td>4</td>\n      <td>25</td>\n    </tr>\n    <tr>\n      <th>3</th>\n      <td>IndiGo</td>\n      <td>Kolkata</td>\n      <td>Banglore</td>\n      <td>CCU ? NAG ? BLR</td>\n      <td>5h 25m</td>\n      <td>1 stop</td>\n      <td>No info</td>\n      <td>6218</td>\n      <td>5</td>\n      <td>12</td>\n      <td>2019</td>\n      <td>18</td>\n      <td>5</td>\n      <td>23</td>\n      <td>30</td>\n    </tr>\n    <tr>\n      <th>4</th>\n      <td>IndiGo</td>\n      <td>Banglore</td>\n      <td>New Delhi</td>\n      <td>BLR ? NAG ? DEL</td>\n      <td>4h 45m</td>\n      <td>1 stop</td>\n      <td>No info</td>\n      <td>13302</td>\n      <td>3</td>\n      <td>1</td>\n      <td>2019</td>\n      <td>16</td>\n      <td>50</td>\n      <td>21</td>\n      <td>35</td>\n    </tr>\n    <tr>\n      <th>5</th>\n      <td>SpiceJet</td>\n      <td>Kolkata</td>\n      <td>Banglore</td>\n      <td>CCU ? BLR</td>\n      <td>2h 25m</td>\n      <td>non-stop</td>\n      <td>No info</td>\n      <td>3873</td>\n      <td>24</td>\n      <td>6</td>\n      <td>2019</td>\n      <td>9</td>\n      <td>0</td>\n      <td>11</td>\n      <td>25</td>\n    </tr>\n    <tr>\n      <th>6</th>\n      <td>Jet Airways</td>\n      <td>Banglore</td>\n      <td>New Delhi</td>\n      <td>BLR ? BOM ? DEL</td>\n      <td>15h 30m</td>\n      <td>1 stop</td>\n      <td>In-flight meal not included</td>\n      <td>11087</td>\n      <td>3</td>\n      <td>12</td>\n      <td>2019</td>\n      <td>18</td>\n      <td>55</td>\n      <td>10</td>\n      <td>25</td>\n    </tr>\n    <tr>\n      <th>7</th>\n      <td>Jet Airways</td>\n      <td>Banglore</td>\n      <td>New Delhi</td>\n      <td>BLR ? BOM ? DEL</td>\n      <td>21h 5m</td>\n      <td>1 stop</td>\n      <td>No info</td>\n      <td>22270</td>\n      <td>3</td>\n      <td>1</td>\n      <td>2019</td>\n      <td>8</td>\n      <td>0</td>\n      <td>5</td>\n      <td>5</td>\n    </tr>\n    <tr>\n      <th>8</th>\n      <td>Jet Airways</td>\n      <td>Banglore</td>\n      <td>New Delhi</td>\n      <td>BLR ? BOM ? DEL</td>\n      <td>25h 30m</td>\n      <td>1 stop</td>\n      <td>In-flight meal not included</td>\n      <td>11087</td>\n      <td>3</td>\n      <td>12</td>\n      <td>2019</td>\n      <td>8</td>\n      <td>55</td>\n      <td>10</td>\n      <td>25</td>\n    </tr>\n    <tr>\n      <th>9</th>\n      <td>Multiple carriers</td>\n      <td>Delhi</td>\n      <td>Cochin</td>\n      <td>DEL ? BOM ? COK</td>\n      <td>7h 50m</td>\n      <td>1 stop</td>\n      <td>No info</td>\n      <td>8625</td>\n      <td>27</td>\n      <td>5</td>\n      <td>2019</td>\n      <td>11</td>\n      <td>25</td>\n      <td>19</td>\n      <td>15</td>\n    </tr>\n  </tbody>\n</table>\n</div>"
     },
     "metadata": {}
    }
   ]
  },
  {
   "cell_type": "code",
   "metadata": {
    "cell_id": "00074-6184d3d8-fd52-41fc-bf08-59f6fd8a9aff",
    "deepnote_to_be_reexecuted": false,
    "source_hash": "b623e53d",
    "execution_start": 1660916819805,
    "execution_millis": 0,
    "deepnote_cell_type": "code",
    "deepnote_cell_height": 76
   },
   "source": "",
   "execution_count": 36,
   "outputs": []
  },
  {
   "cell_type": "markdown",
   "source": "## Pre-process Duration Feature & extract meaningful features ",
   "metadata": {
    "cell_id": "00076-3b5be0ad-3183-4089-b1fa-4b5e3209b2d0",
    "deepnote_cell_type": "markdown",
    "deepnote_cell_height": 70
   }
  },
  {
   "cell_type": "code",
   "metadata": {
    "cell_id": "00078-33473746-a3c4-4d34-a3b6-2486c2b30817",
    "deepnote_to_be_reexecuted": false,
    "source_hash": "55130396",
    "execution_start": 1660916819806,
    "execution_millis": 24976487,
    "deepnote_cell_type": "code",
    "deepnote_cell_height": 184
   },
   "source": "def preprocess_duration(x):\n    if 'h' not in x:\n        x='0h '+x\n    elif 'm' not in x:\n        x=x+' 0m'\n    return x\n    ",
   "execution_count": 37,
   "outputs": []
  },
  {
   "cell_type": "code",
   "metadata": {
    "cell_id": "00079-9cdfa3c5-4dbb-46a4-b3d7-efb90d38126c",
    "deepnote_to_be_reexecuted": false,
    "source_hash": "502b4e9c",
    "execution_start": 1660916819806,
    "execution_millis": 0,
    "deepnote_cell_type": "code",
    "deepnote_cell_height": 76
   },
   "source": "data['Duration']=data['Duration'].apply(preprocess_duration)",
   "execution_count": 38,
   "outputs": []
  },
  {
   "cell_type": "code",
   "metadata": {
    "cell_id": "00080-9567e7e3-a183-4bf9-a8ec-f925100fe4de",
    "deepnote_to_be_reexecuted": false,
    "source_hash": "36a50276",
    "execution_start": 1660916819807,
    "execution_millis": 18,
    "deepnote_cell_type": "code",
    "deepnote_cell_height": 323.375,
    "deepnote_output_heights": [
     231.390625
    ]
   },
   "source": "data['Duration']",
   "execution_count": 39,
   "outputs": [
    {
     "output_type": "execute_result",
     "execution_count": 39,
     "data": {
      "text/plain": "0        2h 50m\n1        7h 25m\n2        19h 0m\n3        5h 25m\n4        4h 45m\n          ...  \n10678    2h 30m\n10679    2h 35m\n10680     3h 0m\n10681    2h 40m\n10682    8h 20m\nName: Duration, Length: 10682, dtype: object"
     },
     "metadata": {}
    }
   ]
  },
  {
   "cell_type": "code",
   "metadata": {
    "cell_id": "00081-fb33274b-6760-4bc0-978e-2dc4f85b14c4",
    "deepnote_to_be_reexecuted": false,
    "source_hash": "182d05b3",
    "execution_start": 1660916819828,
    "execution_millis": 7,
    "deepnote_cell_type": "code",
    "deepnote_cell_height": 112.1875,
    "deepnote_output_heights": [
     20.1875
    ]
   },
   "source": "data['Duration'][0].split(' ')[0]",
   "execution_count": 40,
   "outputs": [
    {
     "output_type": "execute_result",
     "execution_count": 40,
     "data": {
      "text/plain": "'2h'"
     },
     "metadata": {}
    }
   ]
  },
  {
   "cell_type": "code",
   "metadata": {
    "cell_id": "00082-bb09642b-c2b0-45bd-ba2c-95c264dee96b",
    "deepnote_to_be_reexecuted": false,
    "source_hash": "ef292d3d",
    "execution_start": 1660916819832,
    "execution_millis": 17,
    "deepnote_cell_type": "code",
    "deepnote_cell_height": 112.1875,
    "deepnote_output_heights": [
     20.1875
    ]
   },
   "source": "int(data['Duration'][0].split(' ')[0][0:-1])",
   "execution_count": 41,
   "outputs": [
    {
     "output_type": "execute_result",
     "execution_count": 41,
     "data": {
      "text/plain": "2"
     },
     "metadata": {}
    }
   ]
  },
  {
   "cell_type": "code",
   "metadata": {
    "cell_id": "00083-5217ace9-81dd-43f2-ade2-f7a6423da3d8",
    "deepnote_to_be_reexecuted": false,
    "source_hash": "294f2cf9",
    "execution_start": 1660916819832,
    "execution_millis": 18,
    "deepnote_cell_type": "code",
    "deepnote_cell_height": 112.1875,
    "deepnote_output_heights": [
     20.1875
    ]
   },
   "source": "int(data['Duration'][0].split(' ')[1][0:-1])",
   "execution_count": 42,
   "outputs": [
    {
     "output_type": "execute_result",
     "execution_count": 42,
     "data": {
      "text/plain": "50"
     },
     "metadata": {}
    }
   ]
  },
  {
   "cell_type": "code",
   "metadata": {
    "cell_id": "00084-1c53cc12-1e86-469a-9d0f-4e8457ee43e4",
    "deepnote_to_be_reexecuted": false,
    "source_hash": "5a81a2c8",
    "execution_start": 1660916819847,
    "execution_millis": 4,
    "deepnote_cell_type": "code",
    "deepnote_cell_height": 76
   },
   "source": "data['Duration_hours']=data['Duration'].apply(lambda x:int(x.split(' ')[0][0:-1]))",
   "execution_count": 43,
   "outputs": []
  },
  {
   "cell_type": "code",
   "metadata": {
    "cell_id": "00085-eaf25cb9-c723-4c43-ac75-b3e26c28a2dc",
    "deepnote_to_be_reexecuted": false,
    "source_hash": "f2e9071d",
    "execution_start": 1660916819859,
    "execution_millis": 44,
    "deepnote_cell_type": "code",
    "deepnote_cell_height": 76
   },
   "source": "data['Duration_mins']=data['Duration'].apply(lambda x:int(x.split(' ')[1][0:-1]))",
   "execution_count": 44,
   "outputs": []
  },
  {
   "cell_type": "code",
   "metadata": {
    "cell_id": "00086-631e248e-1293-4040-8cea-7cfd08744bfb",
    "deepnote_to_be_reexecuted": false,
    "source_hash": "da627bf6",
    "execution_start": 1660916819923,
    "execution_millis": 35,
    "deepnote_cell_type": "code",
    "deepnote_cell_height": 324.796875
   },
   "source": "data.head(3)",
   "execution_count": 45,
   "outputs": [
    {
     "output_type": "execute_result",
     "execution_count": 45,
     "data": {
      "application/vnd.deepnote.dataframe.v3+json": {
       "column_count": 17,
       "row_count": 3,
       "columns": [
        {
         "name": "Airline",
         "dtype": "object",
         "stats": {
          "unique_count": 3,
          "nan_count": 0,
          "categories": [
           {
            "name": "IndiGo",
            "count": 1
           },
           {
            "name": "Air India",
            "count": 1
           },
           {
            "name": "Jet Airways",
            "count": 1
           }
          ]
         }
        },
        {
         "name": "Source",
         "dtype": "object",
         "stats": {
          "unique_count": 3,
          "nan_count": 0,
          "categories": [
           {
            "name": "Banglore",
            "count": 1
           },
           {
            "name": "Kolkata",
            "count": 1
           },
           {
            "name": "Delhi",
            "count": 1
           }
          ]
         }
        },
        {
         "name": "Destination",
         "dtype": "object",
         "stats": {
          "unique_count": 3,
          "nan_count": 0,
          "categories": [
           {
            "name": "New Delhi",
            "count": 1
           },
           {
            "name": "Banglore",
            "count": 1
           },
           {
            "name": "Cochin",
            "count": 1
           }
          ]
         }
        },
        {
         "name": "Route",
         "dtype": "object",
         "stats": {
          "unique_count": 3,
          "nan_count": 0,
          "categories": [
           {
            "name": "BLR ? DEL",
            "count": 1
           },
           {
            "name": "CCU ? IXR ? BBI ? BLR",
            "count": 1
           },
           {
            "name": "DEL ? LKO ? BOM ? COK",
            "count": 1
           }
          ]
         }
        },
        {
         "name": "Duration",
         "dtype": "object",
         "stats": {
          "unique_count": 3,
          "nan_count": 0,
          "categories": [
           {
            "name": "2h 50m",
            "count": 1
           },
           {
            "name": "7h 25m",
            "count": 1
           },
           {
            "name": "19h 0m",
            "count": 1
           }
          ]
         }
        },
        {
         "name": "Total_Stops",
         "dtype": "object",
         "stats": {
          "unique_count": 2,
          "nan_count": 0,
          "categories": [
           {
            "name": "2 stops",
            "count": 2
           },
           {
            "name": "non-stop",
            "count": 1
           }
          ]
         }
        },
        {
         "name": "Additional_Info",
         "dtype": "object",
         "stats": {
          "unique_count": 1,
          "nan_count": 0,
          "categories": [
           {
            "name": "No info",
            "count": 3
           }
          ]
         }
        },
        {
         "name": "Price",
         "dtype": "int64",
         "stats": {
          "unique_count": 3,
          "nan_count": 0,
          "min": "3897",
          "max": "13882",
          "histogram": [
           {
            "bin_start": 3897,
            "bin_end": 4895.5,
            "count": 1
           },
           {
            "bin_start": 4895.5,
            "bin_end": 5894,
            "count": 0
           },
           {
            "bin_start": 5894,
            "bin_end": 6892.5,
            "count": 0
           },
           {
            "bin_start": 6892.5,
            "bin_end": 7891,
            "count": 1
           },
           {
            "bin_start": 7891,
            "bin_end": 8889.5,
            "count": 0
           },
           {
            "bin_start": 8889.5,
            "bin_end": 9888,
            "count": 0
           },
           {
            "bin_start": 9888,
            "bin_end": 10886.5,
            "count": 0
           },
           {
            "bin_start": 10886.5,
            "bin_end": 11885,
            "count": 0
           },
           {
            "bin_start": 11885,
            "bin_end": 12883.5,
            "count": 0
           },
           {
            "bin_start": 12883.5,
            "bin_end": 13882,
            "count": 1
           }
          ]
         }
        },
        {
         "name": "journey_day",
         "dtype": "int64",
         "stats": {
          "unique_count": 3,
          "nan_count": 0,
          "min": "5",
          "max": "24",
          "histogram": [
           {
            "bin_start": 5,
            "bin_end": 6.9,
            "count": 2
           },
           {
            "bin_start": 6.9,
            "bin_end": 8.8,
            "count": 0
           },
           {
            "bin_start": 8.8,
            "bin_end": 10.7,
            "count": 0
           },
           {
            "bin_start": 10.7,
            "bin_end": 12.6,
            "count": 0
           },
           {
            "bin_start": 12.6,
            "bin_end": 14.5,
            "count": 0
           },
           {
            "bin_start": 14.5,
            "bin_end": 16.4,
            "count": 0
           },
           {
            "bin_start": 16.4,
            "bin_end": 18.299999999999997,
            "count": 0
           },
           {
            "bin_start": 18.299999999999997,
            "bin_end": 20.2,
            "count": 0
           },
           {
            "bin_start": 20.2,
            "bin_end": 22.099999999999998,
            "count": 0
           },
           {
            "bin_start": 22.099999999999998,
            "bin_end": 24,
            "count": 1
           }
          ]
         }
        },
        {
         "name": "journey_month",
         "dtype": "int64",
         "stats": {
          "unique_count": 3,
          "nan_count": 0,
          "min": "1",
          "max": "9",
          "histogram": [
           {
            "bin_start": 1,
            "bin_end": 1.8,
            "count": 1
           },
           {
            "bin_start": 1.8,
            "bin_end": 2.6,
            "count": 0
           },
           {
            "bin_start": 2.6,
            "bin_end": 3.4000000000000004,
            "count": 1
           },
           {
            "bin_start": 3.4000000000000004,
            "bin_end": 4.2,
            "count": 0
           },
           {
            "bin_start": 4.2,
            "bin_end": 5,
            "count": 0
           },
           {
            "bin_start": 5,
            "bin_end": 5.800000000000001,
            "count": 0
           },
           {
            "bin_start": 5.800000000000001,
            "bin_end": 6.6000000000000005,
            "count": 0
           },
           {
            "bin_start": 6.6000000000000005,
            "bin_end": 7.4,
            "count": 0
           },
           {
            "bin_start": 7.4,
            "bin_end": 8.2,
            "count": 0
           },
           {
            "bin_start": 8.2,
            "bin_end": 9,
            "count": 1
           }
          ]
         }
        },
        {
         "name": "journey_year",
         "dtype": "int64",
         "stats": {
          "unique_count": 1,
          "nan_count": 0,
          "min": "2019",
          "max": "2019",
          "histogram": [
           {
            "bin_start": 2018.5,
            "bin_end": 2018.6,
            "count": 0
           },
           {
            "bin_start": 2018.6,
            "bin_end": 2018.7,
            "count": 0
           },
           {
            "bin_start": 2018.7,
            "bin_end": 2018.8,
            "count": 0
           },
           {
            "bin_start": 2018.8,
            "bin_end": 2018.9,
            "count": 0
           },
           {
            "bin_start": 2018.9,
            "bin_end": 2019,
            "count": 0
           },
           {
            "bin_start": 2019,
            "bin_end": 2019.1,
            "count": 3
           },
           {
            "bin_start": 2019.1,
            "bin_end": 2019.2,
            "count": 0
           },
           {
            "bin_start": 2019.2,
            "bin_end": 2019.3,
            "count": 0
           },
           {
            "bin_start": 2019.3,
            "bin_end": 2019.4,
            "count": 0
           },
           {
            "bin_start": 2019.4,
            "bin_end": 2019.5,
            "count": 0
           }
          ]
         }
        },
        {
         "name": "Dep_Time_hour",
         "dtype": "int64",
         "stats": {
          "unique_count": 3,
          "nan_count": 0,
          "min": "5",
          "max": "22",
          "histogram": [
           {
            "bin_start": 5,
            "bin_end": 6.7,
            "count": 1
           },
           {
            "bin_start": 6.7,
            "bin_end": 8.4,
            "count": 0
           },
           {
            "bin_start": 8.4,
            "bin_end": 10.1,
            "count": 1
           },
           {
            "bin_start": 10.1,
            "bin_end": 11.8,
            "count": 0
           },
           {
            "bin_start": 11.8,
            "bin_end": 13.5,
            "count": 0
           },
           {
            "bin_start": 13.5,
            "bin_end": 15.2,
            "count": 0
           },
           {
            "bin_start": 15.2,
            "bin_end": 16.9,
            "count": 0
           },
           {
            "bin_start": 16.9,
            "bin_end": 18.6,
            "count": 0
           },
           {
            "bin_start": 18.6,
            "bin_end": 20.299999999999997,
            "count": 0
           },
           {
            "bin_start": 20.299999999999997,
            "bin_end": 22,
            "count": 1
           }
          ]
         }
        },
        {
         "name": "Dep_Time_minute",
         "dtype": "int64",
         "stats": {
          "unique_count": 3,
          "nan_count": 0,
          "min": "20",
          "max": "50",
          "histogram": [
           {
            "bin_start": 20,
            "bin_end": 23,
            "count": 1
           },
           {
            "bin_start": 23,
            "bin_end": 26,
            "count": 1
           },
           {
            "bin_start": 26,
            "bin_end": 29,
            "count": 0
           },
           {
            "bin_start": 29,
            "bin_end": 32,
            "count": 0
           },
           {
            "bin_start": 32,
            "bin_end": 35,
            "count": 0
           },
           {
            "bin_start": 35,
            "bin_end": 38,
            "count": 0
           },
           {
            "bin_start": 38,
            "bin_end": 41,
            "count": 0
           },
           {
            "bin_start": 41,
            "bin_end": 44,
            "count": 0
           },
           {
            "bin_start": 44,
            "bin_end": 47,
            "count": 0
           },
           {
            "bin_start": 47,
            "bin_end": 50,
            "count": 1
           }
          ]
         }
        },
        {
         "name": "Arrival_Time_hour",
         "dtype": "int64",
         "stats": {
          "unique_count": 3,
          "nan_count": 0,
          "min": "1",
          "max": "13",
          "histogram": [
           {
            "bin_start": 1,
            "bin_end": 2.2,
            "count": 1
           },
           {
            "bin_start": 2.2,
            "bin_end": 3.4,
            "count": 0
           },
           {
            "bin_start": 3.4,
            "bin_end": 4.6,
            "count": 1
           },
           {
            "bin_start": 4.6,
            "bin_end": 5.8,
            "count": 0
           },
           {
            "bin_start": 5.8,
            "bin_end": 7,
            "count": 0
           },
           {
            "bin_start": 7,
            "bin_end": 8.2,
            "count": 0
           },
           {
            "bin_start": 8.2,
            "bin_end": 9.4,
            "count": 0
           },
           {
            "bin_start": 9.4,
            "bin_end": 10.6,
            "count": 0
           },
           {
            "bin_start": 10.6,
            "bin_end": 11.799999999999999,
            "count": 0
           },
           {
            "bin_start": 11.799999999999999,
            "bin_end": 13,
            "count": 1
           }
          ]
         }
        },
        {
         "name": "Arrival_Time_minute",
         "dtype": "int64",
         "stats": {
          "unique_count": 3,
          "nan_count": 0,
          "min": "10",
          "max": "25",
          "histogram": [
           {
            "bin_start": 10,
            "bin_end": 11.5,
            "count": 1
           },
           {
            "bin_start": 11.5,
            "bin_end": 13,
            "count": 0
           },
           {
            "bin_start": 13,
            "bin_end": 14.5,
            "count": 0
           },
           {
            "bin_start": 14.5,
            "bin_end": 16,
            "count": 1
           },
           {
            "bin_start": 16,
            "bin_end": 17.5,
            "count": 0
           },
           {
            "bin_start": 17.5,
            "bin_end": 19,
            "count": 0
           },
           {
            "bin_start": 19,
            "bin_end": 20.5,
            "count": 0
           },
           {
            "bin_start": 20.5,
            "bin_end": 22,
            "count": 0
           },
           {
            "bin_start": 22,
            "bin_end": 23.5,
            "count": 0
           },
           {
            "bin_start": 23.5,
            "bin_end": 25,
            "count": 1
           }
          ]
         }
        },
        {
         "name": "Duration_hours",
         "dtype": "int64",
         "stats": {
          "unique_count": 3,
          "nan_count": 0,
          "min": "2",
          "max": "19",
          "histogram": [
           {
            "bin_start": 2,
            "bin_end": 3.7,
            "count": 1
           },
           {
            "bin_start": 3.7,
            "bin_end": 5.4,
            "count": 0
           },
           {
            "bin_start": 5.4,
            "bin_end": 7.1,
            "count": 1
           },
           {
            "bin_start": 7.1,
            "bin_end": 8.8,
            "count": 0
           },
           {
            "bin_start": 8.8,
            "bin_end": 10.5,
            "count": 0
           },
           {
            "bin_start": 10.5,
            "bin_end": 12.2,
            "count": 0
           },
           {
            "bin_start": 12.2,
            "bin_end": 13.9,
            "count": 0
           },
           {
            "bin_start": 13.9,
            "bin_end": 15.6,
            "count": 0
           },
           {
            "bin_start": 15.6,
            "bin_end": 17.299999999999997,
            "count": 0
           },
           {
            "bin_start": 17.299999999999997,
            "bin_end": 19,
            "count": 1
           }
          ]
         }
        },
        {
         "name": "Duration_mins",
         "dtype": "int64",
         "stats": {
          "unique_count": 3,
          "nan_count": 0,
          "min": "0",
          "max": "50",
          "histogram": [
           {
            "bin_start": 0,
            "bin_end": 5,
            "count": 1
           },
           {
            "bin_start": 5,
            "bin_end": 10,
            "count": 0
           },
           {
            "bin_start": 10,
            "bin_end": 15,
            "count": 0
           },
           {
            "bin_start": 15,
            "bin_end": 20,
            "count": 0
           },
           {
            "bin_start": 20,
            "bin_end": 25,
            "count": 0
           },
           {
            "bin_start": 25,
            "bin_end": 30,
            "count": 1
           },
           {
            "bin_start": 30,
            "bin_end": 35,
            "count": 0
           },
           {
            "bin_start": 35,
            "bin_end": 40,
            "count": 0
           },
           {
            "bin_start": 40,
            "bin_end": 45,
            "count": 0
           },
           {
            "bin_start": 45,
            "bin_end": 50,
            "count": 1
           }
          ]
         }
        },
        {
         "name": "_deepnote_index_column",
         "dtype": "int64"
        }
       ],
       "rows": [
        {
         "Airline": "IndiGo",
         "Source": "Banglore",
         "Destination": "New Delhi",
         "Route": "BLR ? DEL",
         "Duration": "2h 50m",
         "Total_Stops": "non-stop",
         "Additional_Info": "No info",
         "Price": 3897,
         "journey_day": 24,
         "journey_month": 3,
         "journey_year": 2019,
         "Dep_Time_hour": 22,
         "Dep_Time_minute": 20,
         "Arrival_Time_hour": 1,
         "Arrival_Time_minute": 10,
         "Duration_hours": 2,
         "Duration_mins": 50,
         "_deepnote_index_column": 0
        },
        {
         "Airline": "Air India",
         "Source": "Kolkata",
         "Destination": "Banglore",
         "Route": "CCU ? IXR ? BBI ? BLR",
         "Duration": "7h 25m",
         "Total_Stops": "2 stops",
         "Additional_Info": "No info",
         "Price": 7662,
         "journey_day": 5,
         "journey_month": 1,
         "journey_year": 2019,
         "Dep_Time_hour": 5,
         "Dep_Time_minute": 50,
         "Arrival_Time_hour": 13,
         "Arrival_Time_minute": 15,
         "Duration_hours": 7,
         "Duration_mins": 25,
         "_deepnote_index_column": 1
        },
        {
         "Airline": "Jet Airways",
         "Source": "Delhi",
         "Destination": "Cochin",
         "Route": "DEL ? LKO ? BOM ? COK",
         "Duration": "19h 0m",
         "Total_Stops": "2 stops",
         "Additional_Info": "No info",
         "Price": 13882,
         "journey_day": 6,
         "journey_month": 9,
         "journey_year": 2019,
         "Dep_Time_hour": 9,
         "Dep_Time_minute": 25,
         "Arrival_Time_hour": 4,
         "Arrival_Time_minute": 25,
         "Duration_hours": 19,
         "Duration_mins": 0,
         "_deepnote_index_column": 2
        }
       ]
      },
      "text/plain": "       Airline    Source Destination                  Route Duration  \\\n0       IndiGo  Banglore   New Delhi              BLR ? DEL   2h 50m   \n1    Air India   Kolkata    Banglore  CCU ? IXR ? BBI ? BLR   7h 25m   \n2  Jet Airways     Delhi      Cochin  DEL ? LKO ? BOM ? COK   19h 0m   \n\n  Total_Stops Additional_Info  Price  journey_day  journey_month  \\\n0    non-stop         No info   3897           24              3   \n1     2 stops         No info   7662            5              1   \n2     2 stops         No info  13882            6              9   \n\n   journey_year  Dep_Time_hour  Dep_Time_minute  Arrival_Time_hour  \\\n0          2019             22               20                  1   \n1          2019              5               50                 13   \n2          2019              9               25                  4   \n\n   Arrival_Time_minute  Duration_hours  Duration_mins  \n0                   10               2             50  \n1                   15               7             25  \n2                   25              19              0  ",
      "text/html": "<div>\n<style scoped>\n    .dataframe tbody tr th:only-of-type {\n        vertical-align: middle;\n    }\n\n    .dataframe tbody tr th {\n        vertical-align: top;\n    }\n\n    .dataframe thead th {\n        text-align: right;\n    }\n</style>\n<table border=\"1\" class=\"dataframe\">\n  <thead>\n    <tr style=\"text-align: right;\">\n      <th></th>\n      <th>Airline</th>\n      <th>Source</th>\n      <th>Destination</th>\n      <th>Route</th>\n      <th>Duration</th>\n      <th>Total_Stops</th>\n      <th>Additional_Info</th>\n      <th>Price</th>\n      <th>journey_day</th>\n      <th>journey_month</th>\n      <th>journey_year</th>\n      <th>Dep_Time_hour</th>\n      <th>Dep_Time_minute</th>\n      <th>Arrival_Time_hour</th>\n      <th>Arrival_Time_minute</th>\n      <th>Duration_hours</th>\n      <th>Duration_mins</th>\n    </tr>\n  </thead>\n  <tbody>\n    <tr>\n      <th>0</th>\n      <td>IndiGo</td>\n      <td>Banglore</td>\n      <td>New Delhi</td>\n      <td>BLR ? DEL</td>\n      <td>2h 50m</td>\n      <td>non-stop</td>\n      <td>No info</td>\n      <td>3897</td>\n      <td>24</td>\n      <td>3</td>\n      <td>2019</td>\n      <td>22</td>\n      <td>20</td>\n      <td>1</td>\n      <td>10</td>\n      <td>2</td>\n      <td>50</td>\n    </tr>\n    <tr>\n      <th>1</th>\n      <td>Air India</td>\n      <td>Kolkata</td>\n      <td>Banglore</td>\n      <td>CCU ? IXR ? BBI ? BLR</td>\n      <td>7h 25m</td>\n      <td>2 stops</td>\n      <td>No info</td>\n      <td>7662</td>\n      <td>5</td>\n      <td>1</td>\n      <td>2019</td>\n      <td>5</td>\n      <td>50</td>\n      <td>13</td>\n      <td>15</td>\n      <td>7</td>\n      <td>25</td>\n    </tr>\n    <tr>\n      <th>2</th>\n      <td>Jet Airways</td>\n      <td>Delhi</td>\n      <td>Cochin</td>\n      <td>DEL ? LKO ? BOM ? COK</td>\n      <td>19h 0m</td>\n      <td>2 stops</td>\n      <td>No info</td>\n      <td>13882</td>\n      <td>6</td>\n      <td>9</td>\n      <td>2019</td>\n      <td>9</td>\n      <td>25</td>\n      <td>4</td>\n      <td>25</td>\n      <td>19</td>\n      <td>0</td>\n    </tr>\n  </tbody>\n</table>\n</div>"
     },
     "metadata": {}
    }
   ]
  },
  {
   "cell_type": "code",
   "metadata": {
    "cell_id": "00088-acdf57d0-e747-4589-b4a5-80b9e8b24cfa",
    "deepnote_to_be_reexecuted": false,
    "source_hash": "b623e53d",
    "execution_start": 1660916819952,
    "execution_millis": 37,
    "deepnote_cell_type": "code",
    "deepnote_cell_height": 76
   },
   "source": "",
   "execution_count": 45,
   "outputs": []
  },
  {
   "cell_type": "markdown",
   "source": "## Lets Analyse whether Duration impacts on Price or not ?",
   "metadata": {
    "cell_id": "00089-b09a7e0d-e463-4432-b659-8295c90ee01b",
    "deepnote_cell_type": "markdown",
    "deepnote_cell_height": 70
   }
  },
  {
   "cell_type": "code",
   "metadata": {
    "cell_id": "00090-2c01866a-9f86-403f-90da-30a91d5ccd31",
    "deepnote_to_be_reexecuted": false,
    "source_hash": "58b07b80",
    "execution_start": 1660916819990,
    "execution_millis": 28,
    "deepnote_cell_type": "code",
    "deepnote_cell_height": 112.1875,
    "deepnote_output_heights": [
     20.1875
    ]
   },
   "source": "'2*60+50*1'",
   "execution_count": 46,
   "outputs": [
    {
     "output_type": "execute_result",
     "execution_count": 46,
     "data": {
      "text/plain": "'2*60+50*1'"
     },
     "metadata": {}
    }
   ]
  },
  {
   "cell_type": "code",
   "metadata": {
    "cell_id": "00091-1d105224-7749-4bdc-bb67-ccb138701f81",
    "deepnote_to_be_reexecuted": false,
    "source_hash": "6eb06244",
    "execution_start": 1660916819992,
    "execution_millis": 24976258,
    "deepnote_cell_type": "code",
    "deepnote_cell_height": 135.1875,
    "deepnote_output_heights": [
     20.1875
    ]
   },
   "source": "### eval is a in-built function of python which evaluates the “String” like a python expression and returns the result as an integer.\neval('2*60+50*1')",
   "execution_count": 47,
   "outputs": [
    {
     "output_type": "execute_result",
     "execution_count": 47,
     "data": {
      "text/plain": "170"
     },
     "metadata": {}
    }
   ]
  },
  {
   "cell_type": "code",
   "metadata": {
    "cell_id": "00093-b199b8d4-77ab-4349-819c-ad35f2bb1eac",
    "deepnote_to_be_reexecuted": false,
    "source_hash": "ed2ab336",
    "execution_start": 1660916820002,
    "execution_millis": 224,
    "deepnote_cell_type": "code",
    "deepnote_cell_height": 81
   },
   "source": "data['Duration_total_mins']=data['Duration'].str.replace('h','*60').str.replace(' ','+').str.replace('m','*1').apply(eval)",
   "execution_count": 48,
   "outputs": []
  },
  {
   "cell_type": "code",
   "metadata": {
    "cell_id": "00094-c1518300-f955-4fd5-9111-92dd8c1c4e85",
    "deepnote_to_be_reexecuted": false,
    "source_hash": "f7a45459",
    "execution_start": 1660916820205,
    "execution_millis": 22,
    "deepnote_cell_type": "code",
    "deepnote_cell_height": 283.796875
   },
   "source": "data.head(2)",
   "execution_count": 49,
   "outputs": [
    {
     "output_type": "execute_result",
     "execution_count": 49,
     "data": {
      "application/vnd.deepnote.dataframe.v3+json": {
       "column_count": 18,
       "row_count": 2,
       "columns": [
        {
         "name": "Airline",
         "dtype": "object",
         "stats": {
          "unique_count": 2,
          "nan_count": 0,
          "categories": [
           {
            "name": "IndiGo",
            "count": 1
           },
           {
            "name": "Air India",
            "count": 1
           }
          ]
         }
        },
        {
         "name": "Source",
         "dtype": "object",
         "stats": {
          "unique_count": 2,
          "nan_count": 0,
          "categories": [
           {
            "name": "Banglore",
            "count": 1
           },
           {
            "name": "Kolkata",
            "count": 1
           }
          ]
         }
        },
        {
         "name": "Destination",
         "dtype": "object",
         "stats": {
          "unique_count": 2,
          "nan_count": 0,
          "categories": [
           {
            "name": "New Delhi",
            "count": 1
           },
           {
            "name": "Banglore",
            "count": 1
           }
          ]
         }
        },
        {
         "name": "Route",
         "dtype": "object",
         "stats": {
          "unique_count": 2,
          "nan_count": 0,
          "categories": [
           {
            "name": "BLR ? DEL",
            "count": 1
           },
           {
            "name": "CCU ? IXR ? BBI ? BLR",
            "count": 1
           }
          ]
         }
        },
        {
         "name": "Duration",
         "dtype": "object",
         "stats": {
          "unique_count": 2,
          "nan_count": 0,
          "categories": [
           {
            "name": "2h 50m",
            "count": 1
           },
           {
            "name": "7h 25m",
            "count": 1
           }
          ]
         }
        },
        {
         "name": "Total_Stops",
         "dtype": "object",
         "stats": {
          "unique_count": 2,
          "nan_count": 0,
          "categories": [
           {
            "name": "non-stop",
            "count": 1
           },
           {
            "name": "2 stops",
            "count": 1
           }
          ]
         }
        },
        {
         "name": "Additional_Info",
         "dtype": "object",
         "stats": {
          "unique_count": 1,
          "nan_count": 0,
          "categories": [
           {
            "name": "No info",
            "count": 2
           }
          ]
         }
        },
        {
         "name": "Price",
         "dtype": "int64",
         "stats": {
          "unique_count": 2,
          "nan_count": 0,
          "min": "3897",
          "max": "7662",
          "histogram": [
           {
            "bin_start": 3897,
            "bin_end": 4273.5,
            "count": 1
           },
           {
            "bin_start": 4273.5,
            "bin_end": 4650,
            "count": 0
           },
           {
            "bin_start": 4650,
            "bin_end": 5026.5,
            "count": 0
           },
           {
            "bin_start": 5026.5,
            "bin_end": 5403,
            "count": 0
           },
           {
            "bin_start": 5403,
            "bin_end": 5779.5,
            "count": 0
           },
           {
            "bin_start": 5779.5,
            "bin_end": 6156,
            "count": 0
           },
           {
            "bin_start": 6156,
            "bin_end": 6532.5,
            "count": 0
           },
           {
            "bin_start": 6532.5,
            "bin_end": 6909,
            "count": 0
           },
           {
            "bin_start": 6909,
            "bin_end": 7285.5,
            "count": 0
           },
           {
            "bin_start": 7285.5,
            "bin_end": 7662,
            "count": 1
           }
          ]
         }
        },
        {
         "name": "journey_day",
         "dtype": "int64",
         "stats": {
          "unique_count": 2,
          "nan_count": 0,
          "min": "5",
          "max": "24",
          "histogram": [
           {
            "bin_start": 5,
            "bin_end": 6.9,
            "count": 1
           },
           {
            "bin_start": 6.9,
            "bin_end": 8.8,
            "count": 0
           },
           {
            "bin_start": 8.8,
            "bin_end": 10.7,
            "count": 0
           },
           {
            "bin_start": 10.7,
            "bin_end": 12.6,
            "count": 0
           },
           {
            "bin_start": 12.6,
            "bin_end": 14.5,
            "count": 0
           },
           {
            "bin_start": 14.5,
            "bin_end": 16.4,
            "count": 0
           },
           {
            "bin_start": 16.4,
            "bin_end": 18.299999999999997,
            "count": 0
           },
           {
            "bin_start": 18.299999999999997,
            "bin_end": 20.2,
            "count": 0
           },
           {
            "bin_start": 20.2,
            "bin_end": 22.099999999999998,
            "count": 0
           },
           {
            "bin_start": 22.099999999999998,
            "bin_end": 24,
            "count": 1
           }
          ]
         }
        },
        {
         "name": "journey_month",
         "dtype": "int64",
         "stats": {
          "unique_count": 2,
          "nan_count": 0,
          "min": "1",
          "max": "3",
          "histogram": [
           {
            "bin_start": 1,
            "bin_end": 1.2,
            "count": 1
           },
           {
            "bin_start": 1.2,
            "bin_end": 1.4,
            "count": 0
           },
           {
            "bin_start": 1.4,
            "bin_end": 1.6,
            "count": 0
           },
           {
            "bin_start": 1.6,
            "bin_end": 1.8,
            "count": 0
           },
           {
            "bin_start": 1.8,
            "bin_end": 2,
            "count": 0
           },
           {
            "bin_start": 2,
            "bin_end": 2.2,
            "count": 0
           },
           {
            "bin_start": 2.2,
            "bin_end": 2.4000000000000004,
            "count": 0
           },
           {
            "bin_start": 2.4000000000000004,
            "bin_end": 2.6,
            "count": 0
           },
           {
            "bin_start": 2.6,
            "bin_end": 2.8,
            "count": 0
           },
           {
            "bin_start": 2.8,
            "bin_end": 3,
            "count": 1
           }
          ]
         }
        },
        {
         "name": "journey_year",
         "dtype": "int64",
         "stats": {
          "unique_count": 1,
          "nan_count": 0,
          "min": "2019",
          "max": "2019",
          "histogram": [
           {
            "bin_start": 2018.5,
            "bin_end": 2018.6,
            "count": 0
           },
           {
            "bin_start": 2018.6,
            "bin_end": 2018.7,
            "count": 0
           },
           {
            "bin_start": 2018.7,
            "bin_end": 2018.8,
            "count": 0
           },
           {
            "bin_start": 2018.8,
            "bin_end": 2018.9,
            "count": 0
           },
           {
            "bin_start": 2018.9,
            "bin_end": 2019,
            "count": 0
           },
           {
            "bin_start": 2019,
            "bin_end": 2019.1,
            "count": 2
           },
           {
            "bin_start": 2019.1,
            "bin_end": 2019.2,
            "count": 0
           },
           {
            "bin_start": 2019.2,
            "bin_end": 2019.3,
            "count": 0
           },
           {
            "bin_start": 2019.3,
            "bin_end": 2019.4,
            "count": 0
           },
           {
            "bin_start": 2019.4,
            "bin_end": 2019.5,
            "count": 0
           }
          ]
         }
        },
        {
         "name": "Dep_Time_hour",
         "dtype": "int64",
         "stats": {
          "unique_count": 2,
          "nan_count": 0,
          "min": "5",
          "max": "22",
          "histogram": [
           {
            "bin_start": 5,
            "bin_end": 6.7,
            "count": 1
           },
           {
            "bin_start": 6.7,
            "bin_end": 8.4,
            "count": 0
           },
           {
            "bin_start": 8.4,
            "bin_end": 10.1,
            "count": 0
           },
           {
            "bin_start": 10.1,
            "bin_end": 11.8,
            "count": 0
           },
           {
            "bin_start": 11.8,
            "bin_end": 13.5,
            "count": 0
           },
           {
            "bin_start": 13.5,
            "bin_end": 15.2,
            "count": 0
           },
           {
            "bin_start": 15.2,
            "bin_end": 16.9,
            "count": 0
           },
           {
            "bin_start": 16.9,
            "bin_end": 18.6,
            "count": 0
           },
           {
            "bin_start": 18.6,
            "bin_end": 20.299999999999997,
            "count": 0
           },
           {
            "bin_start": 20.299999999999997,
            "bin_end": 22,
            "count": 1
           }
          ]
         }
        },
        {
         "name": "Dep_Time_minute",
         "dtype": "int64",
         "stats": {
          "unique_count": 2,
          "nan_count": 0,
          "min": "20",
          "max": "50",
          "histogram": [
           {
            "bin_start": 20,
            "bin_end": 23,
            "count": 1
           },
           {
            "bin_start": 23,
            "bin_end": 26,
            "count": 0
           },
           {
            "bin_start": 26,
            "bin_end": 29,
            "count": 0
           },
           {
            "bin_start": 29,
            "bin_end": 32,
            "count": 0
           },
           {
            "bin_start": 32,
            "bin_end": 35,
            "count": 0
           },
           {
            "bin_start": 35,
            "bin_end": 38,
            "count": 0
           },
           {
            "bin_start": 38,
            "bin_end": 41,
            "count": 0
           },
           {
            "bin_start": 41,
            "bin_end": 44,
            "count": 0
           },
           {
            "bin_start": 44,
            "bin_end": 47,
            "count": 0
           },
           {
            "bin_start": 47,
            "bin_end": 50,
            "count": 1
           }
          ]
         }
        },
        {
         "name": "Arrival_Time_hour",
         "dtype": "int64",
         "stats": {
          "unique_count": 2,
          "nan_count": 0,
          "min": "1",
          "max": "13",
          "histogram": [
           {
            "bin_start": 1,
            "bin_end": 2.2,
            "count": 1
           },
           {
            "bin_start": 2.2,
            "bin_end": 3.4,
            "count": 0
           },
           {
            "bin_start": 3.4,
            "bin_end": 4.6,
            "count": 0
           },
           {
            "bin_start": 4.6,
            "bin_end": 5.8,
            "count": 0
           },
           {
            "bin_start": 5.8,
            "bin_end": 7,
            "count": 0
           },
           {
            "bin_start": 7,
            "bin_end": 8.2,
            "count": 0
           },
           {
            "bin_start": 8.2,
            "bin_end": 9.4,
            "count": 0
           },
           {
            "bin_start": 9.4,
            "bin_end": 10.6,
            "count": 0
           },
           {
            "bin_start": 10.6,
            "bin_end": 11.799999999999999,
            "count": 0
           },
           {
            "bin_start": 11.799999999999999,
            "bin_end": 13,
            "count": 1
           }
          ]
         }
        },
        {
         "name": "Arrival_Time_minute",
         "dtype": "int64",
         "stats": {
          "unique_count": 2,
          "nan_count": 0,
          "min": "10",
          "max": "15",
          "histogram": [
           {
            "bin_start": 10,
            "bin_end": 10.5,
            "count": 1
           },
           {
            "bin_start": 10.5,
            "bin_end": 11,
            "count": 0
           },
           {
            "bin_start": 11,
            "bin_end": 11.5,
            "count": 0
           },
           {
            "bin_start": 11.5,
            "bin_end": 12,
            "count": 0
           },
           {
            "bin_start": 12,
            "bin_end": 12.5,
            "count": 0
           },
           {
            "bin_start": 12.5,
            "bin_end": 13,
            "count": 0
           },
           {
            "bin_start": 13,
            "bin_end": 13.5,
            "count": 0
           },
           {
            "bin_start": 13.5,
            "bin_end": 14,
            "count": 0
           },
           {
            "bin_start": 14,
            "bin_end": 14.5,
            "count": 0
           },
           {
            "bin_start": 14.5,
            "bin_end": 15,
            "count": 1
           }
          ]
         }
        },
        {
         "name": "Duration_hours",
         "dtype": "int64",
         "stats": {
          "unique_count": 2,
          "nan_count": 0,
          "min": "2",
          "max": "7",
          "histogram": [
           {
            "bin_start": 2,
            "bin_end": 2.5,
            "count": 1
           },
           {
            "bin_start": 2.5,
            "bin_end": 3,
            "count": 0
           },
           {
            "bin_start": 3,
            "bin_end": 3.5,
            "count": 0
           },
           {
            "bin_start": 3.5,
            "bin_end": 4,
            "count": 0
           },
           {
            "bin_start": 4,
            "bin_end": 4.5,
            "count": 0
           },
           {
            "bin_start": 4.5,
            "bin_end": 5,
            "count": 0
           },
           {
            "bin_start": 5,
            "bin_end": 5.5,
            "count": 0
           },
           {
            "bin_start": 5.5,
            "bin_end": 6,
            "count": 0
           },
           {
            "bin_start": 6,
            "bin_end": 6.5,
            "count": 0
           },
           {
            "bin_start": 6.5,
            "bin_end": 7,
            "count": 1
           }
          ]
         }
        },
        {
         "name": "Duration_mins",
         "dtype": "int64",
         "stats": {
          "unique_count": 2,
          "nan_count": 0,
          "min": "25",
          "max": "50",
          "histogram": [
           {
            "bin_start": 25,
            "bin_end": 27.5,
            "count": 1
           },
           {
            "bin_start": 27.5,
            "bin_end": 30,
            "count": 0
           },
           {
            "bin_start": 30,
            "bin_end": 32.5,
            "count": 0
           },
           {
            "bin_start": 32.5,
            "bin_end": 35,
            "count": 0
           },
           {
            "bin_start": 35,
            "bin_end": 37.5,
            "count": 0
           },
           {
            "bin_start": 37.5,
            "bin_end": 40,
            "count": 0
           },
           {
            "bin_start": 40,
            "bin_end": 42.5,
            "count": 0
           },
           {
            "bin_start": 42.5,
            "bin_end": 45,
            "count": 0
           },
           {
            "bin_start": 45,
            "bin_end": 47.5,
            "count": 0
           },
           {
            "bin_start": 47.5,
            "bin_end": 50,
            "count": 1
           }
          ]
         }
        },
        {
         "name": "Duration_total_mins",
         "dtype": "int64",
         "stats": {
          "unique_count": 2,
          "nan_count": 0,
          "min": "170",
          "max": "445",
          "histogram": [
           {
            "bin_start": 170,
            "bin_end": 197.5,
            "count": 1
           },
           {
            "bin_start": 197.5,
            "bin_end": 225,
            "count": 0
           },
           {
            "bin_start": 225,
            "bin_end": 252.5,
            "count": 0
           },
           {
            "bin_start": 252.5,
            "bin_end": 280,
            "count": 0
           },
           {
            "bin_start": 280,
            "bin_end": 307.5,
            "count": 0
           },
           {
            "bin_start": 307.5,
            "bin_end": 335,
            "count": 0
           },
           {
            "bin_start": 335,
            "bin_end": 362.5,
            "count": 0
           },
           {
            "bin_start": 362.5,
            "bin_end": 390,
            "count": 0
           },
           {
            "bin_start": 390,
            "bin_end": 417.5,
            "count": 0
           },
           {
            "bin_start": 417.5,
            "bin_end": 445,
            "count": 1
           }
          ]
         }
        },
        {
         "name": "_deepnote_index_column",
         "dtype": "int64"
        }
       ],
       "rows": [
        {
         "Airline": "IndiGo",
         "Source": "Banglore",
         "Destination": "New Delhi",
         "Route": "BLR ? DEL",
         "Duration": "2h 50m",
         "Total_Stops": "non-stop",
         "Additional_Info": "No info",
         "Price": 3897,
         "journey_day": 24,
         "journey_month": 3,
         "journey_year": 2019,
         "Dep_Time_hour": 22,
         "Dep_Time_minute": 20,
         "Arrival_Time_hour": 1,
         "Arrival_Time_minute": 10,
         "Duration_hours": 2,
         "Duration_mins": 50,
         "Duration_total_mins": 170,
         "_deepnote_index_column": 0
        },
        {
         "Airline": "Air India",
         "Source": "Kolkata",
         "Destination": "Banglore",
         "Route": "CCU ? IXR ? BBI ? BLR",
         "Duration": "7h 25m",
         "Total_Stops": "2 stops",
         "Additional_Info": "No info",
         "Price": 7662,
         "journey_day": 5,
         "journey_month": 1,
         "journey_year": 2019,
         "Dep_Time_hour": 5,
         "Dep_Time_minute": 50,
         "Arrival_Time_hour": 13,
         "Arrival_Time_minute": 15,
         "Duration_hours": 7,
         "Duration_mins": 25,
         "Duration_total_mins": 445,
         "_deepnote_index_column": 1
        }
       ]
      },
      "text/plain": "     Airline    Source Destination                  Route Duration  \\\n0     IndiGo  Banglore   New Delhi              BLR ? DEL   2h 50m   \n1  Air India   Kolkata    Banglore  CCU ? IXR ? BBI ? BLR   7h 25m   \n\n  Total_Stops Additional_Info  Price  journey_day  journey_month  \\\n0    non-stop         No info   3897           24              3   \n1     2 stops         No info   7662            5              1   \n\n   journey_year  Dep_Time_hour  Dep_Time_minute  Arrival_Time_hour  \\\n0          2019             22               20                  1   \n1          2019              5               50                 13   \n\n   Arrival_Time_minute  Duration_hours  Duration_mins  Duration_total_mins  \n0                   10               2             50                  170  \n1                   15               7             25                  445  ",
      "text/html": "<div>\n<style scoped>\n    .dataframe tbody tr th:only-of-type {\n        vertical-align: middle;\n    }\n\n    .dataframe tbody tr th {\n        vertical-align: top;\n    }\n\n    .dataframe thead th {\n        text-align: right;\n    }\n</style>\n<table border=\"1\" class=\"dataframe\">\n  <thead>\n    <tr style=\"text-align: right;\">\n      <th></th>\n      <th>Airline</th>\n      <th>Source</th>\n      <th>Destination</th>\n      <th>Route</th>\n      <th>Duration</th>\n      <th>Total_Stops</th>\n      <th>Additional_Info</th>\n      <th>Price</th>\n      <th>journey_day</th>\n      <th>journey_month</th>\n      <th>journey_year</th>\n      <th>Dep_Time_hour</th>\n      <th>Dep_Time_minute</th>\n      <th>Arrival_Time_hour</th>\n      <th>Arrival_Time_minute</th>\n      <th>Duration_hours</th>\n      <th>Duration_mins</th>\n      <th>Duration_total_mins</th>\n    </tr>\n  </thead>\n  <tbody>\n    <tr>\n      <th>0</th>\n      <td>IndiGo</td>\n      <td>Banglore</td>\n      <td>New Delhi</td>\n      <td>BLR ? DEL</td>\n      <td>2h 50m</td>\n      <td>non-stop</td>\n      <td>No info</td>\n      <td>3897</td>\n      <td>24</td>\n      <td>3</td>\n      <td>2019</td>\n      <td>22</td>\n      <td>20</td>\n      <td>1</td>\n      <td>10</td>\n      <td>2</td>\n      <td>50</td>\n      <td>170</td>\n    </tr>\n    <tr>\n      <th>1</th>\n      <td>Air India</td>\n      <td>Kolkata</td>\n      <td>Banglore</td>\n      <td>CCU ? IXR ? BBI ? BLR</td>\n      <td>7h 25m</td>\n      <td>2 stops</td>\n      <td>No info</td>\n      <td>7662</td>\n      <td>5</td>\n      <td>1</td>\n      <td>2019</td>\n      <td>5</td>\n      <td>50</td>\n      <td>13</td>\n      <td>15</td>\n      <td>7</td>\n      <td>25</td>\n      <td>445</td>\n    </tr>\n  </tbody>\n</table>\n</div>"
     },
     "metadata": {}
    }
   ]
  },
  {
   "cell_type": "code",
   "metadata": {
    "cell_id": "00095-7f4f6937-3cc3-47ab-8320-f2cb700ea108",
    "deepnote_to_be_reexecuted": false,
    "source_hash": "f3eb050f",
    "execution_start": 1660916820205,
    "execution_millis": 1316,
    "deepnote_cell_type": "code",
    "deepnote_cell_height": 609.1875,
    "deepnote_output_heights": [
     20.1875,
     353
    ]
   },
   "source": "#### It Plot data and regression model fits across a FacetGrid.. (combination of 'regplot` and :class:`FacetGrid)\n#### its a extended form of scatter plot..\n\nsns.lmplot(x='Duration_total_mins',y='Price',data=data)\n\n\n## Conclusion-->> pretty clear that As the duration of minutes increases Flight price also increases.",
   "execution_count": 50,
   "outputs": [
    {
     "output_type": "execute_result",
     "execution_count": 50,
     "data": {
      "text/plain": "<seaborn.axisgrid.FacetGrid at 0x7f598537c520>"
     },
     "metadata": {}
    },
    {
     "data": {
      "text/plain": "<Figure size 360x360 with 1 Axes>",
      "image/png": "[encoded data removed]"
     },
     "metadata": {
      "needs_background": "light",
      "image/png": {
       "width": 352,
       "height": 352
      }
     },
     "output_type": "display_data"
    }
   ]
  },
  {
   "cell_type": "code",
   "metadata": {
    "cell_id": "00097-3e97907a-2bc8-4a4e-8c09-1326b524a01b",
    "deepnote_to_be_reexecuted": false,
    "source_hash": "b623e53d",
    "execution_start": 1660916821524,
    "execution_millis": 0,
    "deepnote_cell_type": "code",
    "deepnote_cell_height": 76
   },
   "source": "",
   "execution_count": 50,
   "outputs": []
  },
  {
   "cell_type": "markdown",
   "source": "## which city has maximum final destination of flights ?",
   "metadata": {
    "cell_id": "00098-941438cc-ba80-49b3-9bfb-244047a91301",
    "deepnote_cell_type": "markdown",
    "deepnote_cell_height": 70
   }
  },
  {
   "cell_type": "code",
   "metadata": {
    "cell_id": "00099-361d58ff-2539-472f-b60f-a7a441fa3c68",
    "deepnote_to_be_reexecuted": false,
    "source_hash": "9dba6608",
    "execution_start": 1660916821533,
    "execution_millis": 2,
    "deepnote_cell_type": "code",
    "deepnote_cell_height": 131.375,
    "deepnote_output_heights": [
     39.390625
    ]
   },
   "source": "data['Destination'].unique()",
   "execution_count": 51,
   "outputs": [
    {
     "output_type": "execute_result",
     "execution_count": 51,
     "data": {
      "text/plain": "array(['New Delhi', 'Banglore', 'Cochin', 'Kolkata', 'Delhi', 'Hyderabad'],\n      dtype=object)"
     },
     "metadata": {}
    }
   ]
  },
  {
   "cell_type": "code",
   "metadata": {
    "cell_id": "00100-69d379d2-32dd-4ba7-a687-d7fd6fd0a5be",
    "deepnote_to_be_reexecuted": false,
    "source_hash": "2c468faf",
    "execution_start": 1660916821540,
    "execution_millis": 166,
    "deepnote_cell_type": "code",
    "deepnote_cell_height": 375.1875,
    "deepnote_output_heights": [
     20.1875,
     232
    ]
   },
   "source": "data['Destination'].value_counts().plot(kind='pie')",
   "execution_count": 52,
   "outputs": [
    {
     "output_type": "execute_result",
     "execution_count": 52,
     "data": {
      "text/plain": "<AxesSubplot:ylabel='Destination'>"
     },
     "metadata": {}
    },
    {
     "data": {
      "text/plain": "<Figure size 432x288 with 1 Axes>",
      "image/png": "[encoded data removed]"
     },
     "metadata": {
      "image/png": {
       "width": 290,
       "height": 231
      }
     },
     "output_type": "display_data"
    }
   ]
  },
  {
   "cell_type": "markdown",
   "source": "Final destination of majority of flights is Cochin",
   "metadata": {
    "cell_id": "72d2a2237bef4ad6a36279adbc90e8cd",
    "tags": [],
    "deepnote_cell_type": "markdown",
    "deepnote_cell_height": 52.390625
   }
  },
  {
   "cell_type": "markdown",
   "source": "## Lets Perform Exploratory Data Analysis(Bivariate Analysis) to come up with some business insights\n    Problem Statement-->> on which route Jet Airways is extremely used???",
   "metadata": {
    "cell_id": "00103-b248c08a-f8cf-4862-8e94-8b071cc7b70a",
    "deepnote_cell_type": "markdown",
    "deepnote_cell_height": 166.796875
   }
  },
  {
   "cell_type": "code",
   "metadata": {
    "cell_id": "00104-dd065859-1c21-4b6c-8e09-35e861c23ea0",
    "deepnote_to_be_reexecuted": false,
    "source_hash": "ce4037b6",
    "execution_start": 1660916821709,
    "execution_millis": 11,
    "deepnote_cell_type": "code",
    "deepnote_cell_height": 323.375,
    "deepnote_output_heights": [
     231.390625
    ]
   },
   "source": "data['Route']",
   "execution_count": 53,
   "outputs": [
    {
     "output_type": "execute_result",
     "execution_count": 53,
     "data": {
      "text/plain": "0                    BLR ? DEL\n1        CCU ? IXR ? BBI ? BLR\n2        DEL ? LKO ? BOM ? COK\n3              CCU ? NAG ? BLR\n4              BLR ? NAG ? DEL\n                 ...          \n10678                CCU ? BLR\n10679                CCU ? BLR\n10680                BLR ? DEL\n10681                BLR ? DEL\n10682    DEL ? GOI ? BOM ? COK\nName: Route, Length: 10682, dtype: object"
     },
     "metadata": {}
    }
   ]
  },
  {
   "cell_type": "code",
   "metadata": {
    "cell_id": "00105-7addb5b1-43c9-4912-abf4-e66a1d7f4ac7",
    "deepnote_to_be_reexecuted": false,
    "source_hash": "c0d767fe",
    "execution_start": 1660916821725,
    "execution_millis": 10,
    "deepnote_cell_type": "code",
    "deepnote_cell_height": 702,
    "deepnote_output_heights": [
     610
    ]
   },
   "source": "data[data['Airline']=='Jet Airways'].groupby('Route').size().sort_values(ascending=False)",
   "execution_count": 54,
   "outputs": [
    {
     "output_type": "execute_result",
     "execution_count": 54,
     "data": {
      "text/plain": "Route\nCCU ? BOM ? BLR          930\nDEL ? BOM ? COK          875\nBLR ? BOM ? DEL          385\nBLR ? DEL                382\nCCU ? DEL ? BLR          300\nBOM ? HYD                207\nDEL ? JAI ? BOM ? COK    207\nDEL ? AMD ? BOM ? COK    141\nDEL ? IDR ? BOM ? COK     86\nDEL ? NAG ? BOM ? COK     61\nDEL ? ATQ ? BOM ? COK     38\nDEL ? COK                 34\nDEL ? BHO ? BOM ? COK     29\nDEL ? BDQ ? BOM ? COK     28\nDEL ? LKO ? BOM ? COK     25\nDEL ? JDH ? BOM ? COK     23\nCCU ? GAU ? BLR           22\nDEL ? MAA ? BOM ? COK     16\nDEL ? IXC ? BOM ? COK     13\nBLR ? MAA ? DEL           10\nBLR ? BDQ ? DEL            8\nDEL ? UDR ? BOM ? COK      7\nBOM ? DEL ? HYD            5\nCCU ? BOM ? PNQ ? BLR      4\nBLR ? BOM ? JDH ? DEL      3\nDEL ? DED ? BOM ? COK      2\nBOM ? BDQ ? DEL ? HYD      2\nDEL ? CCU ? BOM ? COK      1\nBOM ? VNS ? DEL ? HYD      1\nBOM ? UDR ? DEL ? HYD      1\nBOM ? JDH ? DEL ? HYD      1\nBOM ? IDR ? DEL ? HYD      1\nBOM ? DED ? DEL ? HYD      1\ndtype: int64"
     },
     "metadata": {}
    }
   ]
  },
  {
   "cell_type": "code",
   "metadata": {
    "cell_id": "00106-abbc6a22-a899-43b8-bdb5-d019392a73ff",
    "deepnote_to_be_reexecuted": false,
    "source_hash": "b623e53d",
    "execution_start": 1660916821737,
    "execution_millis": 24976630,
    "deepnote_cell_type": "code",
    "deepnote_cell_height": 76
   },
   "source": "",
   "execution_count": 54,
   "outputs": []
  },
  {
   "cell_type": "markdown",
   "source": "## Airline vs Price Analysis\n    ie finding price distribution & 5-point summary of each Airline..",
   "metadata": {
    "cell_id": "00107-bd09237e-8e34-44c9-afc3-34fc6a76d287",
    "deepnote_cell_type": "markdown",
    "deepnote_cell_height": 126.796875
   }
  },
  {
   "cell_type": "code",
   "metadata": {
    "cell_id": "00108-cb082cc6-f841-4562-a498-ffc785c563ef",
    "deepnote_to_be_reexecuted": false,
    "source_hash": "bff218fd",
    "execution_start": 1660916821781,
    "execution_millis": 857,
    "deepnote_cell_type": "code",
    "deepnote_cell_height": 873.65625,
    "deepnote_output_heights": [
     250.59375,
     464.078125
    ]
   },
   "source": "plt.figure(figsize=(15,5))\nsns.boxplot(y='Price',x='Airline',data=data)\nplt.xticks(rotation='vertical')",
   "execution_count": 55,
   "outputs": [
    {
     "output_type": "execute_result",
     "execution_count": 55,
     "data": {
      "text/plain": "(array([ 0,  1,  2,  3,  4,  5,  6,  7,  8,  9, 10, 11]),\n [Text(0, 0, 'IndiGo'),\n  Text(1, 0, 'Air India'),\n  Text(2, 0, 'Jet Airways'),\n  Text(3, 0, 'SpiceJet'),\n  Text(4, 0, 'Multiple carriers'),\n  Text(5, 0, 'GoAir'),\n  Text(6, 0, 'Vistara'),\n  Text(7, 0, 'Air Asia'),\n  Text(8, 0, 'Vistara Premium economy'),\n  Text(9, 0, 'Jet Airways Business'),\n  Text(10, 0, 'Multiple carriers Premium economy'),\n  Text(11, 0, 'Trujet')])"
     },
     "metadata": {}
    },
    {
     "data": {
      "text/plain": "<Figure size 1080x360 with 1 Axes>",
      "image/png": "[encoded data removed]"
     },
     "metadata": {
      "needs_background": "light",
      "image/png": {
       "width": 903,
       "height": 484
      }
     },
     "output_type": "display_data"
    }
   ]
  },
  {
   "cell_type": "markdown",
   "source": "Conclusion--> From graph we can see that Jet Airways Business have the highest Price., Apart from the first Airline almost all are having similar median",
   "metadata": {
    "cell_id": "3bb56e1a4279432081539b7e6a480bfb",
    "tags": [],
    "deepnote_cell_type": "markdown",
    "deepnote_cell_height": 74.796875
   }
  },
  {
   "cell_type": "code",
   "metadata": {
    "cell_id": "00109-f8bd23ba-34d0-426a-a4ac-627d52d2ce1f",
    "deepnote_to_be_reexecuted": false,
    "source_hash": "b623e53d",
    "execution_start": 1660916822242,
    "execution_millis": 4,
    "deepnote_cell_type": "code",
    "deepnote_cell_height": 76
   },
   "source": "",
   "execution_count": 55,
   "outputs": []
  },
  {
   "cell_type": "code",
   "metadata": {
    "cell_id": "00110-70111411-6ecd-4944-8cea-c63f83c174f0",
    "deepnote_to_be_reexecuted": false,
    "source_hash": "b623e53d",
    "execution_start": 1660916822247,
    "execution_millis": 11,
    "deepnote_cell_type": "code",
    "deepnote_cell_height": 76
   },
   "source": "",
   "execution_count": 55,
   "outputs": []
  },
  {
   "cell_type": "code",
   "metadata": {
    "cell_id": "00111-db100281-40e5-4573-963a-3603d647204d",
    "deepnote_to_be_reexecuted": false,
    "source_hash": "b623e53d",
    "execution_start": 1660916822258,
    "execution_millis": 0,
    "deepnote_cell_type": "code",
    "deepnote_cell_height": 76
   },
   "source": "",
   "execution_count": 55,
   "outputs": []
  },
  {
   "cell_type": "code",
   "metadata": {
    "cell_id": "00112-01d2e9e0-a60b-4bb3-a2bb-252884a3b23c",
    "deepnote_to_be_reexecuted": false,
    "source_hash": "7528801e",
    "execution_start": 1660916822259,
    "execution_millis": 3,
    "deepnote_cell_type": "code",
    "deepnote_cell_height": 76
   },
   "source": "### when we need boxplot + distribution both , its good to consider violinplot..",
   "execution_count": 56,
   "outputs": []
  },
  {
   "cell_type": "code",
   "metadata": {
    "cell_id": "00113-4806f3eb-a831-4277-a056-5fb132afb14d",
    "deepnote_to_be_reexecuted": false,
    "source_hash": "275cd32",
    "execution_start": 1660916822306,
    "execution_millis": 505,
    "deepnote_cell_type": "code",
    "deepnote_cell_height": 112,
    "deepnote_output_heights": [
     250.59375,
     462.421875
    ]
   },
   "source": "plt.figure(figsize=(15,5))\nsns.violinplot(y='Price',x='Airline',data=data)\nplt.xticks(rotation='vertical')",
   "execution_count": 57,
   "outputs": [
    {
     "output_type": "execute_result",
     "execution_count": 57,
     "data": {
      "text/plain": "(array([ 0,  1,  2,  3,  4,  5,  6,  7,  8,  9, 10, 11]),\n [Text(0, 0, 'IndiGo'),\n  Text(1, 0, 'Air India'),\n  Text(2, 0, 'Jet Airways'),\n  Text(3, 0, 'SpiceJet'),\n  Text(4, 0, 'Multiple carriers'),\n  Text(5, 0, 'GoAir'),\n  Text(6, 0, 'Vistara'),\n  Text(7, 0, 'Air Asia'),\n  Text(8, 0, 'Vistara Premium economy'),\n  Text(9, 0, 'Jet Airways Business'),\n  Text(10, 0, 'Multiple carriers Premium economy'),\n  Text(11, 0, 'Trujet')])"
     },
     "metadata": {}
    },
    {
     "data": {
      "text/plain": "<Figure size 1080x360 with 1 Axes>",
      "image/png": "[encoded data removed]"
     },
     "metadata": {
      "needs_background": "light",
      "image/png": {
       "width": 910,
       "height": 486
      }
     },
     "output_type": "display_data"
    }
   ]
  },
  {
   "cell_type": "code",
   "metadata": {
    "cell_id": "00114-8e8d831b-63db-4368-b795-0341fd006d15",
    "deepnote_to_be_reexecuted": false,
    "source_hash": "b623e53d",
    "execution_start": 1660916822814,
    "execution_millis": 4,
    "deepnote_cell_type": "code",
    "deepnote_cell_height": 76
   },
   "source": "",
   "execution_count": 57,
   "outputs": []
  },
  {
   "cell_type": "code",
   "metadata": {
    "cell_id": "00115-2e1c826c-d4e9-421d-b14a-0fc3fcc8ca1b",
    "deepnote_to_be_reexecuted": false,
    "source_hash": "b623e53d",
    "execution_start": 1660916822820,
    "execution_millis": 4,
    "deepnote_cell_type": "code",
    "deepnote_cell_height": 76
   },
   "source": "",
   "execution_count": 57,
   "outputs": []
  },
  {
   "cell_type": "markdown",
   "source": "## Lets Perform Feature-Encoding on Data !\n    Applying one-hot on data !",
   "metadata": {
    "cell_id": "00116-5bcee1b9-8bd8-47fd-85f8-1f3a628f6c07",
    "deepnote_cell_type": "markdown",
    "deepnote_cell_height": 126.796875
   }
  },
  {
   "cell_type": "code",
   "metadata": {
    "cell_id": "00117-2315311b-f582-4505-a9f7-0383215a6ab2",
    "deepnote_to_be_reexecuted": false,
    "source_hash": "b623e53d",
    "execution_start": 1660916822829,
    "execution_millis": 24976784,
    "deepnote_cell_type": "code",
    "deepnote_cell_height": 76
   },
   "source": "",
   "execution_count": 57,
   "outputs": []
  },
  {
   "cell_type": "code",
   "metadata": {
    "cell_id": "00118-59fedfb8-f5ca-4e9f-bac6-5b435f22bee4",
    "deepnote_to_be_reexecuted": false,
    "source_hash": "3622fc7",
    "execution_start": 1660916822874,
    "execution_millis": 24976790,
    "deepnote_cell_type": "code",
    "deepnote_cell_height": 76
   },
   "source": "## but lets remove some of the un-necessary features !",
   "execution_count": 58,
   "outputs": []
  },
  {
   "cell_type": "code",
   "metadata": {
    "cell_id": "00119-85588d14-7756-4c72-a597-90d0edc6250c",
    "deepnote_to_be_reexecuted": false,
    "source_hash": "92b779f2",
    "execution_start": 1660916822874,
    "execution_millis": 41,
    "deepnote_cell_type": "code",
    "deepnote_cell_height": 365.796875
   },
   "source": "data.head(4)",
   "execution_count": 59,
   "outputs": [
    {
     "output_type": "execute_result",
     "execution_count": 59,
     "data": {
      "application/vnd.deepnote.dataframe.v3+json": {
       "column_count": 18,
       "row_count": 4,
       "columns": [
        {
         "name": "Airline",
         "dtype": "object",
         "stats": {
          "unique_count": 3,
          "nan_count": 0,
          "categories": [
           {
            "name": "IndiGo",
            "count": 2
           },
           {
            "name": "Air India",
            "count": 1
           },
           {
            "name": "Jet Airways",
            "count": 1
           }
          ]
         }
        },
        {
         "name": "Source",
         "dtype": "object",
         "stats": {
          "unique_count": 3,
          "nan_count": 0,
          "categories": [
           {
            "name": "Kolkata",
            "count": 2
           },
           {
            "name": "Banglore",
            "count": 1
           },
           {
            "name": "Delhi",
            "count": 1
           }
          ]
         }
        },
        {
         "name": "Destination",
         "dtype": "object",
         "stats": {
          "unique_count": 3,
          "nan_count": 0,
          "categories": [
           {
            "name": "Banglore",
            "count": 2
           },
           {
            "name": "New Delhi",
            "count": 1
           },
           {
            "name": "Cochin",
            "count": 1
           }
          ]
         }
        },
        {
         "name": "Route",
         "dtype": "object",
         "stats": {
          "unique_count": 4,
          "nan_count": 0,
          "categories": [
           {
            "name": "BLR ? DEL",
            "count": 1
           },
           {
            "name": "CCU ? IXR ? BBI ? BLR",
            "count": 1
           },
           {
            "name": "2 others",
            "count": 2
           }
          ]
         }
        },
        {
         "name": "Duration",
         "dtype": "object",
         "stats": {
          "unique_count": 4,
          "nan_count": 0,
          "categories": [
           {
            "name": "2h 50m",
            "count": 1
           },
           {
            "name": "7h 25m",
            "count": 1
           },
           {
            "name": "2 others",
            "count": 2
           }
          ]
         }
        },
        {
         "name": "Total_Stops",
         "dtype": "object",
         "stats": {
          "unique_count": 3,
          "nan_count": 0,
          "categories": [
           {
            "name": "2 stops",
            "count": 2
           },
           {
            "name": "non-stop",
            "count": 1
           },
           {
            "name": "1 stop",
            "count": 1
           }
          ]
         }
        },
        {
         "name": "Additional_Info",
         "dtype": "object",
         "stats": {
          "unique_count": 1,
          "nan_count": 0,
          "categories": [
           {
            "name": "No info",
            "count": 4
           }
          ]
         }
        },
        {
         "name": "Price",
         "dtype": "int64",
         "stats": {
          "unique_count": 4,
          "nan_count": 0,
          "min": "3897",
          "max": "13882",
          "histogram": [
           {
            "bin_start": 3897,
            "bin_end": 4895.5,
            "count": 1
           },
           {
            "bin_start": 4895.5,
            "bin_end": 5894,
            "count": 0
           },
           {
            "bin_start": 5894,
            "bin_end": 6892.5,
            "count": 1
           },
           {
            "bin_start": 6892.5,
            "bin_end": 7891,
            "count": 1
           },
           {
            "bin_start": 7891,
            "bin_end": 8889.5,
            "count": 0
           },
           {
            "bin_start": 8889.5,
            "bin_end": 9888,
            "count": 0
           },
           {
            "bin_start": 9888,
            "bin_end": 10886.5,
            "count": 0
           },
           {
            "bin_start": 10886.5,
            "bin_end": 11885,
            "count": 0
           },
           {
            "bin_start": 11885,
            "bin_end": 12883.5,
            "count": 0
           },
           {
            "bin_start": 12883.5,
            "bin_end": 13882,
            "count": 1
           }
          ]
         }
        },
        {
         "name": "journey_day",
         "dtype": "int64",
         "stats": {
          "unique_count": 3,
          "nan_count": 0,
          "min": "5",
          "max": "24",
          "histogram": [
           {
            "bin_start": 5,
            "bin_end": 6.9,
            "count": 3
           },
           {
            "bin_start": 6.9,
            "bin_end": 8.8,
            "count": 0
           },
           {
            "bin_start": 8.8,
            "bin_end": 10.7,
            "count": 0
           },
           {
            "bin_start": 10.7,
            "bin_end": 12.6,
            "count": 0
           },
           {
            "bin_start": 12.6,
            "bin_end": 14.5,
            "count": 0
           },
           {
            "bin_start": 14.5,
            "bin_end": 16.4,
            "count": 0
           },
           {
            "bin_start": 16.4,
            "bin_end": 18.299999999999997,
            "count": 0
           },
           {
            "bin_start": 18.299999999999997,
            "bin_end": 20.2,
            "count": 0
           },
           {
            "bin_start": 20.2,
            "bin_end": 22.099999999999998,
            "count": 0
           },
           {
            "bin_start": 22.099999999999998,
            "bin_end": 24,
            "count": 1
           }
          ]
         }
        },
        {
         "name": "journey_month",
         "dtype": "int64",
         "stats": {
          "unique_count": 4,
          "nan_count": 0,
          "min": "1",
          "max": "12",
          "histogram": [
           {
            "bin_start": 1,
            "bin_end": 2.1,
            "count": 1
           },
           {
            "bin_start": 2.1,
            "bin_end": 3.2,
            "count": 1
           },
           {
            "bin_start": 3.2,
            "bin_end": 4.300000000000001,
            "count": 0
           },
           {
            "bin_start": 4.300000000000001,
            "bin_end": 5.4,
            "count": 0
           },
           {
            "bin_start": 5.4,
            "bin_end": 6.5,
            "count": 0
           },
           {
            "bin_start": 6.5,
            "bin_end": 7.6000000000000005,
            "count": 0
           },
           {
            "bin_start": 7.6000000000000005,
            "bin_end": 8.700000000000001,
            "count": 0
           },
           {
            "bin_start": 8.700000000000001,
            "bin_end": 9.8,
            "count": 1
           },
           {
            "bin_start": 9.8,
            "bin_end": 10.9,
            "count": 0
           },
           {
            "bin_start": 10.9,
            "bin_end": 12,
            "count": 1
           }
          ]
         }
        },
        {
         "name": "journey_year",
         "dtype": "int64",
         "stats": {
          "unique_count": 1,
          "nan_count": 0,
          "min": "2019",
          "max": "2019",
          "histogram": [
           {
            "bin_start": 2018.5,
            "bin_end": 2018.6,
            "count": 0
           },
           {
            "bin_start": 2018.6,
            "bin_end": 2018.7,
            "count": 0
           },
           {
            "bin_start": 2018.7,
            "bin_end": 2018.8,
            "count": 0
           },
           {
            "bin_start": 2018.8,
            "bin_end": 2018.9,
            "count": 0
           },
           {
            "bin_start": 2018.9,
            "bin_end": 2019,
            "count": 0
           },
           {
            "bin_start": 2019,
            "bin_end": 2019.1,
            "count": 4
           },
           {
            "bin_start": 2019.1,
            "bin_end": 2019.2,
            "count": 0
           },
           {
            "bin_start": 2019.2,
            "bin_end": 2019.3,
            "count": 0
           },
           {
            "bin_start": 2019.3,
            "bin_end": 2019.4,
            "count": 0
           },
           {
            "bin_start": 2019.4,
            "bin_end": 2019.5,
            "count": 0
           }
          ]
         }
        },
        {
         "name": "Dep_Time_hour",
         "dtype": "int64",
         "stats": {
          "unique_count": 4,
          "nan_count": 0,
          "min": "5",
          "max": "22",
          "histogram": [
           {
            "bin_start": 5,
            "bin_end": 6.7,
            "count": 1
           },
           {
            "bin_start": 6.7,
            "bin_end": 8.4,
            "count": 0
           },
           {
            "bin_start": 8.4,
            "bin_end": 10.1,
            "count": 1
           },
           {
            "bin_start": 10.1,
            "bin_end": 11.8,
            "count": 0
           },
           {
            "bin_start": 11.8,
            "bin_end": 13.5,
            "count": 0
           },
           {
            "bin_start": 13.5,
            "bin_end": 15.2,
            "count": 0
           },
           {
            "bin_start": 15.2,
            "bin_end": 16.9,
            "count": 0
           },
           {
            "bin_start": 16.9,
            "bin_end": 18.6,
            "count": 1
           },
           {
            "bin_start": 18.6,
            "bin_end": 20.299999999999997,
            "count": 0
           },
           {
            "bin_start": 20.299999999999997,
            "bin_end": 22,
            "count": 1
           }
          ]
         }
        },
        {
         "name": "Dep_Time_minute",
         "dtype": "int64",
         "stats": {
          "unique_count": 4,
          "nan_count": 0,
          "min": "5",
          "max": "50",
          "histogram": [
           {
            "bin_start": 5,
            "bin_end": 9.5,
            "count": 1
           },
           {
            "bin_start": 9.5,
            "bin_end": 14,
            "count": 0
           },
           {
            "bin_start": 14,
            "bin_end": 18.5,
            "count": 0
           },
           {
            "bin_start": 18.5,
            "bin_end": 23,
            "count": 1
           },
           {
            "bin_start": 23,
            "bin_end": 27.5,
            "count": 1
           },
           {
            "bin_start": 27.5,
            "bin_end": 32,
            "count": 0
           },
           {
            "bin_start": 32,
            "bin_end": 36.5,
            "count": 0
           },
           {
            "bin_start": 36.5,
            "bin_end": 41,
            "count": 0
           },
           {
            "bin_start": 41,
            "bin_end": 45.5,
            "count": 0
           },
           {
            "bin_start": 45.5,
            "bin_end": 50,
            "count": 1
           }
          ]
         }
        },
        {
         "name": "Arrival_Time_hour",
         "dtype": "int64",
         "stats": {
          "unique_count": 4,
          "nan_count": 0,
          "min": "1",
          "max": "23",
          "histogram": [
           {
            "bin_start": 1,
            "bin_end": 3.2,
            "count": 1
           },
           {
            "bin_start": 3.2,
            "bin_end": 5.4,
            "count": 1
           },
           {
            "bin_start": 5.4,
            "bin_end": 7.6000000000000005,
            "count": 0
           },
           {
            "bin_start": 7.6000000000000005,
            "bin_end": 9.8,
            "count": 0
           },
           {
            "bin_start": 9.8,
            "bin_end": 12,
            "count": 0
           },
           {
            "bin_start": 12,
            "bin_end": 14.200000000000001,
            "count": 1
           },
           {
            "bin_start": 14.200000000000001,
            "bin_end": 16.400000000000002,
            "count": 0
           },
           {
            "bin_start": 16.400000000000002,
            "bin_end": 18.6,
            "count": 0
           },
           {
            "bin_start": 18.6,
            "bin_end": 20.8,
            "count": 0
           },
           {
            "bin_start": 20.8,
            "bin_end": 23,
            "count": 1
           }
          ]
         }
        },
        {
         "name": "Arrival_Time_minute",
         "dtype": "int64",
         "stats": {
          "unique_count": 4,
          "nan_count": 0,
          "min": "10",
          "max": "30",
          "histogram": [
           {
            "bin_start": 10,
            "bin_end": 12,
            "count": 1
           },
           {
            "bin_start": 12,
            "bin_end": 14,
            "count": 0
           },
           {
            "bin_start": 14,
            "bin_end": 16,
            "count": 1
           },
           {
            "bin_start": 16,
            "bin_end": 18,
            "count": 0
           },
           {
            "bin_start": 18,
            "bin_end": 20,
            "count": 0
           },
           {
            "bin_start": 20,
            "bin_end": 22,
            "count": 0
           },
           {
            "bin_start": 22,
            "bin_end": 24,
            "count": 0
           },
           {
            "bin_start": 24,
            "bin_end": 26,
            "count": 1
           },
           {
            "bin_start": 26,
            "bin_end": 28,
            "count": 0
           },
           {
            "bin_start": 28,
            "bin_end": 30,
            "count": 1
           }
          ]
         }
        },
        {
         "name": "Duration_hours",
         "dtype": "int64",
         "stats": {
          "unique_count": 4,
          "nan_count": 0,
          "min": "2",
          "max": "19",
          "histogram": [
           {
            "bin_start": 2,
            "bin_end": 3.7,
            "count": 1
           },
           {
            "bin_start": 3.7,
            "bin_end": 5.4,
            "count": 1
           },
           {
            "bin_start": 5.4,
            "bin_end": 7.1,
            "count": 1
           },
           {
            "bin_start": 7.1,
            "bin_end": 8.8,
            "count": 0
           },
           {
            "bin_start": 8.8,
            "bin_end": 10.5,
            "count": 0
           },
           {
            "bin_start": 10.5,
            "bin_end": 12.2,
            "count": 0
           },
           {
            "bin_start": 12.2,
            "bin_end": 13.9,
            "count": 0
           },
           {
            "bin_start": 13.9,
            "bin_end": 15.6,
            "count": 0
           },
           {
            "bin_start": 15.6,
            "bin_end": 17.299999999999997,
            "count": 0
           },
           {
            "bin_start": 17.299999999999997,
            "bin_end": 19,
            "count": 1
           }
          ]
         }
        },
        {
         "name": "Duration_mins",
         "dtype": "int64",
         "stats": {
          "unique_count": 3,
          "nan_count": 0,
          "min": "0",
          "max": "50",
          "histogram": [
           {
            "bin_start": 0,
            "bin_end": 5,
            "count": 1
           },
           {
            "bin_start": 5,
            "bin_end": 10,
            "count": 0
           },
           {
            "bin_start": 10,
            "bin_end": 15,
            "count": 0
           },
           {
            "bin_start": 15,
            "bin_end": 20,
            "count": 0
           },
           {
            "bin_start": 20,
            "bin_end": 25,
            "count": 0
           },
           {
            "bin_start": 25,
            "bin_end": 30,
            "count": 2
           },
           {
            "bin_start": 30,
            "bin_end": 35,
            "count": 0
           },
           {
            "bin_start": 35,
            "bin_end": 40,
            "count": 0
           },
           {
            "bin_start": 40,
            "bin_end": 45,
            "count": 0
           },
           {
            "bin_start": 45,
            "bin_end": 50,
            "count": 1
           }
          ]
         }
        },
        {
         "name": "Duration_total_mins",
         "dtype": "int64",
         "stats": {
          "unique_count": 4,
          "nan_count": 0,
          "min": "170",
          "max": "1140",
          "histogram": [
           {
            "bin_start": 170,
            "bin_end": 267,
            "count": 1
           },
           {
            "bin_start": 267,
            "bin_end": 364,
            "count": 1
           },
           {
            "bin_start": 364,
            "bin_end": 461,
            "count": 1
           },
           {
            "bin_start": 461,
            "bin_end": 558,
            "count": 0
           },
           {
            "bin_start": 558,
            "bin_end": 655,
            "count": 0
           },
           {
            "bin_start": 655,
            "bin_end": 752,
            "count": 0
           },
           {
            "bin_start": 752,
            "bin_end": 849,
            "count": 0
           },
           {
            "bin_start": 849,
            "bin_end": 946,
            "count": 0
           },
           {
            "bin_start": 946,
            "bin_end": 1043,
            "count": 0
           },
           {
            "bin_start": 1043,
            "bin_end": 1140,
            "count": 1
           }
          ]
         }
        },
        {
         "name": "_deepnote_index_column",
         "dtype": "int64"
        }
       ],
       "rows": [
        {
         "Airline": "IndiGo",
         "Source": "Banglore",
         "Destination": "New Delhi",
         "Route": "BLR ? DEL",
         "Duration": "2h 50m",
         "Total_Stops": "non-stop",
         "Additional_Info": "No info",
         "Price": 3897,
         "journey_day": 24,
         "journey_month": 3,
         "journey_year": 2019,
         "Dep_Time_hour": 22,
         "Dep_Time_minute": 20,
         "Arrival_Time_hour": 1,
         "Arrival_Time_minute": 10,
         "Duration_hours": 2,
         "Duration_mins": 50,
         "Duration_total_mins": 170,
         "_deepnote_index_column": 0
        },
        {
         "Airline": "Air India",
         "Source": "Kolkata",
         "Destination": "Banglore",
         "Route": "CCU ? IXR ? BBI ? BLR",
         "Duration": "7h 25m",
         "Total_Stops": "2 stops",
         "Additional_Info": "No info",
         "Price": 7662,
         "journey_day": 5,
         "journey_month": 1,
         "journey_year": 2019,
         "Dep_Time_hour": 5,
         "Dep_Time_minute": 50,
         "Arrival_Time_hour": 13,
         "Arrival_Time_minute": 15,
         "Duration_hours": 7,
         "Duration_mins": 25,
         "Duration_total_mins": 445,
         "_deepnote_index_column": 1
        },
        {
         "Airline": "Jet Airways",
         "Source": "Delhi",
         "Destination": "Cochin",
         "Route": "DEL ? LKO ? BOM ? COK",
         "Duration": "19h 0m",
         "Total_Stops": "2 stops",
         "Additional_Info": "No info",
         "Price": 13882,
         "journey_day": 6,
         "journey_month": 9,
         "journey_year": 2019,
         "Dep_Time_hour": 9,
         "Dep_Time_minute": 25,
         "Arrival_Time_hour": 4,
         "Arrival_Time_minute": 25,
         "Duration_hours": 19,
         "Duration_mins": 0,
         "Duration_total_mins": 1140,
         "_deepnote_index_column": 2
        },
        {
         "Airline": "IndiGo",
         "Source": "Kolkata",
         "Destination": "Banglore",
         "Route": "CCU ? NAG ? BLR",
         "Duration": "5h 25m",
         "Total_Stops": "1 stop",
         "Additional_Info": "No info",
         "Price": 6218,
         "journey_day": 5,
         "journey_month": 12,
         "journey_year": 2019,
         "Dep_Time_hour": 18,
         "Dep_Time_minute": 5,
         "Arrival_Time_hour": 23,
         "Arrival_Time_minute": 30,
         "Duration_hours": 5,
         "Duration_mins": 25,
         "Duration_total_mins": 325,
         "_deepnote_index_column": 3
        }
       ]
      },
      "text/plain": "       Airline    Source Destination                  Route Duration  \\\n0       IndiGo  Banglore   New Delhi              BLR ? DEL   2h 50m   \n1    Air India   Kolkata    Banglore  CCU ? IXR ? BBI ? BLR   7h 25m   \n2  Jet Airways     Delhi      Cochin  DEL ? LKO ? BOM ? COK   19h 0m   \n3       IndiGo   Kolkata    Banglore        CCU ? NAG ? BLR   5h 25m   \n\n  Total_Stops Additional_Info  Price  journey_day  journey_month  \\\n0    non-stop         No info   3897           24              3   \n1     2 stops         No info   7662            5              1   \n2     2 stops         No info  13882            6              9   \n3      1 stop         No info   6218            5             12   \n\n   journey_year  Dep_Time_hour  Dep_Time_minute  Arrival_Time_hour  \\\n0          2019             22               20                  1   \n1          2019              5               50                 13   \n2          2019              9               25                  4   \n3          2019             18                5                 23   \n\n   Arrival_Time_minute  Duration_hours  Duration_mins  Duration_total_mins  \n0                   10               2             50                  170  \n1                   15               7             25                  445  \n2                   25              19              0                 1140  \n3                   30               5             25                  325  ",
      "text/html": "<div>\n<style scoped>\n    .dataframe tbody tr th:only-of-type {\n        vertical-align: middle;\n    }\n\n    .dataframe tbody tr th {\n        vertical-align: top;\n    }\n\n    .dataframe thead th {\n        text-align: right;\n    }\n</style>\n<table border=\"1\" class=\"dataframe\">\n  <thead>\n    <tr style=\"text-align: right;\">\n      <th></th>\n      <th>Airline</th>\n      <th>Source</th>\n      <th>Destination</th>\n      <th>Route</th>\n      <th>Duration</th>\n      <th>Total_Stops</th>\n      <th>Additional_Info</th>\n      <th>Price</th>\n      <th>journey_day</th>\n      <th>journey_month</th>\n      <th>journey_year</th>\n      <th>Dep_Time_hour</th>\n      <th>Dep_Time_minute</th>\n      <th>Arrival_Time_hour</th>\n      <th>Arrival_Time_minute</th>\n      <th>Duration_hours</th>\n      <th>Duration_mins</th>\n      <th>Duration_total_mins</th>\n    </tr>\n  </thead>\n  <tbody>\n    <tr>\n      <th>0</th>\n      <td>IndiGo</td>\n      <td>Banglore</td>\n      <td>New Delhi</td>\n      <td>BLR ? DEL</td>\n      <td>2h 50m</td>\n      <td>non-stop</td>\n      <td>No info</td>\n      <td>3897</td>\n      <td>24</td>\n      <td>3</td>\n      <td>2019</td>\n      <td>22</td>\n      <td>20</td>\n      <td>1</td>\n      <td>10</td>\n      <td>2</td>\n      <td>50</td>\n      <td>170</td>\n    </tr>\n    <tr>\n      <th>1</th>\n      <td>Air India</td>\n      <td>Kolkata</td>\n      <td>Banglore</td>\n      <td>CCU ? IXR ? BBI ? BLR</td>\n      <td>7h 25m</td>\n      <td>2 stops</td>\n      <td>No info</td>\n      <td>7662</td>\n      <td>5</td>\n      <td>1</td>\n      <td>2019</td>\n      <td>5</td>\n      <td>50</td>\n      <td>13</td>\n      <td>15</td>\n      <td>7</td>\n      <td>25</td>\n      <td>445</td>\n    </tr>\n    <tr>\n      <th>2</th>\n      <td>Jet Airways</td>\n      <td>Delhi</td>\n      <td>Cochin</td>\n      <td>DEL ? LKO ? BOM ? COK</td>\n      <td>19h 0m</td>\n      <td>2 stops</td>\n      <td>No info</td>\n      <td>13882</td>\n      <td>6</td>\n      <td>9</td>\n      <td>2019</td>\n      <td>9</td>\n      <td>25</td>\n      <td>4</td>\n      <td>25</td>\n      <td>19</td>\n      <td>0</td>\n      <td>1140</td>\n    </tr>\n    <tr>\n      <th>3</th>\n      <td>IndiGo</td>\n      <td>Kolkata</td>\n      <td>Banglore</td>\n      <td>CCU ? NAG ? BLR</td>\n      <td>5h 25m</td>\n      <td>1 stop</td>\n      <td>No info</td>\n      <td>6218</td>\n      <td>5</td>\n      <td>12</td>\n      <td>2019</td>\n      <td>18</td>\n      <td>5</td>\n      <td>23</td>\n      <td>30</td>\n      <td>5</td>\n      <td>25</td>\n      <td>325</td>\n    </tr>\n  </tbody>\n</table>\n</div>"
     },
     "metadata": {}
    }
   ]
  },
  {
   "cell_type": "code",
   "metadata": {
    "cell_id": "00120-46676b4a-de8a-49f3-aea7-daee70ce426f",
    "deepnote_to_be_reexecuted": false,
    "source_hash": "7d78b921",
    "execution_start": 1660916822921,
    "execution_millis": 6,
    "deepnote_cell_type": "code",
    "deepnote_cell_height": 304.1875,
    "deepnote_output_heights": [
     212.1875
    ]
   },
   "source": "np.round(data['Additional_Info'].value_counts()/len(data)*100,2)",
   "execution_count": 60,
   "outputs": [
    {
     "output_type": "execute_result",
     "execution_count": 60,
     "data": {
      "text/plain": "No info                         78.11\nIn-flight meal not included     18.55\nNo check-in baggage included     3.00\n1 Long layover                   0.18\nChange airports                  0.07\nBusiness class                   0.04\nNo Info                          0.03\n1 Short layover                  0.01\n2 Long layover                   0.01\nRed-eye flight                   0.01\nName: Additional_Info, dtype: float64"
     },
     "metadata": {}
    }
   ]
  },
  {
   "cell_type": "code",
   "metadata": {
    "cell_id": "00121-fe65b024-1e9f-41dc-a0e3-365cdf432004",
    "deepnote_to_be_reexecuted": false,
    "source_hash": "5f114892",
    "execution_start": 1660916822970,
    "execution_millis": 0,
    "deepnote_cell_type": "code",
    "deepnote_cell_height": 148
   },
   "source": "# Additional_Info contains almost 80% no_info,so we can drop this column\n# we can drop Route as well as we have pre-process that column\n## lets drop Duration_total_mins as we have already extracted \"Duration_hours\" & \"Duration_mins\"\n\ndata.drop(columns=['Additional_Info','Route','Duration_total_mins','journey_year'],axis=1,inplace=True)",
   "execution_count": 61,
   "outputs": []
  },
  {
   "cell_type": "code",
   "metadata": {
    "cell_id": "00122-dca8e0b1-a62f-42ef-bafb-648872457d06",
    "deepnote_to_be_reexecuted": false,
    "source_hash": "c8a8c27a",
    "execution_start": 1660916822971,
    "execution_millis": 0,
    "deepnote_cell_type": "code",
    "deepnote_cell_height": 189,
    "deepnote_output_heights": [
     97
    ]
   },
   "source": "data.columns",
   "execution_count": 62,
   "outputs": [
    {
     "output_type": "execute_result",
     "execution_count": 62,
     "data": {
      "text/plain": "Index(['Airline', 'Source', 'Destination', 'Duration', 'Total_Stops', 'Price',\n       'journey_day', 'journey_month', 'Dep_Time_hour', 'Dep_Time_minute',\n       'Arrival_Time_hour', 'Arrival_Time_minute', 'Duration_hours',\n       'Duration_mins'],\n      dtype='object')"
     },
     "metadata": {}
    }
   ]
  },
  {
   "cell_type": "code",
   "metadata": {
    "cell_id": "00123-52070383-7530-45fd-ba1b-f10d68d57f08",
    "deepnote_to_be_reexecuted": false,
    "source_hash": "92b779f2",
    "execution_start": 1660916822971,
    "execution_millis": 48,
    "deepnote_cell_type": "code",
    "deepnote_cell_height": 365.796875
   },
   "source": "data.head(4)",
   "execution_count": 63,
   "outputs": [
    {
     "output_type": "execute_result",
     "execution_count": 63,
     "data": {
      "application/vnd.deepnote.dataframe.v3+json": {
       "column_count": 14,
       "row_count": 4,
       "columns": [
        {
         "name": "Airline",
         "dtype": "object",
         "stats": {
          "unique_count": 3,
          "nan_count": 0,
          "categories": [
           {
            "name": "IndiGo",
            "count": 2
           },
           {
            "name": "Air India",
            "count": 1
           },
           {
            "name": "Jet Airways",
            "count": 1
           }
          ]
         }
        },
        {
         "name": "Source",
         "dtype": "object",
         "stats": {
          "unique_count": 3,
          "nan_count": 0,
          "categories": [
           {
            "name": "Kolkata",
            "count": 2
           },
           {
            "name": "Banglore",
            "count": 1
           },
           {
            "name": "Delhi",
            "count": 1
           }
          ]
         }
        },
        {
         "name": "Destination",
         "dtype": "object",
         "stats": {
          "unique_count": 3,
          "nan_count": 0,
          "categories": [
           {
            "name": "Banglore",
            "count": 2
           },
           {
            "name": "New Delhi",
            "count": 1
           },
           {
            "name": "Cochin",
            "count": 1
           }
          ]
         }
        },
        {
         "name": "Duration",
         "dtype": "object",
         "stats": {
          "unique_count": 4,
          "nan_count": 0,
          "categories": [
           {
            "name": "2h 50m",
            "count": 1
           },
           {
            "name": "7h 25m",
            "count": 1
           },
           {
            "name": "2 others",
            "count": 2
           }
          ]
         }
        },
        {
         "name": "Total_Stops",
         "dtype": "object",
         "stats": {
          "unique_count": 3,
          "nan_count": 0,
          "categories": [
           {
            "name": "2 stops",
            "count": 2
           },
           {
            "name": "non-stop",
            "count": 1
           },
           {
            "name": "1 stop",
            "count": 1
           }
          ]
         }
        },
        {
         "name": "Price",
         "dtype": "int64",
         "stats": {
          "unique_count": 4,
          "nan_count": 0,
          "min": "3897",
          "max": "13882",
          "histogram": [
           {
            "bin_start": 3897,
            "bin_end": 4895.5,
            "count": 1
           },
           {
            "bin_start": 4895.5,
            "bin_end": 5894,
            "count": 0
           },
           {
            "bin_start": 5894,
            "bin_end": 6892.5,
            "count": 1
           },
           {
            "bin_start": 6892.5,
            "bin_end": 7891,
            "count": 1
           },
           {
            "bin_start": 7891,
            "bin_end": 8889.5,
            "count": 0
           },
           {
            "bin_start": 8889.5,
            "bin_end": 9888,
            "count": 0
           },
           {
            "bin_start": 9888,
            "bin_end": 10886.5,
            "count": 0
           },
           {
            "bin_start": 10886.5,
            "bin_end": 11885,
            "count": 0
           },
           {
            "bin_start": 11885,
            "bin_end": 12883.5,
            "count": 0
           },
           {
            "bin_start": 12883.5,
            "bin_end": 13882,
            "count": 1
           }
          ]
         }
        },
        {
         "name": "journey_day",
         "dtype": "int64",
         "stats": {
          "unique_count": 3,
          "nan_count": 0,
          "min": "5",
          "max": "24",
          "histogram": [
           {
            "bin_start": 5,
            "bin_end": 6.9,
            "count": 3
           },
           {
            "bin_start": 6.9,
            "bin_end": 8.8,
            "count": 0
           },
           {
            "bin_start": 8.8,
            "bin_end": 10.7,
            "count": 0
           },
           {
            "bin_start": 10.7,
            "bin_end": 12.6,
            "count": 0
           },
           {
            "bin_start": 12.6,
            "bin_end": 14.5,
            "count": 0
           },
           {
            "bin_start": 14.5,
            "bin_end": 16.4,
            "count": 0
           },
           {
            "bin_start": 16.4,
            "bin_end": 18.299999999999997,
            "count": 0
           },
           {
            "bin_start": 18.299999999999997,
            "bin_end": 20.2,
            "count": 0
           },
           {
            "bin_start": 20.2,
            "bin_end": 22.099999999999998,
            "count": 0
           },
           {
            "bin_start": 22.099999999999998,
            "bin_end": 24,
            "count": 1
           }
          ]
         }
        },
        {
         "name": "journey_month",
         "dtype": "int64",
         "stats": {
          "unique_count": 4,
          "nan_count": 0,
          "min": "1",
          "max": "12",
          "histogram": [
           {
            "bin_start": 1,
            "bin_end": 2.1,
            "count": 1
           },
           {
            "bin_start": 2.1,
            "bin_end": 3.2,
            "count": 1
           },
           {
            "bin_start": 3.2,
            "bin_end": 4.300000000000001,
            "count": 0
           },
           {
            "bin_start": 4.300000000000001,
            "bin_end": 5.4,
            "count": 0
           },
           {
            "bin_start": 5.4,
            "bin_end": 6.5,
            "count": 0
           },
           {
            "bin_start": 6.5,
            "bin_end": 7.6000000000000005,
            "count": 0
           },
           {
            "bin_start": 7.6000000000000005,
            "bin_end": 8.700000000000001,
            "count": 0
           },
           {
            "bin_start": 8.700000000000001,
            "bin_end": 9.8,
            "count": 1
           },
           {
            "bin_start": 9.8,
            "bin_end": 10.9,
            "count": 0
           },
           {
            "bin_start": 10.9,
            "bin_end": 12,
            "count": 1
           }
          ]
         }
        },
        {
         "name": "Dep_Time_hour",
         "dtype": "int64",
         "stats": {
          "unique_count": 4,
          "nan_count": 0,
          "min": "5",
          "max": "22",
          "histogram": [
           {
            "bin_start": 5,
            "bin_end": 6.7,
            "count": 1
           },
           {
            "bin_start": 6.7,
            "bin_end": 8.4,
            "count": 0
           },
           {
            "bin_start": 8.4,
            "bin_end": 10.1,
            "count": 1
           },
           {
            "bin_start": 10.1,
            "bin_end": 11.8,
            "count": 0
           },
           {
            "bin_start": 11.8,
            "bin_end": 13.5,
            "count": 0
           },
           {
            "bin_start": 13.5,
            "bin_end": 15.2,
            "count": 0
           },
           {
            "bin_start": 15.2,
            "bin_end": 16.9,
            "count": 0
           },
           {
            "bin_start": 16.9,
            "bin_end": 18.6,
            "count": 1
           },
           {
            "bin_start": 18.6,
            "bin_end": 20.299999999999997,
            "count": 0
           },
           {
            "bin_start": 20.299999999999997,
            "bin_end": 22,
            "count": 1
           }
          ]
         }
        },
        {
         "name": "Dep_Time_minute",
         "dtype": "int64",
         "stats": {
          "unique_count": 4,
          "nan_count": 0,
          "min": "5",
          "max": "50",
          "histogram": [
           {
            "bin_start": 5,
            "bin_end": 9.5,
            "count": 1
           },
           {
            "bin_start": 9.5,
            "bin_end": 14,
            "count": 0
           },
           {
            "bin_start": 14,
            "bin_end": 18.5,
            "count": 0
           },
           {
            "bin_start": 18.5,
            "bin_end": 23,
            "count": 1
           },
           {
            "bin_start": 23,
            "bin_end": 27.5,
            "count": 1
           },
           {
            "bin_start": 27.5,
            "bin_end": 32,
            "count": 0
           },
           {
            "bin_start": 32,
            "bin_end": 36.5,
            "count": 0
           },
           {
            "bin_start": 36.5,
            "bin_end": 41,
            "count": 0
           },
           {
            "bin_start": 41,
            "bin_end": 45.5,
            "count": 0
           },
           {
            "bin_start": 45.5,
            "bin_end": 50,
            "count": 1
           }
          ]
         }
        },
        {
         "name": "Arrival_Time_hour",
         "dtype": "int64",
         "stats": {
          "unique_count": 4,
          "nan_count": 0,
          "min": "1",
          "max": "23",
          "histogram": [
           {
            "bin_start": 1,
            "bin_end": 3.2,
            "count": 1
           },
           {
            "bin_start": 3.2,
            "bin_end": 5.4,
            "count": 1
           },
           {
            "bin_start": 5.4,
            "bin_end": 7.6000000000000005,
            "count": 0
           },
           {
            "bin_start": 7.6000000000000005,
            "bin_end": 9.8,
            "count": 0
           },
           {
            "bin_start": 9.8,
            "bin_end": 12,
            "count": 0
           },
           {
            "bin_start": 12,
            "bin_end": 14.200000000000001,
            "count": 1
           },
           {
            "bin_start": 14.200000000000001,
            "bin_end": 16.400000000000002,
            "count": 0
           },
           {
            "bin_start": 16.400000000000002,
            "bin_end": 18.6,
            "count": 0
           },
           {
            "bin_start": 18.6,
            "bin_end": 20.8,
            "count": 0
           },
           {
            "bin_start": 20.8,
            "bin_end": 23,
            "count": 1
           }
          ]
         }
        },
        {
         "name": "Arrival_Time_minute",
         "dtype": "int64",
         "stats": {
          "unique_count": 4,
          "nan_count": 0,
          "min": "10",
          "max": "30",
          "histogram": [
           {
            "bin_start": 10,
            "bin_end": 12,
            "count": 1
           },
           {
            "bin_start": 12,
            "bin_end": 14,
            "count": 0
           },
           {
            "bin_start": 14,
            "bin_end": 16,
            "count": 1
           },
           {
            "bin_start": 16,
            "bin_end": 18,
            "count": 0
           },
           {
            "bin_start": 18,
            "bin_end": 20,
            "count": 0
           },
           {
            "bin_start": 20,
            "bin_end": 22,
            "count": 0
           },
           {
            "bin_start": 22,
            "bin_end": 24,
            "count": 0
           },
           {
            "bin_start": 24,
            "bin_end": 26,
            "count": 1
           },
           {
            "bin_start": 26,
            "bin_end": 28,
            "count": 0
           },
           {
            "bin_start": 28,
            "bin_end": 30,
            "count": 1
           }
          ]
         }
        },
        {
         "name": "Duration_hours",
         "dtype": "int64",
         "stats": {
          "unique_count": 4,
          "nan_count": 0,
          "min": "2",
          "max": "19",
          "histogram": [
           {
            "bin_start": 2,
            "bin_end": 3.7,
            "count": 1
           },
           {
            "bin_start": 3.7,
            "bin_end": 5.4,
            "count": 1
           },
           {
            "bin_start": 5.4,
            "bin_end": 7.1,
            "count": 1
           },
           {
            "bin_start": 7.1,
            "bin_end": 8.8,
            "count": 0
           },
           {
            "bin_start": 8.8,
            "bin_end": 10.5,
            "count": 0
           },
           {
            "bin_start": 10.5,
            "bin_end": 12.2,
            "count": 0
           },
           {
            "bin_start": 12.2,
            "bin_end": 13.9,
            "count": 0
           },
           {
            "bin_start": 13.9,
            "bin_end": 15.6,
            "count": 0
           },
           {
            "bin_start": 15.6,
            "bin_end": 17.299999999999997,
            "count": 0
           },
           {
            "bin_start": 17.299999999999997,
            "bin_end": 19,
            "count": 1
           }
          ]
         }
        },
        {
         "name": "Duration_mins",
         "dtype": "int64",
         "stats": {
          "unique_count": 3,
          "nan_count": 0,
          "min": "0",
          "max": "50",
          "histogram": [
           {
            "bin_start": 0,
            "bin_end": 5,
            "count": 1
           },
           {
            "bin_start": 5,
            "bin_end": 10,
            "count": 0
           },
           {
            "bin_start": 10,
            "bin_end": 15,
            "count": 0
           },
           {
            "bin_start": 15,
            "bin_end": 20,
            "count": 0
           },
           {
            "bin_start": 20,
            "bin_end": 25,
            "count": 0
           },
           {
            "bin_start": 25,
            "bin_end": 30,
            "count": 2
           },
           {
            "bin_start": 30,
            "bin_end": 35,
            "count": 0
           },
           {
            "bin_start": 35,
            "bin_end": 40,
            "count": 0
           },
           {
            "bin_start": 40,
            "bin_end": 45,
            "count": 0
           },
           {
            "bin_start": 45,
            "bin_end": 50,
            "count": 1
           }
          ]
         }
        },
        {
         "name": "_deepnote_index_column",
         "dtype": "int64"
        }
       ],
       "rows": [
        {
         "Airline": "IndiGo",
         "Source": "Banglore",
         "Destination": "New Delhi",
         "Duration": "2h 50m",
         "Total_Stops": "non-stop",
         "Price": 3897,
         "journey_day": 24,
         "journey_month": 3,
         "Dep_Time_hour": 22,
         "Dep_Time_minute": 20,
         "Arrival_Time_hour": 1,
         "Arrival_Time_minute": 10,
         "Duration_hours": 2,
         "Duration_mins": 50,
         "_deepnote_index_column": 0
        },
        {
         "Airline": "Air India",
         "Source": "Kolkata",
         "Destination": "Banglore",
         "Duration": "7h 25m",
         "Total_Stops": "2 stops",
         "Price": 7662,
         "journey_day": 5,
         "journey_month": 1,
         "Dep_Time_hour": 5,
         "Dep_Time_minute": 50,
         "Arrival_Time_hour": 13,
         "Arrival_Time_minute": 15,
         "Duration_hours": 7,
         "Duration_mins": 25,
         "_deepnote_index_column": 1
        },
        {
         "Airline": "Jet Airways",
         "Source": "Delhi",
         "Destination": "Cochin",
         "Duration": "19h 0m",
         "Total_Stops": "2 stops",
         "Price": 13882,
         "journey_day": 6,
         "journey_month": 9,
         "Dep_Time_hour": 9,
         "Dep_Time_minute": 25,
         "Arrival_Time_hour": 4,
         "Arrival_Time_minute": 25,
         "Duration_hours": 19,
         "Duration_mins": 0,
         "_deepnote_index_column": 2
        },
        {
         "Airline": "IndiGo",
         "Source": "Kolkata",
         "Destination": "Banglore",
         "Duration": "5h 25m",
         "Total_Stops": "1 stop",
         "Price": 6218,
         "journey_day": 5,
         "journey_month": 12,
         "Dep_Time_hour": 18,
         "Dep_Time_minute": 5,
         "Arrival_Time_hour": 23,
         "Arrival_Time_minute": 30,
         "Duration_hours": 5,
         "Duration_mins": 25,
         "_deepnote_index_column": 3
        }
       ]
      },
      "text/plain": "       Airline    Source Destination Duration Total_Stops  Price  journey_day  \\\n0       IndiGo  Banglore   New Delhi   2h 50m    non-stop   3897           24   \n1    Air India   Kolkata    Banglore   7h 25m     2 stops   7662            5   \n2  Jet Airways     Delhi      Cochin   19h 0m     2 stops  13882            6   \n3       IndiGo   Kolkata    Banglore   5h 25m      1 stop   6218            5   \n\n   journey_month  Dep_Time_hour  Dep_Time_minute  Arrival_Time_hour  \\\n0              3             22               20                  1   \n1              1              5               50                 13   \n2              9              9               25                  4   \n3             12             18                5                 23   \n\n   Arrival_Time_minute  Duration_hours  Duration_mins  \n0                   10               2             50  \n1                   15               7             25  \n2                   25              19              0  \n3                   30               5             25  ",
      "text/html": "<div>\n<style scoped>\n    .dataframe tbody tr th:only-of-type {\n        vertical-align: middle;\n    }\n\n    .dataframe tbody tr th {\n        vertical-align: top;\n    }\n\n    .dataframe thead th {\n        text-align: right;\n    }\n</style>\n<table border=\"1\" class=\"dataframe\">\n  <thead>\n    <tr style=\"text-align: right;\">\n      <th></th>\n      <th>Airline</th>\n      <th>Source</th>\n      <th>Destination</th>\n      <th>Duration</th>\n      <th>Total_Stops</th>\n      <th>Price</th>\n      <th>journey_day</th>\n      <th>journey_month</th>\n      <th>Dep_Time_hour</th>\n      <th>Dep_Time_minute</th>\n      <th>Arrival_Time_hour</th>\n      <th>Arrival_Time_minute</th>\n      <th>Duration_hours</th>\n      <th>Duration_mins</th>\n    </tr>\n  </thead>\n  <tbody>\n    <tr>\n      <th>0</th>\n      <td>IndiGo</td>\n      <td>Banglore</td>\n      <td>New Delhi</td>\n      <td>2h 50m</td>\n      <td>non-stop</td>\n      <td>3897</td>\n      <td>24</td>\n      <td>3</td>\n      <td>22</td>\n      <td>20</td>\n      <td>1</td>\n      <td>10</td>\n      <td>2</td>\n      <td>50</td>\n    </tr>\n    <tr>\n      <th>1</th>\n      <td>Air India</td>\n      <td>Kolkata</td>\n      <td>Banglore</td>\n      <td>7h 25m</td>\n      <td>2 stops</td>\n      <td>7662</td>\n      <td>5</td>\n      <td>1</td>\n      <td>5</td>\n      <td>50</td>\n      <td>13</td>\n      <td>15</td>\n      <td>7</td>\n      <td>25</td>\n    </tr>\n    <tr>\n      <th>2</th>\n      <td>Jet Airways</td>\n      <td>Delhi</td>\n      <td>Cochin</td>\n      <td>19h 0m</td>\n      <td>2 stops</td>\n      <td>13882</td>\n      <td>6</td>\n      <td>9</td>\n      <td>9</td>\n      <td>25</td>\n      <td>4</td>\n      <td>25</td>\n      <td>19</td>\n      <td>0</td>\n    </tr>\n    <tr>\n      <th>3</th>\n      <td>IndiGo</td>\n      <td>Kolkata</td>\n      <td>Banglore</td>\n      <td>5h 25m</td>\n      <td>1 stop</td>\n      <td>6218</td>\n      <td>5</td>\n      <td>12</td>\n      <td>18</td>\n      <td>5</td>\n      <td>23</td>\n      <td>30</td>\n      <td>5</td>\n      <td>25</td>\n    </tr>\n  </tbody>\n</table>\n</div>"
     },
     "metadata": {}
    }
   ]
  },
  {
   "cell_type": "code",
   "metadata": {
    "cell_id": "00124-65050191-dd52-402a-bea9-8268e0245e6b",
    "deepnote_to_be_reexecuted": false,
    "source_hash": "b623e53d",
    "execution_start": 1660916823020,
    "execution_millis": 24976887,
    "deepnote_cell_type": "code",
    "deepnote_cell_height": 76
   },
   "source": "",
   "execution_count": 63,
   "outputs": []
  },
  {
   "cell_type": "code",
   "metadata": {
    "cell_id": "00125-d6845a44-1e81-4b42-b89c-f2d4e4f261ae",
    "deepnote_to_be_reexecuted": false,
    "source_hash": "b623e53d",
    "execution_start": 1660916823026,
    "execution_millis": 24976878,
    "deepnote_cell_type": "code",
    "deepnote_cell_height": 76
   },
   "source": "",
   "execution_count": 63,
   "outputs": []
  },
  {
   "cell_type": "markdown",
   "source": "## Lets separate categorical data & numerical data !\n    categorical data are those whose data-type is 'object'\n    Numerical data are those whose data-type is either int of float",
   "metadata": {
    "cell_id": "00126-c483a0b8-cef2-447b-b265-05c2addda704",
    "deepnote_cell_type": "markdown",
    "deepnote_cell_height": 147.59375
   }
  },
  {
   "cell_type": "code",
   "metadata": {
    "cell_id": "00127-a1057be4-3586-43b8-8041-19a781b2aa4e",
    "deepnote_to_be_reexecuted": false,
    "source_hash": "f33e2ef3",
    "execution_start": 1660916823029,
    "execution_millis": 24976865,
    "deepnote_cell_type": "code",
    "deepnote_cell_height": 76
   },
   "source": "cat_col=[col for col in data.columns if data[col].dtype=='object']",
   "execution_count": 64,
   "outputs": []
  },
  {
   "cell_type": "code",
   "metadata": {
    "cell_id": "00128-c144a7e1-798a-4ca9-bb68-ff1e02186b2d",
    "deepnote_to_be_reexecuted": false,
    "source_hash": "1e0a0093",
    "execution_start": 1660916823036,
    "execution_millis": 24976858,
    "deepnote_cell_type": "code",
    "deepnote_cell_height": 76
   },
   "source": "num_col=[col for col in data.columns if data[col].dtype!='object']",
   "execution_count": 65,
   "outputs": []
  },
  {
   "cell_type": "code",
   "metadata": {
    "cell_id": "00129-c3a454e1-7436-4426-bbe8-a1efefbcbbfd",
    "deepnote_to_be_reexecuted": false,
    "source_hash": "1bacfacb",
    "execution_start": 1660916823044,
    "execution_millis": 24976860,
    "deepnote_cell_type": "code",
    "deepnote_cell_height": 112.1875,
    "deepnote_output_heights": [
     20.1875
    ]
   },
   "source": "cat_col",
   "execution_count": 66,
   "outputs": [
    {
     "output_type": "execute_result",
     "execution_count": 66,
     "data": {
      "text/plain": "['Airline', 'Source', 'Destination', 'Duration', 'Total_Stops']"
     },
     "metadata": {}
    }
   ]
  },
  {
   "cell_type": "code",
   "metadata": {
    "cell_id": "00130-0fde274e-fdbc-4362-a6e8-8a3e38c1cc39",
    "deepnote_to_be_reexecuted": false,
    "source_hash": "b623e53d",
    "execution_start": 1660916823099,
    "execution_millis": 24976861,
    "deepnote_cell_type": "code",
    "deepnote_cell_height": 76
   },
   "source": "",
   "execution_count": 66,
   "outputs": []
  },
  {
   "cell_type": "markdown",
   "source": "## Handling Categorical Data\n    We are using 2 basic Encoding Techniques to convert Categorical data into some numerical format\n    if data belongs to Nominal data (ie data is not in any order) -->> OneHotEncoder is used in this case\n    if data belongs to Ordinal data (ie data is in order ) -->>       LabelEncoder is used in this case\n\n    But in real-world , it is not necessary that u have to always One-hot or label , hence we will discuss more interesting approaches to do this !",
   "metadata": {
    "cell_id": "00131-a8210c8a-d7b9-4e3c-81af-2160157bdcdf",
    "deepnote_cell_type": "markdown",
    "deepnote_cell_height": 230.796875
   }
  },
  {
   "cell_type": "markdown",
   "source": "### Lets apply one-hot encoding on 'Source' feature !",
   "metadata": {
    "cell_id": "00132-223365d9-2fa5-4f86-b40e-ed41edf718d9",
    "deepnote_cell_type": "markdown",
    "deepnote_cell_height": 62
   }
  },
  {
   "cell_type": "code",
   "metadata": {
    "cell_id": "00133-312812c8-e598-4c4d-9ca8-f88dce29a618",
    "deepnote_to_be_reexecuted": false,
    "source_hash": "500c9e67",
    "execution_start": 1660916823138,
    "execution_millis": 24976914,
    "deepnote_cell_type": "code",
    "deepnote_cell_height": 76
   },
   "source": "### One-hot from scratch :",
   "execution_count": 67,
   "outputs": []
  },
  {
   "cell_type": "code",
   "metadata": {
    "cell_id": "00134-c4612ba3-691f-4319-baad-7464f33c7ad3",
    "deepnote_to_be_reexecuted": false,
    "source_hash": "d57d0070",
    "execution_start": 1660916823138,
    "execution_millis": 3,
    "deepnote_cell_type": "code",
    "deepnote_cell_height": 112.1875,
    "deepnote_output_heights": [
     20.1875
    ]
   },
   "source": "data['Source'].unique()",
   "execution_count": 68,
   "outputs": [
    {
     "output_type": "execute_result",
     "execution_count": 68,
     "data": {
      "text/plain": "array(['Banglore', 'Kolkata', 'Delhi', 'Chennai', 'Mumbai'], dtype=object)"
     },
     "metadata": {}
    }
   ]
  },
  {
   "cell_type": "code",
   "metadata": {
    "cell_id": "00135-e4ae9e7c-7b06-444c-8313-00e973e5d91c",
    "deepnote_to_be_reexecuted": false,
    "source_hash": "2bce9ca1",
    "execution_start": 1660916823139,
    "execution_millis": 46,
    "deepnote_cell_type": "code",
    "deepnote_cell_height": 323.375,
    "deepnote_output_heights": [
     231.390625
    ]
   },
   "source": "data['Source']",
   "execution_count": 69,
   "outputs": [
    {
     "output_type": "execute_result",
     "execution_count": 69,
     "data": {
      "text/plain": "0        Banglore\n1         Kolkata\n2           Delhi\n3         Kolkata\n4        Banglore\n           ...   \n10678     Kolkata\n10679     Kolkata\n10680    Banglore\n10681    Banglore\n10682       Delhi\nName: Source, Length: 10682, dtype: object"
     },
     "metadata": {}
    }
   ]
  },
  {
   "cell_type": "code",
   "metadata": {
    "cell_id": "00136-97ba7792-0b1b-4865-8c57-8f41001dac80",
    "deepnote_to_be_reexecuted": false,
    "source_hash": "6f88b3a2",
    "execution_start": 1660916823183,
    "execution_millis": 3,
    "deepnote_cell_type": "code",
    "deepnote_cell_height": 323.375,
    "deepnote_output_heights": [
     231.390625
    ]
   },
   "source": "data['Source'].apply(lambda x: 1 if x=='Banglore' else 0)",
   "execution_count": 70,
   "outputs": [
    {
     "output_type": "execute_result",
     "execution_count": 70,
     "data": {
      "text/plain": "0        1\n1        0\n2        0\n3        0\n4        1\n        ..\n10678    0\n10679    0\n10680    1\n10681    1\n10682    0\nName: Source, Length: 10682, dtype: int64"
     },
     "metadata": {}
    }
   ]
  },
  {
   "cell_type": "code",
   "metadata": {
    "cell_id": "00137-eada441c-eb5a-4e3c-82de-f7204a6a7c3e",
    "deepnote_to_be_reexecuted": false,
    "source_hash": "14cb9cbf",
    "execution_start": 1660916823184,
    "execution_millis": 6,
    "deepnote_cell_type": "code",
    "deepnote_cell_height": 94
   },
   "source": "for category in data['Source'].unique():\n    data['Source_'+category]=data['Source'].apply(lambda x: 1 if x==category else 0)",
   "execution_count": 71,
   "outputs": []
  },
  {
   "cell_type": "code",
   "metadata": {
    "cell_id": "00138-5cbbd758-8a5e-4512-98a7-e497d2a68f8e",
    "deepnote_to_be_reexecuted": false,
    "source_hash": "da627bf6",
    "execution_start": 1660916823191,
    "execution_millis": 48,
    "deepnote_cell_type": "code",
    "deepnote_cell_height": 324.796875
   },
   "source": "data.head(3)",
   "execution_count": 72,
   "outputs": [
    {
     "output_type": "execute_result",
     "execution_count": 72,
     "data": {
      "application/vnd.deepnote.dataframe.v3+json": {
       "column_count": 19,
       "row_count": 3,
       "columns": [
        {
         "name": "Airline",
         "dtype": "object",
         "stats": {
          "unique_count": 3,
          "nan_count": 0,
          "categories": [
           {
            "name": "IndiGo",
            "count": 1
           },
           {
            "name": "Air India",
            "count": 1
           },
           {
            "name": "Jet Airways",
            "count": 1
           }
          ]
         }
        },
        {
         "name": "Source",
         "dtype": "object",
         "stats": {
          "unique_count": 3,
          "nan_count": 0,
          "categories": [
           {
            "name": "Banglore",
            "count": 1
           },
           {
            "name": "Kolkata",
            "count": 1
           },
           {
            "name": "Delhi",
            "count": 1
           }
          ]
         }
        },
        {
         "name": "Destination",
         "dtype": "object",
         "stats": {
          "unique_count": 3,
          "nan_count": 0,
          "categories": [
           {
            "name": "New Delhi",
            "count": 1
           },
           {
            "name": "Banglore",
            "count": 1
           },
           {
            "name": "Cochin",
            "count": 1
           }
          ]
         }
        },
        {
         "name": "Duration",
         "dtype": "object",
         "stats": {
          "unique_count": 3,
          "nan_count": 0,
          "categories": [
           {
            "name": "2h 50m",
            "count": 1
           },
           {
            "name": "7h 25m",
            "count": 1
           },
           {
            "name": "19h 0m",
            "count": 1
           }
          ]
         }
        },
        {
         "name": "Total_Stops",
         "dtype": "object",
         "stats": {
          "unique_count": 2,
          "nan_count": 0,
          "categories": [
           {
            "name": "2 stops",
            "count": 2
           },
           {
            "name": "non-stop",
            "count": 1
           }
          ]
         }
        },
        {
         "name": "Price",
         "dtype": "int64",
         "stats": {
          "unique_count": 3,
          "nan_count": 0,
          "min": "3897",
          "max": "13882",
          "histogram": [
           {
            "bin_start": 3897,
            "bin_end": 4895.5,
            "count": 1
           },
           {
            "bin_start": 4895.5,
            "bin_end": 5894,
            "count": 0
           },
           {
            "bin_start": 5894,
            "bin_end": 6892.5,
            "count": 0
           },
           {
            "bin_start": 6892.5,
            "bin_end": 7891,
            "count": 1
           },
           {
            "bin_start": 7891,
            "bin_end": 8889.5,
            "count": 0
           },
           {
            "bin_start": 8889.5,
            "bin_end": 9888,
            "count": 0
           },
           {
            "bin_start": 9888,
            "bin_end": 10886.5,
            "count": 0
           },
           {
            "bin_start": 10886.5,
            "bin_end": 11885,
            "count": 0
           },
           {
            "bin_start": 11885,
            "bin_end": 12883.5,
            "count": 0
           },
           {
            "bin_start": 12883.5,
            "bin_end": 13882,
            "count": 1
           }
          ]
         }
        },
        {
         "name": "journey_day",
         "dtype": "int64",
         "stats": {
          "unique_count": 3,
          "nan_count": 0,
          "min": "5",
          "max": "24",
          "histogram": [
           {
            "bin_start": 5,
            "bin_end": 6.9,
            "count": 2
           },
           {
            "bin_start": 6.9,
            "bin_end": 8.8,
            "count": 0
           },
           {
            "bin_start": 8.8,
            "bin_end": 10.7,
            "count": 0
           },
           {
            "bin_start": 10.7,
            "bin_end": 12.6,
            "count": 0
           },
           {
            "bin_start": 12.6,
            "bin_end": 14.5,
            "count": 0
           },
           {
            "bin_start": 14.5,
            "bin_end": 16.4,
            "count": 0
           },
           {
            "bin_start": 16.4,
            "bin_end": 18.299999999999997,
            "count": 0
           },
           {
            "bin_start": 18.299999999999997,
            "bin_end": 20.2,
            "count": 0
           },
           {
            "bin_start": 20.2,
            "bin_end": 22.099999999999998,
            "count": 0
           },
           {
            "bin_start": 22.099999999999998,
            "bin_end": 24,
            "count": 1
           }
          ]
         }
        },
        {
         "name": "journey_month",
         "dtype": "int64",
         "stats": {
          "unique_count": 3,
          "nan_count": 0,
          "min": "1",
          "max": "9",
          "histogram": [
           {
            "bin_start": 1,
            "bin_end": 1.8,
            "count": 1
           },
           {
            "bin_start": 1.8,
            "bin_end": 2.6,
            "count": 0
           },
           {
            "bin_start": 2.6,
            "bin_end": 3.4000000000000004,
            "count": 1
           },
           {
            "bin_start": 3.4000000000000004,
            "bin_end": 4.2,
            "count": 0
           },
           {
            "bin_start": 4.2,
            "bin_end": 5,
            "count": 0
           },
           {
            "bin_start": 5,
            "bin_end": 5.800000000000001,
            "count": 0
           },
           {
            "bin_start": 5.800000000000001,
            "bin_end": 6.6000000000000005,
            "count": 0
           },
           {
            "bin_start": 6.6000000000000005,
            "bin_end": 7.4,
            "count": 0
           },
           {
            "bin_start": 7.4,
            "bin_end": 8.2,
            "count": 0
           },
           {
            "bin_start": 8.2,
            "bin_end": 9,
            "count": 1
           }
          ]
         }
        },
        {
         "name": "Dep_Time_hour",
         "dtype": "int64",
         "stats": {
          "unique_count": 3,
          "nan_count": 0,
          "min": "5",
          "max": "22",
          "histogram": [
           {
            "bin_start": 5,
            "bin_end": 6.7,
            "count": 1
           },
           {
            "bin_start": 6.7,
            "bin_end": 8.4,
            "count": 0
           },
           {
            "bin_start": 8.4,
            "bin_end": 10.1,
            "count": 1
           },
           {
            "bin_start": 10.1,
            "bin_end": 11.8,
            "count": 0
           },
           {
            "bin_start": 11.8,
            "bin_end": 13.5,
            "count": 0
           },
           {
            "bin_start": 13.5,
            "bin_end": 15.2,
            "count": 0
           },
           {
            "bin_start": 15.2,
            "bin_end": 16.9,
            "count": 0
           },
           {
            "bin_start": 16.9,
            "bin_end": 18.6,
            "count": 0
           },
           {
            "bin_start": 18.6,
            "bin_end": 20.299999999999997,
            "count": 0
           },
           {
            "bin_start": 20.299999999999997,
            "bin_end": 22,
            "count": 1
           }
          ]
         }
        },
        {
         "name": "Dep_Time_minute",
         "dtype": "int64",
         "stats": {
          "unique_count": 3,
          "nan_count": 0,
          "min": "20",
          "max": "50",
          "histogram": [
           {
            "bin_start": 20,
            "bin_end": 23,
            "count": 1
           },
           {
            "bin_start": 23,
            "bin_end": 26,
            "count": 1
           },
           {
            "bin_start": 26,
            "bin_end": 29,
            "count": 0
           },
           {
            "bin_start": 29,
            "bin_end": 32,
            "count": 0
           },
           {
            "bin_start": 32,
            "bin_end": 35,
            "count": 0
           },
           {
            "bin_start": 35,
            "bin_end": 38,
            "count": 0
           },
           {
            "bin_start": 38,
            "bin_end": 41,
            "count": 0
           },
           {
            "bin_start": 41,
            "bin_end": 44,
            "count": 0
           },
           {
            "bin_start": 44,
            "bin_end": 47,
            "count": 0
           },
           {
            "bin_start": 47,
            "bin_end": 50,
            "count": 1
           }
          ]
         }
        },
        {
         "name": "Arrival_Time_hour",
         "dtype": "int64",
         "stats": {
          "unique_count": 3,
          "nan_count": 0,
          "min": "1",
          "max": "13",
          "histogram": [
           {
            "bin_start": 1,
            "bin_end": 2.2,
            "count": 1
           },
           {
            "bin_start": 2.2,
            "bin_end": 3.4,
            "count": 0
           },
           {
            "bin_start": 3.4,
            "bin_end": 4.6,
            "count": 1
           },
           {
            "bin_start": 4.6,
            "bin_end": 5.8,
            "count": 0
           },
           {
            "bin_start": 5.8,
            "bin_end": 7,
            "count": 0
           },
           {
            "bin_start": 7,
            "bin_end": 8.2,
            "count": 0
           },
           {
            "bin_start": 8.2,
            "bin_end": 9.4,
            "count": 0
           },
           {
            "bin_start": 9.4,
            "bin_end": 10.6,
            "count": 0
           },
           {
            "bin_start": 10.6,
            "bin_end": 11.799999999999999,
            "count": 0
           },
           {
            "bin_start": 11.799999999999999,
            "bin_end": 13,
            "count": 1
           }
          ]
         }
        },
        {
         "name": "Arrival_Time_minute",
         "dtype": "int64",
         "stats": {
          "unique_count": 3,
          "nan_count": 0,
          "min": "10",
          "max": "25",
          "histogram": [
           {
            "bin_start": 10,
            "bin_end": 11.5,
            "count": 1
           },
           {
            "bin_start": 11.5,
            "bin_end": 13,
            "count": 0
           },
           {
            "bin_start": 13,
            "bin_end": 14.5,
            "count": 0
           },
           {
            "bin_start": 14.5,
            "bin_end": 16,
            "count": 1
           },
           {
            "bin_start": 16,
            "bin_end": 17.5,
            "count": 0
           },
           {
            "bin_start": 17.5,
            "bin_end": 19,
            "count": 0
           },
           {
            "bin_start": 19,
            "bin_end": 20.5,
            "count": 0
           },
           {
            "bin_start": 20.5,
            "bin_end": 22,
            "count": 0
           },
           {
            "bin_start": 22,
            "bin_end": 23.5,
            "count": 0
           },
           {
            "bin_start": 23.5,
            "bin_end": 25,
            "count": 1
           }
          ]
         }
        },
        {
         "name": "Duration_hours",
         "dtype": "int64",
         "stats": {
          "unique_count": 3,
          "nan_count": 0,
          "min": "2",
          "max": "19",
          "histogram": [
           {
            "bin_start": 2,
            "bin_end": 3.7,
            "count": 1
           },
           {
            "bin_start": 3.7,
            "bin_end": 5.4,
            "count": 0
           },
           {
            "bin_start": 5.4,
            "bin_end": 7.1,
            "count": 1
           },
           {
            "bin_start": 7.1,
            "bin_end": 8.8,
            "count": 0
           },
           {
            "bin_start": 8.8,
            "bin_end": 10.5,
            "count": 0
           },
           {
            "bin_start": 10.5,
            "bin_end": 12.2,
            "count": 0
           },
           {
            "bin_start": 12.2,
            "bin_end": 13.9,
            "count": 0
           },
           {
            "bin_start": 13.9,
            "bin_end": 15.6,
            "count": 0
           },
           {
            "bin_start": 15.6,
            "bin_end": 17.299999999999997,
            "count": 0
           },
           {
            "bin_start": 17.299999999999997,
            "bin_end": 19,
            "count": 1
           }
          ]
         }
        },
        {
         "name": "Duration_mins",
         "dtype": "int64",
         "stats": {
          "unique_count": 3,
          "nan_count": 0,
          "min": "0",
          "max": "50",
          "histogram": [
           {
            "bin_start": 0,
            "bin_end": 5,
            "count": 1
           },
           {
            "bin_start": 5,
            "bin_end": 10,
            "count": 0
           },
           {
            "bin_start": 10,
            "bin_end": 15,
            "count": 0
           },
           {
            "bin_start": 15,
            "bin_end": 20,
            "count": 0
           },
           {
            "bin_start": 20,
            "bin_end": 25,
            "count": 0
           },
           {
            "bin_start": 25,
            "bin_end": 30,
            "count": 1
           },
           {
            "bin_start": 30,
            "bin_end": 35,
            "count": 0
           },
           {
            "bin_start": 35,
            "bin_end": 40,
            "count": 0
           },
           {
            "bin_start": 40,
            "bin_end": 45,
            "count": 0
           },
           {
            "bin_start": 45,
            "bin_end": 50,
            "count": 1
           }
          ]
         }
        },
        {
         "name": "Source_Banglore",
         "dtype": "int64",
         "stats": {
          "unique_count": 2,
          "nan_count": 0,
          "min": "0",
          "max": "1",
          "histogram": [
           {
            "bin_start": 0,
            "bin_end": 0.1,
            "count": 2
           },
           {
            "bin_start": 0.1,
            "bin_end": 0.2,
            "count": 0
           },
           {
            "bin_start": 0.2,
            "bin_end": 0.30000000000000004,
            "count": 0
           },
           {
            "bin_start": 0.30000000000000004,
            "bin_end": 0.4,
            "count": 0
           },
           {
            "bin_start": 0.4,
            "bin_end": 0.5,
            "count": 0
           },
           {
            "bin_start": 0.5,
            "bin_end": 0.6000000000000001,
            "count": 0
           },
           {
            "bin_start": 0.6000000000000001,
            "bin_end": 0.7000000000000001,
            "count": 0
           },
           {
            "bin_start": 0.7000000000000001,
            "bin_end": 0.8,
            "count": 0
           },
           {
            "bin_start": 0.8,
            "bin_end": 0.9,
            "count": 0
           },
           {
            "bin_start": 0.9,
            "bin_end": 1,
            "count": 1
           }
          ]
         }
        },
        {
         "name": "Source_Kolkata",
         "dtype": "int64",
         "stats": {
          "unique_count": 2,
          "nan_count": 0,
          "min": "0",
          "max": "1",
          "histogram": [
           {
            "bin_start": 0,
            "bin_end": 0.1,
            "count": 2
           },
           {
            "bin_start": 0.1,
            "bin_end": 0.2,
            "count": 0
           },
           {
            "bin_start": 0.2,
            "bin_end": 0.30000000000000004,
            "count": 0
           },
           {
            "bin_start": 0.30000000000000004,
            "bin_end": 0.4,
            "count": 0
           },
           {
            "bin_start": 0.4,
            "bin_end": 0.5,
            "count": 0
           },
           {
            "bin_start": 0.5,
            "bin_end": 0.6000000000000001,
            "count": 0
           },
           {
            "bin_start": 0.6000000000000001,
            "bin_end": 0.7000000000000001,
            "count": 0
           },
           {
            "bin_start": 0.7000000000000001,
            "bin_end": 0.8,
            "count": 0
           },
           {
            "bin_start": 0.8,
            "bin_end": 0.9,
            "count": 0
           },
           {
            "bin_start": 0.9,
            "bin_end": 1,
            "count": 1
           }
          ]
         }
        },
        {
         "name": "Source_Delhi",
         "dtype": "int64",
         "stats": {
          "unique_count": 2,
          "nan_count": 0,
          "min": "0",
          "max": "1",
          "histogram": [
           {
            "bin_start": 0,
            "bin_end": 0.1,
            "count": 2
           },
           {
            "bin_start": 0.1,
            "bin_end": 0.2,
            "count": 0
           },
           {
            "bin_start": 0.2,
            "bin_end": 0.30000000000000004,
            "count": 0
           },
           {
            "bin_start": 0.30000000000000004,
            "bin_end": 0.4,
            "count": 0
           },
           {
            "bin_start": 0.4,
            "bin_end": 0.5,
            "count": 0
           },
           {
            "bin_start": 0.5,
            "bin_end": 0.6000000000000001,
            "count": 0
           },
           {
            "bin_start": 0.6000000000000001,
            "bin_end": 0.7000000000000001,
            "count": 0
           },
           {
            "bin_start": 0.7000000000000001,
            "bin_end": 0.8,
            "count": 0
           },
           {
            "bin_start": 0.8,
            "bin_end": 0.9,
            "count": 0
           },
           {
            "bin_start": 0.9,
            "bin_end": 1,
            "count": 1
           }
          ]
         }
        },
        {
         "name": "Source_Chennai",
         "dtype": "int64",
         "stats": {
          "unique_count": 1,
          "nan_count": 0,
          "min": "0",
          "max": "0",
          "histogram": [
           {
            "bin_start": -0.5,
            "bin_end": -0.4,
            "count": 0
           },
           {
            "bin_start": -0.4,
            "bin_end": -0.3,
            "count": 0
           },
           {
            "bin_start": -0.3,
            "bin_end": -0.19999999999999996,
            "count": 0
           },
           {
            "bin_start": -0.19999999999999996,
            "bin_end": -0.09999999999999998,
            "count": 0
           },
           {
            "bin_start": -0.09999999999999998,
            "bin_end": 0,
            "count": 0
           },
           {
            "bin_start": 0,
            "bin_end": 0.10000000000000009,
            "count": 3
           },
           {
            "bin_start": 0.10000000000000009,
            "bin_end": 0.20000000000000007,
            "count": 0
           },
           {
            "bin_start": 0.20000000000000007,
            "bin_end": 0.30000000000000004,
            "count": 0
           },
           {
            "bin_start": 0.30000000000000004,
            "bin_end": 0.4,
            "count": 0
           },
           {
            "bin_start": 0.4,
            "bin_end": 0.5,
            "count": 0
           }
          ]
         }
        },
        {
         "name": "Source_Mumbai",
         "dtype": "int64",
         "stats": {
          "unique_count": 1,
          "nan_count": 0,
          "min": "0",
          "max": "0",
          "histogram": [
           {
            "bin_start": -0.5,
            "bin_end": -0.4,
            "count": 0
           },
           {
            "bin_start": -0.4,
            "bin_end": -0.3,
            "count": 0
           },
           {
            "bin_start": -0.3,
            "bin_end": -0.19999999999999996,
            "count": 0
           },
           {
            "bin_start": -0.19999999999999996,
            "bin_end": -0.09999999999999998,
            "count": 0
           },
           {
            "bin_start": -0.09999999999999998,
            "bin_end": 0,
            "count": 0
           },
           {
            "bin_start": 0,
            "bin_end": 0.10000000000000009,
            "count": 3
           },
           {
            "bin_start": 0.10000000000000009,
            "bin_end": 0.20000000000000007,
            "count": 0
           },
           {
            "bin_start": 0.20000000000000007,
            "bin_end": 0.30000000000000004,
            "count": 0
           },
           {
            "bin_start": 0.30000000000000004,
            "bin_end": 0.4,
            "count": 0
           },
           {
            "bin_start": 0.4,
            "bin_end": 0.5,
            "count": 0
           }
          ]
         }
        },
        {
         "name": "_deepnote_index_column",
         "dtype": "int64"
        }
       ],
       "rows": [
        {
         "Airline": "IndiGo",
         "Source": "Banglore",
         "Destination": "New Delhi",
         "Duration": "2h 50m",
         "Total_Stops": "non-stop",
         "Price": 3897,
         "journey_day": 24,
         "journey_month": 3,
         "Dep_Time_hour": 22,
         "Dep_Time_minute": 20,
         "Arrival_Time_hour": 1,
         "Arrival_Time_minute": 10,
         "Duration_hours": 2,
         "Duration_mins": 50,
         "Source_Banglore": 1,
         "Source_Kolkata": 0,
         "Source_Delhi": 0,
         "Source_Chennai": 0,
         "Source_Mumbai": 0,
         "_deepnote_index_column": 0
        },
        {
         "Airline": "Air India",
         "Source": "Kolkata",
         "Destination": "Banglore",
         "Duration": "7h 25m",
         "Total_Stops": "2 stops",
         "Price": 7662,
         "journey_day": 5,
         "journey_month": 1,
         "Dep_Time_hour": 5,
         "Dep_Time_minute": 50,
         "Arrival_Time_hour": 13,
         "Arrival_Time_minute": 15,
         "Duration_hours": 7,
         "Duration_mins": 25,
         "Source_Banglore": 0,
         "Source_Kolkata": 1,
         "Source_Delhi": 0,
         "Source_Chennai": 0,
         "Source_Mumbai": 0,
         "_deepnote_index_column": 1
        },
        {
         "Airline": "Jet Airways",
         "Source": "Delhi",
         "Destination": "Cochin",
         "Duration": "19h 0m",
         "Total_Stops": "2 stops",
         "Price": 13882,
         "journey_day": 6,
         "journey_month": 9,
         "Dep_Time_hour": 9,
         "Dep_Time_minute": 25,
         "Arrival_Time_hour": 4,
         "Arrival_Time_minute": 25,
         "Duration_hours": 19,
         "Duration_mins": 0,
         "Source_Banglore": 0,
         "Source_Kolkata": 0,
         "Source_Delhi": 1,
         "Source_Chennai": 0,
         "Source_Mumbai": 0,
         "_deepnote_index_column": 2
        }
       ]
      },
      "text/plain": "       Airline    Source Destination Duration Total_Stops  Price  journey_day  \\\n0       IndiGo  Banglore   New Delhi   2h 50m    non-stop   3897           24   \n1    Air India   Kolkata    Banglore   7h 25m     2 stops   7662            5   \n2  Jet Airways     Delhi      Cochin   19h 0m     2 stops  13882            6   \n\n   journey_month  Dep_Time_hour  Dep_Time_minute  Arrival_Time_hour  \\\n0              3             22               20                  1   \n1              1              5               50                 13   \n2              9              9               25                  4   \n\n   Arrival_Time_minute  Duration_hours  Duration_mins  Source_Banglore  \\\n0                   10               2             50                1   \n1                   15               7             25                0   \n2                   25              19              0                0   \n\n   Source_Kolkata  Source_Delhi  Source_Chennai  Source_Mumbai  \n0               0             0               0              0  \n1               1             0               0              0  \n2               0             1               0              0  ",
      "text/html": "<div>\n<style scoped>\n    .dataframe tbody tr th:only-of-type {\n        vertical-align: middle;\n    }\n\n    .dataframe tbody tr th {\n        vertical-align: top;\n    }\n\n    .dataframe thead th {\n        text-align: right;\n    }\n</style>\n<table border=\"1\" class=\"dataframe\">\n  <thead>\n    <tr style=\"text-align: right;\">\n      <th></th>\n      <th>Airline</th>\n      <th>Source</th>\n      <th>Destination</th>\n      <th>Duration</th>\n      <th>Total_Stops</th>\n      <th>Price</th>\n      <th>journey_day</th>\n      <th>journey_month</th>\n      <th>Dep_Time_hour</th>\n      <th>Dep_Time_minute</th>\n      <th>Arrival_Time_hour</th>\n      <th>Arrival_Time_minute</th>\n      <th>Duration_hours</th>\n      <th>Duration_mins</th>\n      <th>Source_Banglore</th>\n      <th>Source_Kolkata</th>\n      <th>Source_Delhi</th>\n      <th>Source_Chennai</th>\n      <th>Source_Mumbai</th>\n    </tr>\n  </thead>\n  <tbody>\n    <tr>\n      <th>0</th>\n      <td>IndiGo</td>\n      <td>Banglore</td>\n      <td>New Delhi</td>\n      <td>2h 50m</td>\n      <td>non-stop</td>\n      <td>3897</td>\n      <td>24</td>\n      <td>3</td>\n      <td>22</td>\n      <td>20</td>\n      <td>1</td>\n      <td>10</td>\n      <td>2</td>\n      <td>50</td>\n      <td>1</td>\n      <td>0</td>\n      <td>0</td>\n      <td>0</td>\n      <td>0</td>\n    </tr>\n    <tr>\n      <th>1</th>\n      <td>Air India</td>\n      <td>Kolkata</td>\n      <td>Banglore</td>\n      <td>7h 25m</td>\n      <td>2 stops</td>\n      <td>7662</td>\n      <td>5</td>\n      <td>1</td>\n      <td>5</td>\n      <td>50</td>\n      <td>13</td>\n      <td>15</td>\n      <td>7</td>\n      <td>25</td>\n      <td>0</td>\n      <td>1</td>\n      <td>0</td>\n      <td>0</td>\n      <td>0</td>\n    </tr>\n    <tr>\n      <th>2</th>\n      <td>Jet Airways</td>\n      <td>Delhi</td>\n      <td>Cochin</td>\n      <td>19h 0m</td>\n      <td>2 stops</td>\n      <td>13882</td>\n      <td>6</td>\n      <td>9</td>\n      <td>9</td>\n      <td>25</td>\n      <td>4</td>\n      <td>25</td>\n      <td>19</td>\n      <td>0</td>\n      <td>0</td>\n      <td>0</td>\n      <td>1</td>\n      <td>0</td>\n      <td>0</td>\n    </tr>\n  </tbody>\n</table>\n</div>"
     },
     "metadata": {}
    }
   ]
  },
  {
   "cell_type": "code",
   "metadata": {
    "cell_id": "00139-39dbd5d9-cc44-4a24-9981-2930a5740e7f",
    "deepnote_to_be_reexecuted": false,
    "source_hash": "b623e53d",
    "execution_start": 1660916823282,
    "execution_millis": 1,
    "deepnote_cell_type": "code",
    "deepnote_cell_height": 76
   },
   "source": "",
   "execution_count": 72,
   "outputs": []
  },
  {
   "cell_type": "markdown",
   "source": "## Performing Target Guided Mean Encoding !\n    ofcourse we can use One-hot , but if we have more sub-categories , it creates curse of dimensionality in ML..\n    lets use Target Guided Mean Encoding in order to get rid of this..",
   "metadata": {
    "cell_id": "00140-a805d9f9-dff1-4f56-89ce-c9e949efa1e2",
    "deepnote_cell_type": "markdown",
    "deepnote_cell_height": 168.390625
   }
  },
  {
   "cell_type": "code",
   "metadata": {
    "cell_id": "00141-ae49dd0d-2543-4367-bb3f-2854c69311d0",
    "deepnote_to_be_reexecuted": false,
    "source_hash": "b623e53d",
    "execution_start": 1660916823283,
    "execution_millis": 0,
    "deepnote_cell_type": "code",
    "deepnote_cell_height": 76
   },
   "source": "",
   "execution_count": 72,
   "outputs": []
  },
  {
   "cell_type": "code",
   "metadata": {
    "cell_id": "00142-e8875d81-6c3b-42c4-b26e-46b8b6622c80",
    "deepnote_to_be_reexecuted": false,
    "source_hash": "e57cdc23",
    "execution_start": 1660916823283,
    "execution_millis": 1,
    "deepnote_cell_type": "code",
    "deepnote_cell_height": 76
   },
   "source": "airlines=data.groupby(['Airline'])['Price'].mean().sort_values().index",
   "execution_count": 73,
   "outputs": []
  },
  {
   "cell_type": "code",
   "metadata": {
    "cell_id": "00143-8c6322d0-94d0-4116-aabb-a9186641ec0e",
    "deepnote_to_be_reexecuted": false,
    "source_hash": "eeb5420a",
    "execution_start": 1660916823328,
    "execution_millis": 5,
    "deepnote_cell_type": "code",
    "deepnote_cell_height": 189,
    "deepnote_output_heights": [
     97
    ]
   },
   "source": "airlines",
   "execution_count": 74,
   "outputs": [
    {
     "output_type": "execute_result",
     "execution_count": 74,
     "data": {
      "text/plain": "Index(['Trujet', 'SpiceJet', 'Air Asia', 'IndiGo', 'GoAir', 'Vistara',\n       'Vistara Premium economy', 'Air India', 'Multiple carriers',\n       'Multiple carriers Premium economy', 'Jet Airways',\n       'Jet Airways Business'],\n      dtype='object', name='Airline')"
     },
     "metadata": {}
    }
   ]
  },
  {
   "cell_type": "code",
   "metadata": {
    "cell_id": "00144-dcb72aab-07e7-4030-bc36-a09efaaa67a1",
    "deepnote_to_be_reexecuted": false,
    "source_hash": "865526a1",
    "execution_start": 1660916823330,
    "execution_millis": 0,
    "deepnote_cell_type": "code",
    "deepnote_cell_height": 76
   },
   "source": "dict1={key:index for index,key in enumerate(airlines,0)}",
   "execution_count": 75,
   "outputs": []
  },
  {
   "cell_type": "code",
   "metadata": {
    "cell_id": "00145-796c8f2d-fe60-4204-ae60-a4e89024fa40",
    "deepnote_to_be_reexecuted": false,
    "source_hash": "486df0c",
    "execution_start": 1660916823331,
    "execution_millis": 24976980,
    "deepnote_cell_type": "code",
    "deepnote_cell_height": 323.375,
    "deepnote_output_heights": [
     231.390625
    ]
   },
   "source": "dict1",
   "execution_count": 76,
   "outputs": [
    {
     "output_type": "execute_result",
     "execution_count": 76,
     "data": {
      "text/plain": "{'Trujet': 0,\n 'SpiceJet': 1,\n 'Air Asia': 2,\n 'IndiGo': 3,\n 'GoAir': 4,\n 'Vistara': 5,\n 'Vistara Premium economy': 6,\n 'Air India': 7,\n 'Multiple carriers': 8,\n 'Multiple carriers Premium economy': 9,\n 'Jet Airways': 10,\n 'Jet Airways Business': 11}"
     },
     "metadata": {}
    }
   ]
  },
  {
   "cell_type": "code",
   "metadata": {
    "cell_id": "00146-03f93460-2dd4-4c21-9588-f4dc93944e64",
    "deepnote_to_be_reexecuted": false,
    "source_hash": "957c4814",
    "execution_start": 1660916823351,
    "execution_millis": 24976994,
    "deepnote_cell_type": "code",
    "deepnote_cell_height": 76
   },
   "source": "data['Airline']=data['Airline'].map(dict1)",
   "execution_count": 77,
   "outputs": []
  },
  {
   "cell_type": "code",
   "metadata": {
    "cell_id": "00147-0febf10c-eb04-424d-9b4b-f81fed72f2cf",
    "deepnote_to_be_reexecuted": false,
    "source_hash": "f9f30cfb",
    "execution_start": 1660916823366,
    "execution_millis": 24976989,
    "deepnote_cell_type": "code",
    "deepnote_cell_height": 323.375,
    "deepnote_output_heights": [
     231.390625
    ]
   },
   "source": "data['Airline']",
   "execution_count": 78,
   "outputs": [
    {
     "output_type": "execute_result",
     "execution_count": 78,
     "data": {
      "text/plain": "0         3\n1         7\n2        10\n3         3\n4         3\n         ..\n10678     2\n10679     7\n10680    10\n10681     5\n10682     7\nName: Airline, Length: 10682, dtype: int64"
     },
     "metadata": {}
    }
   ]
  },
  {
   "cell_type": "code",
   "metadata": {
    "cell_id": "00148-4b111556-0f34-49c9-8199-eeaa687ec296",
    "deepnote_to_be_reexecuted": false,
    "source_hash": "f7a45459",
    "execution_start": 1660916823374,
    "execution_millis": 46,
    "deepnote_cell_type": "code",
    "deepnote_cell_height": 283.796875
   },
   "source": "data.head(2)",
   "execution_count": 79,
   "outputs": [
    {
     "output_type": "execute_result",
     "execution_count": 79,
     "data": {
      "application/vnd.deepnote.dataframe.v3+json": {
       "column_count": 19,
       "row_count": 2,
       "columns": [
        {
         "name": "Airline",
         "dtype": "int64",
         "stats": {
          "unique_count": 2,
          "nan_count": 0,
          "min": "3",
          "max": "7",
          "histogram": [
           {
            "bin_start": 3,
            "bin_end": 3.4,
            "count": 1
           },
           {
            "bin_start": 3.4,
            "bin_end": 3.8,
            "count": 0
           },
           {
            "bin_start": 3.8,
            "bin_end": 4.2,
            "count": 0
           },
           {
            "bin_start": 4.2,
            "bin_end": 4.6,
            "count": 0
           },
           {
            "bin_start": 4.6,
            "bin_end": 5,
            "count": 0
           },
           {
            "bin_start": 5,
            "bin_end": 5.4,
            "count": 0
           },
           {
            "bin_start": 5.4,
            "bin_end": 5.800000000000001,
            "count": 0
           },
           {
            "bin_start": 5.800000000000001,
            "bin_end": 6.2,
            "count": 0
           },
           {
            "bin_start": 6.2,
            "bin_end": 6.6,
            "count": 0
           },
           {
            "bin_start": 6.6,
            "bin_end": 7,
            "count": 1
           }
          ]
         }
        },
        {
         "name": "Source",
         "dtype": "object",
         "stats": {
          "unique_count": 2,
          "nan_count": 0,
          "categories": [
           {
            "name": "Banglore",
            "count": 1
           },
           {
            "name": "Kolkata",
            "count": 1
           }
          ]
         }
        },
        {
         "name": "Destination",
         "dtype": "object",
         "stats": {
          "unique_count": 2,
          "nan_count": 0,
          "categories": [
           {
            "name": "New Delhi",
            "count": 1
           },
           {
            "name": "Banglore",
            "count": 1
           }
          ]
         }
        },
        {
         "name": "Duration",
         "dtype": "object",
         "stats": {
          "unique_count": 2,
          "nan_count": 0,
          "categories": [
           {
            "name": "2h 50m",
            "count": 1
           },
           {
            "name": "7h 25m",
            "count": 1
           }
          ]
         }
        },
        {
         "name": "Total_Stops",
         "dtype": "object",
         "stats": {
          "unique_count": 2,
          "nan_count": 0,
          "categories": [
           {
            "name": "non-stop",
            "count": 1
           },
           {
            "name": "2 stops",
            "count": 1
           }
          ]
         }
        },
        {
         "name": "Price",
         "dtype": "int64",
         "stats": {
          "unique_count": 2,
          "nan_count": 0,
          "min": "3897",
          "max": "7662",
          "histogram": [
           {
            "bin_start": 3897,
            "bin_end": 4273.5,
            "count": 1
           },
           {
            "bin_start": 4273.5,
            "bin_end": 4650,
            "count": 0
           },
           {
            "bin_start": 4650,
            "bin_end": 5026.5,
            "count": 0
           },
           {
            "bin_start": 5026.5,
            "bin_end": 5403,
            "count": 0
           },
           {
            "bin_start": 5403,
            "bin_end": 5779.5,
            "count": 0
           },
           {
            "bin_start": 5779.5,
            "bin_end": 6156,
            "count": 0
           },
           {
            "bin_start": 6156,
            "bin_end": 6532.5,
            "count": 0
           },
           {
            "bin_start": 6532.5,
            "bin_end": 6909,
            "count": 0
           },
           {
            "bin_start": 6909,
            "bin_end": 7285.5,
            "count": 0
           },
           {
            "bin_start": 7285.5,
            "bin_end": 7662,
            "count": 1
           }
          ]
         }
        },
        {
         "name": "journey_day",
         "dtype": "int64",
         "stats": {
          "unique_count": 2,
          "nan_count": 0,
          "min": "5",
          "max": "24",
          "histogram": [
           {
            "bin_start": 5,
            "bin_end": 6.9,
            "count": 1
           },
           {
            "bin_start": 6.9,
            "bin_end": 8.8,
            "count": 0
           },
           {
            "bin_start": 8.8,
            "bin_end": 10.7,
            "count": 0
           },
           {
            "bin_start": 10.7,
            "bin_end": 12.6,
            "count": 0
           },
           {
            "bin_start": 12.6,
            "bin_end": 14.5,
            "count": 0
           },
           {
            "bin_start": 14.5,
            "bin_end": 16.4,
            "count": 0
           },
           {
            "bin_start": 16.4,
            "bin_end": 18.299999999999997,
            "count": 0
           },
           {
            "bin_start": 18.299999999999997,
            "bin_end": 20.2,
            "count": 0
           },
           {
            "bin_start": 20.2,
            "bin_end": 22.099999999999998,
            "count": 0
           },
           {
            "bin_start": 22.099999999999998,
            "bin_end": 24,
            "count": 1
           }
          ]
         }
        },
        {
         "name": "journey_month",
         "dtype": "int64",
         "stats": {
          "unique_count": 2,
          "nan_count": 0,
          "min": "1",
          "max": "3",
          "histogram": [
           {
            "bin_start": 1,
            "bin_end": 1.2,
            "count": 1
           },
           {
            "bin_start": 1.2,
            "bin_end": 1.4,
            "count": 0
           },
           {
            "bin_start": 1.4,
            "bin_end": 1.6,
            "count": 0
           },
           {
            "bin_start": 1.6,
            "bin_end": 1.8,
            "count": 0
           },
           {
            "bin_start": 1.8,
            "bin_end": 2,
            "count": 0
           },
           {
            "bin_start": 2,
            "bin_end": 2.2,
            "count": 0
           },
           {
            "bin_start": 2.2,
            "bin_end": 2.4000000000000004,
            "count": 0
           },
           {
            "bin_start": 2.4000000000000004,
            "bin_end": 2.6,
            "count": 0
           },
           {
            "bin_start": 2.6,
            "bin_end": 2.8,
            "count": 0
           },
           {
            "bin_start": 2.8,
            "bin_end": 3,
            "count": 1
           }
          ]
         }
        },
        {
         "name": "Dep_Time_hour",
         "dtype": "int64",
         "stats": {
          "unique_count": 2,
          "nan_count": 0,
          "min": "5",
          "max": "22",
          "histogram": [
           {
            "bin_start": 5,
            "bin_end": 6.7,
            "count": 1
           },
           {
            "bin_start": 6.7,
            "bin_end": 8.4,
            "count": 0
           },
           {
            "bin_start": 8.4,
            "bin_end": 10.1,
            "count": 0
           },
           {
            "bin_start": 10.1,
            "bin_end": 11.8,
            "count": 0
           },
           {
            "bin_start": 11.8,
            "bin_end": 13.5,
            "count": 0
           },
           {
            "bin_start": 13.5,
            "bin_end": 15.2,
            "count": 0
           },
           {
            "bin_start": 15.2,
            "bin_end": 16.9,
            "count": 0
           },
           {
            "bin_start": 16.9,
            "bin_end": 18.6,
            "count": 0
           },
           {
            "bin_start": 18.6,
            "bin_end": 20.299999999999997,
            "count": 0
           },
           {
            "bin_start": 20.299999999999997,
            "bin_end": 22,
            "count": 1
           }
          ]
         }
        },
        {
         "name": "Dep_Time_minute",
         "dtype": "int64",
         "stats": {
          "unique_count": 2,
          "nan_count": 0,
          "min": "20",
          "max": "50",
          "histogram": [
           {
            "bin_start": 20,
            "bin_end": 23,
            "count": 1
           },
           {
            "bin_start": 23,
            "bin_end": 26,
            "count": 0
           },
           {
            "bin_start": 26,
            "bin_end": 29,
            "count": 0
           },
           {
            "bin_start": 29,
            "bin_end": 32,
            "count": 0
           },
           {
            "bin_start": 32,
            "bin_end": 35,
            "count": 0
           },
           {
            "bin_start": 35,
            "bin_end": 38,
            "count": 0
           },
           {
            "bin_start": 38,
            "bin_end": 41,
            "count": 0
           },
           {
            "bin_start": 41,
            "bin_end": 44,
            "count": 0
           },
           {
            "bin_start": 44,
            "bin_end": 47,
            "count": 0
           },
           {
            "bin_start": 47,
            "bin_end": 50,
            "count": 1
           }
          ]
         }
        },
        {
         "name": "Arrival_Time_hour",
         "dtype": "int64",
         "stats": {
          "unique_count": 2,
          "nan_count": 0,
          "min": "1",
          "max": "13",
          "histogram": [
           {
            "bin_start": 1,
            "bin_end": 2.2,
            "count": 1
           },
           {
            "bin_start": 2.2,
            "bin_end": 3.4,
            "count": 0
           },
           {
            "bin_start": 3.4,
            "bin_end": 4.6,
            "count": 0
           },
           {
            "bin_start": 4.6,
            "bin_end": 5.8,
            "count": 0
           },
           {
            "bin_start": 5.8,
            "bin_end": 7,
            "count": 0
           },
           {
            "bin_start": 7,
            "bin_end": 8.2,
            "count": 0
           },
           {
            "bin_start": 8.2,
            "bin_end": 9.4,
            "count": 0
           },
           {
            "bin_start": 9.4,
            "bin_end": 10.6,
            "count": 0
           },
           {
            "bin_start": 10.6,
            "bin_end": 11.799999999999999,
            "count": 0
           },
           {
            "bin_start": 11.799999999999999,
            "bin_end": 13,
            "count": 1
           }
          ]
         }
        },
        {
         "name": "Arrival_Time_minute",
         "dtype": "int64",
         "stats": {
          "unique_count": 2,
          "nan_count": 0,
          "min": "10",
          "max": "15",
          "histogram": [
           {
            "bin_start": 10,
            "bin_end": 10.5,
            "count": 1
           },
           {
            "bin_start": 10.5,
            "bin_end": 11,
            "count": 0
           },
           {
            "bin_start": 11,
            "bin_end": 11.5,
            "count": 0
           },
           {
            "bin_start": 11.5,
            "bin_end": 12,
            "count": 0
           },
           {
            "bin_start": 12,
            "bin_end": 12.5,
            "count": 0
           },
           {
            "bin_start": 12.5,
            "bin_end": 13,
            "count": 0
           },
           {
            "bin_start": 13,
            "bin_end": 13.5,
            "count": 0
           },
           {
            "bin_start": 13.5,
            "bin_end": 14,
            "count": 0
           },
           {
            "bin_start": 14,
            "bin_end": 14.5,
            "count": 0
           },
           {
            "bin_start": 14.5,
            "bin_end": 15,
            "count": 1
           }
          ]
         }
        },
        {
         "name": "Duration_hours",
         "dtype": "int64",
         "stats": {
          "unique_count": 2,
          "nan_count": 0,
          "min": "2",
          "max": "7",
          "histogram": [
           {
            "bin_start": 2,
            "bin_end": 2.5,
            "count": 1
           },
           {
            "bin_start": 2.5,
            "bin_end": 3,
            "count": 0
           },
           {
            "bin_start": 3,
            "bin_end": 3.5,
            "count": 0
           },
           {
            "bin_start": 3.5,
            "bin_end": 4,
            "count": 0
           },
           {
            "bin_start": 4,
            "bin_end": 4.5,
            "count": 0
           },
           {
            "bin_start": 4.5,
            "bin_end": 5,
            "count": 0
           },
           {
            "bin_start": 5,
            "bin_end": 5.5,
            "count": 0
           },
           {
            "bin_start": 5.5,
            "bin_end": 6,
            "count": 0
           },
           {
            "bin_start": 6,
            "bin_end": 6.5,
            "count": 0
           },
           {
            "bin_start": 6.5,
            "bin_end": 7,
            "count": 1
           }
          ]
         }
        },
        {
         "name": "Duration_mins",
         "dtype": "int64",
         "stats": {
          "unique_count": 2,
          "nan_count": 0,
          "min": "25",
          "max": "50",
          "histogram": [
           {
            "bin_start": 25,
            "bin_end": 27.5,
            "count": 1
           },
           {
            "bin_start": 27.5,
            "bin_end": 30,
            "count": 0
           },
           {
            "bin_start": 30,
            "bin_end": 32.5,
            "count": 0
           },
           {
            "bin_start": 32.5,
            "bin_end": 35,
            "count": 0
           },
           {
            "bin_start": 35,
            "bin_end": 37.5,
            "count": 0
           },
           {
            "bin_start": 37.5,
            "bin_end": 40,
            "count": 0
           },
           {
            "bin_start": 40,
            "bin_end": 42.5,
            "count": 0
           },
           {
            "bin_start": 42.5,
            "bin_end": 45,
            "count": 0
           },
           {
            "bin_start": 45,
            "bin_end": 47.5,
            "count": 0
           },
           {
            "bin_start": 47.5,
            "bin_end": 50,
            "count": 1
           }
          ]
         }
        },
        {
         "name": "Source_Banglore",
         "dtype": "int64",
         "stats": {
          "unique_count": 2,
          "nan_count": 0,
          "min": "0",
          "max": "1",
          "histogram": [
           {
            "bin_start": 0,
            "bin_end": 0.1,
            "count": 1
           },
           {
            "bin_start": 0.1,
            "bin_end": 0.2,
            "count": 0
           },
           {
            "bin_start": 0.2,
            "bin_end": 0.30000000000000004,
            "count": 0
           },
           {
            "bin_start": 0.30000000000000004,
            "bin_end": 0.4,
            "count": 0
           },
           {
            "bin_start": 0.4,
            "bin_end": 0.5,
            "count": 0
           },
           {
            "bin_start": 0.5,
            "bin_end": 0.6000000000000001,
            "count": 0
           },
           {
            "bin_start": 0.6000000000000001,
            "bin_end": 0.7000000000000001,
            "count": 0
           },
           {
            "bin_start": 0.7000000000000001,
            "bin_end": 0.8,
            "count": 0
           },
           {
            "bin_start": 0.8,
            "bin_end": 0.9,
            "count": 0
           },
           {
            "bin_start": 0.9,
            "bin_end": 1,
            "count": 1
           }
          ]
         }
        },
        {
         "name": "Source_Kolkata",
         "dtype": "int64",
         "stats": {
          "unique_count": 2,
          "nan_count": 0,
          "min": "0",
          "max": "1",
          "histogram": [
           {
            "bin_start": 0,
            "bin_end": 0.1,
            "count": 1
           },
           {
            "bin_start": 0.1,
            "bin_end": 0.2,
            "count": 0
           },
           {
            "bin_start": 0.2,
            "bin_end": 0.30000000000000004,
            "count": 0
           },
           {
            "bin_start": 0.30000000000000004,
            "bin_end": 0.4,
            "count": 0
           },
           {
            "bin_start": 0.4,
            "bin_end": 0.5,
            "count": 0
           },
           {
            "bin_start": 0.5,
            "bin_end": 0.6000000000000001,
            "count": 0
           },
           {
            "bin_start": 0.6000000000000001,
            "bin_end": 0.7000000000000001,
            "count": 0
           },
           {
            "bin_start": 0.7000000000000001,
            "bin_end": 0.8,
            "count": 0
           },
           {
            "bin_start": 0.8,
            "bin_end": 0.9,
            "count": 0
           },
           {
            "bin_start": 0.9,
            "bin_end": 1,
            "count": 1
           }
          ]
         }
        },
        {
         "name": "Source_Delhi",
         "dtype": "int64",
         "stats": {
          "unique_count": 1,
          "nan_count": 0,
          "min": "0",
          "max": "0",
          "histogram": [
           {
            "bin_start": -0.5,
            "bin_end": -0.4,
            "count": 0
           },
           {
            "bin_start": -0.4,
            "bin_end": -0.3,
            "count": 0
           },
           {
            "bin_start": -0.3,
            "bin_end": -0.19999999999999996,
            "count": 0
           },
           {
            "bin_start": -0.19999999999999996,
            "bin_end": -0.09999999999999998,
            "count": 0
           },
           {
            "bin_start": -0.09999999999999998,
            "bin_end": 0,
            "count": 0
           },
           {
            "bin_start": 0,
            "bin_end": 0.10000000000000009,
            "count": 2
           },
           {
            "bin_start": 0.10000000000000009,
            "bin_end": 0.20000000000000007,
            "count": 0
           },
           {
            "bin_start": 0.20000000000000007,
            "bin_end": 0.30000000000000004,
            "count": 0
           },
           {
            "bin_start": 0.30000000000000004,
            "bin_end": 0.4,
            "count": 0
           },
           {
            "bin_start": 0.4,
            "bin_end": 0.5,
            "count": 0
           }
          ]
         }
        },
        {
         "name": "Source_Chennai",
         "dtype": "int64",
         "stats": {
          "unique_count": 1,
          "nan_count": 0,
          "min": "0",
          "max": "0",
          "histogram": [
           {
            "bin_start": -0.5,
            "bin_end": -0.4,
            "count": 0
           },
           {
            "bin_start": -0.4,
            "bin_end": -0.3,
            "count": 0
           },
           {
            "bin_start": -0.3,
            "bin_end": -0.19999999999999996,
            "count": 0
           },
           {
            "bin_start": -0.19999999999999996,
            "bin_end": -0.09999999999999998,
            "count": 0
           },
           {
            "bin_start": -0.09999999999999998,
            "bin_end": 0,
            "count": 0
           },
           {
            "bin_start": 0,
            "bin_end": 0.10000000000000009,
            "count": 2
           },
           {
            "bin_start": 0.10000000000000009,
            "bin_end": 0.20000000000000007,
            "count": 0
           },
           {
            "bin_start": 0.20000000000000007,
            "bin_end": 0.30000000000000004,
            "count": 0
           },
           {
            "bin_start": 0.30000000000000004,
            "bin_end": 0.4,
            "count": 0
           },
           {
            "bin_start": 0.4,
            "bin_end": 0.5,
            "count": 0
           }
          ]
         }
        },
        {
         "name": "Source_Mumbai",
         "dtype": "int64",
         "stats": {
          "unique_count": 1,
          "nan_count": 0,
          "min": "0",
          "max": "0",
          "histogram": [
           {
            "bin_start": -0.5,
            "bin_end": -0.4,
            "count": 0
           },
           {
            "bin_start": -0.4,
            "bin_end": -0.3,
            "count": 0
           },
           {
            "bin_start": -0.3,
            "bin_end": -0.19999999999999996,
            "count": 0
           },
           {
            "bin_start": -0.19999999999999996,
            "bin_end": -0.09999999999999998,
            "count": 0
           },
           {
            "bin_start": -0.09999999999999998,
            "bin_end": 0,
            "count": 0
           },
           {
            "bin_start": 0,
            "bin_end": 0.10000000000000009,
            "count": 2
           },
           {
            "bin_start": 0.10000000000000009,
            "bin_end": 0.20000000000000007,
            "count": 0
           },
           {
            "bin_start": 0.20000000000000007,
            "bin_end": 0.30000000000000004,
            "count": 0
           },
           {
            "bin_start": 0.30000000000000004,
            "bin_end": 0.4,
            "count": 0
           },
           {
            "bin_start": 0.4,
            "bin_end": 0.5,
            "count": 0
           }
          ]
         }
        },
        {
         "name": "_deepnote_index_column",
         "dtype": "int64"
        }
       ],
       "rows": [
        {
         "Airline": 3,
         "Source": "Banglore",
         "Destination": "New Delhi",
         "Duration": "2h 50m",
         "Total_Stops": "non-stop",
         "Price": 3897,
         "journey_day": 24,
         "journey_month": 3,
         "Dep_Time_hour": 22,
         "Dep_Time_minute": 20,
         "Arrival_Time_hour": 1,
         "Arrival_Time_minute": 10,
         "Duration_hours": 2,
         "Duration_mins": 50,
         "Source_Banglore": 1,
         "Source_Kolkata": 0,
         "Source_Delhi": 0,
         "Source_Chennai": 0,
         "Source_Mumbai": 0,
         "_deepnote_index_column": 0
        },
        {
         "Airline": 7,
         "Source": "Kolkata",
         "Destination": "Banglore",
         "Duration": "7h 25m",
         "Total_Stops": "2 stops",
         "Price": 7662,
         "journey_day": 5,
         "journey_month": 1,
         "Dep_Time_hour": 5,
         "Dep_Time_minute": 50,
         "Arrival_Time_hour": 13,
         "Arrival_Time_minute": 15,
         "Duration_hours": 7,
         "Duration_mins": 25,
         "Source_Banglore": 0,
         "Source_Kolkata": 1,
         "Source_Delhi": 0,
         "Source_Chennai": 0,
         "Source_Mumbai": 0,
         "_deepnote_index_column": 1
        }
       ]
      },
      "text/plain": "   Airline    Source Destination Duration Total_Stops  Price  journey_day  \\\n0        3  Banglore   New Delhi   2h 50m    non-stop   3897           24   \n1        7   Kolkata    Banglore   7h 25m     2 stops   7662            5   \n\n   journey_month  Dep_Time_hour  Dep_Time_minute  Arrival_Time_hour  \\\n0              3             22               20                  1   \n1              1              5               50                 13   \n\n   Arrival_Time_minute  Duration_hours  Duration_mins  Source_Banglore  \\\n0                   10               2             50                1   \n1                   15               7             25                0   \n\n   Source_Kolkata  Source_Delhi  Source_Chennai  Source_Mumbai  \n0               0             0               0              0  \n1               1             0               0              0  ",
      "text/html": "<div>\n<style scoped>\n    .dataframe tbody tr th:only-of-type {\n        vertical-align: middle;\n    }\n\n    .dataframe tbody tr th {\n        vertical-align: top;\n    }\n\n    .dataframe thead th {\n        text-align: right;\n    }\n</style>\n<table border=\"1\" class=\"dataframe\">\n  <thead>\n    <tr style=\"text-align: right;\">\n      <th></th>\n      <th>Airline</th>\n      <th>Source</th>\n      <th>Destination</th>\n      <th>Duration</th>\n      <th>Total_Stops</th>\n      <th>Price</th>\n      <th>journey_day</th>\n      <th>journey_month</th>\n      <th>Dep_Time_hour</th>\n      <th>Dep_Time_minute</th>\n      <th>Arrival_Time_hour</th>\n      <th>Arrival_Time_minute</th>\n      <th>Duration_hours</th>\n      <th>Duration_mins</th>\n      <th>Source_Banglore</th>\n      <th>Source_Kolkata</th>\n      <th>Source_Delhi</th>\n      <th>Source_Chennai</th>\n      <th>Source_Mumbai</th>\n    </tr>\n  </thead>\n  <tbody>\n    <tr>\n      <th>0</th>\n      <td>3</td>\n      <td>Banglore</td>\n      <td>New Delhi</td>\n      <td>2h 50m</td>\n      <td>non-stop</td>\n      <td>3897</td>\n      <td>24</td>\n      <td>3</td>\n      <td>22</td>\n      <td>20</td>\n      <td>1</td>\n      <td>10</td>\n      <td>2</td>\n      <td>50</td>\n      <td>1</td>\n      <td>0</td>\n      <td>0</td>\n      <td>0</td>\n      <td>0</td>\n    </tr>\n    <tr>\n      <th>1</th>\n      <td>7</td>\n      <td>Kolkata</td>\n      <td>Banglore</td>\n      <td>7h 25m</td>\n      <td>2 stops</td>\n      <td>7662</td>\n      <td>5</td>\n      <td>1</td>\n      <td>5</td>\n      <td>50</td>\n      <td>13</td>\n      <td>15</td>\n      <td>7</td>\n      <td>25</td>\n      <td>0</td>\n      <td>1</td>\n      <td>0</td>\n      <td>0</td>\n      <td>0</td>\n    </tr>\n  </tbody>\n</table>\n</div>"
     },
     "metadata": {}
    }
   ]
  },
  {
   "cell_type": "code",
   "metadata": {
    "cell_id": "00149-93e7f7d7-0060-4443-a081-224b2afaef7a",
    "deepnote_to_be_reexecuted": false,
    "source_hash": "b623e53d",
    "execution_start": 1660916823419,
    "execution_millis": 9,
    "deepnote_cell_type": "code",
    "deepnote_cell_height": 76
   },
   "source": "",
   "execution_count": 79,
   "outputs": []
  },
  {
   "cell_type": "code",
   "metadata": {
    "cell_id": "00150-e6b7d8c8-ca17-484b-8122-4b3f7fe3386b",
    "deepnote_to_be_reexecuted": false,
    "source_hash": "9dba6608",
    "execution_start": 1660916823468,
    "execution_millis": 1,
    "deepnote_cell_type": "code",
    "deepnote_cell_height": 131.375,
    "deepnote_output_heights": [
     39.390625
    ]
   },
   "source": "data['Destination'].unique()",
   "execution_count": 80,
   "outputs": [
    {
     "output_type": "execute_result",
     "execution_count": 80,
     "data": {
      "text/plain": "array(['New Delhi', 'Banglore', 'Cochin', 'Kolkata', 'Delhi', 'Hyderabad'],\n      dtype=object)"
     },
     "metadata": {}
    }
   ]
  },
  {
   "cell_type": "markdown",
   "source": "Note: till now , Delhi (Capital of India) has one Airport & its second Airport is yet to build in Greater Noida (Jewar)\n      which is part of NCR , so we will consider New Delhi & Delhi as same ...\n\n\n      but in future , these conditions may change..",
   "metadata": {
    "cell_id": "937554bff054436fb2905375c7b81be8",
    "tags": [],
    "deepnote_cell_type": "markdown",
    "deepnote_cell_height": 129.59375
   }
  },
  {
   "cell_type": "code",
   "metadata": {
    "cell_id": "00151-332def1e-217c-43df-8549-3b8022240a1c",
    "deepnote_to_be_reexecuted": false,
    "source_hash": "b623e53d",
    "execution_start": 1660916823469,
    "execution_millis": 4,
    "deepnote_cell_type": "code",
    "deepnote_cell_height": 76
   },
   "source": "",
   "execution_count": 80,
   "outputs": []
  },
  {
   "cell_type": "code",
   "metadata": {
    "cell_id": "00152-8e5bb374-4f4e-421e-8513-8c46d3c18706",
    "deepnote_to_be_reexecuted": false,
    "source_hash": "df84bdcd",
    "execution_start": 1660916823470,
    "execution_millis": 24977025,
    "deepnote_cell_type": "code",
    "deepnote_cell_height": 76
   },
   "source": "data['Destination'].replace('New Delhi','Delhi',inplace=True)",
   "execution_count": 81,
   "outputs": []
  },
  {
   "cell_type": "code",
   "metadata": {
    "cell_id": "00153-c5ea9acf-3e93-4a71-80d4-b1cf003ac032",
    "deepnote_to_be_reexecuted": false,
    "source_hash": "9dba6608",
    "execution_start": 1660916823471,
    "execution_millis": 4,
    "deepnote_cell_type": "code",
    "deepnote_cell_height": 131.375,
    "deepnote_output_heights": [
     39.390625
    ]
   },
   "source": "data['Destination'].unique()",
   "execution_count": 82,
   "outputs": [
    {
     "output_type": "execute_result",
     "execution_count": 82,
     "data": {
      "text/plain": "array(['Delhi', 'Banglore', 'Cochin', 'Kolkata', 'Hyderabad'],\n      dtype=object)"
     },
     "metadata": {}
    }
   ]
  },
  {
   "cell_type": "code",
   "metadata": {
    "cell_id": "00154-da406cc6-d76a-4579-bf5b-679418501b7c",
    "deepnote_to_be_reexecuted": false,
    "source_hash": "26590751",
    "execution_start": 1660916823522,
    "execution_millis": 1,
    "deepnote_cell_type": "code",
    "deepnote_cell_height": 76
   },
   "source": "dest=data.groupby(['Destination'])['Price'].mean().sort_values().index",
   "execution_count": 83,
   "outputs": []
  },
  {
   "cell_type": "code",
   "metadata": {
    "cell_id": "00155-80d6fa84-8a7c-4058-b0f3-41af376ece10",
    "deepnote_to_be_reexecuted": false,
    "source_hash": "105807fe",
    "execution_start": 1660916823523,
    "execution_millis": 3,
    "deepnote_cell_type": "code",
    "deepnote_cell_height": 112.1875,
    "deepnote_output_heights": [
     20.1875
    ]
   },
   "source": "dest",
   "execution_count": 84,
   "outputs": [
    {
     "output_type": "execute_result",
     "execution_count": 84,
     "data": {
      "text/plain": "Index(['Kolkata', 'Hyderabad', 'Delhi', 'Banglore', 'Cochin'], dtype='object', name='Destination')"
     },
     "metadata": {}
    }
   ]
  },
  {
   "cell_type": "code",
   "metadata": {
    "cell_id": "00156-a67fa747-a114-44ac-83f8-817c62bd0336",
    "deepnote_to_be_reexecuted": false,
    "source_hash": "71ddcb90",
    "execution_start": 1660916823523,
    "execution_millis": 1,
    "deepnote_cell_type": "code",
    "deepnote_cell_height": 76
   },
   "source": "dict2={key:index for index,key in enumerate(dest,0)}",
   "execution_count": 85,
   "outputs": []
  },
  {
   "cell_type": "code",
   "metadata": {
    "cell_id": "00157-2dbad4fd-2be1-4bf4-89c9-ca775bc6130c",
    "deepnote_to_be_reexecuted": false,
    "source_hash": "1cca4be3",
    "execution_start": 1660916823524,
    "execution_millis": 6,
    "deepnote_cell_type": "code",
    "deepnote_cell_height": 112.1875,
    "deepnote_output_heights": [
     20.1875
    ]
   },
   "source": "dict2",
   "execution_count": 86,
   "outputs": [
    {
     "output_type": "execute_result",
     "execution_count": 86,
     "data": {
      "text/plain": "{'Kolkata': 0, 'Hyderabad': 1, 'Delhi': 2, 'Banglore': 3, 'Cochin': 4}"
     },
     "metadata": {}
    }
   ]
  },
  {
   "cell_type": "code",
   "metadata": {
    "cell_id": "00158-3cbdebcd-5837-47f0-9cc5-b0b6d83507c2",
    "deepnote_to_be_reexecuted": false,
    "source_hash": "2bad6fe5",
    "execution_start": 1660916823534,
    "execution_millis": 3,
    "deepnote_cell_type": "code",
    "deepnote_cell_height": 76
   },
   "source": "data['Destination']=data['Destination'].map(dict2)",
   "execution_count": 87,
   "outputs": []
  },
  {
   "cell_type": "code",
   "metadata": {
    "cell_id": "00159-8a00d09c-277b-409f-beb8-551d71a614de",
    "deepnote_to_be_reexecuted": false,
    "source_hash": "c02b33e0",
    "execution_start": 1660916823545,
    "execution_millis": 4,
    "deepnote_cell_type": "code",
    "deepnote_cell_height": 323.375,
    "deepnote_output_heights": [
     231.390625
    ]
   },
   "source": "data['Destination']",
   "execution_count": 88,
   "outputs": [
    {
     "output_type": "execute_result",
     "execution_count": 88,
     "data": {
      "text/plain": "0        2\n1        3\n2        4\n3        3\n4        2\n        ..\n10678    3\n10679    3\n10680    2\n10681    2\n10682    4\nName: Destination, Length: 10682, dtype: int64"
     },
     "metadata": {}
    }
   ]
  },
  {
   "cell_type": "code",
   "metadata": {
    "cell_id": "00160-c21f04ba-62e5-428b-bc4b-825b05d7e4af",
    "deepnote_to_be_reexecuted": false,
    "source_hash": "f7a45459",
    "execution_start": 1660916823593,
    "execution_millis": 27,
    "deepnote_cell_type": "code",
    "deepnote_cell_height": 283.796875
   },
   "source": "data.head(2)",
   "execution_count": 89,
   "outputs": [
    {
     "output_type": "execute_result",
     "execution_count": 89,
     "data": {
      "application/vnd.deepnote.dataframe.v3+json": {
       "column_count": 19,
       "row_count": 2,
       "columns": [
        {
         "name": "Airline",
         "dtype": "int64",
         "stats": {
          "unique_count": 2,
          "nan_count": 0,
          "min": "3",
          "max": "7",
          "histogram": [
           {
            "bin_start": 3,
            "bin_end": 3.4,
            "count": 1
           },
           {
            "bin_start": 3.4,
            "bin_end": 3.8,
            "count": 0
           },
           {
            "bin_start": 3.8,
            "bin_end": 4.2,
            "count": 0
           },
           {
            "bin_start": 4.2,
            "bin_end": 4.6,
            "count": 0
           },
           {
            "bin_start": 4.6,
            "bin_end": 5,
            "count": 0
           },
           {
            "bin_start": 5,
            "bin_end": 5.4,
            "count": 0
           },
           {
            "bin_start": 5.4,
            "bin_end": 5.800000000000001,
            "count": 0
           },
           {
            "bin_start": 5.800000000000001,
            "bin_end": 6.2,
            "count": 0
           },
           {
            "bin_start": 6.2,
            "bin_end": 6.6,
            "count": 0
           },
           {
            "bin_start": 6.6,
            "bin_end": 7,
            "count": 1
           }
          ]
         }
        },
        {
         "name": "Source",
         "dtype": "object",
         "stats": {
          "unique_count": 2,
          "nan_count": 0,
          "categories": [
           {
            "name": "Banglore",
            "count": 1
           },
           {
            "name": "Kolkata",
            "count": 1
           }
          ]
         }
        },
        {
         "name": "Destination",
         "dtype": "int64",
         "stats": {
          "unique_count": 2,
          "nan_count": 0,
          "min": "2",
          "max": "3",
          "histogram": [
           {
            "bin_start": 2,
            "bin_end": 2.1,
            "count": 1
           },
           {
            "bin_start": 2.1,
            "bin_end": 2.2,
            "count": 0
           },
           {
            "bin_start": 2.2,
            "bin_end": 2.3,
            "count": 0
           },
           {
            "bin_start": 2.3,
            "bin_end": 2.4,
            "count": 0
           },
           {
            "bin_start": 2.4,
            "bin_end": 2.5,
            "count": 0
           },
           {
            "bin_start": 2.5,
            "bin_end": 2.6,
            "count": 0
           },
           {
            "bin_start": 2.6,
            "bin_end": 2.7,
            "count": 0
           },
           {
            "bin_start": 2.7,
            "bin_end": 2.8,
            "count": 0
           },
           {
            "bin_start": 2.8,
            "bin_end": 2.9,
            "count": 0
           },
           {
            "bin_start": 2.9,
            "bin_end": 3,
            "count": 1
           }
          ]
         }
        },
        {
         "name": "Duration",
         "dtype": "object",
         "stats": {
          "unique_count": 2,
          "nan_count": 0,
          "categories": [
           {
            "name": "2h 50m",
            "count": 1
           },
           {
            "name": "7h 25m",
            "count": 1
           }
          ]
         }
        },
        {
         "name": "Total_Stops",
         "dtype": "object",
         "stats": {
          "unique_count": 2,
          "nan_count": 0,
          "categories": [
           {
            "name": "non-stop",
            "count": 1
           },
           {
            "name": "2 stops",
            "count": 1
           }
          ]
         }
        },
        {
         "name": "Price",
         "dtype": "int64",
         "stats": {
          "unique_count": 2,
          "nan_count": 0,
          "min": "3897",
          "max": "7662",
          "histogram": [
           {
            "bin_start": 3897,
            "bin_end": 4273.5,
            "count": 1
           },
           {
            "bin_start": 4273.5,
            "bin_end": 4650,
            "count": 0
           },
           {
            "bin_start": 4650,
            "bin_end": 5026.5,
            "count": 0
           },
           {
            "bin_start": 5026.5,
            "bin_end": 5403,
            "count": 0
           },
           {
            "bin_start": 5403,
            "bin_end": 5779.5,
            "count": 0
           },
           {
            "bin_start": 5779.5,
            "bin_end": 6156,
            "count": 0
           },
           {
            "bin_start": 6156,
            "bin_end": 6532.5,
            "count": 0
           },
           {
            "bin_start": 6532.5,
            "bin_end": 6909,
            "count": 0
           },
           {
            "bin_start": 6909,
            "bin_end": 7285.5,
            "count": 0
           },
           {
            "bin_start": 7285.5,
            "bin_end": 7662,
            "count": 1
           }
          ]
         }
        },
        {
         "name": "journey_day",
         "dtype": "int64",
         "stats": {
          "unique_count": 2,
          "nan_count": 0,
          "min": "5",
          "max": "24",
          "histogram": [
           {
            "bin_start": 5,
            "bin_end": 6.9,
            "count": 1
           },
           {
            "bin_start": 6.9,
            "bin_end": 8.8,
            "count": 0
           },
           {
            "bin_start": 8.8,
            "bin_end": 10.7,
            "count": 0
           },
           {
            "bin_start": 10.7,
            "bin_end": 12.6,
            "count": 0
           },
           {
            "bin_start": 12.6,
            "bin_end": 14.5,
            "count": 0
           },
           {
            "bin_start": 14.5,
            "bin_end": 16.4,
            "count": 0
           },
           {
            "bin_start": 16.4,
            "bin_end": 18.299999999999997,
            "count": 0
           },
           {
            "bin_start": 18.299999999999997,
            "bin_end": 20.2,
            "count": 0
           },
           {
            "bin_start": 20.2,
            "bin_end": 22.099999999999998,
            "count": 0
           },
           {
            "bin_start": 22.099999999999998,
            "bin_end": 24,
            "count": 1
           }
          ]
         }
        },
        {
         "name": "journey_month",
         "dtype": "int64",
         "stats": {
          "unique_count": 2,
          "nan_count": 0,
          "min": "1",
          "max": "3",
          "histogram": [
           {
            "bin_start": 1,
            "bin_end": 1.2,
            "count": 1
           },
           {
            "bin_start": 1.2,
            "bin_end": 1.4,
            "count": 0
           },
           {
            "bin_start": 1.4,
            "bin_end": 1.6,
            "count": 0
           },
           {
            "bin_start": 1.6,
            "bin_end": 1.8,
            "count": 0
           },
           {
            "bin_start": 1.8,
            "bin_end": 2,
            "count": 0
           },
           {
            "bin_start": 2,
            "bin_end": 2.2,
            "count": 0
           },
           {
            "bin_start": 2.2,
            "bin_end": 2.4000000000000004,
            "count": 0
           },
           {
            "bin_start": 2.4000000000000004,
            "bin_end": 2.6,
            "count": 0
           },
           {
            "bin_start": 2.6,
            "bin_end": 2.8,
            "count": 0
           },
           {
            "bin_start": 2.8,
            "bin_end": 3,
            "count": 1
           }
          ]
         }
        },
        {
         "name": "Dep_Time_hour",
         "dtype": "int64",
         "stats": {
          "unique_count": 2,
          "nan_count": 0,
          "min": "5",
          "max": "22",
          "histogram": [
           {
            "bin_start": 5,
            "bin_end": 6.7,
            "count": 1
           },
           {
            "bin_start": 6.7,
            "bin_end": 8.4,
            "count": 0
           },
           {
            "bin_start": 8.4,
            "bin_end": 10.1,
            "count": 0
           },
           {
            "bin_start": 10.1,
            "bin_end": 11.8,
            "count": 0
           },
           {
            "bin_start": 11.8,
            "bin_end": 13.5,
            "count": 0
           },
           {
            "bin_start": 13.5,
            "bin_end": 15.2,
            "count": 0
           },
           {
            "bin_start": 15.2,
            "bin_end": 16.9,
            "count": 0
           },
           {
            "bin_start": 16.9,
            "bin_end": 18.6,
            "count": 0
           },
           {
            "bin_start": 18.6,
            "bin_end": 20.299999999999997,
            "count": 0
           },
           {
            "bin_start": 20.299999999999997,
            "bin_end": 22,
            "count": 1
           }
          ]
         }
        },
        {
         "name": "Dep_Time_minute",
         "dtype": "int64",
         "stats": {
          "unique_count": 2,
          "nan_count": 0,
          "min": "20",
          "max": "50",
          "histogram": [
           {
            "bin_start": 20,
            "bin_end": 23,
            "count": 1
           },
           {
            "bin_start": 23,
            "bin_end": 26,
            "count": 0
           },
           {
            "bin_start": 26,
            "bin_end": 29,
            "count": 0
           },
           {
            "bin_start": 29,
            "bin_end": 32,
            "count": 0
           },
           {
            "bin_start": 32,
            "bin_end": 35,
            "count": 0
           },
           {
            "bin_start": 35,
            "bin_end": 38,
            "count": 0
           },
           {
            "bin_start": 38,
            "bin_end": 41,
            "count": 0
           },
           {
            "bin_start": 41,
            "bin_end": 44,
            "count": 0
           },
           {
            "bin_start": 44,
            "bin_end": 47,
            "count": 0
           },
           {
            "bin_start": 47,
            "bin_end": 50,
            "count": 1
           }
          ]
         }
        },
        {
         "name": "Arrival_Time_hour",
         "dtype": "int64",
         "stats": {
          "unique_count": 2,
          "nan_count": 0,
          "min": "1",
          "max": "13",
          "histogram": [
           {
            "bin_start": 1,
            "bin_end": 2.2,
            "count": 1
           },
           {
            "bin_start": 2.2,
            "bin_end": 3.4,
            "count": 0
           },
           {
            "bin_start": 3.4,
            "bin_end": 4.6,
            "count": 0
           },
           {
            "bin_start": 4.6,
            "bin_end": 5.8,
            "count": 0
           },
           {
            "bin_start": 5.8,
            "bin_end": 7,
            "count": 0
           },
           {
            "bin_start": 7,
            "bin_end": 8.2,
            "count": 0
           },
           {
            "bin_start": 8.2,
            "bin_end": 9.4,
            "count": 0
           },
           {
            "bin_start": 9.4,
            "bin_end": 10.6,
            "count": 0
           },
           {
            "bin_start": 10.6,
            "bin_end": 11.799999999999999,
            "count": 0
           },
           {
            "bin_start": 11.799999999999999,
            "bin_end": 13,
            "count": 1
           }
          ]
         }
        },
        {
         "name": "Arrival_Time_minute",
         "dtype": "int64",
         "stats": {
          "unique_count": 2,
          "nan_count": 0,
          "min": "10",
          "max": "15",
          "histogram": [
           {
            "bin_start": 10,
            "bin_end": 10.5,
            "count": 1
           },
           {
            "bin_start": 10.5,
            "bin_end": 11,
            "count": 0
           },
           {
            "bin_start": 11,
            "bin_end": 11.5,
            "count": 0
           },
           {
            "bin_start": 11.5,
            "bin_end": 12,
            "count": 0
           },
           {
            "bin_start": 12,
            "bin_end": 12.5,
            "count": 0
           },
           {
            "bin_start": 12.5,
            "bin_end": 13,
            "count": 0
           },
           {
            "bin_start": 13,
            "bin_end": 13.5,
            "count": 0
           },
           {
            "bin_start": 13.5,
            "bin_end": 14,
            "count": 0
           },
           {
            "bin_start": 14,
            "bin_end": 14.5,
            "count": 0
           },
           {
            "bin_start": 14.5,
            "bin_end": 15,
            "count": 1
           }
          ]
         }
        },
        {
         "name": "Duration_hours",
         "dtype": "int64",
         "stats": {
          "unique_count": 2,
          "nan_count": 0,
          "min": "2",
          "max": "7",
          "histogram": [
           {
            "bin_start": 2,
            "bin_end": 2.5,
            "count": 1
           },
           {
            "bin_start": 2.5,
            "bin_end": 3,
            "count": 0
           },
           {
            "bin_start": 3,
            "bin_end": 3.5,
            "count": 0
           },
           {
            "bin_start": 3.5,
            "bin_end": 4,
            "count": 0
           },
           {
            "bin_start": 4,
            "bin_end": 4.5,
            "count": 0
           },
           {
            "bin_start": 4.5,
            "bin_end": 5,
            "count": 0
           },
           {
            "bin_start": 5,
            "bin_end": 5.5,
            "count": 0
           },
           {
            "bin_start": 5.5,
            "bin_end": 6,
            "count": 0
           },
           {
            "bin_start": 6,
            "bin_end": 6.5,
            "count": 0
           },
           {
            "bin_start": 6.5,
            "bin_end": 7,
            "count": 1
           }
          ]
         }
        },
        {
         "name": "Duration_mins",
         "dtype": "int64",
         "stats": {
          "unique_count": 2,
          "nan_count": 0,
          "min": "25",
          "max": "50",
          "histogram": [
           {
            "bin_start": 25,
            "bin_end": 27.5,
            "count": 1
           },
           {
            "bin_start": 27.5,
            "bin_end": 30,
            "count": 0
           },
           {
            "bin_start": 30,
            "bin_end": 32.5,
            "count": 0
           },
           {
            "bin_start": 32.5,
            "bin_end": 35,
            "count": 0
           },
           {
            "bin_start": 35,
            "bin_end": 37.5,
            "count": 0
           },
           {
            "bin_start": 37.5,
            "bin_end": 40,
            "count": 0
           },
           {
            "bin_start": 40,
            "bin_end": 42.5,
            "count": 0
           },
           {
            "bin_start": 42.5,
            "bin_end": 45,
            "count": 0
           },
           {
            "bin_start": 45,
            "bin_end": 47.5,
            "count": 0
           },
           {
            "bin_start": 47.5,
            "bin_end": 50,
            "count": 1
           }
          ]
         }
        },
        {
         "name": "Source_Banglore",
         "dtype": "int64",
         "stats": {
          "unique_count": 2,
          "nan_count": 0,
          "min": "0",
          "max": "1",
          "histogram": [
           {
            "bin_start": 0,
            "bin_end": 0.1,
            "count": 1
           },
           {
            "bin_start": 0.1,
            "bin_end": 0.2,
            "count": 0
           },
           {
            "bin_start": 0.2,
            "bin_end": 0.30000000000000004,
            "count": 0
           },
           {
            "bin_start": 0.30000000000000004,
            "bin_end": 0.4,
            "count": 0
           },
           {
            "bin_start": 0.4,
            "bin_end": 0.5,
            "count": 0
           },
           {
            "bin_start": 0.5,
            "bin_end": 0.6000000000000001,
            "count": 0
           },
           {
            "bin_start": 0.6000000000000001,
            "bin_end": 0.7000000000000001,
            "count": 0
           },
           {
            "bin_start": 0.7000000000000001,
            "bin_end": 0.8,
            "count": 0
           },
           {
            "bin_start": 0.8,
            "bin_end": 0.9,
            "count": 0
           },
           {
            "bin_start": 0.9,
            "bin_end": 1,
            "count": 1
           }
          ]
         }
        },
        {
         "name": "Source_Kolkata",
         "dtype": "int64",
         "stats": {
          "unique_count": 2,
          "nan_count": 0,
          "min": "0",
          "max": "1",
          "histogram": [
           {
            "bin_start": 0,
            "bin_end": 0.1,
            "count": 1
           },
           {
            "bin_start": 0.1,
            "bin_end": 0.2,
            "count": 0
           },
           {
            "bin_start": 0.2,
            "bin_end": 0.30000000000000004,
            "count": 0
           },
           {
            "bin_start": 0.30000000000000004,
            "bin_end": 0.4,
            "count": 0
           },
           {
            "bin_start": 0.4,
            "bin_end": 0.5,
            "count": 0
           },
           {
            "bin_start": 0.5,
            "bin_end": 0.6000000000000001,
            "count": 0
           },
           {
            "bin_start": 0.6000000000000001,
            "bin_end": 0.7000000000000001,
            "count": 0
           },
           {
            "bin_start": 0.7000000000000001,
            "bin_end": 0.8,
            "count": 0
           },
           {
            "bin_start": 0.8,
            "bin_end": 0.9,
            "count": 0
           },
           {
            "bin_start": 0.9,
            "bin_end": 1,
            "count": 1
           }
          ]
         }
        },
        {
         "name": "Source_Delhi",
         "dtype": "int64",
         "stats": {
          "unique_count": 1,
          "nan_count": 0,
          "min": "0",
          "max": "0",
          "histogram": [
           {
            "bin_start": -0.5,
            "bin_end": -0.4,
            "count": 0
           },
           {
            "bin_start": -0.4,
            "bin_end": -0.3,
            "count": 0
           },
           {
            "bin_start": -0.3,
            "bin_end": -0.19999999999999996,
            "count": 0
           },
           {
            "bin_start": -0.19999999999999996,
            "bin_end": -0.09999999999999998,
            "count": 0
           },
           {
            "bin_start": -0.09999999999999998,
            "bin_end": 0,
            "count": 0
           },
           {
            "bin_start": 0,
            "bin_end": 0.10000000000000009,
            "count": 2
           },
           {
            "bin_start": 0.10000000000000009,
            "bin_end": 0.20000000000000007,
            "count": 0
           },
           {
            "bin_start": 0.20000000000000007,
            "bin_end": 0.30000000000000004,
            "count": 0
           },
           {
            "bin_start": 0.30000000000000004,
            "bin_end": 0.4,
            "count": 0
           },
           {
            "bin_start": 0.4,
            "bin_end": 0.5,
            "count": 0
           }
          ]
         }
        },
        {
         "name": "Source_Chennai",
         "dtype": "int64",
         "stats": {
          "unique_count": 1,
          "nan_count": 0,
          "min": "0",
          "max": "0",
          "histogram": [
           {
            "bin_start": -0.5,
            "bin_end": -0.4,
            "count": 0
           },
           {
            "bin_start": -0.4,
            "bin_end": -0.3,
            "count": 0
           },
           {
            "bin_start": -0.3,
            "bin_end": -0.19999999999999996,
            "count": 0
           },
           {
            "bin_start": -0.19999999999999996,
            "bin_end": -0.09999999999999998,
            "count": 0
           },
           {
            "bin_start": -0.09999999999999998,
            "bin_end": 0,
            "count": 0
           },
           {
            "bin_start": 0,
            "bin_end": 0.10000000000000009,
            "count": 2
           },
           {
            "bin_start": 0.10000000000000009,
            "bin_end": 0.20000000000000007,
            "count": 0
           },
           {
            "bin_start": 0.20000000000000007,
            "bin_end": 0.30000000000000004,
            "count": 0
           },
           {
            "bin_start": 0.30000000000000004,
            "bin_end": 0.4,
            "count": 0
           },
           {
            "bin_start": 0.4,
            "bin_end": 0.5,
            "count": 0
           }
          ]
         }
        },
        {
         "name": "Source_Mumbai",
         "dtype": "int64",
         "stats": {
          "unique_count": 1,
          "nan_count": 0,
          "min": "0",
          "max": "0",
          "histogram": [
           {
            "bin_start": -0.5,
            "bin_end": -0.4,
            "count": 0
           },
           {
            "bin_start": -0.4,
            "bin_end": -0.3,
            "count": 0
           },
           {
            "bin_start": -0.3,
            "bin_end": -0.19999999999999996,
            "count": 0
           },
           {
            "bin_start": -0.19999999999999996,
            "bin_end": -0.09999999999999998,
            "count": 0
           },
           {
            "bin_start": -0.09999999999999998,
            "bin_end": 0,
            "count": 0
           },
           {
            "bin_start": 0,
            "bin_end": 0.10000000000000009,
            "count": 2
           },
           {
            "bin_start": 0.10000000000000009,
            "bin_end": 0.20000000000000007,
            "count": 0
           },
           {
            "bin_start": 0.20000000000000007,
            "bin_end": 0.30000000000000004,
            "count": 0
           },
           {
            "bin_start": 0.30000000000000004,
            "bin_end": 0.4,
            "count": 0
           },
           {
            "bin_start": 0.4,
            "bin_end": 0.5,
            "count": 0
           }
          ]
         }
        },
        {
         "name": "_deepnote_index_column",
         "dtype": "int64"
        }
       ],
       "rows": [
        {
         "Airline": 3,
         "Source": "Banglore",
         "Destination": 2,
         "Duration": "2h 50m",
         "Total_Stops": "non-stop",
         "Price": 3897,
         "journey_day": 24,
         "journey_month": 3,
         "Dep_Time_hour": 22,
         "Dep_Time_minute": 20,
         "Arrival_Time_hour": 1,
         "Arrival_Time_minute": 10,
         "Duration_hours": 2,
         "Duration_mins": 50,
         "Source_Banglore": 1,
         "Source_Kolkata": 0,
         "Source_Delhi": 0,
         "Source_Chennai": 0,
         "Source_Mumbai": 0,
         "_deepnote_index_column": 0
        },
        {
         "Airline": 7,
         "Source": "Kolkata",
         "Destination": 3,
         "Duration": "7h 25m",
         "Total_Stops": "2 stops",
         "Price": 7662,
         "journey_day": 5,
         "journey_month": 1,
         "Dep_Time_hour": 5,
         "Dep_Time_minute": 50,
         "Arrival_Time_hour": 13,
         "Arrival_Time_minute": 15,
         "Duration_hours": 7,
         "Duration_mins": 25,
         "Source_Banglore": 0,
         "Source_Kolkata": 1,
         "Source_Delhi": 0,
         "Source_Chennai": 0,
         "Source_Mumbai": 0,
         "_deepnote_index_column": 1
        }
       ]
      },
      "text/plain": "   Airline    Source  Destination Duration Total_Stops  Price  journey_day  \\\n0        3  Banglore            2   2h 50m    non-stop   3897           24   \n1        7   Kolkata            3   7h 25m     2 stops   7662            5   \n\n   journey_month  Dep_Time_hour  Dep_Time_minute  Arrival_Time_hour  \\\n0              3             22               20                  1   \n1              1              5               50                 13   \n\n   Arrival_Time_minute  Duration_hours  Duration_mins  Source_Banglore  \\\n0                   10               2             50                1   \n1                   15               7             25                0   \n\n   Source_Kolkata  Source_Delhi  Source_Chennai  Source_Mumbai  \n0               0             0               0              0  \n1               1             0               0              0  ",
      "text/html": "<div>\n<style scoped>\n    .dataframe tbody tr th:only-of-type {\n        vertical-align: middle;\n    }\n\n    .dataframe tbody tr th {\n        vertical-align: top;\n    }\n\n    .dataframe thead th {\n        text-align: right;\n    }\n</style>\n<table border=\"1\" class=\"dataframe\">\n  <thead>\n    <tr style=\"text-align: right;\">\n      <th></th>\n      <th>Airline</th>\n      <th>Source</th>\n      <th>Destination</th>\n      <th>Duration</th>\n      <th>Total_Stops</th>\n      <th>Price</th>\n      <th>journey_day</th>\n      <th>journey_month</th>\n      <th>Dep_Time_hour</th>\n      <th>Dep_Time_minute</th>\n      <th>Arrival_Time_hour</th>\n      <th>Arrival_Time_minute</th>\n      <th>Duration_hours</th>\n      <th>Duration_mins</th>\n      <th>Source_Banglore</th>\n      <th>Source_Kolkata</th>\n      <th>Source_Delhi</th>\n      <th>Source_Chennai</th>\n      <th>Source_Mumbai</th>\n    </tr>\n  </thead>\n  <tbody>\n    <tr>\n      <th>0</th>\n      <td>3</td>\n      <td>Banglore</td>\n      <td>2</td>\n      <td>2h 50m</td>\n      <td>non-stop</td>\n      <td>3897</td>\n      <td>24</td>\n      <td>3</td>\n      <td>22</td>\n      <td>20</td>\n      <td>1</td>\n      <td>10</td>\n      <td>2</td>\n      <td>50</td>\n      <td>1</td>\n      <td>0</td>\n      <td>0</td>\n      <td>0</td>\n      <td>0</td>\n    </tr>\n    <tr>\n      <th>1</th>\n      <td>7</td>\n      <td>Kolkata</td>\n      <td>3</td>\n      <td>7h 25m</td>\n      <td>2 stops</td>\n      <td>7662</td>\n      <td>5</td>\n      <td>1</td>\n      <td>5</td>\n      <td>50</td>\n      <td>13</td>\n      <td>15</td>\n      <td>7</td>\n      <td>25</td>\n      <td>0</td>\n      <td>1</td>\n      <td>0</td>\n      <td>0</td>\n      <td>0</td>\n    </tr>\n  </tbody>\n</table>\n</div>"
     },
     "metadata": {}
    }
   ]
  },
  {
   "cell_type": "code",
   "metadata": {
    "cell_id": "00161-f1ce8b53-492e-470f-bdda-87e9edb3aa11",
    "deepnote_to_be_reexecuted": false,
    "source_hash": "b623e53d",
    "execution_start": 1660916823623,
    "execution_millis": 1,
    "deepnote_cell_type": "code",
    "deepnote_cell_height": 76
   },
   "source": "",
   "execution_count": 89,
   "outputs": []
  },
  {
   "cell_type": "markdown",
   "source": "### Perform Manual Encoding on Total_stops feature",
   "metadata": {
    "cell_id": "00162-dfb852f6-6b5d-444b-80fa-c9d14be2b53b",
    "deepnote_cell_type": "markdown",
    "deepnote_cell_height": 62
   }
  },
  {
   "cell_type": "code",
   "metadata": {
    "cell_id": "00163-dfc54156-7c5b-4aec-a7d8-70352257db63",
    "deepnote_to_be_reexecuted": false,
    "source_hash": "cd0621ee",
    "execution_start": 1660916823628,
    "execution_millis": 5,
    "deepnote_cell_type": "code",
    "deepnote_cell_height": 131.375,
    "deepnote_output_heights": [
     39.390625
    ]
   },
   "source": "data['Total_Stops'].unique()",
   "execution_count": 90,
   "outputs": [
    {
     "output_type": "execute_result",
     "execution_count": 90,
     "data": {
      "text/plain": "array(['non-stop', '2 stops', '1 stop', '3 stops', '4 stops'],\n      dtype=object)"
     },
     "metadata": {}
    }
   ]
  },
  {
   "cell_type": "code",
   "metadata": {
    "cell_id": "00164-433fb39d-d7e3-4856-b5c5-b3f11672ddc1",
    "deepnote_to_be_reexecuted": false,
    "source_hash": "9046baca",
    "execution_start": 1660916823637,
    "execution_millis": 4,
    "deepnote_cell_type": "code",
    "deepnote_cell_height": 76
   },
   "source": "stops={'non-stop':0, '2 stops':2, '1 stop':1, '3 stops':3, '4 stops':4}",
   "execution_count": 91,
   "outputs": []
  },
  {
   "cell_type": "code",
   "metadata": {
    "cell_id": "00165-603fe64f-e1ad-47cc-9acb-4e9fbb731c29",
    "deepnote_to_be_reexecuted": false,
    "source_hash": "24494e75",
    "execution_start": 1660916823644,
    "execution_millis": 5,
    "deepnote_cell_type": "code",
    "deepnote_cell_height": 76
   },
   "source": "data['Total_Stops']=data['Total_Stops'].map(stops)",
   "execution_count": 92,
   "outputs": []
  },
  {
   "cell_type": "code",
   "metadata": {
    "cell_id": "00166-79747ba1-908b-4856-9599-2c14fd27519a",
    "deepnote_to_be_reexecuted": false,
    "source_hash": "f5b56926",
    "execution_start": 1660916823653,
    "execution_millis": 57,
    "deepnote_cell_type": "code",
    "deepnote_cell_height": 323.375,
    "deepnote_output_heights": [
     231.390625
    ]
   },
   "source": "data['Total_Stops']",
   "execution_count": 93,
   "outputs": [
    {
     "output_type": "execute_result",
     "execution_count": 93,
     "data": {
      "text/plain": "0        0\n1        2\n2        2\n3        1\n4        1\n        ..\n10678    0\n10679    0\n10680    0\n10681    0\n10682    2\nName: Total_Stops, Length: 10682, dtype: int64"
     },
     "metadata": {}
    }
   ]
  },
  {
   "cell_type": "code",
   "metadata": {
    "cell_id": "00167-8380d544-9728-4760-aaf0-8723b821ecd9",
    "deepnote_to_be_reexecuted": false,
    "source_hash": "b623e53d",
    "execution_start": 1660916823706,
    "execution_millis": 0,
    "deepnote_cell_type": "code",
    "deepnote_cell_height": 76
   },
   "source": "",
   "execution_count": 93,
   "outputs": []
  },
  {
   "cell_type": "markdown",
   "source": "## Performing Outlier Detection !\n    Here the list of data visualization plots to spot the outliers.\n1. Box and whisker plot (box plot).\n2. Scatter plot.\n3. Histogram.\n4. Distribution Plot.\n5. QQ plot",
   "metadata": {
    "cell_id": "00168-6146ac96-6164-4b5f-a6fa-12aa8e03516b",
    "deepnote_cell_type": "markdown",
    "deepnote_cell_height": 267.796875
   }
  },
  {
   "cell_type": "markdown",
   "source": "CAUSE FOR OUTLIERS\n* Data Entry Errors:- Human errors such as errors caused during data collection, recording, or entry can cause outliers in data.\n* Measurement Error:- It is the most common source of outliers. This is caused when the measurement instrument used turns out to be faulty.\n* Natural Outlier:- When an outlier is not artificial (due to error), it is a natural outlier. Most of real world data belong to this category.",
   "metadata": {
    "cell_id": "d79f281d49ab490ba063b6789bfba831",
    "tags": [],
    "deepnote_cell_type": "markdown",
    "deepnote_cell_height": 198.390625
   }
  },
  {
   "cell_type": "code",
   "metadata": {
    "cell_id": "00169-ebbab0d0-b07c-43fb-9430-92cc4164e41a",
    "deepnote_to_be_reexecuted": false,
    "source_hash": "b623e53d",
    "execution_start": 1660916823733,
    "execution_millis": 0,
    "deepnote_cell_type": "code",
    "deepnote_cell_height": 76
   },
   "source": "",
   "execution_count": 93,
   "outputs": []
  },
  {
   "cell_type": "code",
   "metadata": {
    "cell_id": "00170-84e64fce-66e3-43ce-b14f-8443a80ea781",
    "deepnote_to_be_reexecuted": false,
    "source_hash": "7fc64efc",
    "execution_start": 1660916823734,
    "execution_millis": 0,
    "deepnote_cell_type": "code",
    "deepnote_cell_height": 166
   },
   "source": "def plot(df,col):\n    fig,(ax1,ax2,ax3)=plt.subplots(3,1)\n    sns.distplot(df[col],ax=ax1)\n    sns.boxplot(df[col],ax=ax2)\n    sns.distplot(df[col],ax=ax3,kde=False)\n    ",
   "execution_count": 94,
   "outputs": []
  },
  {
   "cell_type": "code",
   "metadata": {
    "cell_id": "00171-edbb8e83-d51e-4365-8b7f-da0cbdf2859e",
    "deepnote_to_be_reexecuted": false,
    "source_hash": "702bb643",
    "execution_start": 1660916823734,
    "execution_millis": 772,
    "deepnote_cell_type": "code",
    "deepnote_cell_height": 625.796875,
    "deepnote_output_heights": [
     null,
     263
    ]
   },
   "source": "plot(data,'Price')",
   "execution_count": 95,
   "outputs": [
    {
     "name": "stderr",
     "text": "/shared-libs/python3.9/py/lib/python3.9/site-packages/seaborn/distributions.py:2619: FutureWarning:\n\n`distplot` is a deprecated function and will be removed in a future version. Please adapt your code to use either `displot` (a figure-level function with similar flexibility) or `histplot` (an axes-level function for histograms).\n\n/shared-libs/python3.9/py/lib/python3.9/site-packages/seaborn/_decorators.py:36: FutureWarning:\n\nPass the following variable as a keyword arg: x. From version 0.12, the only valid positional argument will be `data`, and passing other arguments without an explicit keyword will result in an error or misinterpretation.\n\n/shared-libs/python3.9/py/lib/python3.9/site-packages/seaborn/distributions.py:2619: FutureWarning:\n\n`distplot` is a deprecated function and will be removed in a future version. Please adapt your code to use either `displot` (a figure-level function with similar flexibility) or `histplot` (an axes-level function for histograms).\n\n",
     "output_type": "stream"
    },
    {
     "data": {
      "text/plain": "<Figure size 432x288 with 3 Axes>",
      "image/png": "[encoded data removed]"
     },
     "metadata": {
      "needs_background": "light",
      "image/png": {
       "width": 413,
       "height": 262
      }
     },
     "output_type": "display_data"
    }
   ]
  },
  {
   "cell_type": "code",
   "metadata": {
    "cell_id": "00172-e3562901-4ec8-43ea-b24f-97a74ee0dfe0",
    "deepnote_to_be_reexecuted": false,
    "source_hash": "b623e53d",
    "execution_start": 1660916824511,
    "execution_millis": 4,
    "deepnote_cell_type": "code",
    "deepnote_cell_height": 76
   },
   "source": "",
   "execution_count": 95,
   "outputs": []
  },
  {
   "cell_type": "markdown",
   "source": "### getting a high level over-view of various ways to deal with outliers:\n",
   "metadata": {
    "cell_id": "00173-3b311e87-56aa-4732-be69-937fcf0a326f",
    "deepnote_cell_type": "markdown",
    "deepnote_cell_height": 62
   }
  },
  {
   "cell_type": "markdown",
   "source": "\nAgain there are various ways to deal with outliers :\n\n\n1..Statistical imputation , ie impute it with mean , median or mode of data..\n\na..Whenever ur data is Gaussian Distributed ,use 3 std dev approach to remove outliers in such case\n     ie we will use u+3*sigma & u-3*sigma\n        data pts greater than upper_boundary( u+3*sigma) are my outliers \n            & data pts which are less than lower_boundary(u-3*sigma) are my outliers\n\n        Above approach is known as Z-score & it has a extended version known as Robust z-score..\n        Robust Z-score is also called as Median absolute deviation method. \n        It is similar to Z-score method with some changes in parameters.\n\n\nb..If Features Are Skewed We Use the below Technique which is IQR\n    Data which are greater than IQR +1.5 IQR and data which are below than IQR - 1.5 IQR are my outliers\n     where IQR=75th%ile data - 25th%ile data\n\n     & IQR +- 1.5 IQR  will be changed depending upon the domain ie it may be IQR + 3IQR \n\n\n       Extended version of above is WINSORIZATION METHOD(PERCENTILE CAPPING)..\n       This method is similar to IQR method. It says -->> \n\n       Data points that are greater than 99th percentile and data points that are below tha 1st percentile \n       are treated as outliers.\n\n\n\n c..If we have huge high dimensional data , then it is good to perform isolation forest...\n     It is a clustering algo which works based on decision tree and it isolate the outliers.\n     It classify the data point to outlier and not outliers..\n         If the result is -1, it means that this specific data point is an outlier. \n         If the result is 1, then it means that the data point is not an outlier.\n\n\n\n\n\n\nSo we have tonnes of ways to deal with outliers..",
   "metadata": {
    "cell_id": "a6a18d323b924bf1ac26e201638b3be9",
    "tags": [],
    "deepnote_cell_type": "markdown",
    "deepnote_cell_height": 704.796875
   }
  },
  {
   "cell_type": "code",
   "metadata": {
    "cell_id": "00174-d3dccaf9-ab55-4d4e-90a4-88142410a75c",
    "deepnote_to_be_reexecuted": false,
    "source_hash": "b623e53d",
    "execution_start": 1660916824518,
    "execution_millis": 9,
    "deepnote_cell_type": "code",
    "deepnote_cell_height": 76
   },
   "source": "",
   "execution_count": 95,
   "outputs": []
  },
  {
   "cell_type": "code",
   "metadata": {
    "cell_id": "00175-521e7be2-2fb6-4361-8c36-be1a53bc99d6",
    "deepnote_to_be_reexecuted": false,
    "source_hash": "e76b4b43",
    "execution_start": 1660916824530,
    "execution_millis": 6,
    "deepnote_cell_type": "code",
    "deepnote_cell_height": 76
   },
   "source": "data['Price']=np.where(data['Price']>=35000,data['Price'].median(),data['Price'])",
   "execution_count": 96,
   "outputs": []
  },
  {
   "cell_type": "code",
   "metadata": {
    "cell_id": "00176-20165993-4277-43b6-a156-5e33cd611d7a",
    "deepnote_to_be_reexecuted": false,
    "source_hash": "702bb643",
    "execution_start": 1660916824548,
    "execution_millis": 1248,
    "deepnote_cell_type": "code",
    "deepnote_cell_height": 625.796875,
    "deepnote_output_heights": [
     null,
     263
    ]
   },
   "source": "plot(data,'Price')",
   "execution_count": 97,
   "outputs": [
    {
     "name": "stderr",
     "text": "/shared-libs/python3.9/py/lib/python3.9/site-packages/seaborn/distributions.py:2619: FutureWarning:\n\n`distplot` is a deprecated function and will be removed in a future version. Please adapt your code to use either `displot` (a figure-level function with similar flexibility) or `histplot` (an axes-level function for histograms).\n\n/shared-libs/python3.9/py/lib/python3.9/site-packages/seaborn/_decorators.py:36: FutureWarning:\n\nPass the following variable as a keyword arg: x. From version 0.12, the only valid positional argument will be `data`, and passing other arguments without an explicit keyword will result in an error or misinterpretation.\n\n/shared-libs/python3.9/py/lib/python3.9/site-packages/seaborn/distributions.py:2619: FutureWarning:\n\n`distplot` is a deprecated function and will be removed in a future version. Please adapt your code to use either `displot` (a figure-level function with similar flexibility) or `histplot` (an axes-level function for histograms).\n\n",
     "output_type": "stream"
    },
    {
     "data": {
      "text/plain": "<Figure size 432x288 with 3 Axes>",
      "image/png": "[encoded data removed]"
     },
     "metadata": {
      "needs_background": "light",
      "image/png": {
       "width": 415,
       "height": 262
      }
     },
     "output_type": "display_data"
    }
   ]
  },
  {
   "cell_type": "code",
   "metadata": {
    "cell_id": "00177-7b071359-dfd2-4266-90a2-42cac4459786",
    "deepnote_to_be_reexecuted": false,
    "source_hash": "b623e53d",
    "execution_start": 1660916825276,
    "execution_millis": 0,
    "deepnote_cell_type": "code",
    "deepnote_cell_height": 76
   },
   "source": "",
   "execution_count": 97,
   "outputs": []
  },
  {
   "cell_type": "code",
   "metadata": {
    "cell_id": "00178-0c42e02a-8136-4807-9576-c55a68e8b700",
    "deepnote_to_be_reexecuted": false,
    "source_hash": "f7a45459",
    "execution_start": 1660916825276,
    "execution_millis": 525,
    "deepnote_cell_type": "code",
    "deepnote_cell_height": 283.796875
   },
   "source": "data.head(2)",
   "execution_count": 98,
   "outputs": [
    {
     "output_type": "execute_result",
     "execution_count": 98,
     "data": {
      "application/vnd.deepnote.dataframe.v3+json": {
       "column_count": 19,
       "row_count": 2,
       "columns": [
        {
         "name": "Airline",
         "dtype": "int64",
         "stats": {
          "unique_count": 2,
          "nan_count": 0,
          "min": "3",
          "max": "7",
          "histogram": [
           {
            "bin_start": 3,
            "bin_end": 3.4,
            "count": 1
           },
           {
            "bin_start": 3.4,
            "bin_end": 3.8,
            "count": 0
           },
           {
            "bin_start": 3.8,
            "bin_end": 4.2,
            "count": 0
           },
           {
            "bin_start": 4.2,
            "bin_end": 4.6,
            "count": 0
           },
           {
            "bin_start": 4.6,
            "bin_end": 5,
            "count": 0
           },
           {
            "bin_start": 5,
            "bin_end": 5.4,
            "count": 0
           },
           {
            "bin_start": 5.4,
            "bin_end": 5.800000000000001,
            "count": 0
           },
           {
            "bin_start": 5.800000000000001,
            "bin_end": 6.2,
            "count": 0
           },
           {
            "bin_start": 6.2,
            "bin_end": 6.6,
            "count": 0
           },
           {
            "bin_start": 6.6,
            "bin_end": 7,
            "count": 1
           }
          ]
         }
        },
        {
         "name": "Source",
         "dtype": "object",
         "stats": {
          "unique_count": 2,
          "nan_count": 0,
          "categories": [
           {
            "name": "Banglore",
            "count": 1
           },
           {
            "name": "Kolkata",
            "count": 1
           }
          ]
         }
        },
        {
         "name": "Destination",
         "dtype": "int64",
         "stats": {
          "unique_count": 2,
          "nan_count": 0,
          "min": "2",
          "max": "3",
          "histogram": [
           {
            "bin_start": 2,
            "bin_end": 2.1,
            "count": 1
           },
           {
            "bin_start": 2.1,
            "bin_end": 2.2,
            "count": 0
           },
           {
            "bin_start": 2.2,
            "bin_end": 2.3,
            "count": 0
           },
           {
            "bin_start": 2.3,
            "bin_end": 2.4,
            "count": 0
           },
           {
            "bin_start": 2.4,
            "bin_end": 2.5,
            "count": 0
           },
           {
            "bin_start": 2.5,
            "bin_end": 2.6,
            "count": 0
           },
           {
            "bin_start": 2.6,
            "bin_end": 2.7,
            "count": 0
           },
           {
            "bin_start": 2.7,
            "bin_end": 2.8,
            "count": 0
           },
           {
            "bin_start": 2.8,
            "bin_end": 2.9,
            "count": 0
           },
           {
            "bin_start": 2.9,
            "bin_end": 3,
            "count": 1
           }
          ]
         }
        },
        {
         "name": "Duration",
         "dtype": "object",
         "stats": {
          "unique_count": 2,
          "nan_count": 0,
          "categories": [
           {
            "name": "2h 50m",
            "count": 1
           },
           {
            "name": "7h 25m",
            "count": 1
           }
          ]
         }
        },
        {
         "name": "Total_Stops",
         "dtype": "int64",
         "stats": {
          "unique_count": 2,
          "nan_count": 0,
          "min": "0",
          "max": "2",
          "histogram": [
           {
            "bin_start": 0,
            "bin_end": 0.2,
            "count": 1
           },
           {
            "bin_start": 0.2,
            "bin_end": 0.4,
            "count": 0
           },
           {
            "bin_start": 0.4,
            "bin_end": 0.6000000000000001,
            "count": 0
           },
           {
            "bin_start": 0.6000000000000001,
            "bin_end": 0.8,
            "count": 0
           },
           {
            "bin_start": 0.8,
            "bin_end": 1,
            "count": 0
           },
           {
            "bin_start": 1,
            "bin_end": 1.2000000000000002,
            "count": 0
           },
           {
            "bin_start": 1.2000000000000002,
            "bin_end": 1.4000000000000001,
            "count": 0
           },
           {
            "bin_start": 1.4000000000000001,
            "bin_end": 1.6,
            "count": 0
           },
           {
            "bin_start": 1.6,
            "bin_end": 1.8,
            "count": 0
           },
           {
            "bin_start": 1.8,
            "bin_end": 2,
            "count": 1
           }
          ]
         }
        },
        {
         "name": "Price",
         "dtype": "float64",
         "stats": {
          "unique_count": 2,
          "nan_count": 0,
          "min": "3897.0",
          "max": "7662.0",
          "histogram": [
           {
            "bin_start": 3897,
            "bin_end": 4273.5,
            "count": 1
           },
           {
            "bin_start": 4273.5,
            "bin_end": 4650,
            "count": 0
           },
           {
            "bin_start": 4650,
            "bin_end": 5026.5,
            "count": 0
           },
           {
            "bin_start": 5026.5,
            "bin_end": 5403,
            "count": 0
           },
           {
            "bin_start": 5403,
            "bin_end": 5779.5,
            "count": 0
           },
           {
            "bin_start": 5779.5,
            "bin_end": 6156,
            "count": 0
           },
           {
            "bin_start": 6156,
            "bin_end": 6532.5,
            "count": 0
           },
           {
            "bin_start": 6532.5,
            "bin_end": 6909,
            "count": 0
           },
           {
            "bin_start": 6909,
            "bin_end": 7285.5,
            "count": 0
           },
           {
            "bin_start": 7285.5,
            "bin_end": 7662,
            "count": 1
           }
          ]
         }
        },
        {
         "name": "journey_day",
         "dtype": "int64",
         "stats": {
          "unique_count": 2,
          "nan_count": 0,
          "min": "5",
          "max": "24",
          "histogram": [
           {
            "bin_start": 5,
            "bin_end": 6.9,
            "count": 1
           },
           {
            "bin_start": 6.9,
            "bin_end": 8.8,
            "count": 0
           },
           {
            "bin_start": 8.8,
            "bin_end": 10.7,
            "count": 0
           },
           {
            "bin_start": 10.7,
            "bin_end": 12.6,
            "count": 0
           },
           {
            "bin_start": 12.6,
            "bin_end": 14.5,
            "count": 0
           },
           {
            "bin_start": 14.5,
            "bin_end": 16.4,
            "count": 0
           },
           {
            "bin_start": 16.4,
            "bin_end": 18.299999999999997,
            "count": 0
           },
           {
            "bin_start": 18.299999999999997,
            "bin_end": 20.2,
            "count": 0
           },
           {
            "bin_start": 20.2,
            "bin_end": 22.099999999999998,
            "count": 0
           },
           {
            "bin_start": 22.099999999999998,
            "bin_end": 24,
            "count": 1
           }
          ]
         }
        },
        {
         "name": "journey_month",
         "dtype": "int64",
         "stats": {
          "unique_count": 2,
          "nan_count": 0,
          "min": "1",
          "max": "3",
          "histogram": [
           {
            "bin_start": 1,
            "bin_end": 1.2,
            "count": 1
           },
           {
            "bin_start": 1.2,
            "bin_end": 1.4,
            "count": 0
           },
           {
            "bin_start": 1.4,
            "bin_end": 1.6,
            "count": 0
           },
           {
            "bin_start": 1.6,
            "bin_end": 1.8,
            "count": 0
           },
           {
            "bin_start": 1.8,
            "bin_end": 2,
            "count": 0
           },
           {
            "bin_start": 2,
            "bin_end": 2.2,
            "count": 0
           },
           {
            "bin_start": 2.2,
            "bin_end": 2.4000000000000004,
            "count": 0
           },
           {
            "bin_start": 2.4000000000000004,
            "bin_end": 2.6,
            "count": 0
           },
           {
            "bin_start": 2.6,
            "bin_end": 2.8,
            "count": 0
           },
           {
            "bin_start": 2.8,
            "bin_end": 3,
            "count": 1
           }
          ]
         }
        },
        {
         "name": "Dep_Time_hour",
         "dtype": "int64",
         "stats": {
          "unique_count": 2,
          "nan_count": 0,
          "min": "5",
          "max": "22",
          "histogram": [
           {
            "bin_start": 5,
            "bin_end": 6.7,
            "count": 1
           },
           {
            "bin_start": 6.7,
            "bin_end": 8.4,
            "count": 0
           },
           {
            "bin_start": 8.4,
            "bin_end": 10.1,
            "count": 0
           },
           {
            "bin_start": 10.1,
            "bin_end": 11.8,
            "count": 0
           },
           {
            "bin_start": 11.8,
            "bin_end": 13.5,
            "count": 0
           },
           {
            "bin_start": 13.5,
            "bin_end": 15.2,
            "count": 0
           },
           {
            "bin_start": 15.2,
            "bin_end": 16.9,
            "count": 0
           },
           {
            "bin_start": 16.9,
            "bin_end": 18.6,
            "count": 0
           },
           {
            "bin_start": 18.6,
            "bin_end": 20.299999999999997,
            "count": 0
           },
           {
            "bin_start": 20.299999999999997,
            "bin_end": 22,
            "count": 1
           }
          ]
         }
        },
        {
         "name": "Dep_Time_minute",
         "dtype": "int64",
         "stats": {
          "unique_count": 2,
          "nan_count": 0,
          "min": "20",
          "max": "50",
          "histogram": [
           {
            "bin_start": 20,
            "bin_end": 23,
            "count": 1
           },
           {
            "bin_start": 23,
            "bin_end": 26,
            "count": 0
           },
           {
            "bin_start": 26,
            "bin_end": 29,
            "count": 0
           },
           {
            "bin_start": 29,
            "bin_end": 32,
            "count": 0
           },
           {
            "bin_start": 32,
            "bin_end": 35,
            "count": 0
           },
           {
            "bin_start": 35,
            "bin_end": 38,
            "count": 0
           },
           {
            "bin_start": 38,
            "bin_end": 41,
            "count": 0
           },
           {
            "bin_start": 41,
            "bin_end": 44,
            "count": 0
           },
           {
            "bin_start": 44,
            "bin_end": 47,
            "count": 0
           },
           {
            "bin_start": 47,
            "bin_end": 50,
            "count": 1
           }
          ]
         }
        },
        {
         "name": "Arrival_Time_hour",
         "dtype": "int64",
         "stats": {
          "unique_count": 2,
          "nan_count": 0,
          "min": "1",
          "max": "13",
          "histogram": [
           {
            "bin_start": 1,
            "bin_end": 2.2,
            "count": 1
           },
           {
            "bin_start": 2.2,
            "bin_end": 3.4,
            "count": 0
           },
           {
            "bin_start": 3.4,
            "bin_end": 4.6,
            "count": 0
           },
           {
            "bin_start": 4.6,
            "bin_end": 5.8,
            "count": 0
           },
           {
            "bin_start": 5.8,
            "bin_end": 7,
            "count": 0
           },
           {
            "bin_start": 7,
            "bin_end": 8.2,
            "count": 0
           },
           {
            "bin_start": 8.2,
            "bin_end": 9.4,
            "count": 0
           },
           {
            "bin_start": 9.4,
            "bin_end": 10.6,
            "count": 0
           },
           {
            "bin_start": 10.6,
            "bin_end": 11.799999999999999,
            "count": 0
           },
           {
            "bin_start": 11.799999999999999,
            "bin_end": 13,
            "count": 1
           }
          ]
         }
        },
        {
         "name": "Arrival_Time_minute",
         "dtype": "int64",
         "stats": {
          "unique_count": 2,
          "nan_count": 0,
          "min": "10",
          "max": "15",
          "histogram": [
           {
            "bin_start": 10,
            "bin_end": 10.5,
            "count": 1
           },
           {
            "bin_start": 10.5,
            "bin_end": 11,
            "count": 0
           },
           {
            "bin_start": 11,
            "bin_end": 11.5,
            "count": 0
           },
           {
            "bin_start": 11.5,
            "bin_end": 12,
            "count": 0
           },
           {
            "bin_start": 12,
            "bin_end": 12.5,
            "count": 0
           },
           {
            "bin_start": 12.5,
            "bin_end": 13,
            "count": 0
           },
           {
            "bin_start": 13,
            "bin_end": 13.5,
            "count": 0
           },
           {
            "bin_start": 13.5,
            "bin_end": 14,
            "count": 0
           },
           {
            "bin_start": 14,
            "bin_end": 14.5,
            "count": 0
           },
           {
            "bin_start": 14.5,
            "bin_end": 15,
            "count": 1
           }
          ]
         }
        },
        {
         "name": "Duration_hours",
         "dtype": "int64",
         "stats": {
          "unique_count": 2,
          "nan_count": 0,
          "min": "2",
          "max": "7",
          "histogram": [
           {
            "bin_start": 2,
            "bin_end": 2.5,
            "count": 1
           },
           {
            "bin_start": 2.5,
            "bin_end": 3,
            "count": 0
           },
           {
            "bin_start": 3,
            "bin_end": 3.5,
            "count": 0
           },
           {
            "bin_start": 3.5,
            "bin_end": 4,
            "count": 0
           },
           {
            "bin_start": 4,
            "bin_end": 4.5,
            "count": 0
           },
           {
            "bin_start": 4.5,
            "bin_end": 5,
            "count": 0
           },
           {
            "bin_start": 5,
            "bin_end": 5.5,
            "count": 0
           },
           {
            "bin_start": 5.5,
            "bin_end": 6,
            "count": 0
           },
           {
            "bin_start": 6,
            "bin_end": 6.5,
            "count": 0
           },
           {
            "bin_start": 6.5,
            "bin_end": 7,
            "count": 1
           }
          ]
         }
        },
        {
         "name": "Duration_mins",
         "dtype": "int64",
         "stats": {
          "unique_count": 2,
          "nan_count": 0,
          "min": "25",
          "max": "50",
          "histogram": [
           {
            "bin_start": 25,
            "bin_end": 27.5,
            "count": 1
           },
           {
            "bin_start": 27.5,
            "bin_end": 30,
            "count": 0
           },
           {
            "bin_start": 30,
            "bin_end": 32.5,
            "count": 0
           },
           {
            "bin_start": 32.5,
            "bin_end": 35,
            "count": 0
           },
           {
            "bin_start": 35,
            "bin_end": 37.5,
            "count": 0
           },
           {
            "bin_start": 37.5,
            "bin_end": 40,
            "count": 0
           },
           {
            "bin_start": 40,
            "bin_end": 42.5,
            "count": 0
           },
           {
            "bin_start": 42.5,
            "bin_end": 45,
            "count": 0
           },
           {
            "bin_start": 45,
            "bin_end": 47.5,
            "count": 0
           },
           {
            "bin_start": 47.5,
            "bin_end": 50,
            "count": 1
           }
          ]
         }
        },
        {
         "name": "Source_Banglore",
         "dtype": "int64",
         "stats": {
          "unique_count": 2,
          "nan_count": 0,
          "min": "0",
          "max": "1",
          "histogram": [
           {
            "bin_start": 0,
            "bin_end": 0.1,
            "count": 1
           },
           {
            "bin_start": 0.1,
            "bin_end": 0.2,
            "count": 0
           },
           {
            "bin_start": 0.2,
            "bin_end": 0.30000000000000004,
            "count": 0
           },
           {
            "bin_start": 0.30000000000000004,
            "bin_end": 0.4,
            "count": 0
           },
           {
            "bin_start": 0.4,
            "bin_end": 0.5,
            "count": 0
           },
           {
            "bin_start": 0.5,
            "bin_end": 0.6000000000000001,
            "count": 0
           },
           {
            "bin_start": 0.6000000000000001,
            "bin_end": 0.7000000000000001,
            "count": 0
           },
           {
            "bin_start": 0.7000000000000001,
            "bin_end": 0.8,
            "count": 0
           },
           {
            "bin_start": 0.8,
            "bin_end": 0.9,
            "count": 0
           },
           {
            "bin_start": 0.9,
            "bin_end": 1,
            "count": 1
           }
          ]
         }
        },
        {
         "name": "Source_Kolkata",
         "dtype": "int64",
         "stats": {
          "unique_count": 2,
          "nan_count": 0,
          "min": "0",
          "max": "1",
          "histogram": [
           {
            "bin_start": 0,
            "bin_end": 0.1,
            "count": 1
           },
           {
            "bin_start": 0.1,
            "bin_end": 0.2,
            "count": 0
           },
           {
            "bin_start": 0.2,
            "bin_end": 0.30000000000000004,
            "count": 0
           },
           {
            "bin_start": 0.30000000000000004,
            "bin_end": 0.4,
            "count": 0
           },
           {
            "bin_start": 0.4,
            "bin_end": 0.5,
            "count": 0
           },
           {
            "bin_start": 0.5,
            "bin_end": 0.6000000000000001,
            "count": 0
           },
           {
            "bin_start": 0.6000000000000001,
            "bin_end": 0.7000000000000001,
            "count": 0
           },
           {
            "bin_start": 0.7000000000000001,
            "bin_end": 0.8,
            "count": 0
           },
           {
            "bin_start": 0.8,
            "bin_end": 0.9,
            "count": 0
           },
           {
            "bin_start": 0.9,
            "bin_end": 1,
            "count": 1
           }
          ]
         }
        },
        {
         "name": "Source_Delhi",
         "dtype": "int64",
         "stats": {
          "unique_count": 1,
          "nan_count": 0,
          "min": "0",
          "max": "0",
          "histogram": [
           {
            "bin_start": -0.5,
            "bin_end": -0.4,
            "count": 0
           },
           {
            "bin_start": -0.4,
            "bin_end": -0.3,
            "count": 0
           },
           {
            "bin_start": -0.3,
            "bin_end": -0.19999999999999996,
            "count": 0
           },
           {
            "bin_start": -0.19999999999999996,
            "bin_end": -0.09999999999999998,
            "count": 0
           },
           {
            "bin_start": -0.09999999999999998,
            "bin_end": 0,
            "count": 0
           },
           {
            "bin_start": 0,
            "bin_end": 0.10000000000000009,
            "count": 2
           },
           {
            "bin_start": 0.10000000000000009,
            "bin_end": 0.20000000000000007,
            "count": 0
           },
           {
            "bin_start": 0.20000000000000007,
            "bin_end": 0.30000000000000004,
            "count": 0
           },
           {
            "bin_start": 0.30000000000000004,
            "bin_end": 0.4,
            "count": 0
           },
           {
            "bin_start": 0.4,
            "bin_end": 0.5,
            "count": 0
           }
          ]
         }
        },
        {
         "name": "Source_Chennai",
         "dtype": "int64",
         "stats": {
          "unique_count": 1,
          "nan_count": 0,
          "min": "0",
          "max": "0",
          "histogram": [
           {
            "bin_start": -0.5,
            "bin_end": -0.4,
            "count": 0
           },
           {
            "bin_start": -0.4,
            "bin_end": -0.3,
            "count": 0
           },
           {
            "bin_start": -0.3,
            "bin_end": -0.19999999999999996,
            "count": 0
           },
           {
            "bin_start": -0.19999999999999996,
            "bin_end": -0.09999999999999998,
            "count": 0
           },
           {
            "bin_start": -0.09999999999999998,
            "bin_end": 0,
            "count": 0
           },
           {
            "bin_start": 0,
            "bin_end": 0.10000000000000009,
            "count": 2
           },
           {
            "bin_start": 0.10000000000000009,
            "bin_end": 0.20000000000000007,
            "count": 0
           },
           {
            "bin_start": 0.20000000000000007,
            "bin_end": 0.30000000000000004,
            "count": 0
           },
           {
            "bin_start": 0.30000000000000004,
            "bin_end": 0.4,
            "count": 0
           },
           {
            "bin_start": 0.4,
            "bin_end": 0.5,
            "count": 0
           }
          ]
         }
        },
        {
         "name": "Source_Mumbai",
         "dtype": "int64",
         "stats": {
          "unique_count": 1,
          "nan_count": 0,
          "min": "0",
          "max": "0",
          "histogram": [
           {
            "bin_start": -0.5,
            "bin_end": -0.4,
            "count": 0
           },
           {
            "bin_start": -0.4,
            "bin_end": -0.3,
            "count": 0
           },
           {
            "bin_start": -0.3,
            "bin_end": -0.19999999999999996,
            "count": 0
           },
           {
            "bin_start": -0.19999999999999996,
            "bin_end": -0.09999999999999998,
            "count": 0
           },
           {
            "bin_start": -0.09999999999999998,
            "bin_end": 0,
            "count": 0
           },
           {
            "bin_start": 0,
            "bin_end": 0.10000000000000009,
            "count": 2
           },
           {
            "bin_start": 0.10000000000000009,
            "bin_end": 0.20000000000000007,
            "count": 0
           },
           {
            "bin_start": 0.20000000000000007,
            "bin_end": 0.30000000000000004,
            "count": 0
           },
           {
            "bin_start": 0.30000000000000004,
            "bin_end": 0.4,
            "count": 0
           },
           {
            "bin_start": 0.4,
            "bin_end": 0.5,
            "count": 0
           }
          ]
         }
        },
        {
         "name": "_deepnote_index_column",
         "dtype": "int64"
        }
       ],
       "rows": [
        {
         "Airline": 3,
         "Source": "Banglore",
         "Destination": 2,
         "Duration": "2h 50m",
         "Total_Stops": 0,
         "Price": 3897,
         "journey_day": 24,
         "journey_month": 3,
         "Dep_Time_hour": 22,
         "Dep_Time_minute": 20,
         "Arrival_Time_hour": 1,
         "Arrival_Time_minute": 10,
         "Duration_hours": 2,
         "Duration_mins": 50,
         "Source_Banglore": 1,
         "Source_Kolkata": 0,
         "Source_Delhi": 0,
         "Source_Chennai": 0,
         "Source_Mumbai": 0,
         "_deepnote_index_column": 0
        },
        {
         "Airline": 7,
         "Source": "Kolkata",
         "Destination": 3,
         "Duration": "7h 25m",
         "Total_Stops": 2,
         "Price": 7662,
         "journey_day": 5,
         "journey_month": 1,
         "Dep_Time_hour": 5,
         "Dep_Time_minute": 50,
         "Arrival_Time_hour": 13,
         "Arrival_Time_minute": 15,
         "Duration_hours": 7,
         "Duration_mins": 25,
         "Source_Banglore": 0,
         "Source_Kolkata": 1,
         "Source_Delhi": 0,
         "Source_Chennai": 0,
         "Source_Mumbai": 0,
         "_deepnote_index_column": 1
        }
       ]
      },
      "text/plain": "   Airline    Source  Destination Duration  Total_Stops   Price  journey_day  \\\n0        3  Banglore            2   2h 50m            0  3897.0           24   \n1        7   Kolkata            3   7h 25m            2  7662.0            5   \n\n   journey_month  Dep_Time_hour  Dep_Time_minute  Arrival_Time_hour  \\\n0              3             22               20                  1   \n1              1              5               50                 13   \n\n   Arrival_Time_minute  Duration_hours  Duration_mins  Source_Banglore  \\\n0                   10               2             50                1   \n1                   15               7             25                0   \n\n   Source_Kolkata  Source_Delhi  Source_Chennai  Source_Mumbai  \n0               0             0               0              0  \n1               1             0               0              0  ",
      "text/html": "<div>\n<style scoped>\n    .dataframe tbody tr th:only-of-type {\n        vertical-align: middle;\n    }\n\n    .dataframe tbody tr th {\n        vertical-align: top;\n    }\n\n    .dataframe thead th {\n        text-align: right;\n    }\n</style>\n<table border=\"1\" class=\"dataframe\">\n  <thead>\n    <tr style=\"text-align: right;\">\n      <th></th>\n      <th>Airline</th>\n      <th>Source</th>\n      <th>Destination</th>\n      <th>Duration</th>\n      <th>Total_Stops</th>\n      <th>Price</th>\n      <th>journey_day</th>\n      <th>journey_month</th>\n      <th>Dep_Time_hour</th>\n      <th>Dep_Time_minute</th>\n      <th>Arrival_Time_hour</th>\n      <th>Arrival_Time_minute</th>\n      <th>Duration_hours</th>\n      <th>Duration_mins</th>\n      <th>Source_Banglore</th>\n      <th>Source_Kolkata</th>\n      <th>Source_Delhi</th>\n      <th>Source_Chennai</th>\n      <th>Source_Mumbai</th>\n    </tr>\n  </thead>\n  <tbody>\n    <tr>\n      <th>0</th>\n      <td>3</td>\n      <td>Banglore</td>\n      <td>2</td>\n      <td>2h 50m</td>\n      <td>0</td>\n      <td>3897.0</td>\n      <td>24</td>\n      <td>3</td>\n      <td>22</td>\n      <td>20</td>\n      <td>1</td>\n      <td>10</td>\n      <td>2</td>\n      <td>50</td>\n      <td>1</td>\n      <td>0</td>\n      <td>0</td>\n      <td>0</td>\n      <td>0</td>\n    </tr>\n    <tr>\n      <th>1</th>\n      <td>7</td>\n      <td>Kolkata</td>\n      <td>3</td>\n      <td>7h 25m</td>\n      <td>2</td>\n      <td>7662.0</td>\n      <td>5</td>\n      <td>1</td>\n      <td>5</td>\n      <td>50</td>\n      <td>13</td>\n      <td>15</td>\n      <td>7</td>\n      <td>25</td>\n      <td>0</td>\n      <td>1</td>\n      <td>0</td>\n      <td>0</td>\n      <td>0</td>\n    </tr>\n  </tbody>\n</table>\n</div>"
     },
     "metadata": {}
    }
   ]
  },
  {
   "cell_type": "code",
   "metadata": {
    "cell_id": "00179-da07e51d-cab4-49eb-8e9f-065e26d94f94",
    "deepnote_to_be_reexecuted": false,
    "source_hash": "b5e07a36",
    "execution_start": 1660916825349,
    "execution_millis": 1,
    "deepnote_cell_type": "code",
    "deepnote_cell_height": 76
   },
   "source": "data.drop(columns=['Source','Duration'],axis=1,inplace=True)",
   "execution_count": 99,
   "outputs": []
  },
  {
   "cell_type": "code",
   "metadata": {
    "cell_id": "00180-714e4b4b-b406-4597-b4e1-d5668debde92",
    "deepnote_to_be_reexecuted": false,
    "source_hash": "f7a45459",
    "execution_start": 1660916825380,
    "execution_millis": 423,
    "deepnote_cell_type": "code",
    "deepnote_cell_height": 283.796875
   },
   "source": "data.head(2)",
   "execution_count": 100,
   "outputs": [
    {
     "output_type": "execute_result",
     "execution_count": 100,
     "data": {
      "application/vnd.deepnote.dataframe.v3+json": {
       "column_count": 17,
       "row_count": 2,
       "columns": [
        {
         "name": "Airline",
         "dtype": "int64",
         "stats": {
          "unique_count": 2,
          "nan_count": 0,
          "min": "3",
          "max": "7",
          "histogram": [
           {
            "bin_start": 3,
            "bin_end": 3.4,
            "count": 1
           },
           {
            "bin_start": 3.4,
            "bin_end": 3.8,
            "count": 0
           },
           {
            "bin_start": 3.8,
            "bin_end": 4.2,
            "count": 0
           },
           {
            "bin_start": 4.2,
            "bin_end": 4.6,
            "count": 0
           },
           {
            "bin_start": 4.6,
            "bin_end": 5,
            "count": 0
           },
           {
            "bin_start": 5,
            "bin_end": 5.4,
            "count": 0
           },
           {
            "bin_start": 5.4,
            "bin_end": 5.800000000000001,
            "count": 0
           },
           {
            "bin_start": 5.800000000000001,
            "bin_end": 6.2,
            "count": 0
           },
           {
            "bin_start": 6.2,
            "bin_end": 6.6,
            "count": 0
           },
           {
            "bin_start": 6.6,
            "bin_end": 7,
            "count": 1
           }
          ]
         }
        },
        {
         "name": "Destination",
         "dtype": "int64",
         "stats": {
          "unique_count": 2,
          "nan_count": 0,
          "min": "2",
          "max": "3",
          "histogram": [
           {
            "bin_start": 2,
            "bin_end": 2.1,
            "count": 1
           },
           {
            "bin_start": 2.1,
            "bin_end": 2.2,
            "count": 0
           },
           {
            "bin_start": 2.2,
            "bin_end": 2.3,
            "count": 0
           },
           {
            "bin_start": 2.3,
            "bin_end": 2.4,
            "count": 0
           },
           {
            "bin_start": 2.4,
            "bin_end": 2.5,
            "count": 0
           },
           {
            "bin_start": 2.5,
            "bin_end": 2.6,
            "count": 0
           },
           {
            "bin_start": 2.6,
            "bin_end": 2.7,
            "count": 0
           },
           {
            "bin_start": 2.7,
            "bin_end": 2.8,
            "count": 0
           },
           {
            "bin_start": 2.8,
            "bin_end": 2.9,
            "count": 0
           },
           {
            "bin_start": 2.9,
            "bin_end": 3,
            "count": 1
           }
          ]
         }
        },
        {
         "name": "Total_Stops",
         "dtype": "int64",
         "stats": {
          "unique_count": 2,
          "nan_count": 0,
          "min": "0",
          "max": "2",
          "histogram": [
           {
            "bin_start": 0,
            "bin_end": 0.2,
            "count": 1
           },
           {
            "bin_start": 0.2,
            "bin_end": 0.4,
            "count": 0
           },
           {
            "bin_start": 0.4,
            "bin_end": 0.6000000000000001,
            "count": 0
           },
           {
            "bin_start": 0.6000000000000001,
            "bin_end": 0.8,
            "count": 0
           },
           {
            "bin_start": 0.8,
            "bin_end": 1,
            "count": 0
           },
           {
            "bin_start": 1,
            "bin_end": 1.2000000000000002,
            "count": 0
           },
           {
            "bin_start": 1.2000000000000002,
            "bin_end": 1.4000000000000001,
            "count": 0
           },
           {
            "bin_start": 1.4000000000000001,
            "bin_end": 1.6,
            "count": 0
           },
           {
            "bin_start": 1.6,
            "bin_end": 1.8,
            "count": 0
           },
           {
            "bin_start": 1.8,
            "bin_end": 2,
            "count": 1
           }
          ]
         }
        },
        {
         "name": "Price",
         "dtype": "float64",
         "stats": {
          "unique_count": 2,
          "nan_count": 0,
          "min": "3897.0",
          "max": "7662.0",
          "histogram": [
           {
            "bin_start": 3897,
            "bin_end": 4273.5,
            "count": 1
           },
           {
            "bin_start": 4273.5,
            "bin_end": 4650,
            "count": 0
           },
           {
            "bin_start": 4650,
            "bin_end": 5026.5,
            "count": 0
           },
           {
            "bin_start": 5026.5,
            "bin_end": 5403,
            "count": 0
           },
           {
            "bin_start": 5403,
            "bin_end": 5779.5,
            "count": 0
           },
           {
            "bin_start": 5779.5,
            "bin_end": 6156,
            "count": 0
           },
           {
            "bin_start": 6156,
            "bin_end": 6532.5,
            "count": 0
           },
           {
            "bin_start": 6532.5,
            "bin_end": 6909,
            "count": 0
           },
           {
            "bin_start": 6909,
            "bin_end": 7285.5,
            "count": 0
           },
           {
            "bin_start": 7285.5,
            "bin_end": 7662,
            "count": 1
           }
          ]
         }
        },
        {
         "name": "journey_day",
         "dtype": "int64",
         "stats": {
          "unique_count": 2,
          "nan_count": 0,
          "min": "5",
          "max": "24",
          "histogram": [
           {
            "bin_start": 5,
            "bin_end": 6.9,
            "count": 1
           },
           {
            "bin_start": 6.9,
            "bin_end": 8.8,
            "count": 0
           },
           {
            "bin_start": 8.8,
            "bin_end": 10.7,
            "count": 0
           },
           {
            "bin_start": 10.7,
            "bin_end": 12.6,
            "count": 0
           },
           {
            "bin_start": 12.6,
            "bin_end": 14.5,
            "count": 0
           },
           {
            "bin_start": 14.5,
            "bin_end": 16.4,
            "count": 0
           },
           {
            "bin_start": 16.4,
            "bin_end": 18.299999999999997,
            "count": 0
           },
           {
            "bin_start": 18.299999999999997,
            "bin_end": 20.2,
            "count": 0
           },
           {
            "bin_start": 20.2,
            "bin_end": 22.099999999999998,
            "count": 0
           },
           {
            "bin_start": 22.099999999999998,
            "bin_end": 24,
            "count": 1
           }
          ]
         }
        },
        {
         "name": "journey_month",
         "dtype": "int64",
         "stats": {
          "unique_count": 2,
          "nan_count": 0,
          "min": "1",
          "max": "3",
          "histogram": [
           {
            "bin_start": 1,
            "bin_end": 1.2,
            "count": 1
           },
           {
            "bin_start": 1.2,
            "bin_end": 1.4,
            "count": 0
           },
           {
            "bin_start": 1.4,
            "bin_end": 1.6,
            "count": 0
           },
           {
            "bin_start": 1.6,
            "bin_end": 1.8,
            "count": 0
           },
           {
            "bin_start": 1.8,
            "bin_end": 2,
            "count": 0
           },
           {
            "bin_start": 2,
            "bin_end": 2.2,
            "count": 0
           },
           {
            "bin_start": 2.2,
            "bin_end": 2.4000000000000004,
            "count": 0
           },
           {
            "bin_start": 2.4000000000000004,
            "bin_end": 2.6,
            "count": 0
           },
           {
            "bin_start": 2.6,
            "bin_end": 2.8,
            "count": 0
           },
           {
            "bin_start": 2.8,
            "bin_end": 3,
            "count": 1
           }
          ]
         }
        },
        {
         "name": "Dep_Time_hour",
         "dtype": "int64",
         "stats": {
          "unique_count": 2,
          "nan_count": 0,
          "min": "5",
          "max": "22",
          "histogram": [
           {
            "bin_start": 5,
            "bin_end": 6.7,
            "count": 1
           },
           {
            "bin_start": 6.7,
            "bin_end": 8.4,
            "count": 0
           },
           {
            "bin_start": 8.4,
            "bin_end": 10.1,
            "count": 0
           },
           {
            "bin_start": 10.1,
            "bin_end": 11.8,
            "count": 0
           },
           {
            "bin_start": 11.8,
            "bin_end": 13.5,
            "count": 0
           },
           {
            "bin_start": 13.5,
            "bin_end": 15.2,
            "count": 0
           },
           {
            "bin_start": 15.2,
            "bin_end": 16.9,
            "count": 0
           },
           {
            "bin_start": 16.9,
            "bin_end": 18.6,
            "count": 0
           },
           {
            "bin_start": 18.6,
            "bin_end": 20.299999999999997,
            "count": 0
           },
           {
            "bin_start": 20.299999999999997,
            "bin_end": 22,
            "count": 1
           }
          ]
         }
        },
        {
         "name": "Dep_Time_minute",
         "dtype": "int64",
         "stats": {
          "unique_count": 2,
          "nan_count": 0,
          "min": "20",
          "max": "50",
          "histogram": [
           {
            "bin_start": 20,
            "bin_end": 23,
            "count": 1
           },
           {
            "bin_start": 23,
            "bin_end": 26,
            "count": 0
           },
           {
            "bin_start": 26,
            "bin_end": 29,
            "count": 0
           },
           {
            "bin_start": 29,
            "bin_end": 32,
            "count": 0
           },
           {
            "bin_start": 32,
            "bin_end": 35,
            "count": 0
           },
           {
            "bin_start": 35,
            "bin_end": 38,
            "count": 0
           },
           {
            "bin_start": 38,
            "bin_end": 41,
            "count": 0
           },
           {
            "bin_start": 41,
            "bin_end": 44,
            "count": 0
           },
           {
            "bin_start": 44,
            "bin_end": 47,
            "count": 0
           },
           {
            "bin_start": 47,
            "bin_end": 50,
            "count": 1
           }
          ]
         }
        },
        {
         "name": "Arrival_Time_hour",
         "dtype": "int64",
         "stats": {
          "unique_count": 2,
          "nan_count": 0,
          "min": "1",
          "max": "13",
          "histogram": [
           {
            "bin_start": 1,
            "bin_end": 2.2,
            "count": 1
           },
           {
            "bin_start": 2.2,
            "bin_end": 3.4,
            "count": 0
           },
           {
            "bin_start": 3.4,
            "bin_end": 4.6,
            "count": 0
           },
           {
            "bin_start": 4.6,
            "bin_end": 5.8,
            "count": 0
           },
           {
            "bin_start": 5.8,
            "bin_end": 7,
            "count": 0
           },
           {
            "bin_start": 7,
            "bin_end": 8.2,
            "count": 0
           },
           {
            "bin_start": 8.2,
            "bin_end": 9.4,
            "count": 0
           },
           {
            "bin_start": 9.4,
            "bin_end": 10.6,
            "count": 0
           },
           {
            "bin_start": 10.6,
            "bin_end": 11.799999999999999,
            "count": 0
           },
           {
            "bin_start": 11.799999999999999,
            "bin_end": 13,
            "count": 1
           }
          ]
         }
        },
        {
         "name": "Arrival_Time_minute",
         "dtype": "int64",
         "stats": {
          "unique_count": 2,
          "nan_count": 0,
          "min": "10",
          "max": "15",
          "histogram": [
           {
            "bin_start": 10,
            "bin_end": 10.5,
            "count": 1
           },
           {
            "bin_start": 10.5,
            "bin_end": 11,
            "count": 0
           },
           {
            "bin_start": 11,
            "bin_end": 11.5,
            "count": 0
           },
           {
            "bin_start": 11.5,
            "bin_end": 12,
            "count": 0
           },
           {
            "bin_start": 12,
            "bin_end": 12.5,
            "count": 0
           },
           {
            "bin_start": 12.5,
            "bin_end": 13,
            "count": 0
           },
           {
            "bin_start": 13,
            "bin_end": 13.5,
            "count": 0
           },
           {
            "bin_start": 13.5,
            "bin_end": 14,
            "count": 0
           },
           {
            "bin_start": 14,
            "bin_end": 14.5,
            "count": 0
           },
           {
            "bin_start": 14.5,
            "bin_end": 15,
            "count": 1
           }
          ]
         }
        },
        {
         "name": "Duration_hours",
         "dtype": "int64",
         "stats": {
          "unique_count": 2,
          "nan_count": 0,
          "min": "2",
          "max": "7",
          "histogram": [
           {
            "bin_start": 2,
            "bin_end": 2.5,
            "count": 1
           },
           {
            "bin_start": 2.5,
            "bin_end": 3,
            "count": 0
           },
           {
            "bin_start": 3,
            "bin_end": 3.5,
            "count": 0
           },
           {
            "bin_start": 3.5,
            "bin_end": 4,
            "count": 0
           },
           {
            "bin_start": 4,
            "bin_end": 4.5,
            "count": 0
           },
           {
            "bin_start": 4.5,
            "bin_end": 5,
            "count": 0
           },
           {
            "bin_start": 5,
            "bin_end": 5.5,
            "count": 0
           },
           {
            "bin_start": 5.5,
            "bin_end": 6,
            "count": 0
           },
           {
            "bin_start": 6,
            "bin_end": 6.5,
            "count": 0
           },
           {
            "bin_start": 6.5,
            "bin_end": 7,
            "count": 1
           }
          ]
         }
        },
        {
         "name": "Duration_mins",
         "dtype": "int64",
         "stats": {
          "unique_count": 2,
          "nan_count": 0,
          "min": "25",
          "max": "50",
          "histogram": [
           {
            "bin_start": 25,
            "bin_end": 27.5,
            "count": 1
           },
           {
            "bin_start": 27.5,
            "bin_end": 30,
            "count": 0
           },
           {
            "bin_start": 30,
            "bin_end": 32.5,
            "count": 0
           },
           {
            "bin_start": 32.5,
            "bin_end": 35,
            "count": 0
           },
           {
            "bin_start": 35,
            "bin_end": 37.5,
            "count": 0
           },
           {
            "bin_start": 37.5,
            "bin_end": 40,
            "count": 0
           },
           {
            "bin_start": 40,
            "bin_end": 42.5,
            "count": 0
           },
           {
            "bin_start": 42.5,
            "bin_end": 45,
            "count": 0
           },
           {
            "bin_start": 45,
            "bin_end": 47.5,
            "count": 0
           },
           {
            "bin_start": 47.5,
            "bin_end": 50,
            "count": 1
           }
          ]
         }
        },
        {
         "name": "Source_Banglore",
         "dtype": "int64",
         "stats": {
          "unique_count": 2,
          "nan_count": 0,
          "min": "0",
          "max": "1",
          "histogram": [
           {
            "bin_start": 0,
            "bin_end": 0.1,
            "count": 1
           },
           {
            "bin_start": 0.1,
            "bin_end": 0.2,
            "count": 0
           },
           {
            "bin_start": 0.2,
            "bin_end": 0.30000000000000004,
            "count": 0
           },
           {
            "bin_start": 0.30000000000000004,
            "bin_end": 0.4,
            "count": 0
           },
           {
            "bin_start": 0.4,
            "bin_end": 0.5,
            "count": 0
           },
           {
            "bin_start": 0.5,
            "bin_end": 0.6000000000000001,
            "count": 0
           },
           {
            "bin_start": 0.6000000000000001,
            "bin_end": 0.7000000000000001,
            "count": 0
           },
           {
            "bin_start": 0.7000000000000001,
            "bin_end": 0.8,
            "count": 0
           },
           {
            "bin_start": 0.8,
            "bin_end": 0.9,
            "count": 0
           },
           {
            "bin_start": 0.9,
            "bin_end": 1,
            "count": 1
           }
          ]
         }
        },
        {
         "name": "Source_Kolkata",
         "dtype": "int64",
         "stats": {
          "unique_count": 2,
          "nan_count": 0,
          "min": "0",
          "max": "1",
          "histogram": [
           {
            "bin_start": 0,
            "bin_end": 0.1,
            "count": 1
           },
           {
            "bin_start": 0.1,
            "bin_end": 0.2,
            "count": 0
           },
           {
            "bin_start": 0.2,
            "bin_end": 0.30000000000000004,
            "count": 0
           },
           {
            "bin_start": 0.30000000000000004,
            "bin_end": 0.4,
            "count": 0
           },
           {
            "bin_start": 0.4,
            "bin_end": 0.5,
            "count": 0
           },
           {
            "bin_start": 0.5,
            "bin_end": 0.6000000000000001,
            "count": 0
           },
           {
            "bin_start": 0.6000000000000001,
            "bin_end": 0.7000000000000001,
            "count": 0
           },
           {
            "bin_start": 0.7000000000000001,
            "bin_end": 0.8,
            "count": 0
           },
           {
            "bin_start": 0.8,
            "bin_end": 0.9,
            "count": 0
           },
           {
            "bin_start": 0.9,
            "bin_end": 1,
            "count": 1
           }
          ]
         }
        },
        {
         "name": "Source_Delhi",
         "dtype": "int64",
         "stats": {
          "unique_count": 1,
          "nan_count": 0,
          "min": "0",
          "max": "0",
          "histogram": [
           {
            "bin_start": -0.5,
            "bin_end": -0.4,
            "count": 0
           },
           {
            "bin_start": -0.4,
            "bin_end": -0.3,
            "count": 0
           },
           {
            "bin_start": -0.3,
            "bin_end": -0.19999999999999996,
            "count": 0
           },
           {
            "bin_start": -0.19999999999999996,
            "bin_end": -0.09999999999999998,
            "count": 0
           },
           {
            "bin_start": -0.09999999999999998,
            "bin_end": 0,
            "count": 0
           },
           {
            "bin_start": 0,
            "bin_end": 0.10000000000000009,
            "count": 2
           },
           {
            "bin_start": 0.10000000000000009,
            "bin_end": 0.20000000000000007,
            "count": 0
           },
           {
            "bin_start": 0.20000000000000007,
            "bin_end": 0.30000000000000004,
            "count": 0
           },
           {
            "bin_start": 0.30000000000000004,
            "bin_end": 0.4,
            "count": 0
           },
           {
            "bin_start": 0.4,
            "bin_end": 0.5,
            "count": 0
           }
          ]
         }
        },
        {
         "name": "Source_Chennai",
         "dtype": "int64",
         "stats": {
          "unique_count": 1,
          "nan_count": 0,
          "min": "0",
          "max": "0",
          "histogram": [
           {
            "bin_start": -0.5,
            "bin_end": -0.4,
            "count": 0
           },
           {
            "bin_start": -0.4,
            "bin_end": -0.3,
            "count": 0
           },
           {
            "bin_start": -0.3,
            "bin_end": -0.19999999999999996,
            "count": 0
           },
           {
            "bin_start": -0.19999999999999996,
            "bin_end": -0.09999999999999998,
            "count": 0
           },
           {
            "bin_start": -0.09999999999999998,
            "bin_end": 0,
            "count": 0
           },
           {
            "bin_start": 0,
            "bin_end": 0.10000000000000009,
            "count": 2
           },
           {
            "bin_start": 0.10000000000000009,
            "bin_end": 0.20000000000000007,
            "count": 0
           },
           {
            "bin_start": 0.20000000000000007,
            "bin_end": 0.30000000000000004,
            "count": 0
           },
           {
            "bin_start": 0.30000000000000004,
            "bin_end": 0.4,
            "count": 0
           },
           {
            "bin_start": 0.4,
            "bin_end": 0.5,
            "count": 0
           }
          ]
         }
        },
        {
         "name": "Source_Mumbai",
         "dtype": "int64",
         "stats": {
          "unique_count": 1,
          "nan_count": 0,
          "min": "0",
          "max": "0",
          "histogram": [
           {
            "bin_start": -0.5,
            "bin_end": -0.4,
            "count": 0
           },
           {
            "bin_start": -0.4,
            "bin_end": -0.3,
            "count": 0
           },
           {
            "bin_start": -0.3,
            "bin_end": -0.19999999999999996,
            "count": 0
           },
           {
            "bin_start": -0.19999999999999996,
            "bin_end": -0.09999999999999998,
            "count": 0
           },
           {
            "bin_start": -0.09999999999999998,
            "bin_end": 0,
            "count": 0
           },
           {
            "bin_start": 0,
            "bin_end": 0.10000000000000009,
            "count": 2
           },
           {
            "bin_start": 0.10000000000000009,
            "bin_end": 0.20000000000000007,
            "count": 0
           },
           {
            "bin_start": 0.20000000000000007,
            "bin_end": 0.30000000000000004,
            "count": 0
           },
           {
            "bin_start": 0.30000000000000004,
            "bin_end": 0.4,
            "count": 0
           },
           {
            "bin_start": 0.4,
            "bin_end": 0.5,
            "count": 0
           }
          ]
         }
        },
        {
         "name": "_deepnote_index_column",
         "dtype": "int64"
        }
       ],
       "rows": [
        {
         "Airline": 3,
         "Destination": 2,
         "Total_Stops": 0,
         "Price": 3897,
         "journey_day": 24,
         "journey_month": 3,
         "Dep_Time_hour": 22,
         "Dep_Time_minute": 20,
         "Arrival_Time_hour": 1,
         "Arrival_Time_minute": 10,
         "Duration_hours": 2,
         "Duration_mins": 50,
         "Source_Banglore": 1,
         "Source_Kolkata": 0,
         "Source_Delhi": 0,
         "Source_Chennai": 0,
         "Source_Mumbai": 0,
         "_deepnote_index_column": 0
        },
        {
         "Airline": 7,
         "Destination": 3,
         "Total_Stops": 2,
         "Price": 7662,
         "journey_day": 5,
         "journey_month": 1,
         "Dep_Time_hour": 5,
         "Dep_Time_minute": 50,
         "Arrival_Time_hour": 13,
         "Arrival_Time_minute": 15,
         "Duration_hours": 7,
         "Duration_mins": 25,
         "Source_Banglore": 0,
         "Source_Kolkata": 1,
         "Source_Delhi": 0,
         "Source_Chennai": 0,
         "Source_Mumbai": 0,
         "_deepnote_index_column": 1
        }
       ]
      },
      "text/plain": "   Airline  Destination  Total_Stops   Price  journey_day  journey_month  \\\n0        3            2            0  3897.0           24              3   \n1        7            3            2  7662.0            5              1   \n\n   Dep_Time_hour  Dep_Time_minute  Arrival_Time_hour  Arrival_Time_minute  \\\n0             22               20                  1                   10   \n1              5               50                 13                   15   \n\n   Duration_hours  Duration_mins  Source_Banglore  Source_Kolkata  \\\n0               2             50                1               0   \n1               7             25                0               1   \n\n   Source_Delhi  Source_Chennai  Source_Mumbai  \n0             0               0              0  \n1             0               0              0  ",
      "text/html": "<div>\n<style scoped>\n    .dataframe tbody tr th:only-of-type {\n        vertical-align: middle;\n    }\n\n    .dataframe tbody tr th {\n        vertical-align: top;\n    }\n\n    .dataframe thead th {\n        text-align: right;\n    }\n</style>\n<table border=\"1\" class=\"dataframe\">\n  <thead>\n    <tr style=\"text-align: right;\">\n      <th></th>\n      <th>Airline</th>\n      <th>Destination</th>\n      <th>Total_Stops</th>\n      <th>Price</th>\n      <th>journey_day</th>\n      <th>journey_month</th>\n      <th>Dep_Time_hour</th>\n      <th>Dep_Time_minute</th>\n      <th>Arrival_Time_hour</th>\n      <th>Arrival_Time_minute</th>\n      <th>Duration_hours</th>\n      <th>Duration_mins</th>\n      <th>Source_Banglore</th>\n      <th>Source_Kolkata</th>\n      <th>Source_Delhi</th>\n      <th>Source_Chennai</th>\n      <th>Source_Mumbai</th>\n    </tr>\n  </thead>\n  <tbody>\n    <tr>\n      <th>0</th>\n      <td>3</td>\n      <td>2</td>\n      <td>0</td>\n      <td>3897.0</td>\n      <td>24</td>\n      <td>3</td>\n      <td>22</td>\n      <td>20</td>\n      <td>1</td>\n      <td>10</td>\n      <td>2</td>\n      <td>50</td>\n      <td>1</td>\n      <td>0</td>\n      <td>0</td>\n      <td>0</td>\n      <td>0</td>\n    </tr>\n    <tr>\n      <th>1</th>\n      <td>7</td>\n      <td>3</td>\n      <td>2</td>\n      <td>7662.0</td>\n      <td>5</td>\n      <td>1</td>\n      <td>5</td>\n      <td>50</td>\n      <td>13</td>\n      <td>15</td>\n      <td>7</td>\n      <td>25</td>\n      <td>0</td>\n      <td>1</td>\n      <td>0</td>\n      <td>0</td>\n      <td>0</td>\n    </tr>\n  </tbody>\n</table>\n</div>"
     },
     "metadata": {}
    }
   ]
  },
  {
   "cell_type": "code",
   "metadata": {
    "cell_id": "00181-6ef00200-f53d-4626-ad9f-88ac507546ef",
    "deepnote_to_be_reexecuted": false,
    "source_hash": "ae3db336",
    "execution_start": 1660916825425,
    "execution_millis": 379,
    "deepnote_cell_type": "code",
    "deepnote_cell_height": 438.578125,
    "deepnote_output_heights": [
     346.59375
    ]
   },
   "source": "data.dtypes",
   "execution_count": 101,
   "outputs": [
    {
     "output_type": "execute_result",
     "execution_count": 101,
     "data": {
      "text/plain": "Airline                  int64\nDestination              int64\nTotal_Stops              int64\nPrice                  float64\njourney_day              int64\njourney_month            int64\nDep_Time_hour            int64\nDep_Time_minute          int64\nArrival_Time_hour        int64\nArrival_Time_minute      int64\nDuration_hours           int64\nDuration_mins            int64\nSource_Banglore          int64\nSource_Kolkata           int64\nSource_Delhi             int64\nSource_Chennai           int64\nSource_Mumbai            int64\ndtype: object"
     },
     "metadata": {}
    }
   ]
  },
  {
   "cell_type": "code",
   "metadata": {
    "cell_id": "00182-551cae1a-366b-43ba-8411-8fd979211d8f",
    "deepnote_to_be_reexecuted": false,
    "source_hash": "b623e53d",
    "execution_start": 1660916825426,
    "execution_millis": 24977284,
    "deepnote_cell_type": "code",
    "deepnote_cell_height": 76
   },
   "source": "",
   "execution_count": 101,
   "outputs": []
  },
  {
   "cell_type": "markdown",
   "source": "## Performing Feature Selection !",
   "metadata": {
    "cell_id": "00183-47c781fc-6f98-4781-86c2-4eb2ea73e8d4",
    "deepnote_cell_type": "markdown",
    "deepnote_cell_height": 70
   }
  },
  {
   "cell_type": "markdown",
   "source": "Finding out the best feature which will contribute most to the target variable. \nLets get a high level overview of most of the frequently used feature selection technique..\n\n\nWhy to apply Feature Selection?\nTo select important features to get rid of curse of dimensionality ie..to get rid of duplicate features\n\n\nways or technqiues to do it if we have regression use-case\na..SelectKBest\n    Score function:\n    \n    For regression: f_regression, mutual_info_regression\n\n    f_regression\n    Its backbone is pearson co-relation.. \n\n\n    mutual_info_regression \n    Its Backbone is Various statistical test like Chi-sq,Anova & p-value.\n\n\nb..ExtraTreesClassifier\n   This technique gives you a score for each feature of your data,the higher the score more relevant it is",
   "metadata": {
    "cell_id": "59eb4402d63e44839aec999bc75a1fee",
    "tags": [],
    "deepnote_cell_type": "markdown",
    "deepnote_cell_height": 460
   }
  },
  {
   "cell_type": "code",
   "metadata": {
    "cell_id": "00184-4bed1e66-e044-4d19-bf5a-ea6438e9cb36",
    "deepnote_to_be_reexecuted": false,
    "source_hash": "5ff81aed",
    "execution_start": 1660916825426,
    "execution_millis": 1,
    "deepnote_cell_type": "code",
    "deepnote_cell_height": 148
   },
   "source": "\n\n\n\n",
   "execution_count": 101,
   "outputs": []
  },
  {
   "cell_type": "code",
   "metadata": {
    "cell_id": "00185-2d62b6f9-d71a-4932-b908-a938d89418ed",
    "deepnote_to_be_reexecuted": false,
    "source_hash": "2160b963",
    "execution_start": 1660916825427,
    "execution_millis": 638,
    "deepnote_cell_type": "code",
    "deepnote_cell_height": 76
   },
   "source": "from sklearn.feature_selection import mutual_info_regression",
   "execution_count": 102,
   "outputs": []
  },
  {
   "cell_type": "code",
   "metadata": {
    "cell_id": "00186-94a39c18-aaee-47ab-bb20-1bc8a4a25d1b",
    "deepnote_to_be_reexecuted": false,
    "source_hash": "7c4d9959",
    "execution_start": 1660916826075,
    "execution_millis": 4,
    "deepnote_cell_type": "code",
    "deepnote_cell_height": 76
   },
   "source": "X=data.drop(['Price'],axis=1)",
   "execution_count": 103,
   "outputs": []
  },
  {
   "cell_type": "code",
   "metadata": {
    "cell_id": "00187-dfaf1597-b82f-4117-9796-c7c4e366ba5c",
    "deepnote_to_be_reexecuted": false,
    "source_hash": "bb98a8c2",
    "execution_start": 1660916826094,
    "execution_millis": 5,
    "deepnote_cell_type": "code",
    "deepnote_cell_height": 76
   },
   "source": "y=data['Price']",
   "execution_count": 104,
   "outputs": []
  },
  {
   "cell_type": "code",
   "metadata": {
    "cell_id": "00188-af82f450-ac1b-414c-8a83-05f45815d093",
    "deepnote_to_be_reexecuted": false,
    "source_hash": "f74b69d1",
    "execution_start": 1660916826104,
    "execution_millis": 15,
    "deepnote_cell_type": "code",
    "deepnote_cell_height": 419.375,
    "deepnote_output_heights": [
     327.390625
    ]
   },
   "source": "X.dtypes",
   "execution_count": 105,
   "outputs": [
    {
     "output_type": "execute_result",
     "execution_count": 105,
     "data": {
      "text/plain": "Airline                int64\nDestination            int64\nTotal_Stops            int64\njourney_day            int64\njourney_month          int64\nDep_Time_hour          int64\nDep_Time_minute        int64\nArrival_Time_hour      int64\nArrival_Time_minute    int64\nDuration_hours         int64\nDuration_mins          int64\nSource_Banglore        int64\nSource_Kolkata         int64\nSource_Delhi           int64\nSource_Chennai         int64\nSource_Mumbai          int64\ndtype: object"
     },
     "metadata": {}
    }
   ]
  },
  {
   "cell_type": "code",
   "metadata": {
    "cell_id": "00189-e03aad7b-52c9-4110-ac58-1141c4c13532",
    "deepnote_to_be_reexecuted": false,
    "source_hash": "a58bdb79",
    "execution_start": 1660916826129,
    "execution_millis": 1125,
    "deepnote_cell_type": "code",
    "deepnote_cell_height": 169.78125,
    "deepnote_output_heights": [
     77.796875
    ]
   },
   "source": "mutual_info_regression(X,y)",
   "execution_count": 106,
   "outputs": [
    {
     "output_type": "execute_result",
     "execution_count": 106,
     "data": {
      "text/plain": "array([0.98313051, 0.99947106, 0.79376176, 0.1988729 , 0.24772473,\n       0.33582409, 0.26116892, 0.40125921, 0.34572085, 0.47422541,\n       0.34521537, 0.38488474, 0.45118135, 0.51531006, 0.12621713,\n       0.20374742])"
     },
     "metadata": {}
    }
   ]
  },
  {
   "cell_type": "code",
   "metadata": {
    "cell_id": "00190-a5c8fabe-f516-468d-a7bb-439ded7980c9",
    "deepnote_to_be_reexecuted": false,
    "source_hash": "dd53ffe6",
    "execution_start": 1660916827263,
    "execution_millis": 1154,
    "deepnote_cell_type": "code",
    "deepnote_cell_height": 94
   },
   "source": "imp=pd.DataFrame(mutual_info_regression(X,y),index=X.columns)\nimp.columns=['importance']",
   "execution_count": 107,
   "outputs": []
  },
  {
   "cell_type": "code",
   "metadata": {
    "cell_id": "00191-11abfe8e-62ad-4d81-9be1-1afedf0d3640",
    "deepnote_to_be_reexecuted": false,
    "source_hash": "8f51e3a6",
    "execution_start": 1660916828417,
    "execution_millis": 281,
    "deepnote_cell_type": "code",
    "deepnote_cell_height": 595
   },
   "source": "imp.sort_values(by='importance',ascending=False)",
   "execution_count": 108,
   "outputs": [
    {
     "output_type": "execute_result",
     "execution_count": 108,
     "data": {
      "application/vnd.deepnote.dataframe.v3+json": {
       "column_count": 1,
       "row_count": 16,
       "columns": [
        {
         "name": "importance",
         "dtype": "float64",
         "stats": {
          "unique_count": 16,
          "nan_count": 0,
          "min": "0.13227565654458506",
          "max": "1.0134141091418574",
          "histogram": [
           {
            "bin_start": 0.13227565654458506,
            "bin_end": 0.2203895018043123,
            "count": 3
           },
           {
            "bin_start": 0.2203895018043123,
            "bin_end": 0.30850334706403953,
            "count": 2
           },
           {
            "bin_start": 0.30850334706403953,
            "bin_end": 0.3966171923237668,
            "count": 4
           },
           {
            "bin_start": 0.3966171923237668,
            "bin_end": 0.484731037583494,
            "count": 3
           },
           {
            "bin_start": 0.484731037583494,
            "bin_end": 0.5728448828432212,
            "count": 1
           },
           {
            "bin_start": 0.5728448828432212,
            "bin_end": 0.6609587281029485,
            "count": 0
           },
           {
            "bin_start": 0.6609587281029485,
            "bin_end": 0.7490725733626757,
            "count": 0
           },
           {
            "bin_start": 0.7490725733626757,
            "bin_end": 0.837186418622403,
            "count": 1
           },
           {
            "bin_start": 0.837186418622403,
            "bin_end": 0.9253002638821302,
            "count": 0
           },
           {
            "bin_start": 0.9253002638821302,
            "bin_end": 1.0134141091418574,
            "count": 2
           }
          ]
         }
        },
        {
         "name": "_deepnote_index_column",
         "dtype": "object"
        }
       ],
       "rows": [
        {
         "importance": 1.0134141091418574,
         "_deepnote_index_column": "Destination"
        },
        {
         "importance": 0.9685159940661441,
         "_deepnote_index_column": "Airline"
        },
        {
         "importance": 0.791061681152522,
         "_deepnote_index_column": "Total_Stops"
        },
        {
         "importance": 0.5243498708624215,
         "_deepnote_index_column": "Source_Delhi"
        },
        {
         "importance": 0.46659674537031526,
         "_deepnote_index_column": "Duration_hours"
        },
        {
         "importance": 0.46397542700702177,
         "_deepnote_index_column": "Source_Kolkata"
        },
        {
         "importance": 0.4070801052267248,
         "_deepnote_index_column": "Arrival_Time_hour"
        },
        {
         "importance": 0.39179127046543427,
         "_deepnote_index_column": "Source_Banglore"
        },
        {
         "importance": 0.3587483154989908,
         "_deepnote_index_column": "Arrival_Time_minute"
        },
        {
         "importance": 0.34970394018871387,
         "_deepnote_index_column": "Dep_Time_hour"
        }
       ]
      },
      "text/plain": "                     importance\nDestination            1.013414\nAirline                0.968516\nTotal_Stops            0.791062\nSource_Delhi           0.524350\nDuration_hours         0.466597\nSource_Kolkata         0.463975\nArrival_Time_hour      0.407080\nSource_Banglore        0.391791\nArrival_Time_minute    0.358748\nDep_Time_hour          0.349704\nDuration_mins          0.340190\nDep_Time_minute        0.256669\njourney_month          0.233011\nSource_Mumbai          0.193130\njourney_day            0.192385\nSource_Chennai         0.132276",
      "text/html": "<div>\n<style scoped>\n    .dataframe tbody tr th:only-of-type {\n        vertical-align: middle;\n    }\n\n    .dataframe tbody tr th {\n        vertical-align: top;\n    }\n\n    .dataframe thead th {\n        text-align: right;\n    }\n</style>\n<table border=\"1\" class=\"dataframe\">\n  <thead>\n    <tr style=\"text-align: right;\">\n      <th></th>\n      <th>importance</th>\n    </tr>\n  </thead>\n  <tbody>\n    <tr>\n      <th>Destination</th>\n      <td>1.013414</td>\n    </tr>\n    <tr>\n      <th>Airline</th>\n      <td>0.968516</td>\n    </tr>\n    <tr>\n      <th>Total_Stops</th>\n      <td>0.791062</td>\n    </tr>\n    <tr>\n      <th>Source_Delhi</th>\n      <td>0.524350</td>\n    </tr>\n    <tr>\n      <th>Duration_hours</th>\n      <td>0.466597</td>\n    </tr>\n    <tr>\n      <th>Source_Kolkata</th>\n      <td>0.463975</td>\n    </tr>\n    <tr>\n      <th>Arrival_Time_hour</th>\n      <td>0.407080</td>\n    </tr>\n    <tr>\n      <th>Source_Banglore</th>\n      <td>0.391791</td>\n    </tr>\n    <tr>\n      <th>Arrival_Time_minute</th>\n      <td>0.358748</td>\n    </tr>\n    <tr>\n      <th>Dep_Time_hour</th>\n      <td>0.349704</td>\n    </tr>\n    <tr>\n      <th>Duration_mins</th>\n      <td>0.340190</td>\n    </tr>\n    <tr>\n      <th>Dep_Time_minute</th>\n      <td>0.256669</td>\n    </tr>\n    <tr>\n      <th>journey_month</th>\n      <td>0.233011</td>\n    </tr>\n    <tr>\n      <th>Source_Mumbai</th>\n      <td>0.193130</td>\n    </tr>\n    <tr>\n      <th>journey_day</th>\n      <td>0.192385</td>\n    </tr>\n    <tr>\n      <th>Source_Chennai</th>\n      <td>0.132276</td>\n    </tr>\n  </tbody>\n</table>\n</div>"
     },
     "metadata": {}
    }
   ]
  },
  {
   "cell_type": "code",
   "metadata": {
    "cell_id": "00192-a6a33276-efec-4652-b42c-c7b36bf9081c",
    "deepnote_to_be_reexecuted": false,
    "source_hash": "b623e53d",
    "execution_start": 1660916828472,
    "execution_millis": 24977796,
    "deepnote_cell_type": "code",
    "deepnote_cell_height": 76
   },
   "source": "",
   "execution_count": 108,
   "outputs": []
  },
  {
   "cell_type": "markdown",
   "source": "## Lets build ML Model  , then later on we can think of saving it..",
   "metadata": {
    "cell_id": "00193-e2677ae3-363c-4710-8b77-27f942409f31",
    "deepnote_cell_type": "markdown",
    "deepnote_cell_height": 110
   }
  },
  {
   "cell_type": "markdown",
   "source": "#### split dataset into train & test",
   "metadata": {
    "cell_id": "00194-38941ed3-f731-4ca8-8903-254ac74ec8f7",
    "deepnote_cell_type": "markdown",
    "deepnote_cell_height": 54
   }
  },
  {
   "cell_type": "code",
   "metadata": {
    "cell_id": "00195-309daf70-e0fb-4ccb-b3f8-2e0e4d0dab5b",
    "deepnote_to_be_reexecuted": false,
    "source_hash": "746a4dbc",
    "execution_start": 1660916828473,
    "execution_millis": 24977787,
    "deepnote_cell_type": "code",
    "deepnote_cell_height": 76
   },
   "source": "from sklearn.model_selection import train_test_split",
   "execution_count": 109,
   "outputs": []
  },
  {
   "cell_type": "code",
   "metadata": {
    "cell_id": "00196-20d7cd58-2674-49b2-b254-f432bec2ac18",
    "deepnote_to_be_reexecuted": false,
    "source_hash": "469fd6ff",
    "execution_start": 1660916828528,
    "execution_millis": 24977786,
    "deepnote_cell_type": "code",
    "deepnote_cell_height": 76
   },
   "source": "X_train, X_test, y_train, y_test = train_test_split(X, y, test_size=0.25, random_state=42)",
   "execution_count": 110,
   "outputs": []
  },
  {
   "cell_type": "markdown",
   "source": "#### what we often do in modelling:\n    a..Initially ,lets build basic random forest model.\n    b..then later-on , we will try to improve this model using some parameters..\n    c..Then we will hyper-tune my model to get optimal value of parameters in order to achieve optimal value of params..",
   "metadata": {
    "cell_id": "00197-448f3216-1812-42ad-9039-775172054e2b",
    "deepnote_cell_type": "markdown",
    "deepnote_cell_height": 169.1875
   }
  },
  {
   "cell_type": "code",
   "metadata": {
    "cell_id": "00198-0f1def81-3903-48aa-b483-f23cdd26cf34",
    "deepnote_to_be_reexecuted": false,
    "source_hash": "aea345bb",
    "execution_start": 1660916828537,
    "execution_millis": 93,
    "deepnote_cell_type": "code",
    "deepnote_cell_height": 76
   },
   "source": "from sklearn.ensemble import RandomForestRegressor",
   "execution_count": 111,
   "outputs": []
  },
  {
   "cell_type": "code",
   "metadata": {
    "cell_id": "00199-02edce44-5250-44d4-9d17-003b71a9fe08",
    "deepnote_to_be_reexecuted": false,
    "source_hash": "4c599f5f",
    "execution_start": 1660916828630,
    "execution_millis": 0,
    "deepnote_cell_type": "code",
    "deepnote_cell_height": 76
   },
   "source": "ml_model=RandomForestRegressor()",
   "execution_count": 112,
   "outputs": []
  },
  {
   "cell_type": "code",
   "metadata": {
    "cell_id": "00200-8575a84f-e220-4554-a688-4fc3a4ae15c5",
    "deepnote_to_be_reexecuted": false,
    "source_hash": "b39d4a31",
    "execution_start": 1660916828631,
    "execution_millis": 2399,
    "deepnote_cell_type": "code",
    "deepnote_cell_height": 151.375,
    "deepnote_output_heights": [
     59.390625
    ]
   },
   "source": "ml_model.fit(X_train,y_train)",
   "execution_count": 113,
   "outputs": [
    {
     "output_type": "execute_result",
     "execution_count": 113,
     "data": {
      "text/plain": "RandomForestRegressor()",
      "text/html": "<style>#sk-container-id-1 {color: black;background-color: white;}#sk-container-id-1 pre{padding: 0;}#sk-container-id-1 div.sk-toggleable {background-color: white;}#sk-container-id-1 label.sk-toggleable__label {cursor: pointer;display: block;width: 100%;margin-bottom: 0;padding: 0.3em;box-sizing: border-box;text-align: center;}#sk-container-id-1 label.sk-toggleable__label-arrow:before {content: \"▸\";float: left;margin-right: 0.25em;color: #696969;}#sk-container-id-1 label.sk-toggleable__label-arrow:hover:before {color: black;}#sk-container-id-1 div.sk-estimator:hover label.sk-toggleable__label-arrow:before {color: black;}#sk-container-id-1 div.sk-toggleable__content {max-height: 0;max-width: 0;overflow: hidden;text-align: left;background-color: #f0f8ff;}#sk-container-id-1 div.sk-toggleable__content pre {margin: 0.2em;color: black;border-radius: 0.25em;background-color: #f0f8ff;}#sk-container-id-1 input.sk-toggleable__control:checked~div.sk-toggleable__content {max-height: 200px;max-width: 100%;overflow: auto;}#sk-container-id-1 input.sk-toggleable__control:checked~label.sk-toggleable__label-arrow:before {content: \"▾\";}#sk-container-id-1 div.sk-estimator input.sk-toggleable__control:checked~label.sk-toggleable__label {background-color: #d4ebff;}#sk-container-id-1 div.sk-label input.sk-toggleable__control:checked~label.sk-toggleable__label {background-color: #d4ebff;}#sk-container-id-1 input.sk-hidden--visually {border: 0;clip: rect(1px 1px 1px 1px);clip: rect(1px, 1px, 1px, 1px);height: 1px;margin: -1px;overflow: hidden;padding: 0;position: absolute;width: 1px;}#sk-container-id-1 div.sk-estimator {font-family: monospace;background-color: #f0f8ff;border: 1px dotted black;border-radius: 0.25em;box-sizing: border-box;margin-bottom: 0.5em;}#sk-container-id-1 div.sk-estimator:hover {background-color: #d4ebff;}#sk-container-id-1 div.sk-parallel-item::after {content: \"\";width: 100%;border-bottom: 1px solid gray;flex-grow: 1;}#sk-container-id-1 div.sk-label:hover label.sk-toggleable__label {background-color: #d4ebff;}#sk-container-id-1 div.sk-serial::before {content: \"\";position: absolute;border-left: 1px solid gray;box-sizing: border-box;top: 0;bottom: 0;left: 50%;z-index: 0;}#sk-container-id-1 div.sk-serial {display: flex;flex-direction: column;align-items: center;background-color: white;padding-right: 0.2em;padding-left: 0.2em;position: relative;}#sk-container-id-1 div.sk-item {position: relative;z-index: 1;}#sk-container-id-1 div.sk-parallel {display: flex;align-items: stretch;justify-content: center;background-color: white;position: relative;}#sk-container-id-1 div.sk-item::before, #sk-container-id-1 div.sk-parallel-item::before {content: \"\";position: absolute;border-left: 1px solid gray;box-sizing: border-box;top: 0;bottom: 0;left: 50%;z-index: -1;}#sk-container-id-1 div.sk-parallel-item {display: flex;flex-direction: column;z-index: 1;position: relative;background-color: white;}#sk-container-id-1 div.sk-parallel-item:first-child::after {align-self: flex-end;width: 50%;}#sk-container-id-1 div.sk-parallel-item:last-child::after {align-self: flex-start;width: 50%;}#sk-container-id-1 div.sk-parallel-item:only-child::after {width: 0;}#sk-container-id-1 div.sk-dashed-wrapped {border: 1px dashed gray;margin: 0 0.4em 0.5em 0.4em;box-sizing: border-box;padding-bottom: 0.4em;background-color: white;}#sk-container-id-1 div.sk-label label {font-family: monospace;font-weight: bold;display: inline-block;line-height: 1.2em;}#sk-container-id-1 div.sk-label-container {text-align: center;}#sk-container-id-1 div.sk-container {/* jupyter's `normalize.less` sets `[hidden] { display: none; }` but bootstrap.min.css set `[hidden] { display: none !important; }` so we also need the `!important` here to be able to override the default hidden behavior on the sphinx rendered scikit-learn.org. See: https://github.com/scikit-learn/scikit-learn/issues/21755 */display: inline-block !important;position: relative;}#sk-container-id-1 div.sk-text-repr-fallback {display: none;}</style><div id=\"sk-container-id-1\" class=\"sk-top-container\"><div class=\"sk-text-repr-fallback\"><pre>RandomForestRegressor()</pre><b>In a Jupyter environment, please rerun this cell to show the HTML representation or trust the notebook. <br />On GitHub, the HTML representation is unable to render, please try loading this page with nbviewer.org.</b></div><div class=\"sk-container\" hidden><div class=\"sk-item\"><div class=\"sk-estimator sk-toggleable\"><input class=\"sk-toggleable__control sk-hidden--visually\" id=\"sk-estimator-id-1\" type=\"checkbox\" checked><label for=\"sk-estimator-id-1\" class=\"sk-toggleable__label sk-toggleable__label-arrow\">RandomForestRegressor</label><div class=\"sk-toggleable__content\"><pre>RandomForestRegressor()</pre></div></div></div></div></div>"
     },
     "metadata": {}
    }
   ]
  },
  {
   "cell_type": "code",
   "metadata": {
    "cell_id": "00201-3ae9704e-0b09-48ed-a3fd-7e1f1aeef6f4",
    "deepnote_to_be_reexecuted": false,
    "source_hash": "61ec5f79",
    "execution_start": 1660916831035,
    "execution_millis": 95,
    "deepnote_cell_type": "code",
    "deepnote_cell_height": 76
   },
   "source": "y_pred=ml_model.predict(X_test)",
   "execution_count": 114,
   "outputs": []
  },
  {
   "cell_type": "code",
   "metadata": {
    "cell_id": "00202-96266997-322b-4982-98ae-5aac06fd1c17",
    "deepnote_to_be_reexecuted": false,
    "source_hash": "ba549d12",
    "execution_start": 1660916831136,
    "execution_millis": 691,
    "deepnote_cell_type": "code",
    "deepnote_cell_height": 112.1875,
    "deepnote_output_heights": [
     20.1875
    ]
   },
   "source": "y_pred",
   "execution_count": 115,
   "outputs": [
    {
     "output_type": "execute_result",
     "execution_count": 115,
     "data": {
      "text/plain": "array([16765.66,  6384.21,  8780.74, ...,  3480.3 ,  6261.97,  6951.36])"
     },
     "metadata": {}
    }
   ]
  },
  {
   "cell_type": "code",
   "metadata": {
    "cell_id": "00203-54024def-a06f-4d48-b21a-d91b47f660ac",
    "deepnote_to_be_reexecuted": false,
    "source_hash": "b608bba4",
    "execution_start": 1660916831165,
    "execution_millis": 23797977,
    "deepnote_cell_type": "code",
    "deepnote_cell_height": 112.1875,
    "deepnote_output_heights": [
     20.1875
    ]
   },
   "source": "y_pred.shape",
   "execution_count": 116,
   "outputs": [
    {
     "output_type": "execute_result",
     "execution_count": 116,
     "data": {
      "text/plain": "(2671,)"
     },
     "metadata": {}
    }
   ]
  },
  {
   "cell_type": "code",
   "metadata": {
    "cell_id": "00204-163f4f58-c83a-4c73-901b-0ab482b8d714",
    "deepnote_to_be_reexecuted": false,
    "source_hash": "b1a439d8",
    "execution_start": 1660916831210,
    "execution_millis": 24977833,
    "deepnote_cell_type": "code",
    "deepnote_cell_height": 112.1875,
    "deepnote_output_heights": [
     20.1875
    ]
   },
   "source": "len(X_test)",
   "execution_count": 117,
   "outputs": [
    {
     "output_type": "execute_result",
     "execution_count": 117,
     "data": {
      "text/plain": "2671"
     },
     "metadata": {}
    }
   ]
  },
  {
   "cell_type": "markdown",
   "source": "## Defining your own evaluation metric :",
   "metadata": {
    "cell_id": "00217-4746026e-1d5b-43b8-9e72-92ffaff857e4",
    "deepnote_cell_type": "markdown",
    "deepnote_cell_height": 70
   }
  },
  {
   "cell_type": "code",
   "metadata": {
    "cell_id": "00218-6fbc8eed-f20e-475a-b0a1-3760c33b281f",
    "deepnote_to_be_reexecuted": false,
    "source_hash": "5d0f248",
    "execution_start": 1660916831211,
    "execution_millis": 632,
    "deepnote_cell_type": "code",
    "deepnote_cell_height": 130
   },
   "source": "def mape(y_true,y_pred):\n    y_true,y_pred=np.array(y_true),np.array(y_pred)\n    \n    return np.mean(np.abs((y_true-y_pred)/y_true))*100",
   "execution_count": 118,
   "outputs": []
  },
  {
   "cell_type": "code",
   "metadata": {
    "cell_id": "00219-4f79dd3e-0c37-4a57-a599-1ee8cd76ed5b",
    "deepnote_to_be_reexecuted": false,
    "source_hash": "a45a72de",
    "execution_start": 1660916831211,
    "execution_millis": 644,
    "deepnote_cell_type": "code",
    "deepnote_cell_height": 112.1875,
    "deepnote_output_heights": [
     20.1875
    ]
   },
   "source": "mape(y_test,ml_model.predict(X_test))",
   "execution_count": 119,
   "outputs": [
    {
     "output_type": "execute_result",
     "execution_count": 119,
     "data": {
      "text/plain": "13.255376765669237"
     },
     "metadata": {}
    }
   ]
  },
  {
   "cell_type": "markdown",
   "source": "## How to Automate ML Pipeline :",
   "metadata": {
    "cell_id": "00221-c829f756-1554-48a6-836e-48e9de9f6b3f",
    "deepnote_cell_type": "markdown",
    "deepnote_cell_height": 70
   }
  },
  {
   "cell_type": "code",
   "metadata": {
    "cell_id": "00222-480a31c0-b451-41ae-953c-d116c9b6824f",
    "deepnote_to_be_reexecuted": false,
    "source_hash": "8b9e51bd",
    "execution_start": 1660916831286,
    "execution_millis": 10,
    "deepnote_cell_type": "code",
    "deepnote_cell_height": 364
   },
   "source": "def predict(ml_model):\n    \n    model=ml_model.fit(X_train,y_train)\n    print('Training_score: {}'.format(model.score(X_train,y_train)))\n    y_prediction=model.predict(X_test)\n    print('Predictions are : {}'.format(y_prediction))\n    print('\\n')\n    \n    from sklearn import metrics\n    r2_score=metrics.r2_score(y_test,y_prediction)\n    print('r2_score: {}'.format(r2_score))\n    print('MSE : ', metrics.mean_squared_error(y_test,y_prediction))\n    print('MAE : ', metrics.mean_absolute_error(y_test,y_prediction))\n    print('RMSE : ', np.sqrt(metrics.mean_squared_error(y_test,y_prediction)))\n    print('MAPE : ', mape(y_test,y_prediction))\n    sns.distplot(y_test-y_prediction)\n    ",
   "execution_count": 120,
   "outputs": []
  },
  {
   "cell_type": "code",
   "metadata": {
    "cell_id": "00223-7339214b-b4c2-42b8-b4a1-f1a61a2fbdf9",
    "deepnote_to_be_reexecuted": false,
    "source_hash": "6d48224f",
    "execution_start": 1660916831346,
    "execution_millis": 3214,
    "deepnote_cell_type": "code",
    "deepnote_cell_height": 646.796875,
    "deepnote_output_heights": [
     null,
     264,
     263
    ]
   },
   "source": "predict(RandomForestRegressor())",
   "execution_count": 121,
   "outputs": [
    {
     "name": "stdout",
     "text": "Training_score: 0.9518701871756287\nPredictions are : [16740.84  6379.35  8863.33 ...  3491.06  6284.78  7002.04]\n\n\nr2_score: 0.8078209242368727\nMSE :  3741265.311028931\nMAE :  1184.500650907508\nRMSE :  1934.2350712953507\nMAPE :  13.251100108780712\n/shared-libs/python3.9/py/lib/python3.9/site-packages/seaborn/distributions.py:2619: FutureWarning:\n\n`distplot` is a deprecated function and will be removed in a future version. Please adapt your code to use either `displot` (a figure-level function with similar flexibility) or `histplot` (an axes-level function for histograms).\n\n",
     "output_type": "stream"
    },
    {
     "data": {
      "text/plain": "<Figure size 432x288 with 1 Axes>",
      "image/png": "[encoded data removed]"
     },
     "metadata": {
      "needs_background": "light",
      "image/png": {
       "width": 419,
       "height": 266
      }
     },
     "output_type": "display_data"
    }
   ]
  },
  {
   "cell_type": "markdown",
   "source": "## how to hypertune ml model\n    Hyperparameter Tuning or Hyperparameter Optimization\n    1.Choose following method for hyperparameter tuning\n        a.RandomizedSearchCV --> Fast way to Hypertune model\n        b.GridSearchCV--> Slow way to hypertune my model\n    2.Choose ML algo that u have to hypertune\n    2.Assign hyperparameters in form of dictionary or create hyper-parameter space\n    3.define searching &  apply searching on Training data or  Fit the CV model \n    4.Check best parameters and best score",
   "metadata": {
    "cell_id": "00226-df5413f7-3018-44d2-aeb3-8f762bf7bf5f",
    "deepnote_cell_type": "markdown",
    "deepnote_cell_height": 272.390625
   }
  },
  {
   "cell_type": "code",
   "metadata": {
    "cell_id": "00227-affe5957-ca00-48a5-a21e-a01400f75662",
    "deepnote_to_be_reexecuted": false,
    "source_hash": "f576e39e",
    "execution_start": 1660916834424,
    "execution_millis": 1,
    "deepnote_cell_type": "code",
    "deepnote_cell_height": 76
   },
   "source": "from sklearn.model_selection import RandomizedSearchCV",
   "execution_count": 122,
   "outputs": []
  },
  {
   "cell_type": "code",
   "metadata": {
    "cell_id": "00228-d441391f-fd5f-455a-a7ee-6268937c6ee9",
    "deepnote_to_be_reexecuted": false,
    "source_hash": "77f8d2f6",
    "execution_start": 1660916834433,
    "execution_millis": 23639629,
    "deepnote_cell_type": "code",
    "deepnote_cell_height": 94
   },
   "source": "### initialise your estimator\nreg_rf=RandomForestRegressor()",
   "execution_count": 123,
   "outputs": []
  },
  {
   "cell_type": "code",
   "metadata": {
    "cell_id": "00229-8e02b92b-29c2-46a1-877d-bdc428a88ec4",
    "deepnote_to_be_reexecuted": false,
    "source_hash": "b36bf632",
    "execution_start": 1660916834438,
    "execution_millis": 127,
    "deepnote_cell_type": "code",
    "deepnote_cell_height": 112.1875,
    "deepnote_output_heights": [
     20.1875
    ]
   },
   "source": "np.linspace(start=1000,stop=1200,num=6)",
   "execution_count": 124,
   "outputs": [
    {
     "output_type": "execute_result",
     "execution_count": 124,
     "data": {
      "text/plain": "array([1000., 1040., 1080., 1120., 1160., 1200.])"
     },
     "metadata": {}
    }
   ]
  },
  {
   "cell_type": "code",
   "metadata": {
    "cell_id": "00230-5a077889-4778-4bb3-8f9f-01dcc4296241",
    "deepnote_to_be_reexecuted": false,
    "source_hash": "756f162b",
    "execution_start": 1660916834490,
    "execution_millis": 1,
    "deepnote_cell_type": "code",
    "deepnote_cell_height": 256
   },
   "source": "# Number of trees in random forest\nn_estimators=[int(x) for x in np.linspace(start=1000,stop=1200,num=6)]\n\n# Number of features to consider at every split\nmax_features=[\"auto\", \"sqrt\"]\n\n# Maximum number of levels in tree\nmax_depth=[int(x) for x in np.linspace(start=5,stop=30,num=4)]\n\n# Minimum number of samples required to split a node\nmin_samples_split=[5,10,15,100]",
   "execution_count": 125,
   "outputs": []
  },
  {
   "cell_type": "code",
   "metadata": {
    "cell_id": "00231-1f390071-da81-4e49-a355-13d823477ef3",
    "deepnote_to_be_reexecuted": false,
    "source_hash": "9782874c",
    "execution_start": 1660916834491,
    "execution_millis": 0,
    "deepnote_cell_type": "code",
    "deepnote_cell_height": 202
   },
   "source": "# Create the grid or hyper-parameter space\nrandom_grid={\n    'n_estimators':n_estimators,\n    'max_features':max_features,\n    'max_depth':max_depth,\n    'min_samples_split':min_samples_split\n    \n}",
   "execution_count": 126,
   "outputs": []
  },
  {
   "cell_type": "code",
   "metadata": {
    "cell_id": "00232-16bcdfd9-5cbe-48d6-9f81-4d4662b0b493",
    "deepnote_to_be_reexecuted": false,
    "source_hash": "d8cb03a2",
    "execution_start": 1660916834534,
    "execution_millis": 33,
    "deepnote_cell_type": "code",
    "deepnote_cell_height": 169.78125,
    "deepnote_output_heights": [
     77.796875
    ]
   },
   "source": "random_grid",
   "execution_count": 127,
   "outputs": [
    {
     "output_type": "execute_result",
     "execution_count": 127,
     "data": {
      "text/plain": "{'n_estimators': [1000, 1040, 1080, 1120, 1160, 1200],\n 'max_features': ['auto', 'sqrt'],\n 'max_depth': [5, 13, 21, 30],\n 'min_samples_split': [5, 10, 15, 100]}"
     },
     "metadata": {}
    }
   ]
  },
  {
   "cell_type": "code",
   "metadata": {
    "cell_id": "00233-4d37aa63-59b1-485d-b880-8a09d453b8a2",
    "deepnote_to_be_reexecuted": false,
    "source_hash": "26f4ac9f",
    "execution_start": 1660916834535,
    "execution_millis": 0,
    "deepnote_cell_type": "code",
    "deepnote_cell_height": 76
   },
   "source": "rf_Random=RandomizedSearchCV(reg_rf,param_distributions=random_grid,cv=3,verbose=2,n_jobs=-1)",
   "execution_count": 128,
   "outputs": []
  },
  {
   "cell_type": "code",
   "metadata": {
    "cell_id": "00234-6c1eb28b-8b02-4415-aa55-44172511d9ed",
    "deepnote_to_be_reexecuted": false,
    "source_hash": "87d187e2",
    "execution_start": 1660916834535,
    "execution_millis": 295088,
    "deepnote_cell_type": "code",
    "deepnote_cell_height": 696,
    "deepnote_output_heights": [
     null,
     135.390625
    ]
   },
   "source": "rf_Random.fit(X_train,y_train)",
   "execution_count": 129,
   "outputs": [
    {
     "name": "stdout",
     "text": "Fitting 3 folds for each of 10 candidates, totalling 30 fits\n[CV] END max_depth=13, max_features=sqrt, min_samples_split=15, n_estimators=1000; total time=   4.9s\n[CV] END max_depth=13, max_features=sqrt, min_samples_split=15, n_estimators=1000; total time=   4.9s\n[CV] END max_depth=13, max_features=sqrt, min_samples_split=15, n_estimators=1000; total time=   4.8s\n/shared-libs/python3.9/py/lib/python3.9/site-packages/sklearn/ensemble/_forest.py:416: FutureWarning:\n\n`max_features='auto'` has been deprecated in 1.1 and will be removed in 1.3. To keep the past behaviour, explicitly set `max_features=1.0` or remove this parameter as it is also the default value for RandomForestRegressors and ExtraTreesRegressors.\n\n[CV] END max_depth=13, max_features=auto, min_samples_split=15, n_estimators=1040; total time=  12.7s\n/shared-libs/python3.9/py/lib/python3.9/site-packages/sklearn/ensemble/_forest.py:416: FutureWarning:\n\n`max_features='auto'` has been deprecated in 1.1 and will be removed in 1.3. To keep the past behaviour, explicitly set `max_features=1.0` or remove this parameter as it is also the default value for RandomForestRegressors and ExtraTreesRegressors.\n\n[CV] END max_depth=13, max_features=auto, min_samples_split=15, n_estimators=1040; total time=  12.8s\n/shared-libs/python3.9/py/lib/python3.9/site-packages/sklearn/ensemble/_forest.py:416: FutureWarning:\n\n`max_features='auto'` has been deprecated in 1.1 and will be removed in 1.3. To keep the past behaviour, explicitly set `max_features=1.0` or remove this parameter as it is also the default value for RandomForestRegressors and ExtraTreesRegressors.\n\n[CV] END max_depth=13, max_features=auto, min_samples_split=15, n_estimators=1040; total time=  12.7s\n/shared-libs/python3.9/py/lib/python3.9/site-packages/sklearn/ensemble/_forest.py:416: FutureWarning:\n\n`max_features='auto'` has been deprecated in 1.1 and will be removed in 1.3. To keep the past behaviour, explicitly set `max_features=1.0` or remove this parameter as it is also the default value for RandomForestRegressors and ExtraTreesRegressors.\n\n[CV] END max_depth=13, max_features=auto, min_samples_split=100, n_estimators=1160; total time=  10.5s\n/shared-libs/python3.9/py/lib/python3.9/site-packages/sklearn/ensemble/_forest.py:416: FutureWarning:\n\n`max_features='auto'` has been deprecated in 1.1 and will be removed in 1.3. To keep the past behaviour, explicitly set `max_features=1.0` or remove this parameter as it is also the default value for RandomForestRegressors and ExtraTreesRegressors.\n\n[CV] END max_depth=13, max_features=auto, min_samples_split=100, n_estimators=1160; total time=  10.5s\n/shared-libs/python3.9/py/lib/python3.9/site-packages/sklearn/ensemble/_forest.py:416: FutureWarning:\n\n`max_features='auto'` has been deprecated in 1.1 and will be removed in 1.3. To keep the past behaviour, explicitly set `max_features=1.0` or remove this parameter as it is also the default value for RandomForestRegressors and ExtraTreesRegressors.\n\n[CV] END max_depth=13, max_features=auto, min_samples_split=100, n_estimators=1160; total time=  10.5s\n/shared-libs/python3.9/py/lib/python3.9/site-packages/sklearn/ensemble/_forest.py:416: FutureWarning:\n\n`max_features='auto'` has been deprecated in 1.1 and will be removed in 1.3. To keep the past behaviour, explicitly set `max_features=1.0` or remove this parameter as it is also the default value for RandomForestRegressors and ExtraTreesRegressors.\n\n[CV] END max_depth=5, max_features=auto, min_samples_split=10, n_estimators=1040; total time=   6.8s\n/shared-libs/python3.9/py/lib/python3.9/site-packages/sklearn/ensemble/_forest.py:416: FutureWarning:\n\n`max_features='auto'` has been deprecated in 1.1 and will be removed in 1.3. To keep the past behaviour, explicitly set `max_features=1.0` or remove this parameter as it is also the default value for RandomForestRegressors and ExtraTreesRegressors.\n\n[CV] END max_depth=5, max_features=auto, min_samples_split=10, n_estimators=1040; total time=   6.8s\n/shared-libs/python3.9/py/lib/python3.9/site-packages/sklearn/ensemble/_forest.py:416: FutureWarning:\n\n`max_features='auto'` has been deprecated in 1.1 and will be removed in 1.3. To keep the past behaviour, explicitly set `max_features=1.0` or remove this parameter as it is also the default value for RandomForestRegressors and ExtraTreesRegressors.\n\n[CV] END max_depth=5, max_features=auto, min_samples_split=10, n_estimators=1040; total time=   6.8s\n/shared-libs/python3.9/py/lib/python3.9/site-packages/sklearn/ensemble/_forest.py:416: FutureWarning:\n\n`max_features='auto'` has been deprecated in 1.1 and will be removed in 1.3. To keep the past behaviour, explicitly set `max_features=1.0` or remove this parameter as it is also the default value for RandomForestRegressors and ExtraTreesRegressors.\n\n[CV] END max_depth=5, max_features=auto, min_samples_split=15, n_estimators=1200; total time=   7.9s\n/shared-libs/python3.9/py/lib/python3.9/site-packages/sklearn/ensemble/_forest.py:416: FutureWarning:\n\n`max_features='auto'` has been deprecated in 1.1 and will be removed in 1.3. To keep the past behaviour, explicitly set `max_features=1.0` or remove this parameter as it is also the default value for RandomForestRegressors and ExtraTreesRegressors.\n\n[CV] END max_depth=5, max_features=auto, min_samples_split=15, n_estimators=1200; total time=   7.9s\n/shared-libs/python3.9/py/lib/python3.9/site-packages/sklearn/ensemble/_forest.py:416: FutureWarning:\n\n`max_features='auto'` has been deprecated in 1.1 and will be removed in 1.3. To keep the past behaviour, explicitly set `max_features=1.0` or remove this parameter as it is also the default value for RandomForestRegressors and ExtraTreesRegressors.\n\n[CV] END max_depth=5, max_features=auto, min_samples_split=15, n_estimators=1200; total time=   7.8s\n[CV] END max_depth=30, max_features=sqrt, min_samples_split=5, n_estimators=1160; total time=   7.2s\n[CV] END max_depth=30, max_features=sqrt, min_samples_split=5, n_estimators=1160; total time=   7.3s\n[CV] END max_depth=30, max_features=sqrt, min_samples_split=5, n_estimators=1160; total time=   7.4s\n[CV] END max_depth=5, max_features=sqrt, min_samples_split=100, n_estimators=1120; total time=   3.3s\n[CV] END max_depth=5, max_features=sqrt, min_samples_split=100, n_estimators=1120; total time=   3.3s\n[CV] END max_depth=5, max_features=sqrt, min_samples_split=100, n_estimators=1120; total time=   3.3s\n/shared-libs/python3.9/py/lib/python3.9/site-packages/sklearn/ensemble/_forest.py:416: FutureWarning:\n\n`max_features='auto'` has been deprecated in 1.1 and will be removed in 1.3. To keep the past behaviour, explicitly set `max_features=1.0` or remove this parameter as it is also the default value for RandomForestRegressors and ExtraTreesRegressors.\n\n[CV] END max_depth=30, max_features=auto, min_samples_split=10, n_estimators=1120; total time=  15.4s\n/shared-libs/python3.9/py/lib/python3.9/site-packages/sklearn/ensemble/_forest.py:416: FutureWarning:\n\n`max_features='auto'` has been deprecated in 1.1 and will be removed in 1.3. To keep the past behaviour, explicitly set `max_features=1.0` or remove this parameter as it is also the default value for RandomForestRegressors and ExtraTreesRegressors.\n\n[CV] END max_depth=30, max_features=auto, min_samples_split=10, n_estimators=1120; total time=  16.0s\n/shared-libs/python3.9/py/lib/python3.9/site-packages/sklearn/ensemble/_forest.py:416: FutureWarning:\n\n`max_features='auto'` has been deprecated in 1.1 and will be removed in 1.3. To keep the past behaviour, explicitly set `max_features=1.0` or remove this parameter as it is also the default value for RandomForestRegressors and ExtraTreesRegressors.\n\n[CV] END max_depth=30, max_features=auto, min_samples_split=10, n_estimators=1120; total time=  15.6s\n[CV] END max_depth=21, max_features=sqrt, min_samples_split=10, n_estimators=1120; total time=   6.3s\n[CV] END max_depth=21, max_features=sqrt, min_samples_split=10, n_estimators=1120; total time=   6.2s\n[CV] END max_depth=21, max_features=sqrt, min_samples_split=10, n_estimators=1120; total time=   6.1s\n/shared-libs/python3.9/py/lib/python3.9/site-packages/sklearn/ensemble/_forest.py:416: FutureWarning:\n\n`max_features='auto'` has been deprecated in 1.1 and will be removed in 1.3. To keep the past behaviour, explicitly set `max_features=1.0` or remove this parameter as it is also the default value for RandomForestRegressors and ExtraTreesRegressors.\n\n[CV] END max_depth=30, max_features=auto, min_samples_split=15, n_estimators=1200; total time=  15.6s\n/shared-libs/python3.9/py/lib/python3.9/site-packages/sklearn/ensemble/_forest.py:416: FutureWarning:\n\n`max_features='auto'` has been deprecated in 1.1 and will be removed in 1.3. To keep the past behaviour, explicitly set `max_features=1.0` or remove this parameter as it is also the default value for RandomForestRegressors and ExtraTreesRegressors.\n\n[CV] END max_depth=30, max_features=auto, min_samples_split=15, n_estimators=1200; total time=  15.7s\n/shared-libs/python3.9/py/lib/python3.9/site-packages/sklearn/ensemble/_forest.py:416: FutureWarning:\n\n`max_features='auto'` has been deprecated in 1.1 and will be removed in 1.3. To keep the past behaviour, explicitly set `max_features=1.0` or remove this parameter as it is also the default value for RandomForestRegressors and ExtraTreesRegressors.\n\n[CV] END max_depth=30, max_features=auto, min_samples_split=15, n_estimators=1200; total time=  15.6s\n/shared-libs/python3.9/py/lib/python3.9/site-packages/sklearn/ensemble/_forest.py:416: FutureWarning:\n\n`max_features='auto'` has been deprecated in 1.1 and will be removed in 1.3. To keep the past behaviour, explicitly set `max_features=1.0` or remove this parameter as it is also the default value for RandomForestRegressors and ExtraTreesRegressors.\n\n",
     "output_type": "stream"
    },
    {
     "output_type": "execute_result",
     "execution_count": 129,
     "data": {
      "text/plain": "RandomizedSearchCV(cv=3, estimator=RandomForestRegressor(), n_jobs=-1,\n                   param_distributions={'max_depth': [5, 13, 21, 30],\n                                        'max_features': ['auto', 'sqrt'],\n                                        'min_samples_split': [5, 10, 15, 100],\n                                        'n_estimators': [1000, 1040, 1080, 1120,\n                                                         1160, 1200]},\n                   verbose=2)",
      "text/html": "<style>#sk-container-id-2 {color: black;background-color: white;}#sk-container-id-2 pre{padding: 0;}#sk-container-id-2 div.sk-toggleable {background-color: white;}#sk-container-id-2 label.sk-toggleable__label {cursor: pointer;display: block;width: 100%;margin-bottom: 0;padding: 0.3em;box-sizing: border-box;text-align: center;}#sk-container-id-2 label.sk-toggleable__label-arrow:before {content: \"▸\";float: left;margin-right: 0.25em;color: #696969;}#sk-container-id-2 label.sk-toggleable__label-arrow:hover:before {color: black;}#sk-container-id-2 div.sk-estimator:hover label.sk-toggleable__label-arrow:before {color: black;}#sk-container-id-2 div.sk-toggleable__content {max-height: 0;max-width: 0;overflow: hidden;text-align: left;background-color: #f0f8ff;}#sk-container-id-2 div.sk-toggleable__content pre {margin: 0.2em;color: black;border-radius: 0.25em;background-color: #f0f8ff;}#sk-container-id-2 input.sk-toggleable__control:checked~div.sk-toggleable__content {max-height: 200px;max-width: 100%;overflow: auto;}#sk-container-id-2 input.sk-toggleable__control:checked~label.sk-toggleable__label-arrow:before {content: \"▾\";}#sk-container-id-2 div.sk-estimator input.sk-toggleable__control:checked~label.sk-toggleable__label {background-color: #d4ebff;}#sk-container-id-2 div.sk-label input.sk-toggleable__control:checked~label.sk-toggleable__label {background-color: #d4ebff;}#sk-container-id-2 input.sk-hidden--visually {border: 0;clip: rect(1px 1px 1px 1px);clip: rect(1px, 1px, 1px, 1px);height: 1px;margin: -1px;overflow: hidden;padding: 0;position: absolute;width: 1px;}#sk-container-id-2 div.sk-estimator {font-family: monospace;background-color: #f0f8ff;border: 1px dotted black;border-radius: 0.25em;box-sizing: border-box;margin-bottom: 0.5em;}#sk-container-id-2 div.sk-estimator:hover {background-color: #d4ebff;}#sk-container-id-2 div.sk-parallel-item::after {content: \"\";width: 100%;border-bottom: 1px solid gray;flex-grow: 1;}#sk-container-id-2 div.sk-label:hover label.sk-toggleable__label {background-color: #d4ebff;}#sk-container-id-2 div.sk-serial::before {content: \"\";position: absolute;border-left: 1px solid gray;box-sizing: border-box;top: 0;bottom: 0;left: 50%;z-index: 0;}#sk-container-id-2 div.sk-serial {display: flex;flex-direction: column;align-items: center;background-color: white;padding-right: 0.2em;padding-left: 0.2em;position: relative;}#sk-container-id-2 div.sk-item {position: relative;z-index: 1;}#sk-container-id-2 div.sk-parallel {display: flex;align-items: stretch;justify-content: center;background-color: white;position: relative;}#sk-container-id-2 div.sk-item::before, #sk-container-id-2 div.sk-parallel-item::before {content: \"\";position: absolute;border-left: 1px solid gray;box-sizing: border-box;top: 0;bottom: 0;left: 50%;z-index: -1;}#sk-container-id-2 div.sk-parallel-item {display: flex;flex-direction: column;z-index: 1;position: relative;background-color: white;}#sk-container-id-2 div.sk-parallel-item:first-child::after {align-self: flex-end;width: 50%;}#sk-container-id-2 div.sk-parallel-item:last-child::after {align-self: flex-start;width: 50%;}#sk-container-id-2 div.sk-parallel-item:only-child::after {width: 0;}#sk-container-id-2 div.sk-dashed-wrapped {border: 1px dashed gray;margin: 0 0.4em 0.5em 0.4em;box-sizing: border-box;padding-bottom: 0.4em;background-color: white;}#sk-container-id-2 div.sk-label label {font-family: monospace;font-weight: bold;display: inline-block;line-height: 1.2em;}#sk-container-id-2 div.sk-label-container {text-align: center;}#sk-container-id-2 div.sk-container {/* jupyter's `normalize.less` sets `[hidden] { display: none; }` but bootstrap.min.css set `[hidden] { display: none !important; }` so we also need the `!important` here to be able to override the default hidden behavior on the sphinx rendered scikit-learn.org. See: https://github.com/scikit-learn/scikit-learn/issues/21755 */display: inline-block !important;position: relative;}#sk-container-id-2 div.sk-text-repr-fallback {display: none;}</style><div id=\"sk-container-id-2\" class=\"sk-top-container\"><div class=\"sk-text-repr-fallback\"><pre>RandomizedSearchCV(cv=3, estimator=RandomForestRegressor(), n_jobs=-1,\n                   param_distributions={&#x27;max_depth&#x27;: [5, 13, 21, 30],\n                                        &#x27;max_features&#x27;: [&#x27;auto&#x27;, &#x27;sqrt&#x27;],\n                                        &#x27;min_samples_split&#x27;: [5, 10, 15, 100],\n                                        &#x27;n_estimators&#x27;: [1000, 1040, 1080, 1120,\n                                                         1160, 1200]},\n                   verbose=2)</pre><b>In a Jupyter environment, please rerun this cell to show the HTML representation or trust the notebook. <br />On GitHub, the HTML representation is unable to render, please try loading this page with nbviewer.org.</b></div><div class=\"sk-container\" hidden><div class=\"sk-item sk-dashed-wrapped\"><div class=\"sk-label-container\"><div class=\"sk-label sk-toggleable\"><input class=\"sk-toggleable__control sk-hidden--visually\" id=\"sk-estimator-id-2\" type=\"checkbox\" ><label for=\"sk-estimator-id-2\" class=\"sk-toggleable__label sk-toggleable__label-arrow\">RandomizedSearchCV</label><div class=\"sk-toggleable__content\"><pre>RandomizedSearchCV(cv=3, estimator=RandomForestRegressor(), n_jobs=-1,\n                   param_distributions={&#x27;max_depth&#x27;: [5, 13, 21, 30],\n                                        &#x27;max_features&#x27;: [&#x27;auto&#x27;, &#x27;sqrt&#x27;],\n                                        &#x27;min_samples_split&#x27;: [5, 10, 15, 100],\n                                        &#x27;n_estimators&#x27;: [1000, 1040, 1080, 1120,\n                                                         1160, 1200]},\n                   verbose=2)</pre></div></div></div><div class=\"sk-parallel\"><div class=\"sk-parallel-item\"><div class=\"sk-item\"><div class=\"sk-label-container\"><div class=\"sk-label sk-toggleable\"><input class=\"sk-toggleable__control sk-hidden--visually\" id=\"sk-estimator-id-3\" type=\"checkbox\" ><label for=\"sk-estimator-id-3\" class=\"sk-toggleable__label sk-toggleable__label-arrow\">estimator: RandomForestRegressor</label><div class=\"sk-toggleable__content\"><pre>RandomForestRegressor()</pre></div></div></div><div class=\"sk-serial\"><div class=\"sk-item\"><div class=\"sk-estimator sk-toggleable\"><input class=\"sk-toggleable__control sk-hidden--visually\" id=\"sk-estimator-id-4\" type=\"checkbox\" ><label for=\"sk-estimator-id-4\" class=\"sk-toggleable__label sk-toggleable__label-arrow\">RandomForestRegressor</label><div class=\"sk-toggleable__content\"><pre>RandomForestRegressor()</pre></div></div></div></div></div></div></div></div></div></div>"
     },
     "metadata": {}
    }
   ]
  },
  {
   "cell_type": "code",
   "metadata": {
    "cell_id": "00235-df297d50-5e12-4307-96b9-eca7e743a8a4",
    "deepnote_to_be_reexecuted": false,
    "source_hash": "dcc6b6d9",
    "execution_start": 1660917129462,
    "execution_millis": 1,
    "deepnote_cell_type": "code",
    "deepnote_cell_height": 188,
    "deepnote_output_heights": [
     77.796875
    ]
   },
   "source": "### to get your best model..\nrf_Random.best_params_",
   "execution_count": 130,
   "outputs": [
    {
     "output_type": "execute_result",
     "execution_count": 130,
     "data": {
      "text/plain": "{'n_estimators': 1120,\n 'min_samples_split': 10,\n 'max_features': 'auto',\n 'max_depth': 30}"
     },
     "metadata": {}
    }
   ]
  },
  {
   "cell_type": "code",
   "metadata": {
    "cell_id": "00236-2b61de6e-d0bc-4dd7-af69-6c57a394b22e",
    "deepnote_to_be_reexecuted": false,
    "source_hash": "d171571c",
    "execution_start": 1660917129478,
    "execution_millis": 688,
    "deepnote_cell_type": "code",
    "deepnote_cell_height": 76
   },
   "source": "pred2=rf_Random.predict(X_test)",
   "execution_count": 131,
   "outputs": []
  },
  {
   "cell_type": "code",
   "metadata": {
    "cell_id": "00237-9b9fc2be-ac03-4ab9-89bd-3060d19db501",
    "deepnote_to_be_reexecuted": false,
    "source_hash": "4ad251a9",
    "execution_start": 1660917130166,
    "execution_millis": 4,
    "deepnote_cell_type": "code",
    "deepnote_cell_height": 130.1875,
    "deepnote_output_heights": [
     20.1875
    ]
   },
   "source": "from sklearn import metrics\nmetrics.r2_score(y_test,pred2)",
   "execution_count": 132,
   "outputs": [
    {
     "output_type": "execute_result",
     "execution_count": 132,
     "data": {
      "text/plain": "0.8275163263194594"
     },
     "metadata": {}
    }
   ]
  },
  {
   "cell_type": "markdown",
   "source": "<a style='text-decoration:none;line-height:16px;display:flex;color:#5B5B62;padding:10px;justify-content:end;' href='https://deepnote.com?utm_source=created-in-deepnote-cell&projectId=154162c9-c9ef-4c24-92db-441ea848031a' target=\"_blank\">\n<img alt='Created in deepnote.com' style='display:inline;max-height:16px;margin:0px;margin-right:7.5px;' src='data:image/svg+xml;base64,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' > </img>\nCreated in <span style='font-weight:600;margin-left:4px;'>Deepnote</span></a>",
   "metadata": {
    "tags": [],
    "created_in_deepnote_cell": true,
    "deepnote_cell_type": "markdown"
   }
  }
 ],
 "nbformat": 4,
 "nbformat_minor": 5,
 "metadata": {
  "kernelspec": {
   "display_name": "Python 3",
   "language": "python",
   "name": "python3"
  },
  "language_info": {
   "codemirror_mode": {
    "name": "ipython",
    "version": 3
   },
   "file_extension": ".py",
   "mimetype": "text/x-python",
   "name": "python",
   "nbconvert_exporter": "python",
   "pygments_lexer": "ipython3",
   "version": "3.8.8"
  },
  "deepnote_notebook_id": "5c9a1eec-424e-40cf-b0fb-3003bff5a280",
  "deepnote": {},
  "deepnote_execution_queue": []
 }
}